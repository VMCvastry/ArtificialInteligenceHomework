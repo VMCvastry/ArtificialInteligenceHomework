{
 "cells": [
  {
   "cell_type": "code",
   "execution_count": 2,
   "outputs": [],
   "source": [
    "from utils import *"
   ],
   "metadata": {
    "collapsed": false,
    "ExecuteTime": {
     "end_time": "2023-05-25T13:37:53.412237705Z",
     "start_time": "2023-05-25T13:37:52.200427784Z"
    }
   }
  },
  {
   "cell_type": "markdown",
   "source": [
    "# DECISION TREE"
   ],
   "metadata": {
    "collapsed": false
   }
  },
  {
   "cell_type": "code",
   "execution_count": 13,
   "metadata": {
    "id": "1mxntjhmAH0D",
    "ExecuteTime": {
     "end_time": "2023-05-25T13:45:23.245285361Z",
     "start_time": "2023-05-25T13:45:23.007766722Z"
    }
   },
   "outputs": [],
   "source": [
    "df, train, test, val = get_data(normalize=False, binary_label=True)"
   ]
  },
  {
   "cell_type": "code",
   "execution_count": 20,
   "outputs": [],
   "source": [
    "from collections import Counter\n",
    "\n",
    "\n",
    "class DecisionTreeClassifier:\n",
    "\n",
    "    def __init__(self, max_depth=float('inf')):\n",
    "        self.max_depth = max_depth\n",
    "        self.root = None\n",
    "\n",
    "    def fit(self, x, y):\n",
    "        assert len(x) == len(y)\n",
    "        assert len(x) != 0\n",
    "        self.root = self._create_tree(x, y, None, self.max_depth)\n",
    "\n",
    "    def _create_tree(self, data, labels, parent, max_depth):\n",
    "        new_node = Node(None, None, parent)\n",
    "        if not len(data):\n",
    "            new_node.label = parent.label  # Use parent label\n",
    "            return new_node\n",
    "        most_common_result = Counter(labels).most_common(1)[0][0]\n",
    "        if len(labels) == 1 or data.shape[1] == 0:  # No more features to split\n",
    "            new_node.label = most_common_result\n",
    "            return new_node\n",
    "        if len(np.unique(labels)) == 1:  # All labels are the same\n",
    "            new_node.label = labels[0]\n",
    "            return new_node\n",
    "\n",
    "        best_feature, best_threshold = self._find_best_split(data, labels)\n",
    "        new_node = Node(best_feature, best_threshold, parent)\n",
    "\n",
    "        if max_depth > 0:\n",
    "            index = data[:, best_feature] <= best_threshold\n",
    "            data_left = data[index]\n",
    "            labels_left = labels[index]\n",
    "            if len(data_left) == 0:\n",
    "                new_node.label = most_common_result\n",
    "            new_node.left_child = self._create_tree(data_left, labels_left, new_node, max_depth - 1)\n",
    "\n",
    "            index = data[:, best_feature] > best_threshold\n",
    "            data_right = data[index]\n",
    "            labels_right = labels[index]\n",
    "            if len(data_right) == 0:\n",
    "                new_node.label = most_common_result\n",
    "            new_node.right_child = self._create_tree(data_right, labels_right, new_node, max_depth - 1)\n",
    "\n",
    "        else:\n",
    "            new_node.label = most_common_result\n",
    "            new_node.left_child = None\n",
    "            new_node.right_child = None\n",
    "\n",
    "        return new_node\n",
    "\n",
    "    def _find_best_split(self, data, labels):\n",
    "        best_gain = 0\n",
    "        best_feature = None\n",
    "        best_threshold = None\n",
    "        for feature in range(data.shape[1]):\n",
    "            threshold = np.median(data[:, feature])\n",
    "            gain = self._information_gain(data, labels, feature, threshold)\n",
    "            if gain >= best_gain:\n",
    "                best_gain = gain\n",
    "                best_feature = feature\n",
    "                best_threshold = threshold\n",
    "\n",
    "        return best_feature, best_threshold\n",
    "\n",
    "    def _information_gain(self, data, labels, feature, threshold):\n",
    "        entropy_labels = self._entropy(labels)\n",
    "        sample_left = labels[data[:, feature] <= threshold]\n",
    "        sample_right = labels[data[:, feature] > threshold]\n",
    "\n",
    "        information_gain = entropy_labels - (\n",
    "                len(sample_left) / len(data) * self._entropy(sample_left) +\n",
    "                len(sample_right) / len(data) * self._entropy(sample_right)\n",
    "        )\n",
    "\n",
    "        return information_gain\n",
    "\n",
    "    def _entropy(self, labels):\n",
    "        if len(labels) == 0:\n",
    "            return 0\n",
    "        p = sum(labels) / len(labels)\n",
    "        if p == 0 or p == 1:\n",
    "            return 0\n",
    "        return -p * math.log2(p) - (1 - p) * math.log2(1 - p)\n",
    "\n",
    "    def predict(self, data):\n",
    "        predictions = []\n",
    "        for row in data:\n",
    "            node = self.root\n",
    "            while node.label is None:\n",
    "                if row[node.feature] <= node.threshold:\n",
    "                    node = node.left_child\n",
    "                else:\n",
    "                    node = node.right_child\n",
    "            predictions.append(node.label)\n",
    "\n",
    "        return predictions\n",
    "\n",
    "\n",
    "class Node:\n",
    "    def __init__(self, feature, threshold, parent):\n",
    "        self.feature = feature\n",
    "        self.threshold = threshold\n",
    "        self.parent = parent\n",
    "        self.label = None\n",
    "        self.left_child = None\n",
    "        self.right_child = None\n"
   ],
   "metadata": {
    "collapsed": false,
    "ExecuteTime": {
     "end_time": "2023-05-25T13:50:40.911285050Z",
     "start_time": "2023-05-25T13:50:40.854807993Z"
    }
   }
  },
  {
   "cell_type": "markdown",
   "source": [
    "### Sklearn"
   ],
   "metadata": {
    "collapsed": false
   }
  },
  {
   "cell_type": "code",
   "execution_count": 14,
   "outputs": [
    {
     "name": "stdout",
     "output_type": "stream",
     "text": [
      "Time taken to train the model:  1.3408911228179932\n",
      "Binary cross entropy: 15.046600166222445\n",
      "Accuracy: 0.5825450876529197\n"
     ]
    },
    {
     "data": {
      "text/plain": "0.5825450876529197"
     },
     "execution_count": 14,
     "metadata": {},
     "output_type": "execute_result"
    }
   ],
   "source": [
    "from sklearn import tree\n",
    "\n",
    "clf = tree.DecisionTreeClassifier(criterion='entropy', random_state=1)\n",
    "test_model(clf, train, test, classification=True)"
   ],
   "metadata": {
    "collapsed": false,
    "ExecuteTime": {
     "end_time": "2023-05-25T13:45:41.308097182Z",
     "start_time": "2023-05-25T13:45:39.957972897Z"
    }
   }
  },
  {
   "cell_type": "code",
   "execution_count": 16,
   "outputs": [
    {
     "name": "stdout",
     "output_type": "stream",
     "text": [
      "Trying hyperparameters: 1\n",
      "Time taken to train the model:  0.08764791488647461\n",
      "Binary cross entropy: 14.831142258489006\n",
      "Accuracy: 0.5885227810184456\n",
      "Value: 0.5885227810184456\n",
      "Trying hyperparameters: 2\n",
      "Time taken to train the model:  0.16405081748962402\n",
      "Binary cross entropy: 13.512818502178872\n",
      "Accuracy: 0.6250985338168059\n",
      "Value: 0.6250985338168059\n",
      "Trying hyperparameters: 3\n",
      "Time taken to train the model:  0.24462008476257324\n",
      "Binary cross entropy: 13.012764663578478\n",
      "Accuracy: 0.6389720952230805\n",
      "Value: 0.6389720952230805\n",
      "Trying hyperparameters: 4\n",
      "Time taken to train the model:  1.5557754039764404\n",
      "Binary cross entropy: 13.063906533435334\n",
      "Accuracy: 0.6375532082610752\n",
      "Value: 0.6375532082610752\n",
      "Trying hyperparameters: 5\n",
      "Time taken to train the model:  0.3780486583709717\n",
      "Binary cross entropy: 12.882068773944281\n",
      "Accuracy: 0.6425981396815387\n",
      "Value: 0.6425981396815387\n",
      "Trying hyperparameters: 6\n",
      "Time taken to train the model:  0.44703030586242676\n",
      "Binary cross entropy: 12.694548584469134\n",
      "Accuracy: 0.6478007252088916\n",
      "Value: 0.6478007252088916\n",
      "Trying hyperparameters: 7\n",
      "Time taken to train the model:  0.5168893337249756\n",
      "Binary cross entropy: 12.717278304405516\n",
      "Accuracy: 0.6471701087813337\n",
      "Value: 0.6471701087813337\n",
      "Trying hyperparameters: 8\n",
      "Time taken to train the model:  0.5918257236480713\n",
      "Binary cross entropy: 12.842291764055615\n",
      "Accuracy: 0.6437017184297651\n",
      "Value: 0.6437017184297651\n",
      "Trying hyperparameters: 9\n",
      "Time taken to train the model:  0.6599740982055664\n",
      "Binary cross entropy: 12.813879614135136\n",
      "Accuracy: 0.6444899889642125\n",
      "Value: 0.6444899889642125\n",
      "Trying hyperparameters: 10\n",
      "Time taken to train the model:  0.717231035232544\n",
      "Binary cross entropy: 12.50134596500989\n",
      "Accuracy: 0.6531609648431341\n",
      "Value: 0.6531609648431341\n",
      "Trying hyperparameters: 11\n",
      "Time taken to train the model:  0.7806110382080078\n",
      "Binary cross entropy: 13.12073083327629\n",
      "Accuracy: 0.6359766671921804\n",
      "Value: 0.6359766671921804\n",
      "Trying hyperparameters: 12\n",
      "Time taken to train the model:  0.8364925384521484\n",
      "Binary cross entropy: 13.473041492290204\n",
      "Accuracy: 0.6262021125650323\n",
      "Value: 0.6262021125650323\n",
      "Trying hyperparameters: 13\n",
      "Time taken to train the model:  0.8875670433044434\n",
      "Binary cross entropy: 13.529865792131156\n",
      "Accuracy: 0.6246255714961375\n",
      "Value: 0.6246255714961375\n",
      "Trying hyperparameters: 14\n",
      "Time taken to train the model:  0.941990852355957\n",
      "Binary cross entropy: 13.626467101860781\n",
      "Accuracy: 0.6219454516790163\n",
      "Value: 0.6219454516790163\n",
      "Trying hyperparameters: 15\n",
      "Time taken to train the model:  0.9858262538909912\n",
      "Binary cross entropy: 14.092426360556605\n",
      "Accuracy: 0.6090178149140785\n",
      "Value: 0.6090178149140785\n",
      "Trying hyperparameters: 16\n",
      "Time taken to train the model:  1.04364013671875\n",
      "Binary cross entropy: 14.035602060715648\n",
      "Accuracy: 0.6105943559829734\n",
      "Value: 0.6105943559829734\n",
      "Trying hyperparameters: 17\n",
      "Time taken to train the model:  1.0918872356414795\n",
      "Binary cross entropy: 14.3424532798568\n",
      "Accuracy: 0.6020810342109412\n",
      "Value: 0.6020810342109412\n",
      "Trying hyperparameters: 18\n",
      "Time taken to train the model:  1.0955114364624023\n",
      "Binary cross entropy: 14.206074960238512\n",
      "Accuracy: 0.6058647327762888\n",
      "Value: 0.6058647327762888\n",
      "Trying hyperparameters: 19\n",
      "Time taken to train the model:  1.0985333919525146\n",
      "Binary cross entropy: 14.632257209045665\n",
      "Accuracy: 0.5940406747595774\n",
      "Value: 0.5940406747595774\n",
      "Best hyperparameters: 10\n",
      "Best value: 0.6531609648431341\n"
     ]
    },
    {
     "data": {
      "text/plain": "<Figure size 640x480 with 1 Axes>",
      "image/png": "[encoded data removed]"
     },
     "metadata": {},
     "output_type": "display_data"
    },
    {
     "name": "stdout",
     "output_type": "stream",
     "text": [
      "Time taken to train the model:  0.7286891937255859\n",
      "Binary cross entropy: 12.841886848815228\n",
      "Accuracy: 0.6437129524530205\n",
      "Best Accuracy for Decision Tree (sklearn): 0.6437129524530205 with max_depth=10\n"
     ]
    }
   ],
   "source": [
    "def get_model(param):\n",
    "    return tree.DecisionTreeClassifier(criterion='entropy', random_state=1, max_depth=param)\n",
    "\n",
    "\n",
    "best_param, params, accuracies = optimize_hyperparameters(get_model, range(1, 20), train, test, val,\n",
    "                                                          classification=True)\n",
    "plot_2d(params, accuracies, 'max_depth', 'accuracy')\n",
    "best_model = get_model(param=best_param)\n",
    "best_accuracy_DT_sk = test_model(best_model, train, test, classification=True)\n",
    "print(f\"Best Accuracy for Decision Tree (sklearn): {best_accuracy_DT_sk} with max_depth={best_param}\")"
   ],
   "metadata": {
    "collapsed": false,
    "ExecuteTime": {
     "end_time": "2023-05-25T13:47:06.704720393Z",
     "start_time": "2023-05-25T13:46:51.685379197Z"
    }
   }
  },
  {
   "cell_type": "markdown",
   "source": [
    "### From scratch"
   ],
   "metadata": {
    "collapsed": false
   }
  },
  {
   "cell_type": "code",
   "execution_count": 21,
   "outputs": [
    {
     "name": "stdout",
     "output_type": "stream",
     "text": [
      "Time taken to train the model:  3.411768913269043\n",
      "Binary cross entropy: 12.846432649469676\n",
      "Accuracy: 0.6435868331441543\n"
     ]
    },
    {
     "data": {
      "text/plain": "0.6435868331441543"
     },
     "execution_count": 21,
     "metadata": {},
     "output_type": "execute_result"
    }
   ],
   "source": [
    "clf = DecisionTreeClassifier( max_depth=8)\n",
    "test_model(clf, train, test, classification=True)"
   ],
   "metadata": {
    "collapsed": false,
    "ExecuteTime": {
     "end_time": "2023-05-25T13:50:49.125582422Z",
     "start_time": "2023-05-25T13:50:45.691828044Z"
    }
   }
  },
  {
   "cell_type": "code",
   "execution_count": 17,
   "outputs": [
    {
     "name": "stdout",
     "output_type": "stream",
     "text": [
      "Trying hyperparameters: 1\n",
      "Time taken to train the model:  0.59755539894104\n",
      "Binary cross entropy: 16.05854713505361\n",
      "Accuracy: 0.5544694939303169\n",
      "Value: 0.5544694939303169\n",
      "Trying hyperparameters: 2\n",
      "Time taken to train the model:  0.9142732620239258\n",
      "Binary cross entropy: 15.285736657216638\n",
      "Accuracy: 0.5759104524672868\n",
      "Value: 0.5759104524672868\n",
      "Trying hyperparameters: 3\n",
      "Time taken to train the model:  1.125523567199707\n",
      "Binary cross entropy: 15.012980017980057\n",
      "Accuracy: 0.583477849597982\n",
      "Value: 0.583477849597982\n",
      "Trying hyperparameters: 4\n",
      "Time taken to train the model:  1.4390547275543213\n",
      "Binary cross entropy: 14.75158823871167\n",
      "Accuracy: 0.5907299385148983\n",
      "Value: 0.5907299385148983\n",
      "Trying hyperparameters: 5\n",
      "Time taken to train the model:  1.7859680652618408\n",
      "Binary cross entropy: 14.581115339188807\n",
      "Accuracy: 0.5954595617215829\n",
      "Value: 0.5954595617215829\n",
      "Trying hyperparameters: 6\n",
      "Time taken to train the model:  2.1863391399383545\n",
      "Binary cross entropy: 14.399277579697754\n",
      "Accuracy: 0.6005044931420463\n",
      "Value: 0.6005044931420463\n",
      "Trying hyperparameters: 7\n",
      "Time taken to train the model:  2.8008713722229004\n",
      "Binary cross entropy: 14.001507480811078\n",
      "Accuracy: 0.6115402806243103\n",
      "Value: 0.6115402806243103\n",
      "Trying hyperparameters: 8\n",
      "Time taken to train the model:  4.284729480743408\n",
      "Binary cross entropy: 14.359500569809088\n",
      "Accuracy: 0.6016080718902728\n",
      "Value: 0.6016080718902728\n",
      "Trying hyperparameters: 9\n",
      "Time taken to train the model:  4.9869959354400635\n",
      "Binary cross entropy: 14.456101879538709\n",
      "Accuracy: 0.5989279520731515\n",
      "Value: 0.5989279520731515\n",
      "Trying hyperparameters: 10\n",
      "Time taken to train the model:  7.332499980926514\n",
      "Binary cross entropy: 14.82545982850491\n",
      "Accuracy: 0.588680435125335\n",
      "Value: 0.588680435125335\n",
      "Trying hyperparameters: 11\n",
      "Time taken to train the model:  11.776340246200562\n",
      "Binary cross entropy: 15.83693236567389\n",
      "Accuracy: 0.5606180040990068\n",
      "Value: 0.5606180040990068\n",
      "Trying hyperparameters: 12\n",
      "Time taken to train the model:  17.950709104537964\n",
      "Binary cross entropy: 15.905121525483036\n",
      "Accuracy: 0.5587261548163329\n",
      "Value: 0.5587261548163329\n",
      "Trying hyperparameters: 13\n",
      "Time taken to train the model:  24.076184034347534\n",
      "Binary cross entropy: 16.28584433441743\n",
      "Accuracy: 0.5481633296547375\n",
      "Value: 0.5481633296547375\n",
      "Trying hyperparameters: 14\n",
      "Time taken to train the model:  23.882791996002197\n",
      "Binary cross entropy: 16.274479474449237\n",
      "Accuracy: 0.5484786378685165\n",
      "Value: 0.5484786378685165\n",
      "Best hyperparameters: 7\n",
      "Best value: 0.6115402806243103\n"
     ]
    },
    {
     "data": {
      "text/plain": "<Figure size 640x480 with 1 Axes>",
      "image/png": "[encoded data removed]"
     },
     "metadata": {},
     "output_type": "display_data"
    },
    {
     "name": "stdout",
     "output_type": "stream",
     "text": [
      "Time taken to train the model:  2.720187187194824\n",
      "Binary cross entropy: 14.319272061510784\n",
      "Accuracy: 0.6027241770715096\n",
      "Best Accuracy for Decision Tree (scratch): 0.6437129524530205 with max_depth=7\n"
     ]
    }
   ],
   "source": [
    "def get_model(param):\n",
    "    return DecisionTreeClassifier(max_depth=param)\n",
    "\n",
    "\n",
    "best_param, params, accuracies = optimize_hyperparameters(get_model, range(1, 15), train, test, val,\n",
    "                                                          classification=True)\n",
    "plot_2d(params, accuracies, 'max_depth', 'accuracy')\n",
    "best_model = get_model(param=best_param)\n",
    "best_accuracy_DT_my = test_model(best_model, train, test, classification=True)\n",
    "print(f\"Best Accuracy for Decision Tree (scratch): {best_accuracy_DT_my} with max_depth={best_param}\")\n"
   ],
   "metadata": {
    "collapsed": false,
    "ExecuteTime": {
     "end_time": "2023-05-25T13:48:59.895610102Z",
     "start_time": "2023-05-25T13:47:11.660857913Z"
    }
   }
  },
  {
   "cell_type": "markdown",
   "source": [],
   "metadata": {
    "collapsed": false
   }
  }
 ],
 "metadata": {
  "colab": {
   "provenance": []
  },
  "kernelspec": {
   "name": "python3",
   "language": "python",
   "display_name": "Python 3 (ipykernel)"
  },
  "language_info": {
   "name": "python"
  }
 },
 "nbformat": 4,
 "nbformat_minor": 0
}
