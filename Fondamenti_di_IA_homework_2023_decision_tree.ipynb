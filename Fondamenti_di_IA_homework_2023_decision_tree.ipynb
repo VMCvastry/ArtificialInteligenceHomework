{
 "cells": [
  {
   "cell_type": "code",
   "execution_count": 1,
   "outputs": [],
   "source": [
    "from utils import *"
   ],
   "metadata": {
    "collapsed": false,
    "ExecuteTime": {
     "end_time": "2023-05-02T18:48:52.725510661Z",
     "start_time": "2023-05-02T18:48:51.629933372Z"
    }
   }
  },
  {
   "cell_type": "code",
   "execution_count": 2,
   "metadata": {
    "id": "1mxntjhmAH0D",
    "ExecuteTime": {
     "end_time": "2023-05-02T18:48:53.090460352Z",
     "start_time": "2023-05-02T18:48:52.730025568Z"
    }
   },
   "outputs": [],
   "source": [
    "df, train, test, val = get_data(normalize=False, binary_label=True)"
   ]
  },
  {
   "cell_type": "markdown",
   "source": [
    "## Let's plot some of the columns"
   ],
   "metadata": {
    "id": "mu_rxzq0f2gV"
   }
  },
  {
   "cell_type": "code",
   "execution_count": 3,
   "outputs": [
    {
     "name": "stdout",
     "output_type": "stream",
     "text": [
      "n_tokens_title                       10.398749\n",
      "n_tokens_content                    546.514731\n",
      "n_unique_tokens                       0.548216\n",
      "n_non_stop_words                      0.996469\n",
      "n_non_stop_unique_tokens              0.689175\n",
      "num_hrefs                            10.883690\n",
      "num_self_hrefs                        3.293638\n",
      "num_imgs                              4.544143\n",
      "num_videos                            1.249874\n",
      "average_token_length                  4.548239\n",
      "num_keywords                          7.223767\n",
      "data_channel_is_lifestyle             0.052946\n",
      "data_channel_is_entertainment         0.178009\n",
      "data_channel_is_bus                   0.157855\n",
      "data_channel_is_socmed                0.058597\n",
      "data_channel_is_tech                  0.185299\n",
      "data_channel_is_world                 0.212567\n",
      "kw_min_min                           26.106801\n",
      "kw_max_min                         1153.951682\n",
      "kw_avg_min                          312.366967\n",
      "kw_min_max                        13612.354102\n",
      "kw_max_max                       752324.066694\n",
      "kw_avg_max                       259281.938083\n",
      "kw_min_avg                         1117.146610\n",
      "kw_max_avg                         5657.211151\n",
      "kw_avg_avg                         3135.858639\n",
      "self_reference_min_shares          3998.755396\n",
      "self_reference_max_shares         10329.212662\n",
      "self_reference_avg_sharess         6401.697580\n",
      "weekday_is_monday                     0.168020\n",
      "weekday_is_tuesday                    0.186409\n",
      "weekday_is_wednesday                  0.187544\n",
      "weekday_is_thursday                   0.183306\n",
      "weekday_is_friday                     0.143805\n",
      "weekday_is_saturday                   0.061876\n",
      "weekday_is_sunday                     0.069039\n",
      "is_weekend                            0.130915\n",
      "LDA_00                                0.184599\n",
      "LDA_01                                0.141256\n",
      "LDA_02                                0.216321\n",
      "LDA_03                                0.223770\n",
      "LDA_04                                0.234029\n",
      "global_subjectivity                   0.443370\n",
      "global_sentiment_polarity             0.119309\n",
      "global_rate_positive_words            0.039625\n",
      "global_rate_negative_words            0.016612\n",
      "rate_positive_words                   0.682150\n",
      "rate_negative_words                   0.287934\n",
      "avg_positive_polarity                 0.353825\n",
      "min_positive_polarity                 0.095446\n",
      "max_positive_polarity                 0.756728\n",
      "avg_negative_polarity                -0.259524\n",
      "min_negative_polarity                -0.521944\n",
      "max_negative_polarity                -0.107500\n",
      "title_subjectivity                    0.282353\n",
      "title_sentiment_polarity              0.071425\n",
      "abs_title_subjectivity                0.341843\n",
      "abs_title_sentiment_polarity          0.156064\n",
      "shares                             3395.380184\n",
      "dtype: float64\n",
      "n_tokens_title                       10.000000\n",
      "n_tokens_content                    409.000000\n",
      "n_unique_tokens                       0.539226\n",
      "n_non_stop_words                      1.000000\n",
      "n_non_stop_unique_tokens              0.690476\n",
      "num_hrefs                             8.000000\n",
      "num_self_hrefs                        3.000000\n",
      "num_imgs                              1.000000\n",
      "num_videos                            0.000000\n",
      "average_token_length                  4.664082\n",
      "num_keywords                          7.000000\n",
      "data_channel_is_lifestyle             0.000000\n",
      "data_channel_is_entertainment         0.000000\n",
      "data_channel_is_bus                   0.000000\n",
      "data_channel_is_socmed                0.000000\n",
      "data_channel_is_tech                  0.000000\n",
      "data_channel_is_world                 0.000000\n",
      "kw_min_min                           -1.000000\n",
      "kw_max_min                          660.000000\n",
      "kw_avg_min                          235.500000\n",
      "kw_min_max                         1400.000000\n",
      "kw_max_max                       843300.000000\n",
      "kw_avg_max                       244572.222223\n",
      "kw_min_avg                         1023.635611\n",
      "kw_max_avg                         4355.688836\n",
      "kw_avg_avg                         2870.074878\n",
      "self_reference_min_shares          1200.000000\n",
      "self_reference_max_shares          2800.000000\n",
      "self_reference_avg_sharess         2200.000000\n",
      "weekday_is_monday                     0.000000\n",
      "weekday_is_tuesday                    0.000000\n",
      "weekday_is_wednesday                  0.000000\n",
      "weekday_is_thursday                   0.000000\n",
      "weekday_is_friday                     0.000000\n",
      "weekday_is_saturday                   0.000000\n",
      "weekday_is_sunday                     0.000000\n",
      "is_weekend                            0.000000\n",
      "LDA_00                                0.033387\n",
      "LDA_01                                0.033345\n",
      "LDA_02                                0.040004\n",
      "LDA_03                                0.040001\n",
      "LDA_04                                0.040727\n",
      "global_subjectivity                   0.453457\n",
      "global_sentiment_polarity             0.119117\n",
      "global_rate_positive_words            0.039023\n",
      "global_rate_negative_words            0.015337\n",
      "rate_positive_words                   0.710526\n",
      "rate_negative_words                   0.280000\n",
      "avg_positive_polarity                 0.358755\n",
      "min_positive_polarity                 0.100000\n",
      "max_positive_polarity                 0.800000\n",
      "avg_negative_polarity                -0.253333\n",
      "min_negative_polarity                -0.500000\n",
      "max_negative_polarity                -0.100000\n",
      "title_subjectivity                    0.150000\n",
      "title_sentiment_polarity              0.000000\n",
      "abs_title_subjectivity                0.500000\n",
      "abs_title_sentiment_polarity          0.000000\n",
      "shares                             1400.000000\n",
      "dtype: float64\n"
     ]
    }
   ],
   "source": [
    "#calculate median for each column\n",
    "median = df.median(axis=0)\n",
    "avg = df.mean(axis=0)\n",
    "print(avg)\n",
    "print(median)\n",
    "# compute the median of each attribute\n",
    "medians = df.median()\n",
    "\n",
    "# discretize each attribute to 0 or 1 based on the median\n",
    "# for column in df.columns:\n",
    "#     df[column] = (df[column] >= medians[column]).astype(int)"
   ],
   "metadata": {
    "collapsed": false,
    "ExecuteTime": {
     "end_time": "2023-05-02T18:48:53.143218966Z",
     "start_time": "2023-05-02T18:48:53.086708586Z"
    }
   }
  },
  {
   "cell_type": "code",
   "execution_count": 4,
   "outputs": [
    {
     "name": "stdout",
     "output_type": "stream",
     "text": [
      "Time taken to train the model:  1.1664295196533203\n",
      "Binary cross entropy: 15.046600166222445\n",
      "Predicted mean: 0.5202421490730231 Actual mean: 0.5353764661369655\n",
      "Accuracy: 0.5825450876529197\n"
     ]
    },
    {
     "data": {
      "text/plain": "0.5825450876529197"
     },
     "execution_count": 4,
     "metadata": {},
     "output_type": "execute_result"
    }
   ],
   "source": [
    "from sklearn import tree\n",
    "\n",
    "clf = tree.DecisionTreeClassifier(criterion='entropy', random_state=1)\n",
    "test_model(clf, train, test, classification=True)\n"
   ],
   "metadata": {
    "collapsed": false,
    "ExecuteTime": {
     "end_time": "2023-05-02T18:48:54.319108673Z",
     "start_time": "2023-05-02T18:48:53.144218300Z"
    }
   }
  },
  {
   "cell_type": "code",
   "execution_count": 5,
   "outputs": [
    {
     "name": "stdout",
     "output_type": "stream",
     "text": [
      "Trying hyperparameters: 1\n",
      "Time taken to train the model:  0.08614134788513184\n",
      "Binary cross entropy: 14.831142258489006\n",
      "Predicted mean: 0.5208891691628567 Actual mean: 0.527825949865994\n",
      "Accuracy: 0.5885227810184456\n",
      "Accuracy: 0.5885227810184456\n",
      "Trying hyperparameters: 2\n",
      "Time taken to train the model:  0.16314029693603516\n",
      "Binary cross entropy: 13.512818502178872\n",
      "Predicted mean: 0.5237269430868674 Actual mean: 0.527825949865994\n",
      "Accuracy: 0.6250985338168059\n",
      "Accuracy: 0.6250985338168059\n",
      "Trying hyperparameters: 3\n",
      "Time taken to train the model:  0.24067378044128418\n",
      "Binary cross entropy: 13.012764663578478\n",
      "Predicted mean: 0.5593567712438909 Actual mean: 0.527825949865994\n",
      "Accuracy: 0.6389720952230805\n",
      "Accuracy: 0.6389720952230805\n",
      "Trying hyperparameters: 4\n",
      "Time taken to train the model:  0.32054877281188965\n",
      "Binary cross entropy: 13.063906533435334\n",
      "Predicted mean: 0.5888380892322245 Actual mean: 0.527825949865994\n",
      "Accuracy: 0.6375532082610752\n",
      "Accuracy: 0.6375532082610752\n",
      "Trying hyperparameters: 5\n",
      "Time taken to train the model:  0.3958451747894287\n",
      "Binary cross entropy: 12.882068773944281\n",
      "Predicted mean: 0.5172631247043985 Actual mean: 0.527825949865994\n",
      "Accuracy: 0.6425981396815387\n",
      "Accuracy: 0.6425981396815387\n",
      "Trying hyperparameters: 6\n",
      "Time taken to train the model:  0.46681833267211914\n",
      "Binary cross entropy: 12.694548584469134\n",
      "Predicted mean: 0.548320983761627 Actual mean: 0.527825949865994\n",
      "Accuracy: 0.6478007252088916\n",
      "Accuracy: 0.6478007252088916\n",
      "Trying hyperparameters: 7\n",
      "Time taken to train the model:  0.5302927494049072\n",
      "Binary cross entropy: 12.717278304405516\n",
      "Predicted mean: 0.5410688948447107 Actual mean: 0.527825949865994\n",
      "Accuracy: 0.6471701087813337\n",
      "Accuracy: 0.6471701087813337\n",
      "Trying hyperparameters: 8\n",
      "Time taken to train the model:  0.5949318408966064\n",
      "Binary cross entropy: 12.842291764055615\n",
      "Predicted mean: 0.5514740658994167 Actual mean: 0.527825949865994\n",
      "Accuracy: 0.6437017184297651\n",
      "Accuracy: 0.6437017184297651\n",
      "Trying hyperparameters: 9\n",
      "Time taken to train the model:  0.6515247821807861\n",
      "Binary cross entropy: 12.813879614135136\n",
      "Predicted mean: 0.542803090020495 Actual mean: 0.527825949865994\n",
      "Accuracy: 0.6444899889642125\n",
      "Accuracy: 0.6444899889642125\n",
      "Trying hyperparameters: 10\n",
      "Time taken to train the model:  0.7203607559204102\n",
      "Binary cross entropy: 12.50134596500989\n",
      "Predicted mean: 0.5502128330443008 Actual mean: 0.527825949865994\n",
      "Accuracy: 0.6531609648431341\n",
      "Accuracy: 0.6531609648431341\n",
      "Trying hyperparameters: 11\n",
      "Time taken to train the model:  0.7770764827728271\n",
      "Binary cross entropy: 13.12073083327629\n",
      "Predicted mean: 0.5270376793315465 Actual mean: 0.527825949865994\n",
      "Accuracy: 0.6359766671921804\n",
      "Accuracy: 0.6359766671921804\n",
      "Trying hyperparameters: 12\n",
      "Time taken to train the model:  0.8369748592376709\n",
      "Binary cross entropy: 13.473041492290204\n",
      "Predicted mean: 0.5349203846760208 Actual mean: 0.527825949865994\n",
      "Accuracy: 0.6262021125650323\n",
      "Accuracy: 0.6262021125650323\n",
      "Trying hyperparameters: 13\n",
      "Time taken to train the model:  0.8888108730316162\n",
      "Binary cross entropy: 13.529865792131156\n",
      "Predicted mean: 0.5270376793315465 Actual mean: 0.527825949865994\n",
      "Accuracy: 0.6246255714961375\n",
      "Accuracy: 0.6246255714961375\n",
      "Trying hyperparameters: 14\n",
      "Time taken to train the model:  0.9368095397949219\n",
      "Binary cross entropy: 13.626467101860781\n",
      "Predicted mean: 0.5306637237900047 Actual mean: 0.527825949865994\n",
      "Accuracy: 0.6219454516790163\n",
      "Accuracy: 0.6219454516790163\n",
      "Trying hyperparameters: 15\n",
      "Time taken to train the model:  0.9919605255126953\n",
      "Binary cross entropy: 14.092426360556605\n",
      "Predicted mean: 0.5155289295286142 Actual mean: 0.527825949865994\n",
      "Accuracy: 0.6090178149140785\n",
      "Accuracy: 0.6090178149140785\n",
      "Trying hyperparameters: 16\n",
      "Time taken to train the model:  1.0124597549438477\n",
      "Binary cross entropy: 14.035602060715648\n",
      "Predicted mean: 0.5208891691628567 Actual mean: 0.527825949865994\n",
      "Accuracy: 0.6105943559829734\n",
      "Accuracy: 0.6105943559829734\n",
      "Trying hyperparameters: 17\n",
      "Time taken to train the model:  1.0418155193328857\n",
      "Binary cross entropy: 14.3424532798568\n",
      "Predicted mean: 0.5189973198801828 Actual mean: 0.527825949865994\n",
      "Accuracy: 0.6020810342109412\n",
      "Accuracy: 0.6020810342109412\n",
      "Trying hyperparameters: 18\n",
      "Time taken to train the model:  1.0549352169036865\n",
      "Binary cross entropy: 14.206074960238512\n",
      "Predicted mean: 0.5215197855904147 Actual mean: 0.527825949865994\n",
      "Accuracy: 0.6058647327762888\n",
      "Accuracy: 0.6058647327762888\n",
      "Trying hyperparameters: 19\n",
      "Time taken to train the model:  1.085951805114746\n",
      "Binary cross entropy: 14.632257209045665\n",
      "Predicted mean: 0.5257764464764307 Actual mean: 0.527825949865994\n",
      "Accuracy: 0.5940406747595774\n",
      "Accuracy: 0.5940406747595774\n",
      "Best hyperparameters: 10\n",
      "Best accuracy: 0.6531609648431341\n"
     ]
    },
    {
     "data": {
      "text/plain": "<Figure size 640x480 with 1 Axes>",
      "image/png": "[encoded data removed]"
     },
     "metadata": {},
     "output_type": "display_data"
    }
   ],
   "source": [
    "def get_model(param):\n",
    "    return tree.DecisionTreeClassifier(criterion='entropy', random_state=1, max_depth=param)\n",
    "\n",
    "_,params,accuracies=optimize_hyperparameters(get_model, range(1, 20), train, test, val, classification=True)\n",
    "plot_2d(params, accuracies,'max_depth','accuracy')"
   ],
   "metadata": {
    "collapsed": false,
    "ExecuteTime": {
     "end_time": "2023-05-02T18:49:07.299895558Z",
     "start_time": "2023-05-02T18:48:54.324310870Z"
    }
   }
  },
  {
   "cell_type": "markdown",
   "source": [
    "Decision Tree from scratch"
   ],
   "metadata": {
    "collapsed": false
   }
  },
  {
   "cell_type": "code",
   "execution_count": 6,
   "outputs": [],
   "source": [
    "from collections import Counter\n",
    "from __future__ import annotations\n",
    "\n",
    "\n",
    "class ScratchDecisionTree:\n",
    "    class DecisionTreeNode:\n",
    "        def __init__(self, name):\n",
    "            self.attribute = name\n",
    "            self.value = None\n",
    "            # self.parent: DecisionTreeNode | None = None\n",
    "            self.children: list[ScratchDecisionTree.DecisionTreeNode] = []\n",
    "            self.result = None\n",
    "            self.threshold = None\n",
    "\n",
    "    class Sample:\n",
    "        def __init__(self, attributes: dict, classification):\n",
    "            self.classification = classification\n",
    "            self.attributes = attributes\n",
    "\n",
    "        def get_attribute(self, attr):\n",
    "            return self.attributes[attr]\n",
    "\n",
    "    def __init__(self):\n",
    "        self.root: ScratchDecisionTree.DecisionTreeNode | None = None\n",
    "\n",
    "    def fit(self, x, y):\n",
    "        assert len(x) == len(y)\n",
    "        assert len(x) != 0\n",
    "        # samples = []\n",
    "        # index = 0\n",
    "        # for i, xx in x.iterrows():\n",
    "        #     a = y.iloc[index]\n",
    "        #     samples.append(self.Sample(xx.to_dict(), a))\n",
    "        #     index += 1\n",
    "        samples = [self.Sample(xx, yy) for xx, yy in zip(x, y)]\n",
    "        attributes = {x for x in range(len(x[0]))}\n",
    "        assert len(attributes) != 0\n",
    "        self.root = ScratchDecisionTree.build_decision_tree(samples, attributes, None)\n",
    "\n",
    "    # def predict(self, x:DataFrame):\n",
    "    #     assert self.root is not None\n",
    "    #     for i,xx in x.iterrows():\n",
    "    #         break\n",
    "    #     b=self.Sample(xx.to_dict(),None)\n",
    "    #     a=self.eval(b)\n",
    "    #     return [self.eval(self.Sample(xx.to_dict(),None)) for i,xx in x.iterrows()]\n",
    "    #\n",
    "    # def eval(self, x: ScratchDecisionTree.Sample):\n",
    "    #     node = self.root\n",
    "    #     while not node.result:\n",
    "    #         for nn in node.children:\n",
    "    #             if x.get_attribute(node.attribute) == nn.value:\n",
    "    #                 node = nn\n",
    "    #                 break\n",
    "    #         print(\"ERROR\")\n",
    "    #     return node.result\n",
    "    @staticmethod\n",
    "    def entropy(samples: list[ScratchDecisionTree.Sample]) -> float:\n",
    "        if not samples:\n",
    "            return 0\n",
    "        p = sum(s.classification for s in samples) / len(samples)\n",
    "        if p == 0 or p == 1:\n",
    "            return 0\n",
    "        return -p * math.log2(p) - (1 - p) * math.log2(1 - p)\n",
    "\n",
    "    @staticmethod\n",
    "    def information_gain(attr, samples: list[ScratchDecisionTree.Sample], threshold) -> float:\n",
    "        # return random.randint(0, 100)\n",
    "\n",
    "        a = [s for s in samples if s.get_attribute(attr) >= threshold]\n",
    "        b = [s for s in samples if s.get_attribute(attr) < threshold]\n",
    "        return ScratchDecisionTree.entropy(samples) - \\\n",
    "            len(a) / len(samples) * ScratchDecisionTree.entropy(a) - \\\n",
    "            len(b) / len(samples) * ScratchDecisionTree.entropy(b)\n",
    "\n",
    "    @staticmethod\n",
    "    def build_decision_tree(samples: list[ScratchDecisionTree.Sample], attributes: set, parent_most_common_result):\n",
    "        new_root = ScratchDecisionTree.DecisionTreeNode(None)\n",
    "        if not samples:\n",
    "            new_root.result = parent_most_common_result\n",
    "            return new_root\n",
    "        classifications = [s.classification for s in samples]\n",
    "        most_common_result = Counter(classifications).most_common(1)[0][0]\n",
    "        if len(classifications) == 1 or len(attributes) == 0:\n",
    "            new_root.result = most_common_result\n",
    "            return new_root\n",
    "        best_gain = 0\n",
    "        threshold = 0\n",
    "        splitting_attribute = None\n",
    "\n",
    "        for attr in attributes:\n",
    "            a_threshold = np.median([sample.get_attribute(attr) for sample in samples])\n",
    "            gain = ScratchDecisionTree.information_gain(attr, samples, a_threshold)\n",
    "            if gain > best_gain:\n",
    "                best_gain = gain\n",
    "                threshold = a_threshold\n",
    "                splitting_attribute = attr\n",
    "        new_root.attribute = splitting_attribute\n",
    "        # values = {}\n",
    "        # for sample in samples:\n",
    "        #     if sample.get_attribute(splitting_attribute) not in values:\n",
    "        #         values[sample.get_attribute(splitting_attribute) ] = []\n",
    "        #     values[sample.get_attribute(splitting_attribute)].append(sample)\n",
    "        # for value, v_samples in values.items():\n",
    "        a_sample = []\n",
    "        b_sample = []\n",
    "        for sample in samples:\n",
    "            if sample.get_attribute(splitting_attribute) >= threshold:\n",
    "                a_sample.append(sample)\n",
    "            else:\n",
    "                b_sample.append(sample)\n",
    "        for value in [0, 1]:\n",
    "            v_samples = a_sample if value == 1 else b_sample\n",
    "            subtree = ScratchDecisionTree.build_decision_tree(\n",
    "                v_samples,\n",
    "                attributes - {splitting_attribute},\n",
    "                None if v_samples else most_common_result\n",
    "            )\n",
    "            subtree.value = value\n",
    "            subtree.threshold = threshold\n",
    "            new_root.children.append(subtree)\n",
    "        return new_root\n",
    "\n",
    "# clf = ScratchDecisionTree()\n",
    "# time_start = time.time()\n",
    "# clf.fit(train_x, train_y)\n",
    "# print(time.time() - time_start)\n",
    "# print(\"a\")\n",
    "# y_predict = clf.predict(test_x)"
   ],
   "metadata": {
    "collapsed": false,
    "ExecuteTime": {
     "end_time": "2023-05-02T18:37:50.433875327Z",
     "start_time": "2023-05-02T18:37:50.388419959Z"
    }
   }
  },
  {
   "cell_type": "code",
   "execution_count": 7,
   "outputs": [
    {
     "ename": "ValueError",
     "evalue": "The truth value of an array with more than one element is ambiguous. Use a.any() or a.all()",
     "output_type": "error",
     "traceback": [
      "\u001B[0;31m---------------------------------------------------------------------------\u001B[0m",
      "\u001B[0;31mValueError\u001B[0m                                Traceback (most recent call last)",
      "Cell \u001B[0;32mIn[7], line 3\u001B[0m\n\u001B[1;32m      1\u001B[0m clf \u001B[38;5;241m=\u001B[39m ScratchDecisionTree()\n\u001B[1;32m      2\u001B[0m time_start \u001B[38;5;241m=\u001B[39m time\u001B[38;5;241m.\u001B[39mtime()\n\u001B[0;32m----> 3\u001B[0m \u001B[43mclf\u001B[49m\u001B[38;5;241;43m.\u001B[39;49m\u001B[43mfit\u001B[49m\u001B[43m(\u001B[49m\u001B[43mtrain\u001B[49m\u001B[38;5;241;43m.\u001B[39;49m\u001B[43mdata\u001B[49m\u001B[43m,\u001B[49m\u001B[43m \u001B[49m\u001B[43mtrain\u001B[49m\u001B[38;5;241;43m.\u001B[39;49m\u001B[43mlabel\u001B[49m\u001B[43m)\u001B[49m\n\u001B[1;32m      4\u001B[0m \u001B[38;5;28mprint\u001B[39m(time\u001B[38;5;241m.\u001B[39mtime() \u001B[38;5;241m-\u001B[39m time_start)\n",
      "Cell \u001B[0;32mIn[6], line 38\u001B[0m, in \u001B[0;36mScratchDecisionTree.fit\u001B[0;34m(self, x, y)\u001B[0m\n\u001B[1;32m     36\u001B[0m attributes \u001B[38;5;241m=\u001B[39m {x \u001B[38;5;28;01mfor\u001B[39;00m x \u001B[38;5;129;01min\u001B[39;00m \u001B[38;5;28mrange\u001B[39m(\u001B[38;5;28mlen\u001B[39m(x[\u001B[38;5;241m0\u001B[39m]))}\n\u001B[1;32m     37\u001B[0m \u001B[38;5;28;01massert\u001B[39;00m \u001B[38;5;28mlen\u001B[39m(attributes) \u001B[38;5;241m!=\u001B[39m \u001B[38;5;241m0\u001B[39m\n\u001B[0;32m---> 38\u001B[0m \u001B[38;5;28mself\u001B[39m\u001B[38;5;241m.\u001B[39mroot \u001B[38;5;241m=\u001B[39m ScratchDecisionTree\u001B[38;5;241m.\u001B[39mbuild_decision_tree(samples, attributes, \u001B[38;5;28;01mNone\u001B[39;00m)\n",
      "Cell \u001B[0;32mIn[6], line 114\u001B[0m, in \u001B[0;36mScratchDecisionTree.build_decision_tree\u001B[0;34m(samples, attributes, parent_most_common_result)\u001B[0m\n\u001B[1;32m    112\u001B[0m \u001B[38;5;28;01mfor\u001B[39;00m value \u001B[38;5;129;01min\u001B[39;00m [\u001B[38;5;241m0\u001B[39m, \u001B[38;5;241m1\u001B[39m]:\n\u001B[1;32m    113\u001B[0m     v_samples \u001B[38;5;241m=\u001B[39m a_sample \u001B[38;5;28;01mif\u001B[39;00m value \u001B[38;5;241m==\u001B[39m \u001B[38;5;241m1\u001B[39m \u001B[38;5;28;01melse\u001B[39;00m b_sample\n\u001B[0;32m--> 114\u001B[0m     subtree \u001B[38;5;241m=\u001B[39m ScratchDecisionTree\u001B[38;5;241m.\u001B[39mbuild_decision_tree(\n\u001B[1;32m    115\u001B[0m         v_samples,\n\u001B[1;32m    116\u001B[0m         attributes \u001B[38;5;241m-\u001B[39m {splitting_attribute},\n\u001B[1;32m    117\u001B[0m         \u001B[38;5;28;01mNone\u001B[39;00m \u001B[38;5;28;01mif\u001B[39;00m v_samples \u001B[38;5;28;01melse\u001B[39;00m most_common_result\n\u001B[1;32m    118\u001B[0m     )\n\u001B[1;32m    119\u001B[0m     subtree\u001B[38;5;241m.\u001B[39mvalue \u001B[38;5;241m=\u001B[39m value\n\u001B[1;32m    120\u001B[0m     subtree\u001B[38;5;241m.\u001B[39mthreshold \u001B[38;5;241m=\u001B[39m threshold\n",
      "Cell \u001B[0;32mIn[6], line 114\u001B[0m, in \u001B[0;36mScratchDecisionTree.build_decision_tree\u001B[0;34m(samples, attributes, parent_most_common_result)\u001B[0m\n\u001B[1;32m    112\u001B[0m \u001B[38;5;28;01mfor\u001B[39;00m value \u001B[38;5;129;01min\u001B[39;00m [\u001B[38;5;241m0\u001B[39m, \u001B[38;5;241m1\u001B[39m]:\n\u001B[1;32m    113\u001B[0m     v_samples \u001B[38;5;241m=\u001B[39m a_sample \u001B[38;5;28;01mif\u001B[39;00m value \u001B[38;5;241m==\u001B[39m \u001B[38;5;241m1\u001B[39m \u001B[38;5;28;01melse\u001B[39;00m b_sample\n\u001B[0;32m--> 114\u001B[0m     subtree \u001B[38;5;241m=\u001B[39m ScratchDecisionTree\u001B[38;5;241m.\u001B[39mbuild_decision_tree(\n\u001B[1;32m    115\u001B[0m         v_samples,\n\u001B[1;32m    116\u001B[0m         attributes \u001B[38;5;241m-\u001B[39m {splitting_attribute},\n\u001B[1;32m    117\u001B[0m         \u001B[38;5;28;01mNone\u001B[39;00m \u001B[38;5;28;01mif\u001B[39;00m v_samples \u001B[38;5;28;01melse\u001B[39;00m most_common_result\n\u001B[1;32m    118\u001B[0m     )\n\u001B[1;32m    119\u001B[0m     subtree\u001B[38;5;241m.\u001B[39mvalue \u001B[38;5;241m=\u001B[39m value\n\u001B[1;32m    120\u001B[0m     subtree\u001B[38;5;241m.\u001B[39mthreshold \u001B[38;5;241m=\u001B[39m threshold\n",
      "    \u001B[0;31m[... skipping similar frames: ScratchDecisionTree.build_decision_tree at line 114 (6 times)]\u001B[0m\n",
      "Cell \u001B[0;32mIn[6], line 114\u001B[0m, in \u001B[0;36mScratchDecisionTree.build_decision_tree\u001B[0;34m(samples, attributes, parent_most_common_result)\u001B[0m\n\u001B[1;32m    112\u001B[0m \u001B[38;5;28;01mfor\u001B[39;00m value \u001B[38;5;129;01min\u001B[39;00m [\u001B[38;5;241m0\u001B[39m, \u001B[38;5;241m1\u001B[39m]:\n\u001B[1;32m    113\u001B[0m     v_samples \u001B[38;5;241m=\u001B[39m a_sample \u001B[38;5;28;01mif\u001B[39;00m value \u001B[38;5;241m==\u001B[39m \u001B[38;5;241m1\u001B[39m \u001B[38;5;28;01melse\u001B[39;00m b_sample\n\u001B[0;32m--> 114\u001B[0m     subtree \u001B[38;5;241m=\u001B[39m ScratchDecisionTree\u001B[38;5;241m.\u001B[39mbuild_decision_tree(\n\u001B[1;32m    115\u001B[0m         v_samples,\n\u001B[1;32m    116\u001B[0m         attributes \u001B[38;5;241m-\u001B[39m {splitting_attribute},\n\u001B[1;32m    117\u001B[0m         \u001B[38;5;28;01mNone\u001B[39;00m \u001B[38;5;28;01mif\u001B[39;00m v_samples \u001B[38;5;28;01melse\u001B[39;00m most_common_result\n\u001B[1;32m    118\u001B[0m     )\n\u001B[1;32m    119\u001B[0m     subtree\u001B[38;5;241m.\u001B[39mvalue \u001B[38;5;241m=\u001B[39m value\n\u001B[1;32m    120\u001B[0m     subtree\u001B[38;5;241m.\u001B[39mthreshold \u001B[38;5;241m=\u001B[39m threshold\n",
      "Cell \u001B[0;32mIn[6], line 108\u001B[0m, in \u001B[0;36mScratchDecisionTree.build_decision_tree\u001B[0;34m(samples, attributes, parent_most_common_result)\u001B[0m\n\u001B[1;32m    106\u001B[0m b_sample \u001B[38;5;241m=\u001B[39m []\n\u001B[1;32m    107\u001B[0m \u001B[38;5;28;01mfor\u001B[39;00m sample \u001B[38;5;129;01min\u001B[39;00m samples:\n\u001B[0;32m--> 108\u001B[0m     \u001B[38;5;28;01mif\u001B[39;00m sample\u001B[38;5;241m.\u001B[39mget_attribute(splitting_attribute) \u001B[38;5;241m>\u001B[39m\u001B[38;5;241m=\u001B[39m threshold:\n\u001B[1;32m    109\u001B[0m         a_sample\u001B[38;5;241m.\u001B[39mappend(sample)\n\u001B[1;32m    110\u001B[0m     \u001B[38;5;28;01melse\u001B[39;00m:\n",
      "\u001B[0;31mValueError\u001B[0m: The truth value of an array with more than one element is ambiguous. Use a.any() or a.all()"
     ]
    }
   ],
   "source": [
    "clf = ScratchDecisionTree()\n",
    "time_start = time.time()\n",
    "clf.fit(train.data, train.label)\n",
    "print(time.time() - time_start)\n"
   ],
   "metadata": {
    "collapsed": false,
    "ExecuteTime": {
     "end_time": "2023-05-02T18:37:54.847230802Z",
     "start_time": "2023-05-02T18:37:52.040271804Z"
    }
   }
  },
  {
   "cell_type": "code",
   "execution_count": 45,
   "outputs": [
    {
     "name": "stdout",
     "output_type": "stream",
     "text": [
      "a\n",
      "0.5646361457939211\n"
     ]
    }
   ],
   "source": [
    "def predict(x: DataFrame, root: ScratchDecisionTree.DecisionTreeNode):\n",
    "    # for i,xx in x.iterrows():\n",
    "    #     break\n",
    "    # b=ScratchDecisionTree.Sample(xx.to_dict(),None)\n",
    "    # a=eval(b,root)\n",
    "    return [eval(ScratchDecisionTree.Sample(xx, None), root) for xx in x]\n",
    "\n",
    "\n",
    "def eval(x: ScratchDecisionTree.Sample, root: ScratchDecisionTree.DecisionTreeNode):\n",
    "    node = root\n",
    "    while node.result is None:\n",
    "        found = False\n",
    "        for nn in node.children:\n",
    "            if x.get_attribute(node.attribute) >= nn.threshold and nn.value == 1 \\\n",
    "                    or x.get_attribute(node.attribute) < nn.threshold and nn.value == 0:\n",
    "                node = nn\n",
    "                found = True\n",
    "                break\n",
    "        if not found:\n",
    "            print(\"ERROR\")\n",
    "    return node.result\n",
    "\n",
    "\n",
    "print(\"a\")\n",
    "y_predict = predict(test.data, clf.root)\n",
    "# # print(y_predict)\n",
    "# # print(test_y)\n",
    "print(accuracy_score(y_predict, test.label))"
   ],
   "metadata": {
    "collapsed": false
   }
  },
  {
   "cell_type": "markdown",
   "source": [],
   "metadata": {
    "collapsed": false
   }
  }
 ],
 "metadata": {
  "colab": {
   "provenance": []
  },
  "kernelspec": {
   "name": "python3",
   "language": "python",
   "display_name": "Python 3 (ipykernel)"
  },
  "language_info": {
   "name": "python"
  }
 },
 "nbformat": 4,
 "nbformat_minor": 0
}
