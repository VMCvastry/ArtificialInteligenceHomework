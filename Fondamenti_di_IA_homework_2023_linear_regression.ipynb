{
 "cells": [
  {
   "cell_type": "code",
   "execution_count": 1,
   "outputs": [],
   "source": [
    "from utils import *"
   ],
   "metadata": {
    "collapsed": false,
    "ExecuteTime": {
     "end_time": "2023-05-25T14:57:22.528278006Z",
     "start_time": "2023-05-25T14:57:21.738950059Z"
    }
   }
  },
  {
   "cell_type": "markdown",
   "source": [
    "# Linear Regression"
   ],
   "metadata": {
    "collapsed": false
   }
  },
  {
   "cell_type": "code",
   "execution_count": 10,
   "outputs": [],
   "source": [
    "df, train, test, val = get_data(normalize=True, binary_label=False)"
   ],
   "metadata": {
    "collapsed": false,
    "ExecuteTime": {
     "end_time": "2023-05-25T14:58:13.836390898Z",
     "start_time": "2023-05-25T14:58:13.589861056Z"
    }
   }
  },
  {
   "cell_type": "code",
   "execution_count": null,
   "outputs": [],
   "source": [
    "from sklearn.linear_model import SGDRegressor"
   ],
   "metadata": {
    "collapsed": false
   }
  },
  {
   "cell_type": "markdown",
   "source": [
    "### Analytical Linear Regression From Scratch"
   ],
   "metadata": {
    "collapsed": false
   }
  },
  {
   "cell_type": "code",
   "execution_count": 15,
   "outputs": [
    {
     "name": "stdout",
     "output_type": "stream",
     "text": [
      "Time taken to train the model:  0.023252487182617188\n",
      "Root Mean Squared Error: 8310.886013705811\n"
     ]
    },
    {
     "data": {
      "text/plain": "8310.886013705811"
     },
     "execution_count": 15,
     "metadata": {},
     "output_type": "execute_result"
    }
   ],
   "source": [
    "class ScratchLinearRegressionAnalytical:\n",
    "    def __init__(self):\n",
    "        self.weights = None\n",
    "\n",
    "    def fit(self, X, y):\n",
    "        X_b = np.c_[np.ones((len(X), 1)), X]\n",
    "        self.weights = np.linalg.inv(X_b.T.dot(X_b)).dot(X_b.T).dot(y)\n",
    "\n",
    "    def predict(self, X):\n",
    "        X_b = np.c_[np.ones((len(X), 1)), X]\n",
    "        return X_b.dot(self.weights)\n",
    "\n",
    "\n",
    "test_model(ScratchLinearRegressionAnalytical(), train, test, classification=False)\n",
    "# works really poorly with not normalized data\n",
    "# Why worse than sklearn?"
   ],
   "metadata": {
    "collapsed": false,
    "ExecuteTime": {
     "end_time": "2023-05-25T14:59:44.690369272Z",
     "start_time": "2023-05-25T14:59:44.634098636Z"
    }
   }
  },
  {
   "cell_type": "markdown",
   "source": [
    "### Scratch"
   ],
   "metadata": {
    "collapsed": false
   }
  },
  {
   "cell_type": "code",
   "execution_count": 17,
   "outputs": [],
   "source": [
    "def _sigmoid(x):\n",
    "    return 1 / (1 + np.exp(-x))\n",
    "\n",
    "\n",
    "class ScratchLinearRegression:\n",
    "\n",
    "    def __init__(self, lr=0.01, n_iters=1000, regularization=None, alpha=0.1, l1_ratio=0.5, logistic=False,\n",
    "                 classification=False):\n",
    "        self.lr = lr\n",
    "        self.n_iters = n_iters\n",
    "        self.weights = None\n",
    "        self.bias = None\n",
    "        self.regularization = regularization\n",
    "        self.regularization_param = alpha\n",
    "        self.l1_ratio = l1_ratio\n",
    "        self.classification = classification\n",
    "        self.model = 'logistic' if logistic else 'perceptron'  #todo check\n",
    "\n",
    "    def fit(self, X, y):\n",
    "        n_samples, n_features = X.shape\n",
    "\n",
    "        self.weights = np.zeros(n_features)\n",
    "        self.bias = 0\n",
    "\n",
    "        for _ in range(self.n_iters):\n",
    "            y_pred = np.dot(X, self.weights) + self.bias\n",
    "\n",
    "            if self.classification:\n",
    "                if self.model == 'logistic':\n",
    "                    y_pred = _sigmoid(y_pred)\n",
    "                else:\n",
    "                    y_pred = np.where(y_pred>=0, 1, 0)\n",
    "\n",
    "            if self.regularization == 'l1':\n",
    "                dw = (1 / n_samples) * np.dot(X.T, (y_pred - y)) + np.sign(self.weights) * self.regularization_param\n",
    "                db = (1 / n_samples) * np.sum(y_pred - y) + np.sign(self.bias) * self.regularization_param\n",
    "            elif self.regularization == 'l2':\n",
    "                dw = (1 / n_samples) * np.dot(X.T, (y_pred - y)) + 2 * self.weights * self.regularization_param\n",
    "                db = (1 / n_samples) * np.sum(y_pred - y) + 2 * self.bias * self.regularization_param\n",
    "            elif self.regularization == 'elasticnet':\n",
    "                dw = ((1 / n_samples) * np.dot(X.T, (y_pred - y))\n",
    "                      + 2 * self.weights * (1 - self.regularization_param)\n",
    "                      + np.sign(self.weights) * self.regularization_param)\n",
    "                db = ((1 / n_samples) * np.sum(y_pred - y)\n",
    "                      + 2 * self.bias * (1 - self.regularization_param)\n",
    "                      + np.sign(self.bias) * self.regularization_param)\n",
    "            elif self.regularization == 'elasticnetV2':\n",
    "                dw = (\n",
    "                        (1 / n_samples) * np.dot(X.T, (y_pred - y))\n",
    "                        + self.regularization_param *\n",
    "                        (\n",
    "                                2 * self.weights * (1 - self.l1_ratio)\n",
    "                                + np.sign(self.weights) * self.l1_ratio\n",
    "                        )\n",
    "                )\n",
    "                db = (\n",
    "                        (1 / n_samples) * np.sum(y_pred - y)\n",
    "                        + self.regularization_param *\n",
    "                        (\n",
    "                                2 * self.bias * (1 - self.l1_ratio)\n",
    "                                + np.sign(self.bias) * self.l1_ratio\n",
    "                        )\n",
    "                )\n",
    "            elif self.regularization is None or self.regularization == '':\n",
    "                dw = (1 / n_samples) * np.dot(X.T, (y_pred - y))\n",
    "                db = (1 / n_samples) * np.sum(y_pred - y)\n",
    "            else:\n",
    "                raise ValueError('Invalid regularization parameter')\n",
    "\n",
    "            self.weights -= self.lr * dw\n",
    "            self.bias -= self.lr * db\n",
    "\n",
    "    def predict(self, X):\n",
    "        y_pred = np.dot(X, self.weights) + self.bias\n",
    "\n",
    "        if self.classification:\n",
    "            if self.model == 'logistic':\n",
    "                y_pred = _sigmoid(y_pred)\n",
    "                y_pred = [1 if i >= 0.5 else 0 for i in y_pred]\n",
    "            else:\n",
    "                y_pred = [1 if i >= 0 else 0 for i in y_pred]\n",
    "        return y_pred"
   ],
   "metadata": {
    "collapsed": false,
    "ExecuteTime": {
     "end_time": "2023-05-25T15:07:03.425467379Z",
     "start_time": "2023-05-25T15:07:03.380920462Z"
    }
   }
  },
  {
   "cell_type": "markdown",
   "source": [
    "## No regularization"
   ],
   "metadata": {
    "collapsed": false
   }
  },
  {
   "cell_type": "markdown",
   "source": [
    "### Sklearn"
   ],
   "metadata": {
    "collapsed": false
   }
  },
  {
   "cell_type": "code",
   "execution_count": 18,
   "outputs": [
    {
     "name": "stdout",
     "output_type": "stream",
     "text": [
      "Time taken to train the model:  0.04581499099731445\n",
      "Root Mean Squared Error: 8273.862920013378\n"
     ]
    },
    {
     "data": {
      "text/plain": "8273.862920013378"
     },
     "execution_count": 18,
     "metadata": {},
     "output_type": "execute_result"
    }
   ],
   "source": [
    "from sklearn.linear_model import LinearRegression\n",
    "\n",
    "regressor = LinearRegression() # works also with not normalized data\n",
    "test_model(regressor, train, test, classification=False)"
   ],
   "metadata": {
    "collapsed": false,
    "ExecuteTime": {
     "end_time": "2023-05-25T15:07:15.494045271Z",
     "start_time": "2023-05-25T15:07:15.423583246Z"
    }
   }
  },
  {
   "cell_type": "code",
   "execution_count": 23,
   "outputs": [
    {
     "name": "stdout",
     "output_type": "stream",
     "text": [
      "Time taken to train the model:  3.019599199295044\n",
      "Root Mean Squared Error: 8275.739371762584\n"
     ]
    },
    {
     "name": "stderr",
     "output_type": "stream",
     "text": [
      "/home/vmcvastry/.local/lib/python3.10/site-packages/sklearn/linear_model/_stochastic_gradient.py:1548: ConvergenceWarning: Maximum number of iteration reached before convergence. Consider increasing max_iter to improve the fit.\n",
      "  warnings.warn(\n"
     ]
    }
   ],
   "source": [
    "regressor = SGDRegressor(max_iter=1000, penalty=None, learning_rate='constant', shuffle=False, eta0=0.00001,\n",
    "                         early_stopping=False)\n",
    "rmse_LR_NR_sk = test_model(regressor, train, test, classification=False)"
   ],
   "metadata": {
    "collapsed": false,
    "ExecuteTime": {
     "end_time": "2023-05-25T15:09:00.272734268Z",
     "start_time": "2023-05-25T15:08:57.241737787Z"
    }
   }
  },
  {
   "cell_type": "code",
   "execution_count": 36,
   "outputs": [
    {
     "name": "stdout",
     "output_type": "stream",
     "text": [
      "Time taken to train the model:  1.3438680171966553\n",
      "Root Mean Squared Error: 8275.80546379286\n"
     ]
    }
   ],
   "source": [
    "#No regularization\n",
    "regressor = ScratchLinearRegression(regularization='', n_iters=1000,lr=0.2)\n",
    "rmse_LR_NR_my = test_model(regressor, train, test, classification=False)"
   ],
   "metadata": {
    "collapsed": false,
    "ExecuteTime": {
     "end_time": "2023-05-25T15:17:07.196173360Z",
     "start_time": "2023-05-25T15:17:05.599553999Z"
    }
   }
  },
  {
   "cell_type": "code",
   "execution_count": 52,
   "outputs": [
    {
     "name": "stdout",
     "output_type": "stream",
     "text": [
      "Trying hyperparameters: 0.001\n",
      "Time taken to train the model:  1.3562700748443604\n",
      "Root Mean Squared Error: 7546.217657591242\n",
      "Value: 7546.217657591242\n",
      "Trying hyperparameters: 0.002\n",
      "Time taken to train the model:  0.9650344848632812\n",
      "Root Mean Squared Error: 7485.639353084593\n",
      "Value: 7485.639353084593\n",
      "Trying hyperparameters: 0.004\n",
      "Time taken to train the model:  0.9170608520507812\n",
      "Root Mean Squared Error: 7487.756139280329\n",
      "Value: 7487.756139280329\n",
      "Trying hyperparameters: 0.008\n",
      "Time taken to train the model:  0.9341013431549072\n",
      "Root Mean Squared Error: 7486.791903303474\n",
      "Value: 7486.791903303474\n",
      "Trying hyperparameters: 0.016\n",
      "Time taken to train the model:  0.8498692512512207\n",
      "Root Mean Squared Error: 7482.292673519695\n",
      "Value: 7482.292673519695\n",
      "Trying hyperparameters: 0.032\n",
      "Time taken to train the model:  0.8841171264648438\n",
      "Root Mean Squared Error: 7481.992739704844\n",
      "Value: 7481.992739704844\n",
      "Trying hyperparameters: 0.064\n",
      "Time taken to train the model:  0.865546464920044\n",
      "Root Mean Squared Error: 7496.1593044160845\n",
      "Value: 7496.1593044160845\n",
      "Trying hyperparameters: 0.128\n",
      "Time taken to train the model:  0.9070639610290527\n",
      "Root Mean Squared Error: 7559.196928253721\n",
      "Value: 7559.196928253721\n",
      "Best hyperparameters: 0.032\n",
      "Best value: 7481.992739704844\n"
     ]
    },
    {
     "data": {
      "text/plain": "<Figure size 640x480 with 1 Axes>",
      "image/png": "[encoded data removed]"
     },
     "metadata": {},
     "output_type": "display_data"
    },
    {
     "name": "stdout",
     "output_type": "stream",
     "text": [
      "Time taken to train the model:  0.8053073883056641\n",
      "Root Mean Squared Error: 8276.733410799\n",
      "Best rmse for Linear Regression (scratch): 8276.733410799 with lr=0.032\n"
     ]
    }
   ],
   "source": [
    " #TO DEL\n",
    "def get_model(param):\n",
    "    return  ScratchLinearRegression(regularization='', n_iters=1000,lr=param)\n",
    "\n",
    "\n",
    "def iterate_hyperparameters():\n",
    "    alpha = 0.001\n",
    "    while alpha < 0.2:\n",
    "        yield alpha\n",
    "        alpha *= 2\n",
    "\n",
    "\n",
    "best_param, params, accuracies = optimize_hyperparameters(get_model, iterate_hyperparameters(), train, test, val,\n",
    "                                                          classification=False)\n",
    "plot_2d(params, accuracies, 'alpha', 'mse')\n",
    "regressor = get_model(best_param)\n",
    "\n",
    "rmse_LR_NR_my = test_model(regressor, train, test, classification=False)\n",
    "print(f\"Best rmse for Linear Regression (scratch): {rmse_LR_NR_my} with lr={best_param}\")\n"
   ],
   "metadata": {
    "collapsed": false,
    "ExecuteTime": {
     "end_time": "2023-05-25T15:25:04.561898126Z",
     "start_time": "2023-05-25T15:24:55.880582433Z"
    }
   }
  },
  {
   "cell_type": "markdown",
   "source": [
    "## L1 regularization"
   ],
   "metadata": {
    "collapsed": false
   }
  },
  {
   "cell_type": "markdown",
   "source": [
    "### Sklearn"
   ],
   "metadata": {
    "collapsed": false
   }
  },
  {
   "cell_type": "code",
   "execution_count": 37,
   "outputs": [
    {
     "name": "stdout",
     "output_type": "stream",
     "text": [
      "Time taken to train the model:  4.956868648529053\n",
      "Root Mean Squared Error: 8251.875504985122\n"
     ]
    }
   ],
   "source": [
    "regressor = SGDRegressor(max_iter=1000, penalty='l1', learning_rate='constant', shuffle=False, eta0=0.00001, alpha=100)\n",
    "rmse_LR_L1_sk = test_model(regressor, train, test, classification=False)"
   ],
   "metadata": {
    "collapsed": false,
    "ExecuteTime": {
     "end_time": "2023-05-25T15:18:38.654884929Z",
     "start_time": "2023-05-25T15:18:33.684166960Z"
    }
   }
  },
  {
   "cell_type": "markdown",
   "source": [
    "### Scratch"
   ],
   "metadata": {
    "collapsed": false
   }
  },
  {
   "cell_type": "code",
   "execution_count": 41,
   "outputs": [
    {
     "name": "stdout",
     "output_type": "stream",
     "text": [
      "Trying hyperparameters: 0.1\n",
      "Time taken to train the model:  2.140456199645996\n",
      "Root Mean Squared Error: 7485.112666374343\n",
      "Value: 7485.112666374343\n",
      "Trying hyperparameters: 0.2\n",
      "Time taken to train the model:  1.0882043838500977\n",
      "Root Mean Squared Error: 7484.96648216334\n",
      "Value: 7484.96648216334\n",
      "Trying hyperparameters: 0.4\n",
      "Time taken to train the model:  0.971642255783081\n",
      "Root Mean Squared Error: 7484.705585117933\n",
      "Value: 7484.705585117933\n",
      "Trying hyperparameters: 0.8\n",
      "Time taken to train the model:  0.9851326942443848\n",
      "Root Mean Squared Error: 7484.280579452767\n",
      "Value: 7484.280579452767\n",
      "Trying hyperparameters: 1.6\n",
      "Time taken to train the model:  0.9722976684570312\n",
      "Root Mean Squared Error: 7483.790943200983\n",
      "Value: 7483.790943200983\n",
      "Trying hyperparameters: 3.2\n",
      "Time taken to train the model:  0.9697942733764648\n",
      "Root Mean Squared Error: 7483.222028489958\n",
      "Value: 7483.222028489958\n",
      "Trying hyperparameters: 6.4\n",
      "Time taken to train the model:  1.206376552581787\n",
      "Root Mean Squared Error: 7482.166399702954\n",
      "Value: 7482.166399702954\n",
      "Trying hyperparameters: 12.8\n",
      "Time taken to train the model:  1.4183785915374756\n",
      "Root Mean Squared Error: 7480.356711428301\n",
      "Value: 7480.356711428301\n",
      "Trying hyperparameters: 25.6\n",
      "Time taken to train the model:  1.6412725448608398\n",
      "Root Mean Squared Error: 7477.51976883736\n",
      "Value: 7477.51976883736\n",
      "Trying hyperparameters: 51.2\n",
      "Time taken to train the model:  0.9095675945281982\n",
      "Root Mean Squared Error: 7474.739103935195\n",
      "Value: 7474.739103935195\n",
      "Trying hyperparameters: 102.4\n",
      "Time taken to train the model:  0.8917005062103271\n",
      "Root Mean Squared Error: 7474.230366996918\n",
      "Value: 7474.230366996918\n",
      "Trying hyperparameters: 204.8\n",
      "Time taken to train the model:  1.6463069915771484\n",
      "Root Mean Squared Error: 7478.8065909543375\n",
      "Value: 7478.8065909543375\n",
      "Trying hyperparameters: 409.6\n",
      "Time taken to train the model:  1.234318494796753\n",
      "Root Mean Squared Error: 7484.90088086959\n",
      "Value: 7484.90088086959\n",
      "Trying hyperparameters: 819.2\n",
      "Time taken to train the model:  0.7815759181976318\n",
      "Root Mean Squared Error: 7534.40074432106\n",
      "Value: 7534.40074432106\n",
      "Best hyperparameters: 102.4\n",
      "Best value: 7474.230366996918\n"
     ]
    },
    {
     "data": {
      "text/plain": "<Figure size 640x480 with 1 Axes>",
      "image/png": "[encoded data removed]"
     },
     "metadata": {},
     "output_type": "display_data"
    },
    {
     "name": "stdout",
     "output_type": "stream",
     "text": [
      "Time taken to train the model:  1.022836685180664\n",
      "Root Mean Squared Error: 8251.90777476523\n",
      "Best rmse for Linear Regression L1 (scratch): 8251.90777476523 with alpha=102.4\n"
     ]
    }
   ],
   "source": [
    "def get_model(param):\n",
    "    return ScratchLinearRegression(regularization='l1', alpha=param,lr=0.01)\n",
    "\n",
    "\n",
    "def iterate_hyperparameters():\n",
    "    # for alpha in range(1,1000,100):\n",
    "    #     yield alpha\n",
    "    alpha = 0.1\n",
    "    while alpha < 1000:\n",
    "        yield alpha\n",
    "        alpha *= 2\n",
    "\n",
    "\n",
    "best_param, params, accuracies = optimize_hyperparameters(get_model, iterate_hyperparameters(), train, test, val,\n",
    "                                                          classification=False)\n",
    "plot_2d(params, accuracies, 'alpha', 'mse')\n",
    "regressor = ScratchLinearRegression(regularization='l1', alpha=best_param)\n",
    "\n",
    "rmse_LR_L1_my = test_model(regressor, train, test, classification=False)\n",
    "print(f\"Best rmse for Linear Regression L1 (scratch): {rmse_LR_L1_my} with alpha={best_param}\")"
   ],
   "metadata": {
    "collapsed": false,
    "ExecuteTime": {
     "end_time": "2023-05-25T15:21:47.436044713Z",
     "start_time": "2023-05-25T15:21:29.371469339Z"
    }
   }
  },
  {
   "cell_type": "markdown",
   "source": [
    "##  L2 regularization"
   ],
   "metadata": {
    "collapsed": false
   }
  },
  {
   "cell_type": "markdown",
   "source": [
    "### Sklearn"
   ],
   "metadata": {
    "collapsed": false
   }
  },
  {
   "cell_type": "code",
   "execution_count": 47,
   "outputs": [
    {
     "name": "stdout",
     "output_type": "stream",
     "text": [
      "Time taken to train the model:  0.32388901710510254\n",
      "Root Mean Squared Error: 8266.18668587692\n"
     ]
    }
   ],
   "source": [
    "regressor = SGDRegressor(max_iter=1000, penalty='l2', learning_rate='constant', shuffle=False, eta0=0.00001, alpha=0.5)\n",
    "rmse_LR_L2_sk = test_model(regressor, train, test, classification=False)"
   ],
   "metadata": {
    "collapsed": false,
    "ExecuteTime": {
     "end_time": "2023-05-25T15:22:14.146953478Z",
     "start_time": "2023-05-25T15:22:13.821327179Z"
    }
   }
  },
  {
   "cell_type": "markdown",
   "source": [
    "### Scratch"
   ],
   "metadata": {
    "collapsed": false
   }
  },
  {
   "cell_type": "code",
   "execution_count": 48,
   "outputs": [
    {
     "name": "stdout",
     "output_type": "stream",
     "text": [
      "Trying hyperparameters: 0.001\n",
      "Time taken to train the model:  2.188009262084961\n",
      "Root Mean Squared Error: 7484.88229219937\n",
      "Value: 7484.88229219937\n",
      "Trying hyperparameters: 0.002\n",
      "Time taken to train the model:  1.1739675998687744\n",
      "Root Mean Squared Error: 7484.502882453825\n",
      "Value: 7484.502882453825\n",
      "Trying hyperparameters: 0.004\n",
      "Time taken to train the model:  0.9353456497192383\n",
      "Root Mean Squared Error: 7483.7728705543095\n",
      "Value: 7483.7728705543095\n",
      "Trying hyperparameters: 0.008\n",
      "Time taken to train the model:  0.9559571743011475\n",
      "Root Mean Squared Error: 7482.4243387325205\n",
      "Value: 7482.4243387325205\n",
      "Trying hyperparameters: 0.016\n",
      "Time taken to train the model:  0.8981657028198242\n",
      "Root Mean Squared Error: 7480.145248096583\n",
      "Value: 7480.145248096583\n",
      "Trying hyperparameters: 0.032\n",
      "Time taken to train the model:  0.8814253807067871\n",
      "Root Mean Squared Error: 7477.061750689474\n",
      "Value: 7477.061750689474\n",
      "Trying hyperparameters: 0.064\n",
      "Time taken to train the model:  0.876652717590332\n",
      "Root Mean Squared Error: 7475.5482438162235\n",
      "Value: 7475.5482438162235\n",
      "Trying hyperparameters: 0.128\n",
      "Time taken to train the model:  0.9428689479827881\n",
      "Root Mean Squared Error: 7484.562075735805\n",
      "Value: 7484.562075735805\n",
      "Trying hyperparameters: 0.256\n",
      "Time taken to train the model:  0.8976502418518066\n",
      "Root Mean Squared Error: 7524.126556181185\n",
      "Value: 7524.126556181185\n",
      "Trying hyperparameters: 0.512\n",
      "Time taken to train the model:  0.9176106452941895\n",
      "Root Mean Squared Error: 7616.413157577491\n",
      "Value: 7616.413157577491\n",
      "Best hyperparameters: 0.064\n",
      "Best value: 7475.5482438162235\n"
     ]
    },
    {
     "data": {
      "text/plain": "<Figure size 640x480 with 1 Axes>",
      "image/png": "[encoded data removed]"
     },
     "metadata": {},
     "output_type": "display_data"
    },
    {
     "name": "stdout",
     "output_type": "stream",
     "text": [
      "Time taken to train the model:  0.8603434562683105\n",
      "Root Mean Squared Error: 8270.084734322667\n",
      "Best rmse for Linear Regression L2 (scratch): 8251.90777476523 with alpha=0.064\n"
     ]
    }
   ],
   "source": [
    "#L2 regularization\n",
    "def get_model(param):\n",
    "    return ScratchLinearRegression(regularization='l2', alpha=param,lr=0.01)\n",
    "\n",
    "def iterate_hyperparameters():\n",
    "    alpha = 0.001\n",
    "    while alpha < 1:\n",
    "        yield alpha\n",
    "        alpha *= 2\n",
    "\n",
    "\n",
    "best_param, params, accuracies = optimize_hyperparameters(get_model, iterate_hyperparameters(), train, test, val,\n",
    "                                                          classification=False)\n",
    "plot_2d(params, accuracies, 'alpha', 'mse')\n",
    "regressor = ScratchLinearRegression(regularization='l2', alpha=best_param)\n",
    "\n",
    "rmse_LR_L2_my = test_model(regressor, train, test, classification=False)\n",
    "print(f\"Best rmse for Linear Regression L2 (scratch): {rmse_LR_L1_my} with alpha={best_param}\")"
   ],
   "metadata": {
    "collapsed": false,
    "ExecuteTime": {
     "end_time": "2023-05-25T15:23:06.986413912Z",
     "start_time": "2023-05-25T15:22:55.267851526Z"
    }
   }
  },
  {
   "cell_type": "markdown",
   "source": [
    "## Elastic net regularization"
   ],
   "metadata": {
    "collapsed": false
   }
  },
  {
   "cell_type": "markdown",
   "source": [
    "### Sklearn"
   ],
   "metadata": {
    "collapsed": false
   }
  },
  {
   "cell_type": "code",
   "execution_count": 53,
   "outputs": [
    {
     "name": "stdout",
     "output_type": "stream",
     "text": [
      "Time taken to train the model:  2.3339409828186035\n",
      "Root Mean Squared Error: 8274.942072408272\n"
     ]
    }
   ],
   "source": [
    "from sklearn.linear_model import ElasticNet\n",
    "\n",
    "model = ElasticNet(alpha=0.01, l1_ratio=0.2)\n",
    "rmse_LR_EL_sk = test_model(model, train, test, classification=False)"
   ],
   "metadata": {
    "collapsed": false,
    "ExecuteTime": {
     "end_time": "2023-05-25T15:25:26.869767984Z",
     "start_time": "2023-05-25T15:25:24.510646672Z"
    }
   }
  },
  {
   "cell_type": "code",
   "execution_count": 54,
   "outputs": [
    {
     "name": "stdout",
     "output_type": "stream",
     "text": [
      "Time taken to train the model:  1.6507151126861572\n",
      "Root Mean Squared Error: 8269.28193026024\n"
     ]
    }
   ],
   "source": [
    "model = SGDRegressor(max_iter=1000, penalty='elasticnet', learning_rate='constant', shuffle=False, eta0=0.00001,\n",
    "                     early_stopping=False, alpha=0.5, l1_ratio=0.5)\n",
    "rmse_LR_EL_sk = test_model(model, train, test, classification=False)"
   ],
   "metadata": {
    "collapsed": false,
    "ExecuteTime": {
     "end_time": "2023-05-25T15:25:45.656165365Z",
     "start_time": "2023-05-25T15:25:44.002216034Z"
    }
   }
  },
  {
   "cell_type": "markdown",
   "source": [
    "### Scratch"
   ],
   "metadata": {
    "collapsed": false
   }
  },
  {
   "cell_type": "code",
   "execution_count": 13,
   "outputs": [
    {
     "name": "stdout",
     "output_type": "stream",
     "text": [
      "Trying hyperparameters: 0.9990009990009991\n",
      "Time taken to train the model:  2.0301804542541504\n",
      "Mean Squared Error: 56006295.459590904\n",
      "Root Mean Squared Error: 7483.735394813936\n",
      "R-squared Score: 0.020662906978738738\n",
      "Value: 56006295.459590904\n",
      "Trying hyperparameters: 0.998003992015968\n",
      "Time taken to train the model:  1.2977888584136963\n",
      "Mean Squared Error: 56000627.83486049\n",
      "Root Mean Squared Error: 7483.3567224114395\n",
      "R-squared Score: 0.020762012179007194\n",
      "Value: 56000627.83486049\n",
      "Trying hyperparameters: 0.9960159362549801\n",
      "Time taken to train the model:  1.377115249633789\n",
      "Mean Squared Error: 55989746.36672418\n",
      "Root Mean Squared Error: 7482.629642493619\n",
      "R-squared Score: 0.02095228767009205\n",
      "Value: 55989746.36672418\n",
      "Trying hyperparameters: 0.9920634920634921\n",
      "Time taken to train the model:  1.4177486896514893\n",
      "Mean Squared Error: 55969809.10386689\n",
      "Root Mean Squared Error: 7481.297287494121\n",
      "R-squared Score: 0.021300914568001206\n",
      "Value: 55969809.10386689\n",
      "Trying hyperparameters: 0.984251968503937\n",
      "Time taken to train the model:  1.7352919578552246\n",
      "Mean Squared Error: 55936914.830106385\n",
      "Root Mean Squared Error: 7479.098530578828\n",
      "R-squared Score: 0.021876110305860674\n",
      "Value: 55936914.830106385\n",
      "Trying hyperparameters: 0.9689922480620154\n",
      "Time taken to train the model:  1.8582735061645508\n",
      "Mean Squared Error: 55892591.49402365\n",
      "Root Mean Squared Error: 7476.134796405403\n",
      "R-squared Score: 0.022651156874394895\n",
      "Value: 55892591.49402365\n",
      "Trying hyperparameters: 0.9398496240601504\n",
      "Time taken to train the model:  1.4508335590362549\n",
      "Mean Squared Error: 55868685.77152188\n",
      "Root Mean Squared Error: 7474.535823147942\n",
      "R-squared Score: 0.023069177037830846\n",
      "Value: 55868685.77152188\n",
      "Trying hyperparameters: 0.8865248226950354\n",
      "Time taken to train the model:  1.217703104019165\n",
      "Mean Squared Error: 55963540.976635225\n",
      "Root Mean Squared Error: 7480.878355957623\n",
      "R-squared Score: 0.021410520273063005\n",
      "Value: 55963540.976635225\n",
      "Trying hyperparameters: 0.7961783439490446\n",
      "Time taken to train the model:  1.6189539432525635\n",
      "Mean Squared Error: 56337611.1981364\n",
      "Root Mean Squared Error: 7505.838474023832\n",
      "R-squared Score: 0.014869454839176233\n",
      "Value: 56337611.1981364\n",
      "Trying hyperparameters: 0.9995002498750625\n",
      "Time taken to train the model:  1.431236982345581\n",
      "Mean Squared Error: 56009182.42386123\n",
      "Root Mean Squared Error: 7483.928274900904\n",
      "R-squared Score: 0.02061242495394222\n",
      "Value: 56009182.42386123\n",
      "Trying hyperparameters: 0.9990009990009991\n",
      "Time taken to train the model:  1.8107337951660156\n",
      "Mean Squared Error: 56006295.459590904\n",
      "Root Mean Squared Error: 7483.735394813936\n",
      "R-squared Score: 0.020662906978738738\n",
      "Value: 56006295.459590904\n",
      "Trying hyperparameters: 0.998003992015968\n",
      "Time taken to train the model:  1.3824310302734375\n",
      "Mean Squared Error: 56000627.83486049\n",
      "Root Mean Squared Error: 7483.3567224114395\n",
      "R-squared Score: 0.020762012179007194\n",
      "Value: 56000627.83486049\n",
      "Trying hyperparameters: 0.9960159362549801\n",
      "Time taken to train the model:  1.162776231765747\n",
      "Mean Squared Error: 55989746.36672418\n",
      "Root Mean Squared Error: 7482.629642493619\n",
      "R-squared Score: 0.02095228767009205\n",
      "Value: 55989746.36672418\n",
      "Trying hyperparameters: 0.9920634920634921\n",
      "Time taken to train the model:  1.1512188911437988\n",
      "Mean Squared Error: 55969809.10386689\n",
      "Root Mean Squared Error: 7481.297287494121\n",
      "R-squared Score: 0.021300914568001206\n",
      "Value: 55969809.10386689\n",
      "Trying hyperparameters: 0.984251968503937\n",
      "Time taken to train the model:  1.1637392044067383\n",
      "Mean Squared Error: 55936914.830106385\n",
      "Root Mean Squared Error: 7479.098530578828\n",
      "R-squared Score: 0.021876110305860674\n",
      "Value: 55936914.830106385\n",
      "Trying hyperparameters: 0.9689922480620154\n",
      "Time taken to train the model:  1.2669203281402588\n",
      "Mean Squared Error: 55892591.49402365\n",
      "Root Mean Squared Error: 7476.134796405403\n",
      "R-squared Score: 0.022651156874394895\n",
      "Value: 55892591.49402365\n",
      "Trying hyperparameters: 0.9398496240601504\n",
      "Time taken to train the model:  1.1713566780090332\n",
      "Mean Squared Error: 55868685.77152188\n",
      "Root Mean Squared Error: 7474.535823147942\n",
      "R-squared Score: 0.023069177037830846\n",
      "Value: 55868685.77152188\n",
      "Trying hyperparameters: 0.8865248226950354\n",
      "Time taken to train the model:  1.1880908012390137\n",
      "Mean Squared Error: 55963540.976635225\n",
      "Root Mean Squared Error: 7480.878355957623\n",
      "R-squared Score: 0.021410520273063005\n",
      "Value: 55963540.976635225\n",
      "Trying hyperparameters: 0.9997500624843788\n",
      "Time taken to train the model:  1.1692147254943848\n",
      "Mean Squared Error: 56010640.90219732\n",
      "Root Mean Squared Error: 7484.025714960987\n",
      "R-squared Score: 0.020586921715026296\n",
      "Value: 56010640.90219732\n",
      "Trying hyperparameters: 0.9995002498750625\n",
      "Time taken to train the model:  2.788912773132324\n",
      "Mean Squared Error: 56009182.42386123\n",
      "Root Mean Squared Error: 7483.928274900904\n",
      "R-squared Score: 0.02061242495394222\n",
      "Value: 56009182.42386123\n",
      "Trying hyperparameters: 0.9990009990009991\n",
      "Time taken to train the model:  1.3371806144714355\n",
      "Mean Squared Error: 56006295.459590904\n",
      "Root Mean Squared Error: 7483.735394813936\n",
      "R-squared Score: 0.020662906978738738\n",
      "Value: 56006295.459590904\n",
      "Trying hyperparameters: 0.998003992015968\n",
      "Time taken to train the model:  1.3080711364746094\n",
      "Mean Squared Error: 56000627.83486049\n",
      "Root Mean Squared Error: 7483.3567224114395\n",
      "R-squared Score: 0.020762012179007194\n",
      "Value: 56000627.83486049\n",
      "Trying hyperparameters: 0.9960159362549801\n",
      "Time taken to train the model:  1.3300220966339111\n",
      "Mean Squared Error: 55989746.36672418\n",
      "Root Mean Squared Error: 7482.629642493619\n",
      "R-squared Score: 0.02095228767009205\n",
      "Value: 55989746.36672418\n",
      "Trying hyperparameters: 0.9920634920634921\n",
      "Time taken to train the model:  1.752396821975708\n",
      "Mean Squared Error: 55969809.10386689\n",
      "Root Mean Squared Error: 7481.297287494121\n",
      "R-squared Score: 0.021300914568001206\n",
      "Value: 55969809.10386689\n",
      "Trying hyperparameters: 0.984251968503937\n",
      "Time taken to train the model:  1.2445948123931885\n",
      "Mean Squared Error: 55936914.830106385\n",
      "Root Mean Squared Error: 7479.098530578828\n",
      "R-squared Score: 0.021876110305860674\n",
      "Value: 55936914.830106385\n",
      "Trying hyperparameters: 0.9689922480620154\n",
      "Time taken to train the model:  1.211306095123291\n",
      "Mean Squared Error: 55892591.49402365\n",
      "Root Mean Squared Error: 7476.134796405403\n",
      "R-squared Score: 0.022651156874394895\n",
      "Value: 55892591.49402365\n",
      "Trying hyperparameters: 0.9398496240601504\n",
      "Time taken to train the model:  1.7040979862213135\n",
      "Mean Squared Error: 55868685.77152188\n",
      "Root Mean Squared Error: 7474.535823147942\n",
      "R-squared Score: 0.023069177037830846\n",
      "Value: 55868685.77152188\n",
      "Trying hyperparameters: 0.9998750156230471\n",
      "Time taken to train the model:  3.2968101501464844\n",
      "Mean Squared Error: 56011371.01277549\n",
      "Root Mean Squared Error: 7484.074492732918\n",
      "R-squared Score: 0.02057415485791958\n",
      "Value: 56011371.01277549\n",
      "Trying hyperparameters: 0.9997500624843788\n",
      "Time taken to train the model:  1.3487129211425781\n",
      "Mean Squared Error: 56010640.90219732\n",
      "Root Mean Squared Error: 7484.025714960987\n",
      "R-squared Score: 0.020586921715026296\n",
      "Value: 56010640.90219732\n",
      "Trying hyperparameters: 0.9995002498750625\n",
      "Time taken to train the model:  1.6753835678100586\n",
      "Mean Squared Error: 56009182.42386123\n",
      "Root Mean Squared Error: 7483.928274900904\n",
      "R-squared Score: 0.02061242495394222\n",
      "Value: 56009182.42386123\n",
      "Trying hyperparameters: 0.9990009990009991\n",
      "Time taken to train the model:  1.807291030883789\n",
      "Mean Squared Error: 56006295.459590904\n",
      "Root Mean Squared Error: 7483.735394813936\n",
      "R-squared Score: 0.020662906978738738\n",
      "Value: 56006295.459590904\n",
      "Trying hyperparameters: 0.998003992015968\n",
      "Time taken to train the model:  1.874758243560791\n",
      "Mean Squared Error: 56000627.83486049\n",
      "Root Mean Squared Error: 7483.3567224114395\n",
      "R-squared Score: 0.020762012179007194\n",
      "Value: 56000627.83486049\n",
      "Trying hyperparameters: 0.9960159362549801\n",
      "Time taken to train the model:  1.5796442031860352\n",
      "Mean Squared Error: 55989746.36672418\n",
      "Root Mean Squared Error: 7482.629642493619\n",
      "R-squared Score: 0.02095228767009205\n",
      "Value: 55989746.36672418\n",
      "Trying hyperparameters: 0.9920634920634921\n",
      "Time taken to train the model:  1.3120615482330322\n",
      "Mean Squared Error: 55969809.10386689\n",
      "Root Mean Squared Error: 7481.297287494121\n",
      "R-squared Score: 0.021300914568001206\n",
      "Value: 55969809.10386689\n",
      "Trying hyperparameters: 0.984251968503937\n",
      "Time taken to train the model:  1.0755929946899414\n",
      "Mean Squared Error: 55936914.830106385\n",
      "Root Mean Squared Error: 7479.098530578828\n",
      "R-squared Score: 0.021876110305860674\n",
      "Value: 55936914.830106385\n",
      "Trying hyperparameters: 0.9689922480620154\n",
      "Time taken to train the model:  1.1365365982055664\n",
      "Mean Squared Error: 55892591.49402365\n",
      "Root Mean Squared Error: 7476.134796405403\n",
      "R-squared Score: 0.022651156874394895\n",
      "Value: 55892591.49402365\n",
      "Trying hyperparameters: 0.9999375039060058\n",
      "Time taken to train the model:  1.358269214630127\n",
      "Mean Squared Error: 56011747.757325664\n",
      "Root Mean Squared Error: 7484.099662439408\n",
      "R-squared Score: 0.020567567028648703\n",
      "Value: 56011747.757325664\n",
      "Trying hyperparameters: 0.9998750156230471\n",
      "Time taken to train the model:  1.1431598663330078\n",
      "Mean Squared Error: 56011371.01277549\n",
      "Root Mean Squared Error: 7484.074492732918\n",
      "R-squared Score: 0.02057415485791958\n",
      "Value: 56011371.01277549\n",
      "Trying hyperparameters: 0.9997500624843788\n",
      "Time taken to train the model:  1.7353763580322266\n",
      "Mean Squared Error: 56010640.90219732\n",
      "Root Mean Squared Error: 7484.025714960987\n",
      "R-squared Score: 0.020586921715026296\n",
      "Value: 56010640.90219732\n",
      "Trying hyperparameters: 0.9995002498750625\n",
      "Time taken to train the model:  1.352457046508789\n",
      "Mean Squared Error: 56009182.42386123\n",
      "Root Mean Squared Error: 7483.928274900904\n",
      "R-squared Score: 0.02061242495394222\n",
      "Value: 56009182.42386123\n",
      "Trying hyperparameters: 0.9990009990009991\n",
      "Time taken to train the model:  1.5854032039642334\n",
      "Mean Squared Error: 56006295.459590904\n",
      "Root Mean Squared Error: 7483.735394813936\n",
      "R-squared Score: 0.020662906978738738\n",
      "Value: 56006295.459590904\n",
      "Trying hyperparameters: 0.998003992015968\n",
      "Time taken to train the model:  1.4559435844421387\n",
      "Mean Squared Error: 56000627.83486049\n",
      "Root Mean Squared Error: 7483.3567224114395\n",
      "R-squared Score: 0.020762012179007194\n",
      "Value: 56000627.83486049\n",
      "Trying hyperparameters: 0.9960159362549801\n",
      "Time taken to train the model:  2.001297950744629\n",
      "Mean Squared Error: 55989746.36672418\n",
      "Root Mean Squared Error: 7482.629642493619\n",
      "R-squared Score: 0.02095228767009205\n",
      "Value: 55989746.36672418\n",
      "Trying hyperparameters: 0.9920634920634921\n",
      "Time taken to train the model:  1.6216800212860107\n",
      "Mean Squared Error: 55969809.10386689\n",
      "Root Mean Squared Error: 7481.297287494121\n",
      "R-squared Score: 0.021300914568001206\n",
      "Value: 55969809.10386689\n",
      "Trying hyperparameters: 0.984251968503937\n",
      "Time taken to train the model:  1.2064800262451172\n",
      "Mean Squared Error: 55936914.830106385\n",
      "Root Mean Squared Error: 7479.098530578828\n",
      "R-squared Score: 0.021876110305860674\n",
      "Value: 55936914.830106385\n",
      "Trying hyperparameters: 0.999968750976532\n",
      "Time taken to train the model:  1.2193515300750732\n",
      "Mean Squared Error: 56011929.39254637\n",
      "Root Mean Squared Error: 7484.111797170482\n",
      "R-squared Score: 0.0205643909194706\n",
      "Value: 56011929.39254637\n",
      "Trying hyperparameters: 0.9999375039060058\n",
      "Time taken to train the model:  1.7526741027832031\n",
      "Mean Squared Error: 56011747.757325664\n",
      "Root Mean Squared Error: 7484.099662439408\n",
      "R-squared Score: 0.020567567028648703\n",
      "Value: 56011747.757325664\n",
      "Trying hyperparameters: 0.9998750156230471\n",
      "Time taken to train the model:  2.9826319217681885\n",
      "Mean Squared Error: 56011371.01277549\n",
      "Root Mean Squared Error: 7484.074492732918\n",
      "R-squared Score: 0.02057415485791958\n",
      "Value: 56011371.01277549\n",
      "Trying hyperparameters: 0.9997500624843788\n",
      "Time taken to train the model:  1.3723807334899902\n",
      "Mean Squared Error: 56010640.90219732\n",
      "Root Mean Squared Error: 7484.025714960987\n",
      "R-squared Score: 0.020586921715026296\n",
      "Value: 56010640.90219732\n",
      "Trying hyperparameters: 0.9995002498750625\n",
      "Time taken to train the model:  2.0687649250030518\n",
      "Mean Squared Error: 56009182.42386123\n",
      "Root Mean Squared Error: 7483.928274900904\n",
      "R-squared Score: 0.02061242495394222\n",
      "Value: 56009182.42386123\n",
      "Trying hyperparameters: 0.9990009990009991\n",
      "Time taken to train the model:  1.766843318939209\n",
      "Mean Squared Error: 56006295.459590904\n",
      "Root Mean Squared Error: 7483.735394813936\n",
      "R-squared Score: 0.020662906978738738\n",
      "Value: 56006295.459590904\n",
      "Trying hyperparameters: 0.998003992015968\n",
      "Time taken to train the model:  1.367438554763794\n",
      "Mean Squared Error: 56000627.83486049\n",
      "Root Mean Squared Error: 7483.3567224114395\n",
      "R-squared Score: 0.020762012179007194\n",
      "Value: 56000627.83486049\n",
      "Trying hyperparameters: 0.9960159362549801\n",
      "Time taken to train the model:  1.4093718528747559\n",
      "Mean Squared Error: 55989746.36672418\n",
      "Root Mean Squared Error: 7482.629642493619\n",
      "R-squared Score: 0.02095228767009205\n",
      "Value: 55989746.36672418\n",
      "Trying hyperparameters: 0.9920634920634921\n",
      "Time taken to train the model:  1.1931064128875732\n",
      "Mean Squared Error: 55969809.10386689\n",
      "Root Mean Squared Error: 7481.297287494121\n",
      "R-squared Score: 0.021300914568001206\n",
      "Value: 55969809.10386689\n",
      "Trying hyperparameters: 0.9999843752441367\n",
      "Time taken to train the model:  1.2032601833343506\n",
      "Mean Squared Error: 56012018.779356726\n",
      "Root Mean Squared Error: 7484.117768939551\n",
      "R-squared Score: 0.020562827884131663\n",
      "Value: 56012018.779356726\n",
      "Trying hyperparameters: 0.999968750976532\n",
      "Time taken to train the model:  1.1621477603912354\n",
      "Mean Squared Error: 56011929.39254637\n",
      "Root Mean Squared Error: 7484.111797170482\n",
      "R-squared Score: 0.0205643909194706\n",
      "Value: 56011929.39254637\n",
      "Trying hyperparameters: 0.9999375039060058\n",
      "Time taken to train the model:  1.1785576343536377\n",
      "Mean Squared Error: 56011747.757325664\n",
      "Root Mean Squared Error: 7484.099662439408\n",
      "R-squared Score: 0.020567567028648703\n",
      "Value: 56011747.757325664\n",
      "Trying hyperparameters: 0.9998750156230471\n",
      "Time taken to train the model:  1.140540361404419\n",
      "Mean Squared Error: 56011371.01277549\n",
      "Root Mean Squared Error: 7484.074492732918\n",
      "R-squared Score: 0.02057415485791958\n",
      "Value: 56011371.01277549\n",
      "Trying hyperparameters: 0.9997500624843788\n",
      "Time taken to train the model:  1.2737116813659668\n",
      "Mean Squared Error: 56010640.90219732\n",
      "Root Mean Squared Error: 7484.025714960987\n",
      "R-squared Score: 0.020586921715026296\n",
      "Value: 56010640.90219732\n",
      "Trying hyperparameters: 0.9995002498750625\n",
      "Time taken to train the model:  1.159527063369751\n",
      "Mean Squared Error: 56009182.42386123\n",
      "Root Mean Squared Error: 7483.928274900904\n",
      "R-squared Score: 0.02061242495394222\n",
      "Value: 56009182.42386123\n",
      "Trying hyperparameters: 0.9990009990009991\n",
      "Time taken to train the model:  1.178333044052124\n",
      "Mean Squared Error: 56006295.459590904\n",
      "Root Mean Squared Error: 7483.735394813936\n",
      "R-squared Score: 0.020662906978738738\n",
      "Value: 56006295.459590904\n",
      "Trying hyperparameters: 0.998003992015968\n",
      "Time taken to train the model:  1.5341899394989014\n",
      "Mean Squared Error: 56000627.83486049\n",
      "Root Mean Squared Error: 7483.3567224114395\n",
      "R-squared Score: 0.020762012179007194\n",
      "Value: 56000627.83486049\n",
      "Trying hyperparameters: 0.9960159362549801\n",
      "Time taken to train the model:  1.6140367984771729\n",
      "Mean Squared Error: 55989746.36672418\n",
      "Root Mean Squared Error: 7482.629642493619\n",
      "R-squared Score: 0.02095228767009205\n",
      "Value: 55989746.36672418\n",
      "Trying hyperparameters: 0.9999921875610347\n",
      "Time taken to train the model:  1.3432915210723877\n",
      "Mean Squared Error: 56012064.01726305\n",
      "Root Mean Squared Error: 7484.120791199394\n",
      "R-squared Score: 0.020562036845208187\n",
      "Value: 56012064.01726305\n",
      "Trying hyperparameters: 0.9999843752441367\n",
      "Time taken to train the model:  1.1820998191833496\n",
      "Mean Squared Error: 56012018.779356726\n",
      "Root Mean Squared Error: 7484.117768939551\n",
      "R-squared Score: 0.020562827884131663\n",
      "Value: 56012018.779356726\n",
      "Trying hyperparameters: 0.999968750976532\n",
      "Time taken to train the model:  1.2255964279174805\n",
      "Mean Squared Error: 56011929.39254637\n",
      "Root Mean Squared Error: 7484.111797170482\n",
      "R-squared Score: 0.0205643909194706\n",
      "Value: 56011929.39254637\n",
      "Trying hyperparameters: 0.9999375039060058\n",
      "Time taken to train the model:  1.2429084777832031\n",
      "Mean Squared Error: 56011747.757325664\n",
      "Root Mean Squared Error: 7484.099662439408\n",
      "R-squared Score: 0.020567567028648703\n",
      "Value: 56011747.757325664\n",
      "Trying hyperparameters: 0.9998750156230471\n",
      "Time taken to train the model:  1.2382092475891113\n",
      "Mean Squared Error: 56011371.01277549\n",
      "Root Mean Squared Error: 7484.074492732918\n",
      "R-squared Score: 0.02057415485791958\n",
      "Value: 56011371.01277549\n",
      "Trying hyperparameters: 0.9997500624843788\n",
      "Time taken to train the model:  1.2198710441589355\n",
      "Mean Squared Error: 56010640.90219732\n",
      "Root Mean Squared Error: 7484.025714960987\n",
      "R-squared Score: 0.020586921715026296\n",
      "Value: 56010640.90219732\n",
      "Trying hyperparameters: 0.9995002498750625\n",
      "Time taken to train the model:  1.2450175285339355\n",
      "Mean Squared Error: 56009182.42386123\n",
      "Root Mean Squared Error: 7483.928274900904\n",
      "R-squared Score: 0.02061242495394222\n",
      "Value: 56009182.42386123\n",
      "Trying hyperparameters: 0.9990009990009991\n",
      "Time taken to train the model:  1.302767276763916\n",
      "Mean Squared Error: 56006295.459590904\n",
      "Root Mean Squared Error: 7483.735394813936\n",
      "R-squared Score: 0.020662906978738738\n",
      "Value: 56006295.459590904\n",
      "Trying hyperparameters: 0.998003992015968\n",
      "Time taken to train the model:  1.2321643829345703\n",
      "Mean Squared Error: 56000627.83486049\n",
      "Root Mean Squared Error: 7483.3567224114395\n",
      "R-squared Score: 0.020762012179007194\n",
      "Value: 56000627.83486049\n",
      "Best hyperparameters: 0.9398496240601504\n",
      "Best value: 55868685.77152188\n"
     ]
    },
    {
     "data": {
      "text/plain": "<Figure size 640x480 with 1 Axes>",
      "image/png": "[encoded data removed]"
     },
     "metadata": {},
     "output_type": "display_data"
    },
    {
     "name": "stdout",
     "output_type": "stream",
     "text": [
      "Time taken to train the model:  1.145259141921997\n",
      "Mean Squared Error: 68387676.64274618\n",
      "Root Mean Squared Error: 8269.684192443276\n",
      "R-squared Score: 0.03134081491081331\n"
     ]
    },
    {
     "data": {
      "text/plain": "68387676.64274618"
     },
     "execution_count": 13,
     "metadata": {},
     "output_type": "execute_result"
    }
   ],
   "source": [
    "def get_model(param):\n",
    "    return ScratchLinearRegression(regularization='elasticnet', alpha=param)\n",
    "\n",
    "\n",
    "def iterate_hyperparameters():\n",
    "    l1 = 1\n",
    "    while l1 < 200:\n",
    "        l2 = 0.001\n",
    "        while l2 < 0.5:\n",
    "            yield l1 / (l1 + l2)\n",
    "            l2 *= 2\n",
    "        l1 *= 2\n",
    "\n",
    "\n",
    "best_param, params, accuracies = optimize_hyperparameters(get_model, iterate_hyperparameters(), train, test, val,\n",
    "                                                          classification=False)\n",
    "plot_2d(params, accuracies, 'alpha', 'mse')\n",
    "regressor = ScratchLinearRegression(regularization='elasticnet', alpha=best_param)\n",
    "\n",
    "rmse_LR_EL_my = test_model(regressor, train, test, classification=False)"
   ],
   "metadata": {
    "collapsed": false,
    "ExecuteTime": {
     "end_time": "2023-05-04T16:20:28.189729853Z",
     "start_time": "2023-05-04T16:18:40.758401899Z"
    }
   }
  },
  {
   "cell_type": "code",
   "execution_count": 14,
   "outputs": [
    {
     "name": "stdout",
     "output_type": "stream",
     "text": [
      "Trying hyperparameters: 0.91\n",
      "Time taken to train the model:  1.3808584213256836\n",
      "Mean Squared Error: 55904913.86416126\n",
      "Root Mean Squared Error: 7476.958864682971\n",
      "R-squared Score: 0.022435685487639745\n",
      "Value: 55904913.86416126\n",
      "Trying hyperparameters: 0.92\n",
      "Time taken to train the model:  1.1047961711883545\n",
      "Mean Squared Error: 55887276.51624723\n",
      "Root Mean Squared Error: 7475.779325010018\n",
      "R-squared Score: 0.022744095620697014\n",
      "Value: 55887276.51624723\n",
      "Trying hyperparameters: 0.93\n",
      "Time taken to train the model:  1.0943922996520996\n",
      "Mean Squared Error: 55875007.554799184\n",
      "Root Mean Squared Error: 7474.958699203574\n",
      "R-squared Score: 0.022958633092606373\n",
      "Value: 55875007.554799184\n",
      "Trying hyperparameters: 0.9400000000000001\n",
      "Time taken to train the model:  1.1066339015960693\n",
      "Mean Squared Error: 55868637.835250504\n",
      "Root Mean Squared Error: 7474.5326165085735\n",
      "R-squared Score: 0.023070015260896137\n",
      "Value: 55868637.835250504\n",
      "Trying hyperparameters: 0.9500000000000001\n",
      "Time taken to train the model:  1.271787166595459\n",
      "Mean Squared Error: 55868999.46668706\n",
      "Root Mean Squared Error: 7474.556807375743\n",
      "R-squared Score: 0.02306369170250122\n",
      "Value: 55868999.46668706\n",
      "Trying hyperparameters: 0.96\n",
      "Time taken to train the model:  1.7568812370300293\n",
      "Mean Squared Error: 55877335.58384954\n",
      "Root Mean Squared Error: 7475.114419448678\n",
      "R-squared Score: 0.0229179247189506\n",
      "Value: 55877335.58384954\n",
      "Trying hyperparameters: 0.97\n",
      "Time taken to train the model:  1.7324693202972412\n",
      "Mean Squared Error: 55894795.39734665\n",
      "Root Mean Squared Error: 7476.282190858412\n",
      "R-squared Score: 0.022612618987610356\n",
      "Value: 55894795.39734665\n",
      "Trying hyperparameters: 0.98\n",
      "Time taken to train the model:  1.690969705581665\n",
      "Mean Squared Error: 55921997.89652533\n",
      "Root Mean Squared Error: 7478.10122267179\n",
      "R-squared Score: 0.02213695073906885\n",
      "Value: 55921997.89652533\n",
      "Trying hyperparameters: 0.99\n",
      "Time taken to train the model:  1.564241647720337\n",
      "Mean Squared Error: 55960379.53979073\n",
      "Root Mean Squared Error: 7480.667051793625\n",
      "R-squared Score: 0.021465801779251836\n",
      "Value: 55960379.53979073\n",
      "Best hyperparameters: 0.9400000000000001\n",
      "Best value: 55868637.835250504\n"
     ]
    },
    {
     "data": {
      "text/plain": "<Figure size 640x480 with 1 Axes>",
      "image/png": "[encoded data removed]"
     },
     "metadata": {},
     "output_type": "display_data"
    },
    {
     "name": "stdout",
     "output_type": "stream",
     "text": [
      "Time taken to train the model:  1.1934008598327637\n",
      "Mean Squared Error: 68387703.38223955\n",
      "Root Mean Squared Error: 8269.685809161045\n",
      "R-squared Score: 0.031340436166321206\n"
     ]
    },
    {
     "data": {
      "text/plain": "68387703.38223955"
     },
     "execution_count": 14,
     "metadata": {},
     "output_type": "execute_result"
    }
   ],
   "source": [
    "#Elastic net regularization\n",
    "\n",
    "def get_model(param):\n",
    "    return ScratchLinearRegression(regularization='elasticnet', alpha=param)\n",
    "\n",
    "\n",
    "def iterate_hyperparameters():\n",
    "    # for alpha in range(1,1000,100): #giuliu dice esponenziale tra 0 e 1\n",
    "    #     yield alpha\n",
    "\n",
    "    for a in range(1, 10):\n",
    "        yield 0.9 + a / 100\n",
    "\n",
    "\n",
    "best_param, params, accuracies = optimize_hyperparameters(get_model, iterate_hyperparameters(), train, test, val,\n",
    "                                                          classification=False)\n",
    "plot_2d(params, accuracies, 'alpha', 'mse')\n",
    "regressor = ScratchLinearRegression(regularization='elasticnet', alpha=best_param)\n",
    "\n",
    "rmse_LR_EL_my = test_model(regressor, train, test, classification=False)"
   ],
   "metadata": {
    "collapsed": false,
    "ExecuteTime": {
     "end_time": "2023-05-04T16:20:42.290898654Z",
     "start_time": "2023-05-04T16:20:28.185754070Z"
    }
   }
  },
  {
   "cell_type": "code",
   "execution_count": 19,
   "outputs": [
    {
     "name": "stdout",
     "output_type": "stream",
     "text": [
      "Trying hyperparameters: (0.01, 0.5)\n",
      "Time taken to train the model:  1.8538179397583008\n",
      "Mean Squared Error: 56001486.63726316\n",
      "Root Mean Squared Error: 7483.414103018966\n",
      "R-squared Score: 0.020746994991357015\n",
      "Value: 56001486.63726316\n",
      "Trying hyperparameters: (0.01, 0.6)\n",
      "Time taken to train the model:  1.1796128749847412\n",
      "Mean Squared Error: 56006714.014235385\n",
      "Root Mean Squared Error: 7483.763359048399\n",
      "R-squared Score: 0.020655588049939166\n",
      "Value: 56006714.014235385\n",
      "Trying hyperparameters: (0.01, 0.7)\n",
      "Time taken to train the model:  1.4242687225341797\n",
      "Mean Squared Error: 56012081.66403663\n",
      "Root Mean Squared Error: 7484.1219701469745\n",
      "R-squared Score: 0.02056172827025593\n",
      "Value: 56012081.66403663\n",
      "Trying hyperparameters: (0.01, 0.8)\n",
      "Time taken to train the model:  1.2425601482391357\n",
      "Mean Squared Error: 56017591.62969057\n",
      "Root Mean Squared Error: 7484.490071453804\n",
      "R-squared Score: 0.020465379927593785\n",
      "Value: 56017591.62969057\n",
      "Trying hyperparameters: (0.01, 0.9)\n",
      "Time taken to train the model:  1.1882824897766113\n",
      "Mean Squared Error: 56023245.98219255\n",
      "Root Mean Squared Error: 7484.867799914208\n",
      "R-squared Score: 0.02036650680812102\n",
      "Value: 56023245.98219255\n",
      "Trying hyperparameters: (0.02, 0.5)\n",
      "Time taken to train the model:  1.1364436149597168\n",
      "Mean Squared Error: 55977158.533417664\n",
      "Root Mean Squared Error: 7481.788458210888\n",
      "R-squared Score: 0.021172400998007768\n",
      "Value: 55977158.533417664\n",
      "Trying hyperparameters: (0.02, 0.6)\n",
      "Time taken to train the model:  1.4089787006378174\n",
      "Mean Squared Error: 55986395.332346596\n",
      "Root Mean Squared Error: 7482.405718239729\n",
      "R-squared Score: 0.021010884516018513\n",
      "Value: 55986395.332346596\n",
      "Trying hyperparameters: (0.02, 0.7)\n",
      "Time taken to train the model:  1.800849437713623\n",
      "Mean Squared Error: 55996162.33938469\n",
      "Root Mean Squared Error: 7483.058354669211\n",
      "R-squared Score: 0.020840096710795675\n",
      "Value: 55996162.33938469\n",
      "Trying hyperparameters: (0.02, 0.8)\n",
      "Time taken to train the model:  2.934035301208496\n",
      "Mean Squared Error: 56006477.48683927\n",
      "Root Mean Squared Error: 7483.747556327597\n",
      "R-squared Score: 0.020659724014488012\n",
      "Value: 56006477.48683927\n",
      "Trying hyperparameters: (0.02, 0.9)\n",
      "Time taken to train the model:  1.44484281539917\n",
      "Mean Squared Error: 56017352.78948035\n",
      "Root Mean Squared Error: 7484.474115759927\n",
      "R-squared Score: 0.02046955633446479\n",
      "Value: 56017352.78948035\n",
      "Trying hyperparameters: (0.04, 0.5)\n",
      "Time taken to train the model:  1.223076581954956\n",
      "Mean Squared Error: 55938002.97917989\n",
      "Root Mean Squared Error: 7479.171276229733\n",
      "R-squared Score: 0.021857082717235632\n",
      "Value: 55938002.97917989\n",
      "Trying hyperparameters: (0.04, 0.6)\n",
      "Time taken to train the model:  1.760732650756836\n",
      "Mean Squared Error: 55952046.63706203\n",
      "Root Mean Squared Error: 7480.110068512497\n",
      "R-squared Score: 0.02161151255458127\n",
      "Value: 55952046.63706203\n",
      "Trying hyperparameters: (0.04, 0.7)\n",
      "Time taken to train the model:  2.5125441551208496\n",
      "Mean Squared Error: 55967987.5552532\n",
      "Root Mean Squared Error: 7481.175546346523\n",
      "R-squared Score: 0.021332766525169355\n",
      "Value: 55967987.5552532\n",
      "Trying hyperparameters: (0.04, 0.8)\n",
      "Time taken to train the model:  2.084228992462158\n",
      "Mean Squared Error: 55985933.670282535\n",
      "Root Mean Squared Error: 7482.37486833442\n",
      "R-squared Score: 0.021018957229631652\n",
      "Value: 55985933.670282535\n",
      "Trying hyperparameters: (0.04, 0.9)\n",
      "Time taken to train the model:  1.2820885181427002\n",
      "Mean Squared Error: 56006007.32939549\n",
      "Root Mean Squared Error: 7483.716144362738\n",
      "R-squared Score: 0.020667945279980948\n",
      "Value: 56006007.32939549\n",
      "Trying hyperparameters: (0.08, 0.5)\n",
      "Time taken to train the model:  1.434873104095459\n",
      "Mean Squared Error: 55892231.72222653\n",
      "Root Mean Squared Error: 7476.110735016338\n",
      "R-squared Score: 0.02265744791476909\n",
      "Value: 55892231.72222653\n",
      "Trying hyperparameters: (0.08, 0.6)\n",
      "Time taken to train the model:  1.801579475402832\n",
      "Mean Squared Error: 55905513.44775404\n",
      "Root Mean Squared Error: 7476.998959994179\n",
      "R-squared Score: 0.022425201051060717\n",
      "Value: 55905513.44775404\n",
      "Trying hyperparameters: (0.08, 0.7)\n",
      "Time taken to train the model:  1.4306344985961914\n",
      "Mean Squared Error: 55924933.3621709\n",
      "Root Mean Squared Error: 7478.2974908846\n",
      "R-squared Score: 0.02208562060968966\n",
      "Value: 55924933.3621709\n",
      "Trying hyperparameters: (0.08, 0.8)\n",
      "Time taken to train the model:  1.655165433883667\n",
      "Mean Squared Error: 55951178.916724704\n",
      "Root Mean Squared Error: 7480.052066444772\n",
      "R-squared Score: 0.0216266856829902\n",
      "Value: 55951178.916724704\n",
      "Trying hyperparameters: (0.08, 0.9)\n",
      "Time taken to train the model:  1.2989389896392822\n",
      "Mean Squared Error: 55985020.617181204\n",
      "Root Mean Squared Error: 7482.313854495894\n",
      "R-squared Score: 0.021034923055664123\n",
      "Value: 55985020.617181204\n",
      "Trying hyperparameters: (0.16, 0.5)\n",
      "Time taken to train the model:  1.9120991230010986\n",
      "Mean Squared Error: 55898059.90363465\n",
      "Root Mean Squared Error: 7476.500511846077\n",
      "R-squared Score: 0.022555535188869436\n",
      "Value: 55898059.90363465\n",
      "Trying hyperparameters: (0.16, 0.6)\n",
      "Time taken to train the model:  2.4695944786071777\n",
      "Mean Squared Error: 55882315.2753502\n",
      "Root Mean Squared Error: 7475.447496662003\n",
      "R-squared Score: 0.02283084885438258\n",
      "Value: 55882315.2753502\n",
      "Trying hyperparameters: (0.16, 0.7)\n",
      "Time taken to train the model:  1.8593683242797852\n",
      "Mean Squared Error: 55883076.293112636\n",
      "Root Mean Squared Error: 7475.498397639627\n",
      "R-squared Score: 0.022817541548175613\n",
      "Value: 55883076.293112636\n",
      "Trying hyperparameters: (0.16, 0.8)\n",
      "Time taken to train the model:  2.893733024597168\n",
      "Mean Squared Error: 55903976.79430734\n",
      "Root Mean Squared Error: 7476.896200583992\n",
      "R-squared Score: 0.022452071275329555\n",
      "Value: 55903976.79430734\n",
      "Trying hyperparameters: (0.16, 0.9)\n",
      "Time taken to train the model:  3.271308422088623\n",
      "Mean Squared Error: 55949479.22675798\n",
      "Root Mean Squared Error: 7479.938450733267\n",
      "R-squared Score: 0.02165640679590053\n",
      "Value: 55949479.22675798\n",
      "Trying hyperparameters: (0.32, 0.5)\n",
      "Time taken to train the model:  4.058242321014404\n",
      "Mean Squared Error: 56139567.26610685\n",
      "Root Mean Squared Error: 7492.634200740541\n",
      "R-squared Score: 0.01833248996929393\n",
      "Value: 56139567.26610685\n",
      "Trying hyperparameters: (0.32, 0.6)\n",
      "Time taken to train the model:  1.8220763206481934\n",
      "Mean Squared Error: 56016728.047247484\n",
      "Root Mean Squared Error: 7484.432379763177\n",
      "R-squared Score: 0.02048048069997055\n",
      "Value: 56016728.047247484\n",
      "Trying hyperparameters: (0.32, 0.7)\n",
      "Time taken to train the model:  1.7571334838867188\n",
      "Mean Squared Error: 55925508.05058487\n",
      "Root Mean Squared Error: 7478.335914532381\n",
      "R-squared Score: 0.02207557149510153\n",
      "Value: 55925508.05058487\n",
      "Trying hyperparameters: (0.32, 0.8)\n",
      "Time taken to train the model:  1.4899237155914307\n",
      "Mean Squared Error: 55879871.92289975\n",
      "Root Mean Squared Error: 7475.284069712652\n",
      "R-squared Score: 0.022873573795684554\n",
      "Value: 55879871.92289975\n",
      "Trying hyperparameters: (0.32, 0.9)\n",
      "Time taken to train the model:  1.2956573963165283\n",
      "Mean Squared Error: 55901010.0436664\n",
      "Root Mean Squared Error: 7476.697803420063\n",
      "R-squared Score: 0.02250394846028858\n",
      "Value: 55901010.0436664\n",
      "Trying hyperparameters: (0.64, 0.5)\n",
      "Time taken to train the model:  1.376194953918457\n",
      "Mean Squared Error: 56963519.18202308\n",
      "Root Mean Squared Error: 7547.418047387006\n",
      "R-squared Score: 0.003924704781914423\n",
      "Value: 56963519.18202308\n",
      "Trying hyperparameters: (0.64, 0.6)\n",
      "Time taken to train the model:  1.3246557712554932\n",
      "Mean Squared Error: 56610663.01033048\n",
      "Root Mean Squared Error: 7524.005782183483\n",
      "R-squared Score: 0.010094817170250625\n",
      "Value: 56610663.01033048\n",
      "Trying hyperparameters: (0.64, 0.7)\n",
      "Time taken to train the model:  1.1954381465911865\n",
      "Mean Squared Error: 56282113.2279576\n",
      "Root Mean Squared Error: 7502.140576392687\n",
      "R-squared Score: 0.015839903256402832\n",
      "Value: 56282113.2279576\n",
      "Trying hyperparameters: (0.64, 0.8)\n",
      "Time taken to train the model:  1.4872102737426758\n",
      "Mean Squared Error: 56013605.07439429\n",
      "Root Mean Squared Error: 7484.223745612787\n",
      "R-squared Score: 0.020535089617245483\n",
      "Value: 56013605.07439429\n",
      "Trying hyperparameters: (0.64, 0.9)\n",
      "Time taken to train the model:  1.3352956771850586\n",
      "Mean Squared Error: 55875236.99763788\n",
      "Root Mean Squared Error: 7474.974046619686\n",
      "R-squared Score: 0.022954621010021437\n",
      "Value: 55875236.99763788\n",
      "Trying hyperparameters: (1.28, 0.5)\n",
      "Time taken to train the model:  1.2180016040802002\n",
      "Mean Squared Error: 58640044.14118029\n",
      "Root Mean Squared Error: 7657.678769782674\n",
      "R-squared Score: -0.025391340252045147\n",
      "Value: 58640044.14118029\n",
      "Trying hyperparameters: (1.28, 0.6)\n",
      "Time taken to train the model:  1.1907665729522705\n",
      "Mean Squared Error: 58009276.9746513\n",
      "Root Mean Squared Error: 7616.382144735865\n",
      "R-squared Score: -0.014361621571803873\n",
      "Value: 58009276.9746513\n",
      "Trying hyperparameters: (1.28, 0.7)\n",
      "Time taken to train the model:  1.4496521949768066\n",
      "Mean Squared Error: 57319370.82834936\n",
      "Root Mean Squared Error: 7570.955740746961\n",
      "R-squared Score: -0.002297787064764689\n",
      "Value: 57319370.82834936\n",
      "Trying hyperparameters: (1.28, 0.8)\n",
      "Time taken to train the model:  1.429321527481079\n",
      "Mean Squared Error: 56607772.6616759\n",
      "Root Mean Squared Error: 7523.81370460991\n",
      "R-squared Score: 0.010145358375055591\n",
      "Value: 56607772.6616759\n",
      "Trying hyperparameters: (1.28, 0.9)\n",
      "Time taken to train the model:  1.3809239864349365\n",
      "Mean Squared Error: 56007782.13302331\n",
      "Root Mean Squared Error: 7483.8347211188\n",
      "R-squared Score: 0.02063691071482565\n",
      "Value: 56007782.13302331\n",
      "Trying hyperparameters: (2.56, 0.5)\n",
      "Time taken to train the model:  1.3893134593963623\n",
      "Mean Squared Error: 60920183.56778435\n",
      "Root Mean Squared Error: 7805.138279863102\n",
      "R-squared Score: -0.06526230653198306\n",
      "Value: 60920183.56778435\n",
      "Trying hyperparameters: (2.56, 0.6)\n",
      "Time taken to train the model:  1.269221544265747\n",
      "Mean Squared Error: 60159341.45303201\n",
      "Root Mean Squared Error: 7756.2453192915455\n",
      "R-squared Score: -0.05195807173489109\n",
      "Value: 60159341.45303201\n",
      "Trying hyperparameters: (2.56, 0.7)\n",
      "Time taken to train the model:  1.2241663932800293\n",
      "Mean Squared Error: 59206276.81214376\n",
      "Root Mean Squared Error: 7694.5615087634305\n",
      "R-squared Score: -0.03529259605560253\n",
      "Value: 59206276.81214376\n",
      "Trying hyperparameters: (2.56, 0.8)\n",
      "Time taken to train the model:  1.1485984325408936\n",
      "Mean Squared Error: 58008646.57787679\n",
      "Root Mean Squared Error: 7616.340760357089\n",
      "R-squared Score: -0.01435059832987129\n",
      "Value: 58008646.57787679\n",
      "Trying hyperparameters: (2.56, 0.9)\n",
      "Time taken to train the model:  1.2800097465515137\n",
      "Mean Squared Error: 56602511.85826471\n",
      "Root Mean Squared Error: 7523.464086327834\n",
      "R-squared Score: 0.010237349817756813\n",
      "Value: 56602511.85826471\n",
      "Trying hyperparameters: (5.12, 0.5)\n",
      "Time taken to train the model:  1.3638484477996826\n",
      "Mean Squared Error: 63154665.69615499\n",
      "Root Mean Squared Error: 7946.990983772096\n",
      "R-squared Score: -0.1043349003189682\n",
      "Value: 63154665.69615499\n",
      "Trying hyperparameters: (5.12, 0.6)\n",
      "Time taken to train the model:  1.5926134586334229\n",
      "Mean Squared Error: 62478544.18999298\n",
      "Root Mean Squared Error: 7904.337049366821\n",
      "R-squared Score: -0.09251210673942123\n",
      "Value: 62478544.18999298\n",
      "Trying hyperparameters: (5.12, 0.7)\n",
      "Time taken to train the model:  1.30717134475708\n",
      "Mean Squared Error: 61541515.58872233\n",
      "Root Mean Squared Error: 7844.840061385722\n",
      "R-squared Score: -0.07612704040150775\n",
      "Value: 61541515.58872233\n",
      "Trying hyperparameters: (5.12, 0.8)\n",
      "Time taken to train the model:  1.1009931564331055\n",
      "Mean Squared Error: 60162748.01637984\n",
      "Root Mean Squared Error: 7756.464917498167\n",
      "R-squared Score: -0.052017639571307894\n",
      "Value: 60162748.01637984\n",
      "Trying hyperparameters: (5.12, 0.9)\n",
      "Time taken to train the model:  1.1943120956420898\n",
      "Mean Squared Error: 58007988.7197098\n",
      "Root Mean Squared Error: 7616.297572949064\n",
      "R-squared Score: -0.014339094892630966\n",
      "Value: 58007988.7197098\n",
      "Trying hyperparameters: (10.24, 0.5)\n",
      "Time taken to train the model:  1.1762523651123047\n",
      "Mean Squared Error: 64880797.32953644\n",
      "Root Mean Squared Error: 8054.861720075425\n",
      "R-squared Score: -0.13451837741088757\n",
      "Value: 64880797.32953644\n",
      "Trying hyperparameters: (10.24, 0.6)\n",
      "Time taken to train the model:  1.3916873931884766\n",
      "Mean Squared Error: 64395026.44762521\n",
      "Root Mean Squared Error: 8024.651172956069\n",
      "R-squared Score: -0.1260240922691651\n",
      "Value: 64395026.44762521\n",
      "Trying hyperparameters: (10.24, 0.7)\n",
      "Time taken to train the model:  1.323089838027954\n",
      "Mean Squared Error: 63673876.780765474\n",
      "Root Mean Squared Error: 7979.591266522708\n",
      "R-squared Score: -0.11341392741930045\n",
      "Value: 63673876.780765474\n",
      "Trying hyperparameters: (10.24, 0.8)\n",
      "Time taken to train the model:  1.608048915863037\n",
      "Mean Squared Error: 62487235.514864154\n",
      "Root Mean Squared Error: 7904.886812274048\n",
      "R-squared Score: -0.09266408495479839\n",
      "Value: 62487235.514864154\n",
      "Trying hyperparameters: (10.24, 0.9)\n",
      "Time taken to train the model:  2.2476720809936523\n",
      "Mean Squared Error: 60169955.26371504\n",
      "Root Mean Squared Error: 7756.929499725716\n",
      "R-squared Score: -0.052143666915127396\n",
      "Value: 60169955.26371504\n",
      "Trying hyperparameters: (20.48, 0.5)\n",
      "Time taken to train the model:  1.746173620223999\n",
      "Mean Squared Error: 66014768.67593345\n",
      "Root Mean Squared Error: 8124.9473029634755\n",
      "R-squared Score: -0.15434722330824058\n",
      "Value: 66014768.67593345\n",
      "Trying hyperparameters: (20.48, 0.6)\n",
      "Time taken to train the model:  1.5850493907928467\n",
      "Mean Squared Error: 65712695.092047416\n",
      "Root Mean Squared Error: 8106.336724565999\n",
      "R-squared Score: -0.14906510523394467\n",
      "Value: 65712695.092047416\n",
      "Trying hyperparameters: (20.48, 0.7)\n",
      "Time taken to train the model:  1.6331229209899902\n",
      "Mean Squared Error: 65243125.18209746\n",
      "Root Mean Squared Error: 8077.321658947194\n",
      "R-squared Score: -0.1408541134729837\n",
      "Value: 65243125.18209746\n",
      "Trying hyperparameters: (20.48, 0.8)\n",
      "Time taken to train the model:  1.4549620151519775\n",
      "Mean Squared Error: 64410268.25858718\n",
      "Root Mean Squared Error: 8025.60080359017\n",
      "R-squared Score: -0.12629061357212557\n",
      "Value: 64410268.25858718\n",
      "Trying hyperparameters: (20.48, 0.9)\n",
      "Time taken to train the model:  1.6135406494140625\n",
      "Mean Squared Error: 62506440.212661825\n",
      "Root Mean Squared Error: 7906.101454741257\n",
      "R-squared Score: -0.09299990207605568\n",
      "Value: 62506440.212661825\n",
      "Trying hyperparameters: (40.96, 0.5)\n",
      "Time taken to train the model:  3.4942171573638916\n",
      "Mean Squared Error: 66682456.72818962\n",
      "Root Mean Squared Error: 8165.932691872351\n",
      "R-squared Score: -0.16602254785480652\n",
      "Value: 66682456.72818962\n",
      "Trying hyperparameters: (40.96, 0.6)\n",
      "Time taken to train the model:  1.6991870403289795\n",
      "Mean Squared Error: 66513078.18641699\n",
      "Root Mean Squared Error: 8155.555050786978\n",
      "R-squared Score: -0.16306076137422298\n",
      "Value: 66513078.18641699\n",
      "Trying hyperparameters: (40.96, 0.7)\n",
      "Time taken to train the model:  1.5015184879302979\n",
      "Mean Squared Error: 66241410.76638899\n",
      "Root Mean Squared Error: 8138.882648520556\n",
      "R-squared Score: -0.1583103314588794\n",
      "Value: 66241410.76638899\n",
      "Trying hyperparameters: (40.96, 0.8)\n",
      "Time taken to train the model:  1.6879265308380127\n",
      "Mean Squared Error: 65734462.63001727\n",
      "Root Mean Squared Error: 8107.679238229474\n",
      "R-squared Score: -0.149445736682297\n",
      "Value: 65734462.63001727\n",
      "Trying hyperparameters: (40.96, 0.9)\n",
      "Time taken to train the model:  1.3895537853240967\n",
      "Mean Squared Error: 64444031.39469331\n",
      "Root Mean Squared Error: 8027.703992717551\n",
      "R-squared Score: -0.12688100240777556\n",
      "Value: 64444031.39469331\n",
      "Trying hyperparameters: (81.92, 0.5)\n",
      "Time taken to train the model:  1.6090388298034668\n",
      "Mean Squared Error: 67048679.13639354\n",
      "Root Mean Squared Error: 8188.3257834794\n",
      "R-squared Score: -0.1724263848825287\n",
      "Value: 67048679.13639354\n",
      "Trying hyperparameters: (81.92, 0.6)\n",
      "Time taken to train the model:  1.9140582084655762\n",
      "Mean Squared Error: 66961261.29526091\n",
      "Root Mean Squared Error: 8182.986086708257\n",
      "R-squared Score: -0.17089777932648365\n",
      "Value: 66961261.29526091\n",
      "Trying hyperparameters: (81.92, 0.7)\n",
      "Time taken to train the model:  1.369211196899414\n",
      "Mean Squared Error: 66816962.30170312\n",
      "Root Mean Squared Error: 8174.164318247042\n",
      "R-squared Score: -0.16837453875652408\n",
      "Value: 66816962.30170312\n",
      "Trying hyperparameters: (81.92, 0.8)\n",
      "Time taken to train the model:  1.3852660655975342\n",
      "Mean Squared Error: 66539055.65471655\n",
      "Root Mean Squared Error: 8157.147519489675\n",
      "R-squared Score: -0.16351500849197587\n",
      "Value: 66539055.65471655\n",
      "Trying hyperparameters: (81.92, 0.9)\n",
      "Time taken to train the model:  1.3276879787445068\n",
      "Mean Squared Error: 65779163.55302099\n",
      "Root Mean Squared Error: 8110.435472465149\n",
      "R-squared Score: -0.15022738580996342\n",
      "Value: 65779163.55302099\n",
      "Best hyperparameters: (0.64, 0.9)\n",
      "Best value: 55875236.99763788\n"
     ]
    },
    {
     "data": {
      "text/plain": "<Figure size 640x480 with 1 Axes>",
      "image/png": "[encoded data removed]"
     },
     "metadata": {},
     "output_type": "display_data"
    },
    {
     "name": "stdout",
     "output_type": "stream",
     "text": [
      "Time taken to train the model:  2.4938156604766846\n",
      "Mean Squared Error: 68390149.31812192\n",
      "Root Mean Squared Error: 8269.833693498433\n",
      "R-squared Score: 0.031305791353470114\n"
     ]
    },
    {
     "data": {
      "text/plain": "68390149.31812192"
     },
     "execution_count": 19,
     "metadata": {},
     "output_type": "execute_result"
    }
   ],
   "source": [
    "#Elastic net regularization\n",
    "\n",
    "def get_model(param):\n",
    "    a, b = param\n",
    "    return ScratchLinearRegression(regularization='elasticnetV2', alpha=a, l1_ratio=b)\n",
    "\n",
    "\n",
    "def iterate_hyperparameters():\n",
    "    # for alpha in range(1,1000,100): #giuliu dice esponenziale tra 0 e 1\n",
    "    #     yield alpha\n",
    "\n",
    "    a = 0.01\n",
    "    while a < 100:\n",
    "        for b in range(5, 10):\n",
    "            yield a, b / 10\n",
    "        a *= 2\n",
    "\n",
    "\n",
    "best_param, params, accuracies = optimize_hyperparameters(get_model, iterate_hyperparameters(), train, test, val,\n",
    "                                                          classification=False)\n",
    "plot_2d(params, accuracies, 'alpha', 'mse')\n",
    "a, b = best_param\n",
    "regressor = ScratchLinearRegression(regularization='elasticnetV2', alpha=a, l1_ratio=b)\n",
    "\n",
    "rmse_LR_EL_my = test_model(regressor, train, test, classification=False)"
   ],
   "metadata": {
    "collapsed": false,
    "ExecuteTime": {
     "end_time": "2023-05-04T16:31:19.915005247Z",
     "start_time": "2023-05-04T16:29:22.764265043Z"
    }
   }
  },
  {
   "cell_type": "code",
   "execution_count": null,
   "outputs": [],
   "source": [],
   "metadata": {
    "collapsed": false
   }
  }
 ],
 "metadata": {
  "colab": {
   "provenance": []
  },
  "kernelspec": {
   "name": "python3",
   "language": "python",
   "display_name": "Python 3 (ipykernel)"
  },
  "language_info": {
   "name": "python"
  }
 },
 "nbformat": 4,
 "nbformat_minor": 0
}
