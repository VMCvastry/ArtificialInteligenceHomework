{
 "cells": [
  {
   "cell_type": "code",
   "execution_count": 1,
   "outputs": [],
   "source": [
    "from utils import *"
   ],
   "metadata": {
    "collapsed": false,
    "ExecuteTime": {
     "end_time": "2023-05-24T22:18:46.966443862Z",
     "start_time": "2023-05-24T22:18:46.139336291Z"
    }
   }
  },
  {
   "cell_type": "markdown",
   "source": [
    "# KNN classification"
   ],
   "metadata": {
    "collapsed": false
   }
  },
  {
   "cell_type": "code",
   "execution_count": 7,
   "outputs": [],
   "source": [
    "df, train, test, val = get_data(normalize=False, binary_label=True)  # best normalized"
   ],
   "metadata": {
    "collapsed": false,
    "ExecuteTime": {
     "end_time": "2023-05-24T22:19:57.207267955Z",
     "start_time": "2023-05-24T22:19:56.957588545Z"
    }
   }
  },
  {
   "cell_type": "code",
   "execution_count": 3,
   "outputs": [],
   "source": [
    "\n",
    "from scipy.spatial.distance import cdist\n",
    "\n",
    "\n",
    "class ScratchKNeighbors:\n",
    "    def __init__(self, classification, n_neighbors=5):\n",
    "        self.n_neighbors = n_neighbors\n",
    "        self.X_train = None\n",
    "        self.y_train = None\n",
    "        self.classification = classification\n",
    "\n",
    "    def fit(self, X_train, y_train):\n",
    "        self.X_train = X_train\n",
    "        self.y_train = y_train\n",
    "\n",
    "    def predict(self, X_test):\n",
    "        distances = cdist(X_test, self.X_train)\n",
    "        nearest_indices = np.argsort(distances, axis=1)[:, :self.n_neighbors]\n",
    "        nearest_targets = self.y_train[nearest_indices]\n",
    "        predictions = np.mean(nearest_targets, axis=1)\n",
    "        if self.classification:  #Majority vote is useless\n",
    "            return predictions >= 0.5\n",
    "        return predictions"
   ],
   "metadata": {
    "collapsed": false,
    "ExecuteTime": {
     "end_time": "2023-05-24T22:19:13.015904628Z",
     "start_time": "2023-05-24T22:19:12.989854722Z"
    }
   }
  },
  {
   "cell_type": "markdown",
   "source": [
    "## Sklearn"
   ],
   "metadata": {
    "collapsed": false
   }
  },
  {
   "cell_type": "code",
   "execution_count": 8,
   "outputs": [
    {
     "name": "stdout",
     "output_type": "stream",
     "text": [
      "Time taken to train the model:  0.0025610923767089844\n",
      "Binary cross entropy: 15.382989414651588\n",
      "Accuracy: 0.5732122587968218\n"
     ]
    },
    {
     "data": {
      "text/plain": "0.5732122587968218"
     },
     "execution_count": 8,
     "metadata": {},
     "output_type": "execute_result"
    }
   ],
   "source": [
    "from sklearn.neighbors import KNeighborsClassifier\n",
    "\n",
    "regressor = KNeighborsClassifier(n_neighbors=5)\n",
    "\n",
    "test_model(regressor, train, test, classification=True)"
   ],
   "metadata": {
    "collapsed": false,
    "ExecuteTime": {
     "end_time": "2023-05-24T22:19:59.821474416Z",
     "start_time": "2023-05-24T22:19:59.356230330Z"
    }
   }
  },
  {
   "cell_type": "code",
   "execution_count": 9,
   "outputs": [
    {
     "name": "stdout",
     "output_type": "stream",
     "text": [
      "Trying hyperparameters: 1\n",
      "Time taken to train the model:  0.003071308135986328\n",
      "Binary cross entropy: 16.22333760459238\n",
      "Accuracy: 0.5498975248305218\n",
      "Value: 0.5498975248305218\n",
      "Trying hyperparameters: 6\n",
      "Time taken to train the model:  0.0017962455749511719\n",
      "Binary cross entropy: 15.75169591591246\n",
      "Accuracy: 0.5629828157023491\n",
      "Value: 0.5629828157023491\n",
      "Trying hyperparameters: 11\n",
      "Time taken to train the model:  0.0026748180389404297\n",
      "Binary cross entropy: 15.353925817025784\n",
      "Accuracy: 0.574018603184613\n",
      "Value: 0.574018603184613\n",
      "Trying hyperparameters: 16\n",
      "Time taken to train the model:  0.0017845630645751953\n",
      "Binary cross entropy: 15.348243387041688\n",
      "Accuracy: 0.5741762572915025\n",
      "Value: 0.5741762572915025\n",
      "Trying hyperparameters: 21\n",
      "Time taken to train the model:  0.0017838478088378906\n",
      "Binary cross entropy: 15.155040767582445\n",
      "Accuracy: 0.5795364969257449\n",
      "Value: 0.5795364969257449\n",
      "Trying hyperparameters: 26\n",
      "Time taken to train the model:  0.0017366409301757812\n",
      "Binary cross entropy: 15.149358337598349\n",
      "Accuracy: 0.5796941510326344\n",
      "Value: 0.5796941510326344\n",
      "Trying hyperparameters: 31\n",
      "Time taken to train the model:  0.0017218589782714844\n",
      "Binary cross entropy: 14.717493658807099\n",
      "Accuracy: 0.5916758631562352\n",
      "Value: 0.5916758631562352\n",
      "Trying hyperparameters: 36\n",
      "Time taken to train the model:  0.0017747879028320312\n",
      "Binary cross entropy: 14.967520578107298\n",
      "Accuracy: 0.5847390824530979\n",
      "Value: 0.5847390824530979\n",
      "Trying hyperparameters: 41\n",
      "Time taken to train the model:  0.0016999244689941406\n",
      "Binary cross entropy: 14.995932728027771\n",
      "Accuracy: 0.5839508119186505\n",
      "Value: 0.5839508119186505\n",
      "Trying hyperparameters: 46\n",
      "Time taken to train the model:  0.0017049312591552734\n",
      "Binary cross entropy: 14.88796655832996\n",
      "Accuracy: 0.5869462399495506\n",
      "Value: 0.5869462399495506\n",
      "Trying hyperparameters: 51\n",
      "Time taken to train the model:  0.0018117427825927734\n",
      "Binary cross entropy: 15.012980017980057\n",
      "Accuracy: 0.583477849597982\n",
      "Value: 0.583477849597982\n",
      "Trying hyperparameters: 56\n",
      "Time taken to train the model:  0.0017361640930175781\n",
      "Binary cross entropy: 14.882284128345864\n",
      "Accuracy: 0.5871038940564401\n",
      "Value: 0.5871038940564401\n",
      "Trying hyperparameters: 61\n",
      "Time taken to train the model:  0.0017464160919189453\n",
      "Binary cross entropy: 14.92206113823453\n",
      "Accuracy: 0.5860003153082137\n",
      "Value: 0.5860003153082137\n",
      "Trying hyperparameters: 66\n",
      "Time taken to train the model:  0.0017447471618652344\n",
      "Binary cross entropy: 14.967520578107294\n",
      "Accuracy: 0.5847390824530979\n",
      "Value: 0.5847390824530979\n",
      "Trying hyperparameters: 71\n",
      "Time taken to train the model:  0.001798868179321289\n",
      "Binary cross entropy: 14.899331418298148\n",
      "Accuracy: 0.5866309317357717\n",
      "Value: 0.5866309317357717\n",
      "Trying hyperparameters: 76\n",
      "Time taken to train the model:  0.0018162727355957031\n",
      "Binary cross entropy: 14.86523683839358\n",
      "Accuracy: 0.5875768563771087\n",
      "Value: 0.5875768563771087\n",
      "Trying hyperparameters: 81\n",
      "Time taken to train the model:  0.0018658638000488281\n",
      "Binary cross entropy: 14.853871978425389\n",
      "Accuracy: 0.5878921645908876\n",
      "Value: 0.5878921645908876\n",
      "Trying hyperparameters: 86\n",
      "Time taken to train the model:  0.0018036365509033203\n",
      "Binary cross entropy: 14.802730108568527\n",
      "Accuracy: 0.589311051552893\n",
      "Value: 0.589311051552893\n",
      "Trying hyperparameters: 91\n",
      "Time taken to train the model:  0.0018277168273925781\n",
      "Binary cross entropy: 14.842507118457197\n",
      "Accuracy: 0.5882074728046666\n",
      "Value: 0.5882074728046666\n",
      "Trying hyperparameters: 96\n",
      "Time taken to train the model:  0.0018000602722167969\n",
      "Binary cross entropy: 14.927743568218627\n",
      "Accuracy: 0.5858426612013243\n",
      "Value: 0.5858426612013243\n",
      "Best hyperparameters: 31\n",
      "Best value: 0.5916758631562352\n"
     ]
    },
    {
     "data": {
      "text/plain": "<Figure size 640x480 with 1 Axes>",
      "image/png": "[encoded data removed]"
     },
     "metadata": {},
     "output_type": "display_data"
    },
    {
     "name": "stdout",
     "output_type": "stream",
     "text": [
      "Time taken to train the model:  0.002134561538696289\n",
      "Binary cross entropy: 14.751123123683334\n",
      "Accuracy: 0.5907428427292218\n"
     ]
    },
    {
     "data": {
      "text/plain": "0.5907428427292218"
     },
     "execution_count": 9,
     "metadata": {},
     "output_type": "execute_result"
    }
   ],
   "source": [
    "def get_model(param):\n",
    "    return KNeighborsClassifier(n_neighbors=param)\n",
    "\n",
    "\n",
    "best_param, params, accuracies = optimize_hyperparameters(get_model, range(1, 100, 5), train, test, val,\n",
    "                                                          classification=True)\n",
    "plot_2d(params, accuracies, 'k', 'accuracy')\n",
    "best_model = get_model(best_param)\n",
    "\n",
    "accuracy_KNN_sk = test_model(best_model, train, test, classification=True)"
   ],
   "metadata": {
    "collapsed": false,
    "ExecuteTime": {
     "end_time": "2023-05-24T22:20:30.223943570Z",
     "start_time": "2023-05-24T22:20:19.781764424Z"
    }
   }
  },
  {
   "cell_type": "code",
   "execution_count": 10,
   "outputs": [
    {
     "name": "stdout",
     "output_type": "stream",
     "text": [
      "Time taken to train the model:  3.337860107421875e-06\n",
      "Binary cross entropy: 15.382989414651588\n",
      "Accuracy: 0.5732122587968218\n"
     ]
    },
    {
     "data": {
      "text/plain": "0.5732122587968218"
     },
     "execution_count": 10,
     "metadata": {},
     "output_type": "execute_result"
    }
   ],
   "source": [
    "regressor = ScratchKNeighbors(classification=True, n_neighbors=5)\n",
    "accuracy_KNN_my = test_model(regressor, train, test, classification=True)"
   ],
   "metadata": {
    "collapsed": false,
    "ExecuteTime": {
     "end_time": "2023-05-24T22:23:08.943969370Z",
     "start_time": "2023-05-24T22:22:37.806454963Z"
    }
   }
  },
  {
   "cell_type": "markdown",
   "source": [
    "# KNN regression"
   ],
   "metadata": {
    "collapsed": false
   }
  },
  {
   "cell_type": "code",
   "execution_count": 18,
   "outputs": [],
   "source": [
    "df, train, test, val = get_data(normalize=False, binary_label=False)\n"
   ],
   "metadata": {
    "collapsed": false,
    "ExecuteTime": {
     "end_time": "2023-05-24T22:26:31.115852740Z",
     "start_time": "2023-05-24T22:26:30.892636455Z"
    }
   }
  },
  {
   "cell_type": "markdown",
   "source": [
    "## Sklearn"
   ],
   "metadata": {
    "collapsed": false
   }
  },
  {
   "cell_type": "code",
   "execution_count": 19,
   "outputs": [
    {
     "name": "stdout",
     "output_type": "stream",
     "text": [
      "Time taken to train the model:  0.0016429424285888672\n",
      "Root Mean Squared Error: 9314.63167163207\n"
     ]
    },
    {
     "data": {
      "text/plain": "9314.63167163207"
     },
     "execution_count": 19,
     "metadata": {},
     "output_type": "execute_result"
    }
   ],
   "source": [
    "from sklearn.neighbors import KNeighborsRegressor\n",
    "\n",
    "regressor = KNeighborsRegressor(n_neighbors=5)\n",
    "\n",
    "test_model(regressor, train, test, classification=False)"
   ],
   "metadata": {
    "collapsed": false,
    "ExecuteTime": {
     "end_time": "2023-05-24T22:26:33.811955283Z",
     "start_time": "2023-05-24T22:26:33.479812870Z"
    }
   }
  },
  {
   "cell_type": "code",
   "execution_count": 20,
   "outputs": [
    {
     "name": "stdout",
     "output_type": "stream",
     "text": [
      "Trying hyperparameters: 1\n",
      "Time taken to train the model:  0.0016160011291503906\n",
      "Root Mean Squared Error: 15225.924163065538\n",
      "Value: 15225.924163065538\n",
      "Trying hyperparameters: 6\n",
      "Time taken to train the model:  0.001226663589477539\n",
      "Root Mean Squared Error: 8490.828485311627\n",
      "Value: 8490.828485311627\n",
      "Trying hyperparameters: 11\n",
      "Time taken to train the model:  0.0011429786682128906\n",
      "Root Mean Squared Error: 8055.688675956313\n",
      "Value: 8055.688675956313\n",
      "Trying hyperparameters: 16\n",
      "Time taken to train the model:  0.0012941360473632812\n",
      "Root Mean Squared Error: 7846.124723319356\n",
      "Value: 7846.124723319356\n",
      "Trying hyperparameters: 21\n",
      "Time taken to train the model:  0.0011665821075439453\n",
      "Root Mean Squared Error: 7810.077348671558\n",
      "Value: 7810.077348671558\n",
      "Trying hyperparameters: 26\n",
      "Time taken to train the model:  0.0012354850769042969\n",
      "Root Mean Squared Error: 7724.9434767499315\n",
      "Value: 7724.9434767499315\n",
      "Trying hyperparameters: 31\n",
      "Time taken to train the model:  0.001165628433227539\n",
      "Root Mean Squared Error: 7675.776523096333\n",
      "Value: 7675.776523096333\n",
      "Trying hyperparameters: 36\n",
      "Time taken to train the model:  0.001173257827758789\n",
      "Root Mean Squared Error: 7659.318775177681\n",
      "Value: 7659.318775177681\n",
      "Trying hyperparameters: 41\n",
      "Time taken to train the model:  0.0012645721435546875\n",
      "Root Mean Squared Error: 7655.872870933114\n",
      "Value: 7655.872870933114\n",
      "Trying hyperparameters: 46\n",
      "Time taken to train the model:  0.0012431144714355469\n",
      "Root Mean Squared Error: 7654.611729896056\n",
      "Value: 7654.611729896056\n",
      "Trying hyperparameters: 51\n",
      "Time taken to train the model:  0.0011146068572998047\n",
      "Root Mean Squared Error: 7646.41236296792\n",
      "Value: 7646.41236296792\n",
      "Trying hyperparameters: 56\n",
      "Time taken to train the model:  0.0011508464813232422\n",
      "Root Mean Squared Error: 7630.551842669096\n",
      "Value: 7630.551842669096\n",
      "Trying hyperparameters: 61\n",
      "Time taken to train the model:  0.0010917186737060547\n",
      "Root Mean Squared Error: 7612.116000591583\n",
      "Value: 7612.116000591583\n",
      "Trying hyperparameters: 66\n",
      "Time taken to train the model:  0.0011620521545410156\n",
      "Root Mean Squared Error: 7606.758982113714\n",
      "Value: 7606.758982113714\n",
      "Trying hyperparameters: 71\n",
      "Time taken to train the model:  0.001186370849609375\n",
      "Root Mean Squared Error: 7598.617012346292\n",
      "Value: 7598.617012346292\n",
      "Trying hyperparameters: 76\n",
      "Time taken to train the model:  0.0011279582977294922\n",
      "Root Mean Squared Error: 7596.518864322459\n",
      "Value: 7596.518864322459\n",
      "Trying hyperparameters: 81\n",
      "Time taken to train the model:  0.0011179447174072266\n",
      "Root Mean Squared Error: 7599.180549460687\n",
      "Value: 7599.180549460687\n",
      "Trying hyperparameters: 86\n",
      "Time taken to train the model:  0.0011124610900878906\n",
      "Root Mean Squared Error: 7598.348712398022\n",
      "Value: 7598.348712398022\n",
      "Trying hyperparameters: 91\n",
      "Time taken to train the model:  0.001149892807006836\n",
      "Root Mean Squared Error: 7595.773667727118\n",
      "Value: 7595.773667727118\n",
      "Trying hyperparameters: 96\n",
      "Time taken to train the model:  0.0010275840759277344\n",
      "Root Mean Squared Error: 7595.637524678116\n",
      "Value: 7595.637524678116\n",
      "Best hyperparameters: 96\n",
      "Best value: 7595.637524678116\n"
     ]
    },
    {
     "data": {
      "text/plain": "<Figure size 640x480 with 1 Axes>",
      "image/png": "[encoded data removed]"
     },
     "metadata": {},
     "output_type": "display_data"
    },
    {
     "name": "stdout",
     "output_type": "stream",
     "text": [
      "Time taken to train the model:  0.001542806625366211\n",
      "Root Mean Squared Error: 9314.63167163207\n"
     ]
    }
   ],
   "source": [
    "def get_model(param):\n",
    "    return KNeighborsRegressor(n_neighbors=param)\n",
    "\n",
    "\n",
    "best_param, params, accuracies = optimize_hyperparameters(get_model, range(1, 100, 5), train, test, val,\n",
    "                                                          classification=False)\n",
    "plot_2d(params, accuracies, 'k', 'mse')\n",
    "best_model = get_model(best_param)\n",
    "\n",
    "rmse_KNN_sk = test_model(regressor, train, test, classification=False)"
   ],
   "metadata": {
    "collapsed": false,
    "ExecuteTime": {
     "end_time": "2023-05-24T22:26:46.998522359Z",
     "start_time": "2023-05-24T22:26:38.354632706Z"
    }
   }
  },
  {
   "cell_type": "code",
   "execution_count": 21,
   "outputs": [
    {
     "name": "stdout",
     "output_type": "stream",
     "text": [
      "Time taken to train the model:  2.1457672119140625e-06\n",
      "Root Mean Squared Error: 9314.63167163207\n"
     ]
    },
    {
     "data": {
      "text/plain": "9314.63167163207"
     },
     "execution_count": 21,
     "metadata": {},
     "output_type": "execute_result"
    }
   ],
   "source": [
    "regressor = ScratchKNeighbors(classification=False, n_neighbors=5)\n",
    "rmse_KNN_my = test_model(regressor, train, test, classification=False)\n"
   ],
   "metadata": {
    "collapsed": false,
    "ExecuteTime": {
     "end_time": "2023-05-24T22:27:19.419951895Z",
     "start_time": "2023-05-24T22:26:52.676488825Z"
    }
   }
  },
  {
   "cell_type": "code",
   "execution_count": 30,
   "outputs": [
    {
     "ename": "ValueError",
     "evalue": "operands could not be broadcast together with shapes (58,) (31715,) (58,) ",
     "output_type": "error",
     "traceback": [
      "\u001B[0;31m---------------------------------------------------------------------------\u001B[0m",
      "\u001B[0;31mValueError\u001B[0m                                Traceback (most recent call last)",
      "Cell \u001B[0;32mIn[30], line 32\u001B[0m\n\u001B[1;32m     28\u001B[0m     \u001B[38;5;28;01mreturn\u001B[39;00m np\u001B[38;5;241m.\u001B[39mexp(\u001B[38;5;241m-\u001B[39mdistances \u001B[38;5;241m*\u001B[39m\u001B[38;5;241m*\u001B[39m \u001B[38;5;241m2\u001B[39m \u001B[38;5;241m/\u001B[39m (\u001B[38;5;241m2\u001B[39m \u001B[38;5;241m*\u001B[39m sigma \u001B[38;5;241m*\u001B[39m\u001B[38;5;241m*\u001B[39m \u001B[38;5;241m2\u001B[39m))\n\u001B[1;32m     30\u001B[0m regressor \u001B[38;5;241m=\u001B[39m ScratchLocallyWeightedLinearRegression(num_iter\u001B[38;5;241m=\u001B[39m\u001B[38;5;241m100\u001B[39m, lr\u001B[38;5;241m=\u001B[39m\u001B[38;5;241m0.01\u001B[39m, kernel_func\u001B[38;5;241m=\u001B[39mgaussian_kernel, kernel_func_params\u001B[38;5;241m=\u001B[39m{\u001B[38;5;124m'\u001B[39m\u001B[38;5;124msigma\u001B[39m\u001B[38;5;124m'\u001B[39m: \u001B[38;5;241m1\u001B[39m})\n\u001B[0;32m---> 32\u001B[0m \u001B[43mtest_model\u001B[49m\u001B[43m(\u001B[49m\u001B[43mregressor\u001B[49m\u001B[43m,\u001B[49m\u001B[43m \u001B[49m\u001B[43mtrain_x\u001B[49m\u001B[43m,\u001B[49m\u001B[43m \u001B[49m\u001B[43mtrain_y\u001B[49m\u001B[43m,\u001B[49m\u001B[43m \u001B[49m\u001B[43mtest_x\u001B[49m\u001B[43m,\u001B[49m\u001B[43m \u001B[49m\u001B[43mtest_y\u001B[49m\u001B[43m)\u001B[49m\n",
      "Cell \u001B[0;32mIn[12], line 3\u001B[0m, in \u001B[0;36mtest_model\u001B[0;34m(model, train_x, train_y, test_x, test_y, classification)\u001B[0m\n\u001B[1;32m      1\u001B[0m \u001B[38;5;28;01mdef\u001B[39;00m \u001B[38;5;21mtest_model\u001B[39m(model, train_x, train_y, test_x, test_y,classification\u001B[38;5;241m=\u001B[39m\u001B[38;5;28;01mFalse\u001B[39;00m):\n\u001B[1;32m      2\u001B[0m     time_start \u001B[38;5;241m=\u001B[39m time\u001B[38;5;241m.\u001B[39mtime()\n\u001B[0;32m----> 3\u001B[0m     \u001B[43mmodel\u001B[49m\u001B[38;5;241;43m.\u001B[39;49m\u001B[43mfit\u001B[49m\u001B[43m(\u001B[49m\u001B[43mtrain_x\u001B[49m\u001B[43m,\u001B[49m\u001B[43m \u001B[49m\u001B[43mtrain_y\u001B[49m\u001B[43m)\u001B[49m\n\u001B[1;32m      4\u001B[0m     \u001B[38;5;28mprint\u001B[39m(\u001B[38;5;124m\"\u001B[39m\u001B[38;5;124mTime taken to train the model: \u001B[39m\u001B[38;5;124m\"\u001B[39m, time\u001B[38;5;241m.\u001B[39mtime() \u001B[38;5;241m-\u001B[39m time_start)\n\u001B[1;32m      5\u001B[0m     pred \u001B[38;5;241m=\u001B[39m model\u001B[38;5;241m.\u001B[39mpredict(test_x)\n",
      "Cell \u001B[0;32mIn[30], line 21\u001B[0m, in \u001B[0;36mScratchLocallyWeightedLinearRegression.fit\u001B[0;34m(self, X, y)\u001B[0m\n\u001B[1;32m     16\u001B[0m k\u001B[38;5;241m=\u001B[39m\u001B[38;5;28mself\u001B[39m\u001B[38;5;241m.\u001B[39mkernel_func(x, X, \u001B[38;5;28mself\u001B[39m\u001B[38;5;241m.\u001B[39mkernel_func_params)\n\u001B[1;32m     18\u001B[0m \u001B[38;5;66;03m# self.w += self.lr * error * k\u001B[39;00m\n\u001B[1;32m     19\u001B[0m \u001B[38;5;66;03m# self.w+=self.lr *error * np.dot(k,x)\u001B[39;00m\n\u001B[0;32m---> 21\u001B[0m \u001B[38;5;28mself\u001B[39m\u001B[38;5;241m.\u001B[39mw \u001B[38;5;241m+\u001B[39m\u001B[38;5;241m=\u001B[39m \u001B[38;5;28mself\u001B[39m\u001B[38;5;241m.\u001B[39mlr \u001B[38;5;241m*\u001B[39m np\u001B[38;5;241m.\u001B[39mdot(error,k )\n",
      "\u001B[0;31mValueError\u001B[0m: operands could not be broadcast together with shapes (58,) (31715,) (58,) "
     ]
    }
   ],
   "source": [
    "class ScratchLocallyWeightedLinearRegression:\n",
    "    def __init__(self, num_iter, lr, kernel_func, kernel_func_params):\n",
    "        self.num_iter = num_iter\n",
    "        self.lr = lr\n",
    "        self.kernel_func = kernel_func\n",
    "        self.kernel_func_params = kernel_func_params\n",
    "        self.w = None\n",
    "\n",
    "    def fit(self, X, y):\n",
    "        self.w = np.random.rand(X.shape[1])\n",
    "        for i in range(self.num_iter):\n",
    "            for j in range(X.shape[0]):\n",
    "                x = X[j]\n",
    "                y_pred = self.predict(x)\n",
    "                error = y[j] - y_pred\n",
    "                k = self.kernel_func(x, X, self.kernel_func_params)\n",
    "\n",
    "                # self.w += self.lr * error * k\n",
    "                # self.w+=self.lr *error * np.dot(k,x)\n",
    "\n",
    "                self.w += self.lr * np.dot(error, k)\n",
    "\n",
    "    def predict(self, X):\n",
    "        return np.dot(X, self.w)\n",
    "\n",
    "\n",
    "def gaussian_kernel(x, X, params):\n",
    "    sigma = params['sigma']\n",
    "    distances = np.linalg.norm(x - X, axis=1)\n",
    "    return np.exp(-distances ** 2 / (2 * sigma ** 2))\n",
    "\n",
    "\n",
    "regressor = ScratchLocallyWeightedLinearRegression(num_iter=100, lr=0.01, kernel_func=gaussian_kernel,\n",
    "                                                   kernel_func_params={'sigma': 1})\n",
    "\n",
    "test_model(regressor, train_x, train_y, test_x, test_y)"
   ],
   "metadata": {
    "collapsed": false,
    "ExecuteTime": {
     "start_time": "2023-04-03T23:57:14.711652Z",
     "end_time": "2023-04-03T23:57:23.152157Z"
    }
   }
  },
  {
   "cell_type": "markdown",
   "source": [],
   "metadata": {
    "collapsed": false
   }
  }
 ],
 "metadata": {
  "colab": {
   "provenance": []
  },
  "kernelspec": {
   "name": "python3",
   "language": "python",
   "display_name": "Python 3 (ipykernel)"
  },
  "language_info": {
   "name": "python"
  }
 },
 "nbformat": 4,
 "nbformat_minor": 0
}
