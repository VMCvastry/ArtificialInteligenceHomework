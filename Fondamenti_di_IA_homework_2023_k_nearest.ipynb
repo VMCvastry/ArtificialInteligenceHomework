{
 "cells": [
  {
   "cell_type": "code",
   "execution_count": 6,
   "outputs": [],
   "source": [
    "from utils import *"
   ],
   "metadata": {
    "collapsed": false,
    "ExecuteTime": {
     "end_time": "2023-05-05T00:30:19.429265228Z",
     "start_time": "2023-05-05T00:30:19.422416150Z"
    }
   }
  },
  {
   "cell_type": "code",
   "execution_count": 25,
   "outputs": [],
   "source": [
    "df, train, test, val = get_data(normalize=False, binary_label=True)"
   ],
   "metadata": {
    "collapsed": false,
    "ExecuteTime": {
     "end_time": "2023-05-05T00:48:35.049796078Z",
     "start_time": "2023-05-05T00:48:34.541320120Z"
    }
   }
  },
  {
   "cell_type": "code",
   "execution_count": 12,
   "outputs": [
    {
     "name": "stdout",
     "output_type": "stream",
     "text": [
      "Time taken to train the model:  0.0071773529052734375\n",
      "Binary cross entropy: 14.155623237950662\n",
      "Predicted mean: 0.5101526043637281 Actual mean: 0.5353764661369655\n",
      "Accuracy: 0.6072644721906924\n"
     ]
    },
    {
     "data": {
      "text/plain": "0.6072644721906924"
     },
     "execution_count": 12,
     "metadata": {},
     "output_type": "execute_result"
    }
   ],
   "source": [
    "from sklearn.neighbors import KNeighborsClassifier\n",
    "\n",
    "regressor = KNeighborsClassifier(n_neighbors=5)\n",
    "\n",
    "test_model(regressor, train, test, classification=True)"
   ],
   "metadata": {
    "collapsed": false,
    "ExecuteTime": {
     "end_time": "2023-05-05T00:32:24.627835867Z",
     "start_time": "2023-05-05T00:32:23.724526799Z"
    }
   }
  },
  {
   "cell_type": "code",
   "execution_count": 26,
   "outputs": [
    {
     "name": "stdout",
     "output_type": "stream",
     "text": [
      "Trying hyperparameters: 1\n",
      "Time taken to train the model:  0.003627777099609375\n",
      "Binary cross entropy: 16.22333760459238\n",
      "Predicted mean: 0.5251458300488727 Actual mean: 0.527825949865994\n",
      "Accuracy: 0.5498975248305218\n",
      "Value: 0.5498975248305218\n",
      "Trying hyperparameters: 6\n",
      "Time taken to train the model:  0.006171703338623047\n",
      "Binary cross entropy: 15.75169591591246\n",
      "Predicted mean: 0.41431499290556517 Actual mean: 0.527825949865994\n",
      "Accuracy: 0.5629828157023491\n",
      "Value: 0.5629828157023491\n",
      "Trying hyperparameters: 11\n",
      "Time taken to train the model:  0.001811981201171875\n",
      "Binary cross entropy: 15.353925817025784\n",
      "Predicted mean: 0.5489516001891849 Actual mean: 0.527825949865994\n",
      "Accuracy: 0.574018603184613\n",
      "Value: 0.574018603184613\n",
      "Trying hyperparameters: 16\n",
      "Time taken to train the model:  0.0018622875213623047\n",
      "Binary cross entropy: 15.348243387041688\n",
      "Predicted mean: 0.48289452940249095 Actual mean: 0.527825949865994\n",
      "Accuracy: 0.5741762572915025\n",
      "Value: 0.5741762572915025\n",
      "Trying hyperparameters: 21\n",
      "Time taken to train the model:  0.002010822296142578\n",
      "Binary cross entropy: 15.155040767582445\n",
      "Predicted mean: 0.5642440485574649 Actual mean: 0.527825949865994\n",
      "Accuracy: 0.5795364969257449\n",
      "Value: 0.5795364969257449\n",
      "Trying hyperparameters: 26\n",
      "Time taken to train the model:  0.0019490718841552734\n",
      "Binary cross entropy: 15.149358337598349\n",
      "Predicted mean: 0.5218350938041936 Actual mean: 0.527825949865994\n",
      "Accuracy: 0.5796941510326344\n",
      "Value: 0.5796941510326344\n",
      "Trying hyperparameters: 31\n",
      "Time taken to train the model:  0.0017468929290771484\n",
      "Binary cross entropy: 14.717493658807099\n",
      "Predicted mean: 0.5713384833674917 Actual mean: 0.527825949865994\n",
      "Accuracy: 0.5916758631562352\n",
      "Value: 0.5916758631562352\n",
      "Trying hyperparameters: 36\n",
      "Time taken to train the model:  0.001737833023071289\n",
      "Binary cross entropy: 14.967520578107298\n",
      "Predicted mean: 0.5341321141415734 Actual mean: 0.527825949865994\n",
      "Accuracy: 0.5847390824530979\n",
      "Value: 0.5847390824530979\n",
      "Trying hyperparameters: 41\n",
      "Time taken to train the model:  0.0017004013061523438\n",
      "Binary cross entropy: 14.995932728027771\n",
      "Predicted mean: 0.5680277471228126 Actual mean: 0.527825949865994\n",
      "Accuracy: 0.5839508119186505\n",
      "Value: 0.5839508119186505\n",
      "Trying hyperparameters: 46\n",
      "Time taken to train the model:  0.001882791519165039\n",
      "Binary cross entropy: 14.88796655832996\n",
      "Predicted mean: 0.5394923537758158 Actual mean: 0.527825949865994\n",
      "Accuracy: 0.5869462399495506\n",
      "Value: 0.5869462399495506\n",
      "Trying hyperparameters: 51\n",
      "Time taken to train the model:  0.0020596981048583984\n",
      "Binary cross entropy: 15.012980017980057\n",
      "Predicted mean: 0.5678700930159231 Actual mean: 0.527825949865994\n",
      "Accuracy: 0.583477849597982\n",
      "Value: 0.583477849597982\n",
      "Trying hyperparameters: 56\n",
      "Time taken to train the model:  0.002500772476196289\n",
      "Binary cross entropy: 14.882284128345864\n",
      "Predicted mean: 0.5469020967996217 Actual mean: 0.527825949865994\n",
      "Accuracy: 0.5871038940564401\n",
      "Value: 0.5871038940564401\n",
      "Trying hyperparameters: 61\n",
      "Time taken to train the model:  0.001855611801147461\n",
      "Binary cross entropy: 14.92206113823453\n",
      "Predicted mean: 0.5719690997950496 Actual mean: 0.527825949865994\n",
      "Accuracy: 0.5860003153082137\n",
      "Value: 0.5860003153082137\n",
      "Trying hyperparameters: 66\n",
      "Time taken to train the model:  0.0016868114471435547\n",
      "Binary cross entropy: 14.967520578107294\n",
      "Predicted mean: 0.5476903673340691 Actual mean: 0.527825949865994\n",
      "Accuracy: 0.5847390824530979\n",
      "Value: 0.5847390824530979\n",
      "Trying hyperparameters: 71\n",
      "Time taken to train the model:  0.001692056655883789\n",
      "Binary cross entropy: 14.899331418298148\n",
      "Predicted mean: 0.5700772505123759 Actual mean: 0.527825949865994\n",
      "Accuracy: 0.5866309317357717\n",
      "Value: 0.5866309317357717\n",
      "Trying hyperparameters: 76\n",
      "Time taken to train the model:  0.0016722679138183594\n",
      "Binary cross entropy: 14.86523683839358\n",
      "Predicted mean: 0.5517893741131956 Actual mean: 0.527825949865994\n",
      "Accuracy: 0.5875768563771087\n",
      "Value: 0.5875768563771087\n",
      "Trying hyperparameters: 81\n",
      "Time taken to train the model:  0.0018589496612548828\n",
      "Binary cross entropy: 14.853871978425389\n",
      "Predicted mean: 0.5757527983603973 Actual mean: 0.527825949865994\n",
      "Accuracy: 0.5878921645908876\n",
      "Value: 0.5878921645908876\n",
      "Trying hyperparameters: 86\n",
      "Time taken to train the model:  0.002225160598754883\n",
      "Binary cross entropy: 14.802730108568527\n",
      "Predicted mean: 0.5563613432129907 Actual mean: 0.527825949865994\n",
      "Accuracy: 0.589311051552893\n",
      "Value: 0.589311051552893\n",
      "Trying hyperparameters: 91\n",
      "Time taken to train the model:  0.0019927024841308594\n",
      "Binary cross entropy: 14.842507118457197\n",
      "Predicted mean: 0.5735456408639446 Actual mean: 0.527825949865994\n",
      "Accuracy: 0.5882074728046666\n",
      "Value: 0.5882074728046666\n",
      "Trying hyperparameters: 96\n",
      "Time taken to train the model:  0.0018270015716552734\n",
      "Binary cross entropy: 14.927743568218627\n",
      "Predicted mean: 0.5566766514267697 Actual mean: 0.527825949865994\n",
      "Accuracy: 0.5858426612013243\n",
      "Value: 0.5858426612013243\n",
      "Best hyperparameters: 31\n",
      "Best value: 0.5916758631562352\n"
     ]
    },
    {
     "data": {
      "text/plain": "<Figure size 640x480 with 1 Axes>",
      "image/png": "[encoded data removed]"
     },
     "metadata": {},
     "output_type": "display_data"
    },
    {
     "name": "stdout",
     "output_type": "stream",
     "text": [
      "Time taken to train the model:  0.002452373504638672\n",
      "Binary cross entropy: 14.751123123683334\n",
      "Predicted mean: 0.5718249463992937 Actual mean: 0.5353764661369655\n",
      "Accuracy: 0.5907428427292218\n"
     ]
    },
    {
     "data": {
      "text/plain": "0.5907428427292218"
     },
     "execution_count": 26,
     "metadata": {},
     "output_type": "execute_result"
    }
   ],
   "source": [
    "def get_model(param):\n",
    "    return KNeighborsClassifier(n_neighbors=param)\n",
    "\n",
    "best_param, params, accuracies = optimize_hyperparameters(get_model, range(1,100,5), train, test, val,\n",
    "                                                          classification=True)\n",
    "plot_2d(params, accuracies, 'k', 'accuracy')\n",
    "regressor = KNeighborsClassifier(n_neighbors=best_param)\n",
    "\n",
    "test_model(regressor, train, test, classification=True)"
   ],
   "metadata": {
    "collapsed": false,
    "ExecuteTime": {
     "end_time": "2023-05-05T00:48:48.901194545Z",
     "start_time": "2023-05-05T00:48:37.085443717Z"
    }
   }
  },
  {
   "cell_type": "code",
   "execution_count": 27,
   "outputs": [],
   "source": [
    "\n",
    "from scipy.spatial.distance import cdist\n",
    "\n",
    "\n",
    "class ScratchKNeighbors:\n",
    "    def __init__(self, classification, n_neighbors=5):\n",
    "        self.n_neighbors = n_neighbors\n",
    "        self.X_train = None\n",
    "        self.y_train = None\n",
    "        self.classification = classification\n",
    "\n",
    "    def fit(self, X_train, y_train):\n",
    "        self.X_train = X_train\n",
    "        self.y_train = y_train\n",
    "\n",
    "    def predict(self, X_test):\n",
    "        distances = cdist(X_test, self.X_train)\n",
    "        nearest_indices = np.argsort(distances, axis=1)[:, :self.n_neighbors]\n",
    "        nearest_targets = self.y_train[nearest_indices]\n",
    "        predictions = np.mean(nearest_targets, axis=1)\n",
    "        if self.classification:  #Majority vote is useless\n",
    "            return predictions >= 0.5\n",
    "        return predictions\n"
   ],
   "metadata": {
    "collapsed": false,
    "ExecuteTime": {
     "end_time": "2023-05-05T00:49:39.464460241Z",
     "start_time": "2023-05-05T00:49:39.404247921Z"
    }
   }
  },
  {
   "cell_type": "code",
   "execution_count": 29,
   "outputs": [
    {
     "name": "stdout",
     "output_type": "stream",
     "text": [
      "Time taken to train the model:  5.0067901611328125e-06\n",
      "Binary cross entropy: 15.382989414651588\n",
      "Predicted mean: 0.5419346701980073 Actual mean: 0.5353764661369655\n",
      "Accuracy: 0.5732122587968218\n"
     ]
    },
    {
     "data": {
      "text/plain": "0.5732122587968218"
     },
     "execution_count": 29,
     "metadata": {},
     "output_type": "execute_result"
    }
   ],
   "source": [
    "regressor = ScratchKNeighbors(classification=True, n_neighbors=5)\n",
    "test_model(regressor, train, test, classification=True)"
   ],
   "metadata": {
    "collapsed": false,
    "ExecuteTime": {
     "end_time": "2023-05-05T00:50:58.726003160Z",
     "start_time": "2023-05-05T00:50:33.374827692Z"
    }
   }
  },
  {
   "cell_type": "code",
   "execution_count": 30,
   "outputs": [],
   "source": [
    "df, train, test, val = get_data(normalize=False, binary_label=False)\n"
   ],
   "metadata": {
    "collapsed": false,
    "ExecuteTime": {
     "end_time": "2023-05-05T00:51:18.182457745Z",
     "start_time": "2023-05-05T00:51:17.802475960Z"
    }
   }
  },
  {
   "cell_type": "code",
   "execution_count": 31,
   "outputs": [
    {
     "name": "stdout",
     "output_type": "stream",
     "text": [
      "Time taken to train the model:  0.0025200843811035156\n",
      "Mean Squared Error: 86762363.17817126\n",
      "Root Mean Squared Error: 9314.63167163207\n",
      "R-squared Score: -0.22892257989135567\n"
     ]
    },
    {
     "data": {
      "text/plain": "86762363.17817126"
     },
     "execution_count": 31,
     "metadata": {},
     "output_type": "execute_result"
    }
   ],
   "source": [
    "from sklearn.neighbors import KNeighborsRegressor\n",
    "\n",
    "regressor = KNeighborsRegressor(n_neighbors=5)\n",
    "\n",
    "test_model(regressor, train, test, classification=False)"
   ],
   "metadata": {
    "collapsed": false,
    "ExecuteTime": {
     "end_time": "2023-05-05T00:51:24.108896580Z",
     "start_time": "2023-05-05T00:51:23.340066468Z"
    }
   }
  },
  {
   "cell_type": "code",
   "execution_count": 32,
   "outputs": [
    {
     "name": "stdout",
     "output_type": "stream",
     "text": [
      "Trying hyperparameters: 1\n",
      "Time taken to train the model:  0.0027136802673339844\n",
      "Mean Squared Error: 231828766.61942297\n",
      "Root Mean Squared Error: 15225.924163065538\n",
      "R-squared Score: -3.053803389720369\n",
      "Value: 231828766.61942297\n",
      "Trying hyperparameters: 6\n",
      "Time taken to train the model:  0.0010716915130615234\n",
      "Mean Squared Error: 72094168.36697935\n",
      "Root Mean Squared Error: 8490.828485311627\n",
      "R-squared Score: -0.26065280149166026\n",
      "Value: 72094168.36697935\n",
      "Trying hyperparameters: 11\n",
      "Time taken to train the model:  0.0011839866638183594\n",
      "Mean Squared Error: 64894120.043930784\n",
      "Root Mean Squared Error: 8055.688675956313\n",
      "R-squared Score: -0.13475134101397956\n",
      "Value: 64894120.043930784\n",
      "Trying hyperparameters: 16\n",
      "Time taken to train the model:  0.0012631416320800781\n",
      "Mean Squared Error: 61561673.173883244\n",
      "Root Mean Squared Error: 7846.124723319356\n",
      "R-squared Score: -0.07647951989853241\n",
      "Value: 61561673.173883244\n",
      "Trying hyperparameters: 21\n",
      "Time taken to train the model:  0.0014309883117675781\n",
      "Mean Squared Error: 60997308.19223255\n",
      "Root Mean Squared Error: 7810.077348671558\n",
      "R-squared Score: -0.0666109228774785\n",
      "Value: 60997308.19223255\n",
      "Trying hyperparameters: 26\n",
      "Time taken to train the model:  0.0013301372528076172\n",
      "Mean Squared Error: 59674751.718981326\n",
      "Root Mean Squared Error: 7724.9434767499315\n",
      "R-squared Score: -0.04348444037686705\n",
      "Value: 59674751.718981326\n",
      "Trying hyperparameters: 31\n",
      "Time taken to train the model:  0.0013573169708251953\n",
      "Mean Squared Error: 58917545.23251684\n",
      "Root Mean Squared Error: 7675.776523096333\n",
      "R-squared Score: -0.03024377889076657\n",
      "Value: 58917545.23251684\n",
      "Trying hyperparameters: 36\n",
      "Time taken to train the model:  0.0012705326080322266\n",
      "Mean Squared Error: 58665164.09978934\n",
      "Root Mean Squared Error: 7659.318775177681\n",
      "R-squared Score: -0.025830592786766804\n",
      "Value: 58665164.09978934\n",
      "Trying hyperparameters: 41\n",
      "Time taken to train the model:  0.0014667510986328125\n",
      "Mean Squared Error: 58612389.41588965\n",
      "Root Mean Squared Error: 7655.872870933114\n",
      "R-squared Score: -0.024907764288804035\n",
      "Value: 58612389.41588965\n",
      "Trying hyperparameters: 46\n",
      "Time taken to train the model:  0.001430511474609375\n",
      "Mean Squared Error: 58593080.7354623\n",
      "Root Mean Squared Error: 7654.611729896056\n",
      "R-squared Score: -0.024570128906841626\n",
      "Value: 58593080.7354623\n",
      "Trying hyperparameters: 51\n",
      "Time taken to train the model:  0.0013194084167480469\n",
      "Mean Squared Error: 58467622.02454864\n",
      "Root Mean Squared Error: 7646.41236296792\n",
      "R-squared Score: -0.022376333223121936\n",
      "Value: 58467622.02454864\n",
      "Trying hyperparameters: 56\n",
      "Time taken to train the model:  0.0013360977172851562\n",
      "Mean Squared Error: 58225321.42366073\n",
      "Root Mean Squared Error: 7630.551842669096\n",
      "R-squared Score: -0.01813941728066193\n",
      "Value: 58225321.42366073\n",
      "Trying hyperparameters: 61\n",
      "Time taken to train the model:  0.0013766288757324219\n",
      "Mean Squared Error: 57944310.00646239\n",
      "Root Mean Squared Error: 7612.116000591583\n",
      "R-squared Score: -0.01322559639380505\n",
      "Value: 57944310.00646239\n",
      "Trying hyperparameters: 66\n",
      "Time taken to train the model:  0.0013473033905029297\n",
      "Mean Squared Error: 57862782.21196768\n",
      "Root Mean Squared Error: 7606.758982113714\n",
      "R-squared Score: -0.011799985351230724\n",
      "Value: 57862782.21196768\n",
      "Trying hyperparameters: 71\n",
      "Time taken to train the model:  0.0011858940124511719\n",
      "Mean Squared Error: 57738980.50031848\n",
      "Root Mean Squared Error: 7598.617012346292\n",
      "R-squared Score: -0.009635164282408848\n",
      "Value: 57738980.50031848\n",
      "Trying hyperparameters: 76\n",
      "Time taken to train the model:  0.001336812973022461\n",
      "Mean Squared Error: 57707098.85600699\n",
      "Root Mean Squared Error: 7596.518864322459\n",
      "R-squared Score: -0.009077675582173761\n",
      "Value: 57707098.85600699\n",
      "Trying hyperparameters: 81\n",
      "Time taken to train the model:  0.001386404037475586\n",
      "Mean Squared Error: 57747545.023301624\n",
      "Root Mean Squared Error: 7599.180549460687\n",
      "R-squared Score: -0.00978492521504326\n",
      "Value: 57747545.023301624\n",
      "Trying hyperparameters: 86\n",
      "Time taken to train the model:  0.0013990402221679688\n",
      "Mean Squared Error: 57734903.155200675\n",
      "Root Mean Squared Error: 7598.348712398022\n",
      "R-squared Score: -0.009563867024088957\n",
      "Value: 57734903.155200675\n",
      "Trying hyperparameters: 91\n",
      "Time taken to train the model:  0.0012443065643310547\n",
      "Mean Squared Error: 57695777.61133667\n",
      "Root Mean Squared Error: 7595.773667727118\n",
      "R-squared Score: -0.00887971007215671\n",
      "Value: 57695777.61133667\n",
      "Trying hyperparameters: 96\n",
      "Time taken to train the model:  0.0011110305786132812\n",
      "Mean Squared Error: 57693709.4062983\n",
      "Root Mean Squared Error: 7595.637524678116\n",
      "R-squared Score: -0.00884354503225504\n",
      "Value: 57693709.4062983\n",
      "Best hyperparameters: 96\n",
      "Best value: 57693709.4062983\n"
     ]
    },
    {
     "data": {
      "text/plain": "<Figure size 640x480 with 1 Axes>",
      "image/png": "[encoded data removed]"
     },
     "metadata": {},
     "output_type": "display_data"
    },
    {
     "name": "stdout",
     "output_type": "stream",
     "text": [
      "Time taken to train the model:  0.001337289810180664\n",
      "Mean Squared Error: 70729278.91917223\n",
      "Root Mean Squared Error: 8410.070090027326\n",
      "R-squared Score: -0.0018261921325006814\n"
     ]
    },
    {
     "data": {
      "text/plain": "70729278.91917223"
     },
     "execution_count": 32,
     "metadata": {},
     "output_type": "execute_result"
    }
   ],
   "source": [
    "def get_model(param):\n",
    "    return KNeighborsRegressor(n_neighbors=param)\n",
    "\n",
    "best_param, params, accuracies = optimize_hyperparameters(get_model, range(1,100,5), train, test, val,\n",
    "                                                          classification=False)\n",
    "plot_2d(params, accuracies, 'k', 'mse')\n",
    "regressor = KNeighborsRegressor(n_neighbors=best_param)\n",
    "\n",
    "test_model(regressor, train, test, classification=False)"
   ],
   "metadata": {
    "collapsed": false,
    "ExecuteTime": {
     "end_time": "2023-05-05T00:52:12.699999565Z",
     "start_time": "2023-05-05T00:52:03.154632062Z"
    }
   }
  },
  {
   "cell_type": "code",
   "execution_count": 22,
   "outputs": [
    {
     "name": "stdout",
     "output_type": "stream",
     "text": [
      "Time taken to train the model:  5.0067901611328125e-06\n",
      "Mean Squared Error: 86762363.17817126\n",
      "Root Mean Squared Error: 9314.63167163207\n",
      "R-squared Score: -0.22892257989135567\n"
     ]
    },
    {
     "data": {
      "text/plain": "86762363.17817126"
     },
     "execution_count": 22,
     "metadata": {},
     "output_type": "execute_result"
    }
   ],
   "source": [
    "regressor = ScratchKNeighbors(classification=False)\n",
    "test_model(regressor, train, test, classification=False)\n"
   ],
   "metadata": {
    "collapsed": false,
    "ExecuteTime": {
     "end_time": "2023-05-05T00:39:31.914854260Z",
     "start_time": "2023-05-05T00:39:04.865837288Z"
    }
   }
  },
  {
   "cell_type": "code",
   "execution_count": 30,
   "outputs": [
    {
     "ename": "ValueError",
     "evalue": "operands could not be broadcast together with shapes (58,) (31715,) (58,) ",
     "output_type": "error",
     "traceback": [
      "\u001B[0;31m---------------------------------------------------------------------------\u001B[0m",
      "\u001B[0;31mValueError\u001B[0m                                Traceback (most recent call last)",
      "Cell \u001B[0;32mIn[30], line 32\u001B[0m\n\u001B[1;32m     28\u001B[0m     \u001B[38;5;28;01mreturn\u001B[39;00m np\u001B[38;5;241m.\u001B[39mexp(\u001B[38;5;241m-\u001B[39mdistances \u001B[38;5;241m*\u001B[39m\u001B[38;5;241m*\u001B[39m \u001B[38;5;241m2\u001B[39m \u001B[38;5;241m/\u001B[39m (\u001B[38;5;241m2\u001B[39m \u001B[38;5;241m*\u001B[39m sigma \u001B[38;5;241m*\u001B[39m\u001B[38;5;241m*\u001B[39m \u001B[38;5;241m2\u001B[39m))\n\u001B[1;32m     30\u001B[0m regressor \u001B[38;5;241m=\u001B[39m ScratchLocallyWeightedLinearRegression(num_iter\u001B[38;5;241m=\u001B[39m\u001B[38;5;241m100\u001B[39m, lr\u001B[38;5;241m=\u001B[39m\u001B[38;5;241m0.01\u001B[39m, kernel_func\u001B[38;5;241m=\u001B[39mgaussian_kernel, kernel_func_params\u001B[38;5;241m=\u001B[39m{\u001B[38;5;124m'\u001B[39m\u001B[38;5;124msigma\u001B[39m\u001B[38;5;124m'\u001B[39m: \u001B[38;5;241m1\u001B[39m})\n\u001B[0;32m---> 32\u001B[0m \u001B[43mtest_model\u001B[49m\u001B[43m(\u001B[49m\u001B[43mregressor\u001B[49m\u001B[43m,\u001B[49m\u001B[43m \u001B[49m\u001B[43mtrain_x\u001B[49m\u001B[43m,\u001B[49m\u001B[43m \u001B[49m\u001B[43mtrain_y\u001B[49m\u001B[43m,\u001B[49m\u001B[43m \u001B[49m\u001B[43mtest_x\u001B[49m\u001B[43m,\u001B[49m\u001B[43m \u001B[49m\u001B[43mtest_y\u001B[49m\u001B[43m)\u001B[49m\n",
      "Cell \u001B[0;32mIn[12], line 3\u001B[0m, in \u001B[0;36mtest_model\u001B[0;34m(model, train_x, train_y, test_x, test_y, classification)\u001B[0m\n\u001B[1;32m      1\u001B[0m \u001B[38;5;28;01mdef\u001B[39;00m \u001B[38;5;21mtest_model\u001B[39m(model, train_x, train_y, test_x, test_y,classification\u001B[38;5;241m=\u001B[39m\u001B[38;5;28;01mFalse\u001B[39;00m):\n\u001B[1;32m      2\u001B[0m     time_start \u001B[38;5;241m=\u001B[39m time\u001B[38;5;241m.\u001B[39mtime()\n\u001B[0;32m----> 3\u001B[0m     \u001B[43mmodel\u001B[49m\u001B[38;5;241;43m.\u001B[39;49m\u001B[43mfit\u001B[49m\u001B[43m(\u001B[49m\u001B[43mtrain_x\u001B[49m\u001B[43m,\u001B[49m\u001B[43m \u001B[49m\u001B[43mtrain_y\u001B[49m\u001B[43m)\u001B[49m\n\u001B[1;32m      4\u001B[0m     \u001B[38;5;28mprint\u001B[39m(\u001B[38;5;124m\"\u001B[39m\u001B[38;5;124mTime taken to train the model: \u001B[39m\u001B[38;5;124m\"\u001B[39m, time\u001B[38;5;241m.\u001B[39mtime() \u001B[38;5;241m-\u001B[39m time_start)\n\u001B[1;32m      5\u001B[0m     pred \u001B[38;5;241m=\u001B[39m model\u001B[38;5;241m.\u001B[39mpredict(test_x)\n",
      "Cell \u001B[0;32mIn[30], line 21\u001B[0m, in \u001B[0;36mScratchLocallyWeightedLinearRegression.fit\u001B[0;34m(self, X, y)\u001B[0m\n\u001B[1;32m     16\u001B[0m k\u001B[38;5;241m=\u001B[39m\u001B[38;5;28mself\u001B[39m\u001B[38;5;241m.\u001B[39mkernel_func(x, X, \u001B[38;5;28mself\u001B[39m\u001B[38;5;241m.\u001B[39mkernel_func_params)\n\u001B[1;32m     18\u001B[0m \u001B[38;5;66;03m# self.w += self.lr * error * k\u001B[39;00m\n\u001B[1;32m     19\u001B[0m \u001B[38;5;66;03m# self.w+=self.lr *error * np.dot(k,x)\u001B[39;00m\n\u001B[0;32m---> 21\u001B[0m \u001B[38;5;28mself\u001B[39m\u001B[38;5;241m.\u001B[39mw \u001B[38;5;241m+\u001B[39m\u001B[38;5;241m=\u001B[39m \u001B[38;5;28mself\u001B[39m\u001B[38;5;241m.\u001B[39mlr \u001B[38;5;241m*\u001B[39m np\u001B[38;5;241m.\u001B[39mdot(error,k )\n",
      "\u001B[0;31mValueError\u001B[0m: operands could not be broadcast together with shapes (58,) (31715,) (58,) "
     ]
    }
   ],
   "source": [
    "class ScratchLocallyWeightedLinearRegression:\n",
    "    def __init__(self, num_iter, lr, kernel_func, kernel_func_params):\n",
    "        self.num_iter = num_iter\n",
    "        self.lr = lr\n",
    "        self.kernel_func = kernel_func\n",
    "        self.kernel_func_params = kernel_func_params\n",
    "        self.w = None\n",
    "\n",
    "    def fit(self, X, y):\n",
    "        self.w = np.random.rand(X.shape[1])\n",
    "        for i in range(self.num_iter):\n",
    "            for j in range(X.shape[0]):\n",
    "                x = X[j]\n",
    "                y_pred = self.predict(x)\n",
    "                error = y[j] - y_pred\n",
    "                k = self.kernel_func(x, X, self.kernel_func_params)\n",
    "\n",
    "                # self.w += self.lr * error * k\n",
    "                # self.w+=self.lr *error * np.dot(k,x)\n",
    "\n",
    "                self.w += self.lr * np.dot(error, k)\n",
    "\n",
    "    def predict(self, X):\n",
    "        return np.dot(X, self.w)\n",
    "\n",
    "\n",
    "def gaussian_kernel(x, X, params):\n",
    "    sigma = params['sigma']\n",
    "    distances = np.linalg.norm(x - X, axis=1)\n",
    "    return np.exp(-distances ** 2 / (2 * sigma ** 2))\n",
    "\n",
    "\n",
    "regressor = ScratchLocallyWeightedLinearRegression(num_iter=100, lr=0.01, kernel_func=gaussian_kernel,\n",
    "                                                   kernel_func_params={'sigma': 1})\n",
    "\n",
    "test_model(regressor, train_x, train_y, test_x, test_y)"
   ],
   "metadata": {
    "collapsed": false,
    "ExecuteTime": {
     "start_time": "2023-04-03T23:57:14.711652Z",
     "end_time": "2023-04-03T23:57:23.152157Z"
    }
   }
  },
  {
   "cell_type": "markdown",
   "source": [],
   "metadata": {
    "collapsed": false
   }
  }
 ],
 "metadata": {
  "colab": {
   "provenance": []
  },
  "kernelspec": {
   "name": "python3",
   "language": "python",
   "display_name": "Python 3 (ipykernel)"
  },
  "language_info": {
   "name": "python"
  }
 },
 "nbformat": 4,
 "nbformat_minor": 0
}
