{
 "cells": [
  {
   "cell_type": "code",
   "execution_count": 25,
   "outputs": [],
   "source": [
    "from utils import *"
   ],
   "metadata": {
    "collapsed": false,
    "ExecuteTime": {
     "end_time": "2023-05-27T12:43:50.686575402Z",
     "start_time": "2023-05-27T12:43:50.640932809Z"
    }
   }
  },
  {
   "cell_type": "markdown",
   "source": [
    "# KNN\n",
    "Since hyperparameter optimization would be extremely slow with the non-optimized version of KNN the parameters will be chosen using the sklearn implementation and then tested on the one from scratch.\n",
    "For the classification normalized data will be used, on the contrary for regression the data will not be normalized."
   ],
   "metadata": {
    "collapsed": false
   }
  },
  {
   "cell_type": "code",
   "execution_count": 39,
   "outputs": [],
   "source": [
    "from scipy.spatial.distance import cdist\n",
    "\n",
    "\n",
    "class ScratchKNeighbors:\n",
    "    def __init__(self, classification, n_neighbors=5):\n",
    "        self.n_neighbors = n_neighbors\n",
    "        self.X_train = None\n",
    "        self.y_train = None\n",
    "        self.classification = classification\n",
    "\n",
    "    def fit(self, X_train, y_train):\n",
    "        self.X_train = X_train\n",
    "        self.y_train = y_train\n",
    "\n",
    "    def predict(self, X_test):\n",
    "        distances = cdist(X_test, self.X_train) # euclidean distances\n",
    "        nearest_indices = np.argsort(distances, axis=1)[:, :self.n_neighbors] # indices of n nearest neighbors\n",
    "        nearest_targets = self.y_train[nearest_indices]\n",
    "        predictions = np.mean(nearest_targets, axis=1)\n",
    "        if self.classification:  #Majority vote is useless if binary classification\n",
    "            return predictions >= 0.5\n",
    "        return predictions"
   ],
   "metadata": {
    "collapsed": false,
    "ExecuteTime": {
     "end_time": "2023-05-25T14:16:24.029700591Z",
     "start_time": "2023-05-25T14:16:24.018602489Z"
    }
   }
  },
  {
   "cell_type": "markdown",
   "source": [
    "## Classification"
   ],
   "metadata": {
    "collapsed": false
   }
  },
  {
   "cell_type": "code",
   "execution_count": 26,
   "outputs": [],
   "source": [
    "df, train, test, val = get_data(normalize=True, binary_label=True)  # Normalizing the data leads to a slightly better accuracy (58% vs 63% for sklearn, 59% vs 64% for scratch)"
   ],
   "metadata": {
    "collapsed": false,
    "ExecuteTime": {
     "end_time": "2023-05-27T12:43:55.940237029Z",
     "start_time": "2023-05-27T12:43:55.587404379Z"
    }
   }
  },
  {
   "cell_type": "markdown",
   "source": [
    "### Sklearn"
   ],
   "metadata": {
    "collapsed": false
   }
  },
  {
   "cell_type": "code",
   "execution_count": 49,
   "outputs": [
    {
     "name": "stdout",
     "output_type": "stream",
     "text": [
      "Time taken to train the model:  0.0021734237670898438\n",
      "Binary cross entropy: 13.182821897898819\n",
      "Accuracy: 0.6342540042880564\n"
     ]
    },
    {
     "data": {
      "text/plain": "0.6342540042880564"
     },
     "execution_count": 49,
     "metadata": {},
     "output_type": "execute_result"
    }
   ],
   "source": [
    "from sklearn.neighbors import KNeighborsClassifier\n",
    "\n",
    "regressor = KNeighborsClassifier(n_neighbors=5)\n",
    "\n",
    "test_model(regressor, train, test, classification=True)"
   ],
   "metadata": {
    "collapsed": false,
    "ExecuteTime": {
     "end_time": "2023-05-25T14:19:44.911437691Z",
     "start_time": "2023-05-25T14:19:44.282055784Z"
    }
   }
  },
  {
   "cell_type": "code",
   "execution_count": null,
   "outputs": [],
   "source": [
    "def get_model(param):\n",
    "    return KNeighborsClassifier(n_neighbors=param)\n",
    "\n",
    "\n",
    "best_param, params, accuracies = optimize_hyperparameters(get_model, range(1, 100, 5), train, test, val,\n",
    "                                                          classification=True)\n",
    "plot_2d(params, accuracies, 'k', 'accuracy')\n",
    "best_model = get_model(best_param)\n",
    "\n",
    "accuracy_KNN_sk = test_model(best_model, train, test, classification=True)\n",
    "print(f\"Best accuracy for KNN (sklearn): {accuracy_KNN_sk} with k={best_param}\")"
   ],
   "metadata": {
    "collapsed": false
   }
  },
  {
   "cell_type": "markdown",
   "source": [
    "### Scratch"
   ],
   "metadata": {
    "collapsed": false
   }
  },
  {
   "cell_type": "code",
   "execution_count": 48,
   "outputs": [
    {
     "name": "stdout",
     "output_type": "stream",
     "text": [
      "Time taken to train the model:  3.0994415283203125e-06\n",
      "Binary cross entropy: 13.060085280228726\n",
      "Accuracy: 0.6376592256274436\n"
     ]
    }
   ],
   "source": [
    "regressor = ScratchKNeighbors(classification=True, n_neighbors=30)\n",
    "accuracy_KNN_my = test_model(regressor, train, test, classification=True)"
   ],
   "metadata": {
    "collapsed": false,
    "ExecuteTime": {
     "end_time": "2023-05-25T14:19:44.288256093Z",
     "start_time": "2023-05-25T14:19:18.977755483Z"
    }
   }
  },
  {
   "cell_type": "markdown",
   "source": [
    "## Regression"
   ],
   "metadata": {
    "collapsed": false
   }
  },
  {
   "cell_type": "code",
   "execution_count": 32,
   "outputs": [],
   "source": [
    "df, train, test, val = get_data(normalize=False, binary_label=False) # Normalizing the data leads to slightly worse loss (8582 vs 8505)"
   ],
   "metadata": {
    "collapsed": false,
    "ExecuteTime": {
     "end_time": "2023-05-27T13:12:17.591959773Z",
     "start_time": "2023-05-27T13:12:17.296032511Z"
    }
   }
  },
  {
   "cell_type": "markdown",
   "source": [
    "### Sklearn"
   ],
   "metadata": {
    "collapsed": false
   }
  },
  {
   "cell_type": "code",
   "execution_count": 33,
   "outputs": [
    {
     "name": "stdout",
     "output_type": "stream",
     "text": [
      "Time taken to train the model:  0.002184152603149414\n",
      "Root Mean Squared Error: 8414.257682451878\n"
     ]
    },
    {
     "data": {
      "text/plain": "8414.257682451878"
     },
     "execution_count": 33,
     "metadata": {},
     "output_type": "execute_result"
    }
   ],
   "source": [
    "from sklearn.neighbors import KNeighborsRegressor\n",
    "\n",
    "regressor = KNeighborsRegressor(n_neighbors=5)\n",
    "\n",
    "test_model(regressor, train, test, classification=False)"
   ],
   "metadata": {
    "collapsed": false,
    "ExecuteTime": {
     "end_time": "2023-05-27T13:12:19.906794641Z",
     "start_time": "2023-05-27T13:12:18.585554375Z"
    }
   }
  },
  {
   "cell_type": "code",
   "execution_count": 18,
   "outputs": [
    {
     "name": "stdout",
     "output_type": "stream",
     "text": [
      "Trying hyperparameters: 1\n",
      "Time taken to train the model:  0.002633810043334961\n",
      "Root Mean Squared Error: 15225.924163065538\n",
      "Value: 15225.924163065538\n",
      "Trying hyperparameters: 6\n",
      "Time taken to train the model:  0.0020923614501953125\n",
      "Root Mean Squared Error: 8490.828485311627\n",
      "Value: 8490.828485311627\n",
      "Trying hyperparameters: 11\n",
      "Time taken to train the model:  0.0021033287048339844\n",
      "Root Mean Squared Error: 8055.688675956313\n",
      "Value: 8055.688675956313\n",
      "Trying hyperparameters: 16\n",
      "Time taken to train the model:  0.001959562301635742\n",
      "Root Mean Squared Error: 7846.124723319356\n",
      "Value: 7846.124723319356\n",
      "Trying hyperparameters: 21\n",
      "Time taken to train the model:  0.0012431144714355469\n",
      "Root Mean Squared Error: 7810.077348671558\n",
      "Value: 7810.077348671558\n",
      "Trying hyperparameters: 26\n",
      "Time taken to train the model:  0.0013880729675292969\n",
      "Root Mean Squared Error: 7724.9434767499315\n",
      "Value: 7724.9434767499315\n",
      "Trying hyperparameters: 31\n",
      "Time taken to train the model:  0.001195669174194336\n",
      "Root Mean Squared Error: 7675.776523096333\n",
      "Value: 7675.776523096333\n",
      "Trying hyperparameters: 36\n",
      "Time taken to train the model:  0.00113677978515625\n",
      "Root Mean Squared Error: 7659.318775177681\n",
      "Value: 7659.318775177681\n",
      "Trying hyperparameters: 41\n",
      "Time taken to train the model:  0.0011546611785888672\n",
      "Root Mean Squared Error: 7655.872870933114\n",
      "Value: 7655.872870933114\n",
      "Trying hyperparameters: 46\n",
      "Time taken to train the model:  0.0012469291687011719\n",
      "Root Mean Squared Error: 7654.611729896056\n",
      "Value: 7654.611729896056\n",
      "Trying hyperparameters: 51\n",
      "Time taken to train the model:  0.0011568069458007812\n",
      "Root Mean Squared Error: 7646.41236296792\n",
      "Value: 7646.41236296792\n",
      "Trying hyperparameters: 56\n",
      "Time taken to train the model:  0.0012502670288085938\n",
      "Root Mean Squared Error: 7630.551842669096\n",
      "Value: 7630.551842669096\n",
      "Trying hyperparameters: 61\n",
      "Time taken to train the model:  0.0011572837829589844\n",
      "Root Mean Squared Error: 7612.116000591583\n",
      "Value: 7612.116000591583\n",
      "Trying hyperparameters: 66\n",
      "Time taken to train the model:  0.001180410385131836\n",
      "Root Mean Squared Error: 7606.758982113714\n",
      "Value: 7606.758982113714\n",
      "Trying hyperparameters: 71\n",
      "Time taken to train the model:  0.0011134147644042969\n",
      "Root Mean Squared Error: 7598.617012346292\n",
      "Value: 7598.617012346292\n",
      "Trying hyperparameters: 76\n",
      "Time taken to train the model:  0.0010528564453125\n",
      "Root Mean Squared Error: 7596.518864322459\n",
      "Value: 7596.518864322459\n",
      "Trying hyperparameters: 81\n",
      "Time taken to train the model:  0.001115560531616211\n",
      "Root Mean Squared Error: 7599.180549460687\n",
      "Value: 7599.180549460687\n",
      "Trying hyperparameters: 86\n",
      "Time taken to train the model:  0.0011143684387207031\n",
      "Root Mean Squared Error: 7598.348712398022\n",
      "Value: 7598.348712398022\n",
      "Trying hyperparameters: 91\n",
      "Time taken to train the model:  0.0010998249053955078\n",
      "Root Mean Squared Error: 7595.773667727118\n",
      "Value: 7595.773667727118\n",
      "Trying hyperparameters: 96\n",
      "Time taken to train the model:  0.001039266586303711\n",
      "Root Mean Squared Error: 7595.637524678116\n",
      "Value: 7595.637524678116\n",
      "Best hyperparameters: 96\n",
      "Best value: 7595.637524678116\n"
     ]
    },
    {
     "data": {
      "text/plain": "<Figure size 640x480 with 1 Axes>",
      "image/png": "[encoded data removed]"
     },
     "metadata": {},
     "output_type": "display_data"
    },
    {
     "name": "stdout",
     "output_type": "stream",
     "text": [
      "Time taken to train the model:  0.0013594627380371094\n",
      "Root Mean Squared Error: 9314.63167163207\n",
      "Best rmse for KNN (sklearn): 9314.63167163207 with k=96\n"
     ]
    }
   ],
   "source": [
    "def get_model(param):\n",
    "    return KNeighborsRegressor(n_neighbors=param)\n",
    "\n",
    "\n",
    "best_param, params, accuracies = optimize_hyperparameters(get_model, range(1, 100, 5), train, test, val,\n",
    "                                                          classification=False)\n",
    "plot_2d(params, accuracies, 'k', 'mse')\n",
    "best_model = get_model(best_param)\n",
    "\n",
    "rmse_KNN_sk = test_model(regressor, train, test, classification=False)\n",
    "print(f\"Best rmse for KNN (sklearn): {rmse_KNN_sk} with k={best_param}\")\n"
   ],
   "metadata": {
    "collapsed": false,
    "ExecuteTime": {
     "end_time": "2023-05-25T14:06:38.488120946Z",
     "start_time": "2023-05-25T14:06:29.659136199Z"
    }
   }
  },
  {
   "cell_type": "markdown",
   "source": [
    "After k ~ 30 there is a clear diminishing return on loss reduction, therefore this k will be used"
   ],
   "metadata": {
    "collapsed": false
   }
  },
  {
   "cell_type": "code",
   "execution_count": 56,
   "outputs": [
    {
     "name": "stdout",
     "output_type": "stream",
     "text": [
      "Time taken to train the model:  5.0067901611328125e-06\n",
      "Root Mean Squared Error: 8582.839747518954\n"
     ]
    }
   ],
   "source": [
    "regressor = ScratchKNeighbors(classification=False, n_neighbors=30)\n",
    "rmse_KNN_my = test_model(regressor, train, test, classification=False)"
   ],
   "metadata": {
    "collapsed": false,
    "ExecuteTime": {
     "end_time": "2023-05-25T14:22:49.509781991Z",
     "start_time": "2023-05-25T14:22:23.217815363Z"
    }
   }
  }
 ],
 "metadata": {
  "colab": {
   "provenance": []
  },
  "kernelspec": {
   "name": "python3",
   "language": "python",
   "display_name": "Python 3 (ipykernel)"
  },
  "language_info": {
   "name": "python"
  }
 },
 "nbformat": 4,
 "nbformat_minor": 0
}
