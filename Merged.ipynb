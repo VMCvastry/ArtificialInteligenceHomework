{
 "cells": [
  {
   "cell_type": "code",
   "execution_count": 2,
   "metadata": {
    "ExecuteTime": {
     "end_time": "2023-05-25T13:37:53.412237705Z",
     "start_time": "2023-05-25T13:37:52.200427784Z"
    },
    "collapsed": false
   },
   "outputs": [],
   "source": [
    "from utils import *"
   ]
  },
  {
   "cell_type": "markdown",
   "metadata": {
    "collapsed": false,
    "ExecuteTime": {
     "end_time": "2023-05-27T10:30:46.549102359Z",
     "start_time": "2023-05-27T10:30:46.466238599Z"
    }
   },
   "source": [
    "# DECISION TREE"
   ],
   "outputs": [],
   "execution_count": 2
  },
  {
   "cell_type": "code",
   "execution_count": 13,
   "metadata": {
    "ExecuteTime": {
     "end_time": "2023-05-25T13:45:23.245285361Z",
     "start_time": "2023-05-25T13:45:23.007766722Z"
    },
    "id": "1mxntjhmAH0D"
   },
   "outputs": [],
   "source": [
    "df, train, test, val = get_data(normalize=False, binary_label=True)"
   ]
  },
  {
   "cell_type": "code",
   "execution_count": 20,
   "metadata": {
    "ExecuteTime": {
     "end_time": "2023-05-25T13:50:40.911285050Z",
     "start_time": "2023-05-25T13:50:40.854807993Z"
    },
    "collapsed": false
   },
   "outputs": [],
   "source": [
    "from collections import Counter\n",
    "\n",
    "\n",
    "class DecisionTreeClassifier:\n",
    "\n",
    "    def __init__(self, max_depth=float('inf')):\n",
    "        self.max_depth = max_depth\n",
    "        self.root = None\n",
    "\n",
    "    def fit(self, x, y):\n",
    "        assert len(x) == len(y)\n",
    "        assert len(x) != 0\n",
    "        self.root = self._create_tree(x, y, None, self.max_depth)\n",
    "\n",
    "    def _create_tree(self, data, labels, parent, max_depth):\n",
    "        new_node = Node(None, None, parent)\n",
    "        if not len(data):\n",
    "            new_node.label = parent.label  # Use parent label\n",
    "            return new_node\n",
    "        most_common_result = Counter(labels).most_common(1)[0][0]\n",
    "        if len(labels) == 1 or data.shape[1] == 0:  # No more features to split\n",
    "            new_node.label = most_common_result\n",
    "            return new_node\n",
    "        if len(np.unique(labels)) == 1:  # All labels are the same\n",
    "            new_node.label = labels[0]\n",
    "            return new_node\n",
    "\n",
    "        best_feature, best_threshold = self._find_best_split(data, labels)\n",
    "        new_node = Node(best_feature, best_threshold, parent)\n",
    "\n",
    "        if max_depth > 0:\n",
    "            index = data[:, best_feature] <= best_threshold\n",
    "            data_left = data[index]\n",
    "            labels_left = labels[index]\n",
    "            if len(data_left) == 0:\n",
    "                new_node.label = most_common_result\n",
    "            new_node.left_child = self._create_tree(data_left, labels_left, new_node, max_depth - 1)\n",
    "\n",
    "            index = data[:, best_feature] > best_threshold\n",
    "            data_right = data[index]\n",
    "            labels_right = labels[index]\n",
    "            if len(data_right) == 0:\n",
    "                new_node.label = most_common_result\n",
    "            new_node.right_child = self._create_tree(data_right, labels_right, new_node, max_depth - 1)\n",
    "\n",
    "        else:\n",
    "            new_node.label = most_common_result\n",
    "            new_node.left_child = None\n",
    "            new_node.right_child = None\n",
    "\n",
    "        return new_node\n",
    "\n",
    "    def _find_best_split(self, data, labels):\n",
    "        best_gain = 0\n",
    "        best_feature = None\n",
    "        best_threshold = None\n",
    "        for feature in range(data.shape[1]):\n",
    "            threshold = np.median(data[:, feature])\n",
    "            gain = self._information_gain(data, labels, feature, threshold)\n",
    "            if gain >= best_gain:\n",
    "                best_gain = gain\n",
    "                best_feature = feature\n",
    "                best_threshold = threshold\n",
    "\n",
    "        return best_feature, best_threshold\n",
    "\n",
    "    def _information_gain(self, data, labels, feature, threshold):\n",
    "        entropy_labels = self._entropy(labels)\n",
    "        sample_left = labels[data[:, feature] <= threshold]\n",
    "        sample_right = labels[data[:, feature] > threshold]\n",
    "\n",
    "        information_gain = entropy_labels - (\n",
    "                len(sample_left) / len(data) * self._entropy(sample_left) +\n",
    "                len(sample_right) / len(data) * self._entropy(sample_right)\n",
    "        )\n",
    "\n",
    "        return information_gain\n",
    "\n",
    "    def _entropy(self, labels):\n",
    "        if len(labels) == 0:\n",
    "            return 0\n",
    "        p = sum(labels) / len(labels)\n",
    "        if p == 0 or p == 1:\n",
    "            return 0\n",
    "        return -p * math.log2(p) - (1 - p) * math.log2(1 - p)\n",
    "\n",
    "    def predict(self, data):\n",
    "        predictions = []\n",
    "        for row in data:\n",
    "            node = self.root\n",
    "            while node.label is None:\n",
    "                if row[node.feature] <= node.threshold:\n",
    "                    node = node.left_child\n",
    "                else:\n",
    "                    node = node.right_child\n",
    "            predictions.append(node.label)\n",
    "\n",
    "        return predictions\n",
    "\n",
    "\n",
    "class Node:\n",
    "    def __init__(self, feature, threshold, parent):\n",
    "        self.feature = feature\n",
    "        self.threshold = threshold\n",
    "        self.parent = parent\n",
    "        self.label = None\n",
    "        self.left_child = None\n",
    "        self.right_child = None\n"
   ]
  },
  {
   "cell_type": "markdown",
   "metadata": {
    "collapsed": false
   },
   "source": [
    "### Sklearn"
   ]
  },
  {
   "cell_type": "code",
   "execution_count": 14,
   "metadata": {
    "ExecuteTime": {
     "end_time": "2023-05-25T13:45:41.308097182Z",
     "start_time": "2023-05-25T13:45:39.957972897Z"
    },
    "collapsed": false
   },
   "outputs": [
    {
     "name": "stdout",
     "output_type": "stream",
     "text": [
      "Time taken to train the model:  1.3408911228179932\n",
      "Binary cross entropy: 15.046600166222445\n",
      "Accuracy: 0.5825450876529197\n"
     ]
    },
    {
     "data": {
      "text/plain": [
       "0.5825450876529197"
      ]
     },
     "execution_count": 14,
     "metadata": {},
     "output_type": "execute_result"
    }
   ],
   "source": [
    "from sklearn import tree\n",
    "\n",
    "clf = tree.DecisionTreeClassifier(criterion='entropy', random_state=1)\n",
    "test_model(clf, train, test, classification=True)"
   ]
  },
  {
   "cell_type": "code",
   "execution_count": 16,
   "metadata": {
    "ExecuteTime": {
     "end_time": "2023-05-25T13:47:06.704720393Z",
     "start_time": "2023-05-25T13:46:51.685379197Z"
    },
    "collapsed": false
   },
   "outputs": [
    {
     "name": "stdout",
     "output_type": "stream",
     "text": [
      "Trying hyperparameters: 1\n",
      "Time taken to train the model:  0.08764791488647461\n",
      "Binary cross entropy: 14.831142258489006\n",
      "Accuracy: 0.5885227810184456\n",
      "Value: 0.5885227810184456\n",
      "Trying hyperparameters: 2\n",
      "Time taken to train the model:  0.16405081748962402\n",
      "Binary cross entropy: 13.512818502178872\n",
      "Accuracy: 0.6250985338168059\n",
      "Value: 0.6250985338168059\n",
      "Trying hyperparameters: 3\n",
      "Time taken to train the model:  0.24462008476257324\n",
      "Binary cross entropy: 13.012764663578478\n",
      "Accuracy: 0.6389720952230805\n",
      "Value: 0.6389720952230805\n",
      "Trying hyperparameters: 4\n",
      "Time taken to train the model:  1.5557754039764404\n",
      "Binary cross entropy: 13.063906533435334\n",
      "Accuracy: 0.6375532082610752\n",
      "Value: 0.6375532082610752\n",
      "Trying hyperparameters: 5\n",
      "Time taken to train the model:  0.3780486583709717\n",
      "Binary cross entropy: 12.882068773944281\n",
      "Accuracy: 0.6425981396815387\n",
      "Value: 0.6425981396815387\n",
      "Trying hyperparameters: 6\n",
      "Time taken to train the model:  0.44703030586242676\n",
      "Binary cross entropy: 12.694548584469134\n",
      "Accuracy: 0.6478007252088916\n",
      "Value: 0.6478007252088916\n",
      "Trying hyperparameters: 7\n",
      "Time taken to train the model:  0.5168893337249756\n",
      "Binary cross entropy: 12.717278304405516\n",
      "Accuracy: 0.6471701087813337\n",
      "Value: 0.6471701087813337\n",
      "Trying hyperparameters: 8\n",
      "Time taken to train the model:  0.5918257236480713\n",
      "Binary cross entropy: 12.842291764055615\n",
      "Accuracy: 0.6437017184297651\n",
      "Value: 0.6437017184297651\n",
      "Trying hyperparameters: 9\n",
      "Time taken to train the model:  0.6599740982055664\n",
      "Binary cross entropy: 12.813879614135136\n",
      "Accuracy: 0.6444899889642125\n",
      "Value: 0.6444899889642125\n",
      "Trying hyperparameters: 10\n",
      "Time taken to train the model:  0.717231035232544\n",
      "Binary cross entropy: 12.50134596500989\n",
      "Accuracy: 0.6531609648431341\n",
      "Value: 0.6531609648431341\n",
      "Trying hyperparameters: 11\n",
      "Time taken to train the model:  0.7806110382080078\n",
      "Binary cross entropy: 13.12073083327629\n",
      "Accuracy: 0.6359766671921804\n",
      "Value: 0.6359766671921804\n",
      "Trying hyperparameters: 12\n",
      "Time taken to train the model:  0.8364925384521484\n",
      "Binary cross entropy: 13.473041492290204\n",
      "Accuracy: 0.6262021125650323\n",
      "Value: 0.6262021125650323\n",
      "Trying hyperparameters: 13\n",
      "Time taken to train the model:  0.8875670433044434\n",
      "Binary cross entropy: 13.529865792131156\n",
      "Accuracy: 0.6246255714961375\n",
      "Value: 0.6246255714961375\n",
      "Trying hyperparameters: 14\n",
      "Time taken to train the model:  0.941990852355957\n",
      "Binary cross entropy: 13.626467101860781\n",
      "Accuracy: 0.6219454516790163\n",
      "Value: 0.6219454516790163\n",
      "Trying hyperparameters: 15\n",
      "Time taken to train the model:  0.9858262538909912\n",
      "Binary cross entropy: 14.092426360556605\n",
      "Accuracy: 0.6090178149140785\n",
      "Value: 0.6090178149140785\n",
      "Trying hyperparameters: 16\n",
      "Time taken to train the model:  1.04364013671875\n",
      "Binary cross entropy: 14.035602060715648\n",
      "Accuracy: 0.6105943559829734\n",
      "Value: 0.6105943559829734\n",
      "Trying hyperparameters: 17\n",
      "Time taken to train the model:  1.0918872356414795\n",
      "Binary cross entropy: 14.3424532798568\n",
      "Accuracy: 0.6020810342109412\n",
      "Value: 0.6020810342109412\n",
      "Trying hyperparameters: 18\n",
      "Time taken to train the model:  1.0955114364624023\n",
      "Binary cross entropy: 14.206074960238512\n",
      "Accuracy: 0.6058647327762888\n",
      "Value: 0.6058647327762888\n",
      "Trying hyperparameters: 19\n",
      "Time taken to train the model:  1.0985333919525146\n",
      "Binary cross entropy: 14.632257209045665\n",
      "Accuracy: 0.5940406747595774\n",
      "Value: 0.5940406747595774\n",
      "Best hyperparameters: 10\n",
      "Best value: 0.6531609648431341\n"
     ]
    },
    {
     "data": {
      "image/png": "[encoded data removed]",
      "text/plain": [
       "<Figure size 640x480 with 1 Axes>"
      ]
     },
     "metadata": {},
     "output_type": "display_data"
    },
    {
     "name": "stdout",
     "output_type": "stream",
     "text": [
      "Time taken to train the model:  0.7286891937255859\n",
      "Binary cross entropy: 12.841886848815228\n",
      "Accuracy: 0.6437129524530205\n",
      "Best Accuracy for Decision Tree (sklearn): 0.6437129524530205 with max_depth=10\n"
     ]
    }
   ],
   "source": [
    "def get_model(param):\n",
    "    return tree.DecisionTreeClassifier(criterion='entropy', random_state=1, max_depth=param)\n",
    "\n",
    "\n",
    "best_param, params, accuracies = optimize_hyperparameters(get_model, range(1, 20), train, test, val,\n",
    "                                                          classification=True)\n",
    "plot_2d(params, accuracies, 'max_depth', 'accuracy')\n",
    "best_model = get_model(param=best_param)\n",
    "best_accuracy_DT_sk = test_model(best_model, train, test, classification=True)\n",
    "print(f\"Best Accuracy for Decision Tree (sklearn): {best_accuracy_DT_sk} with max_depth={best_param}\")"
   ]
  },
  {
   "cell_type": "markdown",
   "metadata": {
    "collapsed": false
   },
   "source": [
    "### From scratch"
   ]
  },
  {
   "cell_type": "code",
   "execution_count": 21,
   "metadata": {
    "ExecuteTime": {
     "end_time": "2023-05-25T13:50:49.125582422Z",
     "start_time": "2023-05-25T13:50:45.691828044Z"
    },
    "collapsed": false
   },
   "outputs": [
    {
     "name": "stdout",
     "output_type": "stream",
     "text": [
      "Time taken to train the model:  3.411768913269043\n",
      "Binary cross entropy: 12.846432649469676\n",
      "Accuracy: 0.6435868331441543\n"
     ]
    },
    {
     "data": {
      "text/plain": [
       "0.6435868331441543"
      ]
     },
     "execution_count": 21,
     "metadata": {},
     "output_type": "execute_result"
    }
   ],
   "source": [
    "clf = DecisionTreeClassifier( max_depth=8)\n",
    "test_model(clf, train, test, classification=True)"
   ]
  },
  {
   "cell_type": "code",
   "execution_count": 17,
   "metadata": {
    "ExecuteTime": {
     "end_time": "2023-05-25T13:48:59.895610102Z",
     "start_time": "2023-05-25T13:47:11.660857913Z"
    },
    "collapsed": false
   },
   "outputs": [
    {
     "name": "stdout",
     "output_type": "stream",
     "text": [
      "Trying hyperparameters: 1\n",
      "Time taken to train the model:  0.59755539894104\n",
      "Binary cross entropy: 16.05854713505361\n",
      "Accuracy: 0.5544694939303169\n",
      "Value: 0.5544694939303169\n",
      "Trying hyperparameters: 2\n",
      "Time taken to train the model:  0.9142732620239258\n",
      "Binary cross entropy: 15.285736657216638\n",
      "Accuracy: 0.5759104524672868\n",
      "Value: 0.5759104524672868\n",
      "Trying hyperparameters: 3\n",
      "Time taken to train the model:  1.125523567199707\n",
      "Binary cross entropy: 15.012980017980057\n",
      "Accuracy: 0.583477849597982\n",
      "Value: 0.583477849597982\n",
      "Trying hyperparameters: 4\n",
      "Time taken to train the model:  1.4390547275543213\n",
      "Binary cross entropy: 14.75158823871167\n",
      "Accuracy: 0.5907299385148983\n",
      "Value: 0.5907299385148983\n",
      "Trying hyperparameters: 5\n",
      "Time taken to train the model:  1.7859680652618408\n",
      "Binary cross entropy: 14.581115339188807\n",
      "Accuracy: 0.5954595617215829\n",
      "Value: 0.5954595617215829\n",
      "Trying hyperparameters: 6\n",
      "Time taken to train the model:  2.1863391399383545\n",
      "Binary cross entropy: 14.399277579697754\n",
      "Accuracy: 0.6005044931420463\n",
      "Value: 0.6005044931420463\n",
      "Trying hyperparameters: 7\n",
      "Time taken to train the model:  2.8008713722229004\n",
      "Binary cross entropy: 14.001507480811078\n",
      "Accuracy: 0.6115402806243103\n",
      "Value: 0.6115402806243103\n",
      "Trying hyperparameters: 8\n",
      "Time taken to train the model:  4.284729480743408\n",
      "Binary cross entropy: 14.359500569809088\n",
      "Accuracy: 0.6016080718902728\n",
      "Value: 0.6016080718902728\n",
      "Trying hyperparameters: 9\n",
      "Time taken to train the model:  4.9869959354400635\n",
      "Binary cross entropy: 14.456101879538709\n",
      "Accuracy: 0.5989279520731515\n",
      "Value: 0.5989279520731515\n",
      "Trying hyperparameters: 10\n",
      "Time taken to train the model:  7.332499980926514\n",
      "Binary cross entropy: 14.82545982850491\n",
      "Accuracy: 0.588680435125335\n",
      "Value: 0.588680435125335\n",
      "Trying hyperparameters: 11\n",
      "Time taken to train the model:  11.776340246200562\n",
      "Binary cross entropy: 15.83693236567389\n",
      "Accuracy: 0.5606180040990068\n",
      "Value: 0.5606180040990068\n",
      "Trying hyperparameters: 12\n",
      "Time taken to train the model:  17.950709104537964\n",
      "Binary cross entropy: 15.905121525483036\n",
      "Accuracy: 0.5587261548163329\n",
      "Value: 0.5587261548163329\n",
      "Trying hyperparameters: 13\n",
      "Time taken to train the model:  24.076184034347534\n",
      "Binary cross entropy: 16.28584433441743\n",
      "Accuracy: 0.5481633296547375\n",
      "Value: 0.5481633296547375\n",
      "Trying hyperparameters: 14\n",
      "Time taken to train the model:  23.882791996002197\n",
      "Binary cross entropy: 16.274479474449237\n",
      "Accuracy: 0.5484786378685165\n",
      "Value: 0.5484786378685165\n",
      "Best hyperparameters: 7\n",
      "Best value: 0.6115402806243103\n"
     ]
    },
    {
     "data": {
      "image/png": "[encoded data removed]",
      "text/plain": [
       "<Figure size 640x480 with 1 Axes>"
      ]
     },
     "metadata": {},
     "output_type": "display_data"
    },
    {
     "name": "stdout",
     "output_type": "stream",
     "text": [
      "Time taken to train the model:  2.720187187194824\n",
      "Binary cross entropy: 14.319272061510784\n",
      "Accuracy: 0.6027241770715096\n",
      "Best Accuracy for Decision Tree (scratch): 0.6437129524530205 with max_depth=7\n"
     ]
    }
   ],
   "source": [
    "def get_model(param):\n",
    "    return DecisionTreeClassifier(max_depth=param)\n",
    "\n",
    "\n",
    "best_param, params, accuracies = optimize_hyperparameters(get_model, range(1, 15), train, test, val,\n",
    "                                                          classification=True)\n",
    "plot_2d(params, accuracies, 'max_depth', 'accuracy')\n",
    "best_model = get_model(param=best_param)\n",
    "best_accuracy_DT_my = test_model(best_model, train, test, classification=True)\n",
    "print(f\"Best Accuracy for Decision Tree (scratch): {best_accuracy_DT_my} with max_depth={best_param}\")\n"
   ]
  },
  {
   "cell_type": "markdown",
   "metadata": {
    "collapsed": false
   },
   "source": []
  },
  {
   "cell_type": "code",
   "execution_count": 1,
   "metadata": {
    "ExecuteTime": {
     "end_time": "2023-05-25T14:57:22.528278006Z",
     "start_time": "2023-05-25T14:57:21.738950059Z"
    },
    "collapsed": false
   },
   "outputs": [],
   "source": [
    "from utils import *"
   ]
  },
  {
   "cell_type": "markdown",
   "metadata": {
    "collapsed": false
   },
   "source": [
    "# Linear Regression"
   ]
  },
  {
   "cell_type": "code",
   "execution_count": 10,
   "metadata": {
    "ExecuteTime": {
     "end_time": "2023-05-25T14:58:13.836390898Z",
     "start_time": "2023-05-25T14:58:13.589861056Z"
    },
    "collapsed": false
   },
   "outputs": [],
   "source": [
    "df, train, test, val = get_data(normalize=True, binary_label=False)"
   ]
  },
  {
   "cell_type": "code",
   "execution_count": null,
   "metadata": {
    "collapsed": false
   },
   "outputs": [],
   "source": [
    "from sklearn.linear_model import SGDRegressor"
   ]
  },
  {
   "cell_type": "markdown",
   "metadata": {
    "collapsed": false
   },
   "source": [
    "### Analytical Linear Regression From Scratch"
   ]
  },
  {
   "cell_type": "code",
   "execution_count": 15,
   "metadata": {
    "ExecuteTime": {
     "end_time": "2023-05-25T14:59:44.690369272Z",
     "start_time": "2023-05-25T14:59:44.634098636Z"
    },
    "collapsed": false
   },
   "outputs": [
    {
     "name": "stdout",
     "output_type": "stream",
     "text": [
      "Time taken to train the model:  0.023252487182617188\n",
      "Root Mean Squared Error: 8310.886013705811\n"
     ]
    },
    {
     "data": {
      "text/plain": [
       "8310.886013705811"
      ]
     },
     "execution_count": 15,
     "metadata": {},
     "output_type": "execute_result"
    }
   ],
   "source": [
    "class ScratchLinearRegressionAnalytical:\n",
    "    def __init__(self):\n",
    "        self.weights = None\n",
    "\n",
    "    def fit(self, X, y):\n",
    "        X_b = np.c_[np.ones((len(X), 1)), X]\n",
    "        self.weights = np.linalg.inv(X_b.T.dot(X_b)).dot(X_b.T).dot(y)\n",
    "\n",
    "    def predict(self, X):\n",
    "        X_b = np.c_[np.ones((len(X), 1)), X]\n",
    "        return X_b.dot(self.weights)\n",
    "\n",
    "\n",
    "test_model(ScratchLinearRegressionAnalytical(), train, test, classification=False)\n",
    "# works really poorly with not normalized data\n",
    "# Why worse than sklearn?"
   ]
  },
  {
   "cell_type": "markdown",
   "metadata": {
    "collapsed": false
   },
   "source": [
    "### Scratch"
   ]
  },
  {
   "cell_type": "code",
   "execution_count": 17,
   "metadata": {
    "ExecuteTime": {
     "end_time": "2023-05-25T15:07:03.425467379Z",
     "start_time": "2023-05-25T15:07:03.380920462Z"
    },
    "collapsed": false
   },
   "outputs": [],
   "source": [
    "def _sigmoid(x):\n",
    "    return 1 / (1 + np.exp(-x))\n",
    "\n",
    "\n",
    "class ScratchLinearRegression:\n",
    "\n",
    "    def __init__(self, lr=0.01, n_iters=1000, regularization=None, alpha=0.1, l1_ratio=0.5, logistic=False,\n",
    "                 classification=False):\n",
    "        self.lr = lr\n",
    "        self.n_iters = n_iters\n",
    "        self.weights = None\n",
    "        self.bias = None\n",
    "        self.regularization = regularization\n",
    "        self.regularization_param = alpha\n",
    "        self.l1_ratio = l1_ratio\n",
    "        self.classification = classification\n",
    "        self.model = 'logistic' if logistic else 'perceptron'  #todo check\n",
    "\n",
    "    def fit(self, X, y):\n",
    "        n_samples, n_features = X.shape\n",
    "\n",
    "        self.weights = np.zeros(n_features)\n",
    "        self.bias = 0\n",
    "\n",
    "        for _ in range(self.n_iters):\n",
    "            y_pred = np.dot(X, self.weights) + self.bias\n",
    "\n",
    "            if self.classification:\n",
    "                if self.model == 'logistic':\n",
    "                    y_pred = _sigmoid(y_pred)\n",
    "                else:\n",
    "                    y_pred = np.where(y_pred>=0, 1, 0)\n",
    "\n",
    "            if self.regularization == 'l1':\n",
    "                dw = (1 / n_samples) * np.dot(X.T, (y_pred - y)) + np.sign(self.weights) * self.regularization_param\n",
    "                db = (1 / n_samples) * np.sum(y_pred - y) + np.sign(self.bias) * self.regularization_param\n",
    "            elif self.regularization == 'l2':\n",
    "                dw = (1 / n_samples) * np.dot(X.T, (y_pred - y)) + 2 * self.weights * self.regularization_param\n",
    "                db = (1 / n_samples) * np.sum(y_pred - y) + 2 * self.bias * self.regularization_param\n",
    "            elif self.regularization == 'elasticnet':\n",
    "                dw = ((1 / n_samples) * np.dot(X.T, (y_pred - y))\n",
    "                      + 2 * self.weights * (1 - self.regularization_param)\n",
    "                      + np.sign(self.weights) * self.regularization_param)\n",
    "                db = ((1 / n_samples) * np.sum(y_pred - y)\n",
    "                      + 2 * self.bias * (1 - self.regularization_param)\n",
    "                      + np.sign(self.bias) * self.regularization_param)\n",
    "            elif self.regularization == 'elasticnetV2':\n",
    "                dw = (\n",
    "                        (1 / n_samples) * np.dot(X.T, (y_pred - y))\n",
    "                        + self.regularization_param *\n",
    "                        (\n",
    "                                2 * self.weights * (1 - self.l1_ratio)\n",
    "                                + np.sign(self.weights) * self.l1_ratio\n",
    "                        )\n",
    "                )\n",
    "                db = (\n",
    "                        (1 / n_samples) * np.sum(y_pred - y)\n",
    "                        + self.regularization_param *\n",
    "                        (\n",
    "                                2 * self.bias * (1 - self.l1_ratio)\n",
    "                                + np.sign(self.bias) * self.l1_ratio\n",
    "                        )\n",
    "                )\n",
    "            elif self.regularization is None or self.regularization == '':\n",
    "                dw = (1 / n_samples) * np.dot(X.T, (y_pred - y))\n",
    "                db = (1 / n_samples) * np.sum(y_pred - y)\n",
    "            else:\n",
    "                raise ValueError('Invalid regularization parameter')\n",
    "\n",
    "            self.weights -= self.lr * dw\n",
    "            self.bias -= self.lr * db\n",
    "\n",
    "    def predict(self, X):\n",
    "        y_pred = np.dot(X, self.weights) + self.bias\n",
    "\n",
    "        if self.classification:\n",
    "            if self.model == 'logistic':\n",
    "                y_pred = _sigmoid(y_pred)\n",
    "                y_pred = [1 if i >= 0.5 else 0 for i in y_pred]\n",
    "            else:\n",
    "                y_pred = [1 if i >= 0 else 0 for i in y_pred]\n",
    "        return y_pred"
   ]
  },
  {
   "cell_type": "markdown",
   "metadata": {
    "collapsed": false
   },
   "source": [
    "## No regularization"
   ]
  },
  {
   "cell_type": "markdown",
   "metadata": {
    "collapsed": false
   },
   "source": [
    "### Sklearn"
   ]
  },
  {
   "cell_type": "code",
   "execution_count": 18,
   "metadata": {
    "ExecuteTime": {
     "end_time": "2023-05-25T15:07:15.494045271Z",
     "start_time": "2023-05-25T15:07:15.423583246Z"
    },
    "collapsed": false
   },
   "outputs": [
    {
     "name": "stdout",
     "output_type": "stream",
     "text": [
      "Time taken to train the model:  0.04581499099731445\n",
      "Root Mean Squared Error: 8273.862920013378\n"
     ]
    },
    {
     "data": {
      "text/plain": [
       "8273.862920013378"
      ]
     },
     "execution_count": 18,
     "metadata": {},
     "output_type": "execute_result"
    }
   ],
   "source": [
    "from sklearn.linear_model import LinearRegression\n",
    "\n",
    "regressor = LinearRegression() # works also with not normalized data\n",
    "test_model(regressor, train, test, classification=False)"
   ]
  },
  {
   "cell_type": "code",
   "execution_count": 23,
   "metadata": {
    "ExecuteTime": {
     "end_time": "2023-05-25T15:09:00.272734268Z",
     "start_time": "2023-05-25T15:08:57.241737787Z"
    },
    "collapsed": false
   },
   "outputs": [
    {
     "name": "stdout",
     "output_type": "stream",
     "text": [
      "Time taken to train the model:  3.019599199295044\n",
      "Root Mean Squared Error: 8275.739371762584\n"
     ]
    },
    {
     "name": "stderr",
     "output_type": "stream",
     "text": [
      "/home/vmcvastry/.local/lib/python3.10/site-packages/sklearn/linear_model/_stochastic_gradient.py:1548: ConvergenceWarning: Maximum number of iteration reached before convergence. Consider increasing max_iter to improve the fit.\n",
      "  warnings.warn(\n"
     ]
    }
   ],
   "source": [
    "regressor = SGDRegressor(max_iter=1000, penalty=None, learning_rate='constant', shuffle=False, eta0=0.00001,\n",
    "                         early_stopping=False)\n",
    "rmse_LR_NR_sk = test_model(regressor, train, test, classification=False)"
   ]
  },
  {
   "cell_type": "code",
   "execution_count": 36,
   "metadata": {
    "ExecuteTime": {
     "end_time": "2023-05-25T15:17:07.196173360Z",
     "start_time": "2023-05-25T15:17:05.599553999Z"
    },
    "collapsed": false
   },
   "outputs": [
    {
     "name": "stdout",
     "output_type": "stream",
     "text": [
      "Time taken to train the model:  1.3438680171966553\n",
      "Root Mean Squared Error: 8275.80546379286\n"
     ]
    }
   ],
   "source": [
    "#No regularization\n",
    "regressor = ScratchLinearRegression(regularization='', n_iters=1000,lr=0.2)\n",
    "rmse_LR_NR_my = test_model(regressor, train, test, classification=False)"
   ]
  },
  {
   "cell_type": "code",
   "execution_count": 52,
   "metadata": {
    "ExecuteTime": {
     "end_time": "2023-05-25T15:25:04.561898126Z",
     "start_time": "2023-05-25T15:24:55.880582433Z"
    },
    "collapsed": false
   },
   "outputs": [
    {
     "name": "stdout",
     "output_type": "stream",
     "text": [
      "Trying hyperparameters: 0.001\n",
      "Time taken to train the model:  1.3562700748443604\n",
      "Root Mean Squared Error: 7546.217657591242\n",
      "Value: 7546.217657591242\n",
      "Trying hyperparameters: 0.002\n",
      "Time taken to train the model:  0.9650344848632812\n",
      "Root Mean Squared Error: 7485.639353084593\n",
      "Value: 7485.639353084593\n",
      "Trying hyperparameters: 0.004\n",
      "Time taken to train the model:  0.9170608520507812\n",
      "Root Mean Squared Error: 7487.756139280329\n",
      "Value: 7487.756139280329\n",
      "Trying hyperparameters: 0.008\n",
      "Time taken to train the model:  0.9341013431549072\n",
      "Root Mean Squared Error: 7486.791903303474\n",
      "Value: 7486.791903303474\n",
      "Trying hyperparameters: 0.016\n",
      "Time taken to train the model:  0.8498692512512207\n",
      "Root Mean Squared Error: 7482.292673519695\n",
      "Value: 7482.292673519695\n",
      "Trying hyperparameters: 0.032\n",
      "Time taken to train the model:  0.8841171264648438\n",
      "Root Mean Squared Error: 7481.992739704844\n",
      "Value: 7481.992739704844\n",
      "Trying hyperparameters: 0.064\n",
      "Time taken to train the model:  0.865546464920044\n",
      "Root Mean Squared Error: 7496.1593044160845\n",
      "Value: 7496.1593044160845\n",
      "Trying hyperparameters: 0.128\n",
      "Time taken to train the model:  0.9070639610290527\n",
      "Root Mean Squared Error: 7559.196928253721\n",
      "Value: 7559.196928253721\n",
      "Best hyperparameters: 0.032\n",
      "Best value: 7481.992739704844\n"
     ]
    },
    {
     "data": {
      "image/png": "[encoded data removed]",
      "text/plain": [
       "<Figure size 640x480 with 1 Axes>"
      ]
     },
     "metadata": {},
     "output_type": "display_data"
    },
    {
     "name": "stdout",
     "output_type": "stream",
     "text": [
      "Time taken to train the model:  0.8053073883056641\n",
      "Root Mean Squared Error: 8276.733410799\n",
      "Best rmse for Linear Regression (scratch): 8276.733410799 with lr=0.032\n"
     ]
    }
   ],
   "source": [
    " #TO DEL\n",
    "def get_model(param):\n",
    "    return  ScratchLinearRegression(regularization='', n_iters=1000,lr=param)\n",
    "\n",
    "\n",
    "def iterate_hyperparameters():\n",
    "    alpha = 0.001\n",
    "    while alpha < 0.2:\n",
    "        yield alpha\n",
    "        alpha *= 2\n",
    "\n",
    "\n",
    "best_param, params, accuracies = optimize_hyperparameters(get_model, iterate_hyperparameters(), train, test, val,\n",
    "                                                          classification=False)\n",
    "plot_2d(params, accuracies, 'alpha', 'mse')\n",
    "regressor = get_model(best_param)\n",
    "\n",
    "rmse_LR_NR_my = test_model(regressor, train, test, classification=False)\n",
    "print(f\"Best rmse for Linear Regression (scratch): {rmse_LR_NR_my} with lr={best_param}\")\n"
   ]
  },
  {
   "cell_type": "markdown",
   "metadata": {
    "collapsed": false
   },
   "source": [
    "## L1 regularization"
   ]
  },
  {
   "cell_type": "markdown",
   "metadata": {
    "collapsed": false
   },
   "source": [
    "### Sklearn"
   ]
  },
  {
   "cell_type": "code",
   "execution_count": 37,
   "metadata": {
    "ExecuteTime": {
     "end_time": "2023-05-25T15:18:38.654884929Z",
     "start_time": "2023-05-25T15:18:33.684166960Z"
    },
    "collapsed": false
   },
   "outputs": [
    {
     "name": "stdout",
     "output_type": "stream",
     "text": [
      "Time taken to train the model:  4.956868648529053\n",
      "Root Mean Squared Error: 8251.875504985122\n"
     ]
    }
   ],
   "source": [
    "regressor = SGDRegressor(max_iter=1000, penalty='l1', learning_rate='constant', shuffle=False, eta0=0.00001, alpha=100)\n",
    "rmse_LR_L1_sk = test_model(regressor, train, test, classification=False)"
   ]
  },
  {
   "cell_type": "markdown",
   "metadata": {
    "collapsed": false
   },
   "source": [
    "### Scratch"
   ]
  },
  {
   "cell_type": "code",
   "execution_count": 41,
   "metadata": {
    "ExecuteTime": {
     "end_time": "2023-05-25T15:21:47.436044713Z",
     "start_time": "2023-05-25T15:21:29.371469339Z"
    },
    "collapsed": false
   },
   "outputs": [
    {
     "name": "stdout",
     "output_type": "stream",
     "text": [
      "Trying hyperparameters: 0.1\n",
      "Time taken to train the model:  2.140456199645996\n",
      "Root Mean Squared Error: 7485.112666374343\n",
      "Value: 7485.112666374343\n",
      "Trying hyperparameters: 0.2\n",
      "Time taken to train the model:  1.0882043838500977\n",
      "Root Mean Squared Error: 7484.96648216334\n",
      "Value: 7484.96648216334\n",
      "Trying hyperparameters: 0.4\n",
      "Time taken to train the model:  0.971642255783081\n",
      "Root Mean Squared Error: 7484.705585117933\n",
      "Value: 7484.705585117933\n",
      "Trying hyperparameters: 0.8\n",
      "Time taken to train the model:  0.9851326942443848\n",
      "Root Mean Squared Error: 7484.280579452767\n",
      "Value: 7484.280579452767\n",
      "Trying hyperparameters: 1.6\n",
      "Time taken to train the model:  0.9722976684570312\n",
      "Root Mean Squared Error: 7483.790943200983\n",
      "Value: 7483.790943200983\n",
      "Trying hyperparameters: 3.2\n",
      "Time taken to train the model:  0.9697942733764648\n",
      "Root Mean Squared Error: 7483.222028489958\n",
      "Value: 7483.222028489958\n",
      "Trying hyperparameters: 6.4\n",
      "Time taken to train the model:  1.206376552581787\n",
      "Root Mean Squared Error: 7482.166399702954\n",
      "Value: 7482.166399702954\n",
      "Trying hyperparameters: 12.8\n",
      "Time taken to train the model:  1.4183785915374756\n",
      "Root Mean Squared Error: 7480.356711428301\n",
      "Value: 7480.356711428301\n",
      "Trying hyperparameters: 25.6\n",
      "Time taken to train the model:  1.6412725448608398\n",
      "Root Mean Squared Error: 7477.51976883736\n",
      "Value: 7477.51976883736\n",
      "Trying hyperparameters: 51.2\n",
      "Time taken to train the model:  0.9095675945281982\n",
      "Root Mean Squared Error: 7474.739103935195\n",
      "Value: 7474.739103935195\n",
      "Trying hyperparameters: 102.4\n",
      "Time taken to train the model:  0.8917005062103271\n",
      "Root Mean Squared Error: 7474.230366996918\n",
      "Value: 7474.230366996918\n",
      "Trying hyperparameters: 204.8\n",
      "Time taken to train the model:  1.6463069915771484\n",
      "Root Mean Squared Error: 7478.8065909543375\n",
      "Value: 7478.8065909543375\n",
      "Trying hyperparameters: 409.6\n",
      "Time taken to train the model:  1.234318494796753\n",
      "Root Mean Squared Error: 7484.90088086959\n",
      "Value: 7484.90088086959\n",
      "Trying hyperparameters: 819.2\n",
      "Time taken to train the model:  0.7815759181976318\n",
      "Root Mean Squared Error: 7534.40074432106\n",
      "Value: 7534.40074432106\n",
      "Best hyperparameters: 102.4\n",
      "Best value: 7474.230366996918\n"
     ]
    },
    {
     "data": {
      "image/png": "[encoded data removed]",
      "text/plain": [
       "<Figure size 640x480 with 1 Axes>"
      ]
     },
     "metadata": {},
     "output_type": "display_data"
    },
    {
     "name": "stdout",
     "output_type": "stream",
     "text": [
      "Time taken to train the model:  1.022836685180664\n",
      "Root Mean Squared Error: 8251.90777476523\n",
      "Best rmse for Linear Regression L1 (scratch): 8251.90777476523 with alpha=102.4\n"
     ]
    }
   ],
   "source": [
    "def get_model(param):\n",
    "    return ScratchLinearRegression(regularization='l1', alpha=param,lr=0.01)\n",
    "\n",
    "\n",
    "def iterate_hyperparameters():\n",
    "    # for alpha in range(1,1000,100):\n",
    "    #     yield alpha\n",
    "    alpha = 0.1\n",
    "    while alpha < 1000:\n",
    "        yield alpha\n",
    "        alpha *= 2\n",
    "\n",
    "\n",
    "best_param, params, accuracies = optimize_hyperparameters(get_model, iterate_hyperparameters(), train, test, val,\n",
    "                                                          classification=False)\n",
    "plot_2d(params, accuracies, 'alpha', 'mse')\n",
    "regressor = ScratchLinearRegression(regularization='l1', alpha=best_param)\n",
    "\n",
    "rmse_LR_L1_my = test_model(regressor, train, test, classification=False)\n",
    "print(f\"Best rmse for Linear Regression L1 (scratch): {rmse_LR_L1_my} with alpha={best_param}\")"
   ]
  },
  {
   "cell_type": "markdown",
   "metadata": {
    "collapsed": false
   },
   "source": [
    "##  L2 regularization"
   ]
  },
  {
   "cell_type": "markdown",
   "metadata": {
    "collapsed": false
   },
   "source": [
    "### Sklearn"
   ]
  },
  {
   "cell_type": "code",
   "execution_count": 47,
   "metadata": {
    "ExecuteTime": {
     "end_time": "2023-05-25T15:22:14.146953478Z",
     "start_time": "2023-05-25T15:22:13.821327179Z"
    },
    "collapsed": false
   },
   "outputs": [
    {
     "name": "stdout",
     "output_type": "stream",
     "text": [
      "Time taken to train the model:  0.32388901710510254\n",
      "Root Mean Squared Error: 8266.18668587692\n"
     ]
    }
   ],
   "source": [
    "regressor = SGDRegressor(max_iter=1000, penalty='l2', learning_rate='constant', shuffle=False, eta0=0.00001, alpha=0.5)\n",
    "rmse_LR_L2_sk = test_model(regressor, train, test, classification=False)"
   ]
  },
  {
   "cell_type": "markdown",
   "metadata": {
    "collapsed": false
   },
   "source": [
    "### Scratch"
   ]
  },
  {
   "cell_type": "code",
   "execution_count": 48,
   "metadata": {
    "ExecuteTime": {
     "end_time": "2023-05-25T15:23:06.986413912Z",
     "start_time": "2023-05-25T15:22:55.267851526Z"
    },
    "collapsed": false
   },
   "outputs": [
    {
     "name": "stdout",
     "output_type": "stream",
     "text": [
      "Trying hyperparameters: 0.001\n",
      "Time taken to train the model:  2.188009262084961\n",
      "Root Mean Squared Error: 7484.88229219937\n",
      "Value: 7484.88229219937\n",
      "Trying hyperparameters: 0.002\n",
      "Time taken to train the model:  1.1739675998687744\n",
      "Root Mean Squared Error: 7484.502882453825\n",
      "Value: 7484.502882453825\n",
      "Trying hyperparameters: 0.004\n",
      "Time taken to train the model:  0.9353456497192383\n",
      "Root Mean Squared Error: 7483.7728705543095\n",
      "Value: 7483.7728705543095\n",
      "Trying hyperparameters: 0.008\n",
      "Time taken to train the model:  0.9559571743011475\n",
      "Root Mean Squared Error: 7482.4243387325205\n",
      "Value: 7482.4243387325205\n",
      "Trying hyperparameters: 0.016\n",
      "Time taken to train the model:  0.8981657028198242\n",
      "Root Mean Squared Error: 7480.145248096583\n",
      "Value: 7480.145248096583\n",
      "Trying hyperparameters: 0.032\n",
      "Time taken to train the model:  0.8814253807067871\n",
      "Root Mean Squared Error: 7477.061750689474\n",
      "Value: 7477.061750689474\n",
      "Trying hyperparameters: 0.064\n",
      "Time taken to train the model:  0.876652717590332\n",
      "Root Mean Squared Error: 7475.5482438162235\n",
      "Value: 7475.5482438162235\n",
      "Trying hyperparameters: 0.128\n",
      "Time taken to train the model:  0.9428689479827881\n",
      "Root Mean Squared Error: 7484.562075735805\n",
      "Value: 7484.562075735805\n",
      "Trying hyperparameters: 0.256\n",
      "Time taken to train the model:  0.8976502418518066\n",
      "Root Mean Squared Error: 7524.126556181185\n",
      "Value: 7524.126556181185\n",
      "Trying hyperparameters: 0.512\n",
      "Time taken to train the model:  0.9176106452941895\n",
      "Root Mean Squared Error: 7616.413157577491\n",
      "Value: 7616.413157577491\n",
      "Best hyperparameters: 0.064\n",
      "Best value: 7475.5482438162235\n"
     ]
    },
    {
     "data": {
      "image/png": "[encoded data removed]",
      "text/plain": [
       "<Figure size 640x480 with 1 Axes>"
      ]
     },
     "metadata": {},
     "output_type": "display_data"
    },
    {
     "name": "stdout",
     "output_type": "stream",
     "text": [
      "Time taken to train the model:  0.8603434562683105\n",
      "Root Mean Squared Error: 8270.084734322667\n",
      "Best rmse for Linear Regression L2 (scratch): 8251.90777476523 with alpha=0.064\n"
     ]
    }
   ],
   "source": [
    "#L2 regularization\n",
    "def get_model(param):\n",
    "    return ScratchLinearRegression(regularization='l2', alpha=param,lr=0.01)\n",
    "\n",
    "def iterate_hyperparameters():\n",
    "    alpha = 0.001\n",
    "    while alpha < 1:\n",
    "        yield alpha\n",
    "        alpha *= 2\n",
    "\n",
    "\n",
    "best_param, params, accuracies = optimize_hyperparameters(get_model, iterate_hyperparameters(), train, test, val,\n",
    "                                                          classification=False)\n",
    "plot_2d(params, accuracies, 'alpha', 'mse')\n",
    "regressor = ScratchLinearRegression(regularization='l2', alpha=best_param)\n",
    "\n",
    "rmse_LR_L2_my = test_model(regressor, train, test, classification=False)\n",
    "print(f\"Best rmse for Linear Regression L2 (scratch): {rmse_LR_L1_my} with alpha={best_param}\")"
   ]
  },
  {
   "cell_type": "markdown",
   "metadata": {
    "collapsed": false
   },
   "source": [
    "## Elastic net regularization"
   ]
  },
  {
   "cell_type": "markdown",
   "metadata": {
    "collapsed": false
   },
   "source": [
    "### Sklearn"
   ]
  },
  {
   "cell_type": "code",
   "execution_count": 53,
   "metadata": {
    "ExecuteTime": {
     "end_time": "2023-05-25T15:25:26.869767984Z",
     "start_time": "2023-05-25T15:25:24.510646672Z"
    },
    "collapsed": false
   },
   "outputs": [
    {
     "name": "stdout",
     "output_type": "stream",
     "text": [
      "Time taken to train the model:  2.3339409828186035\n",
      "Root Mean Squared Error: 8274.942072408272\n"
     ]
    }
   ],
   "source": [
    "from sklearn.linear_model import ElasticNet\n",
    "\n",
    "model = ElasticNet(alpha=0.01, l1_ratio=0.2)\n",
    "rmse_LR_EL_sk = test_model(model, train, test, classification=False)"
   ]
  },
  {
   "cell_type": "code",
   "execution_count": 54,
   "metadata": {
    "ExecuteTime": {
     "end_time": "2023-05-25T15:25:45.656165365Z",
     "start_time": "2023-05-25T15:25:44.002216034Z"
    },
    "collapsed": false
   },
   "outputs": [
    {
     "name": "stdout",
     "output_type": "stream",
     "text": [
      "Time taken to train the model:  1.6507151126861572\n",
      "Root Mean Squared Error: 8269.28193026024\n"
     ]
    }
   ],
   "source": [
    "model = SGDRegressor(max_iter=1000, penalty='elasticnet', learning_rate='constant', shuffle=False, eta0=0.00001,\n",
    "                     early_stopping=False, alpha=0.5, l1_ratio=0.5)\n",
    "rmse_LR_EL_sk = test_model(model, train, test, classification=False)"
   ]
  },
  {
   "cell_type": "markdown",
   "metadata": {
    "collapsed": false
   },
   "source": [
    "### Scratch"
   ]
  },
  {
   "cell_type": "code",
   "execution_count": 13,
   "metadata": {
    "ExecuteTime": {
     "end_time": "2023-05-04T16:20:28.189729853Z",
     "start_time": "2023-05-04T16:18:40.758401899Z"
    },
    "collapsed": false
   },
   "outputs": [
    {
     "name": "stdout",
     "output_type": "stream",
     "text": [
      "Trying hyperparameters: 0.9990009990009991\n",
      "Time taken to train the model:  2.0301804542541504\n",
      "Mean Squared Error: 56006295.459590904\n",
      "Root Mean Squared Error: 7483.735394813936\n",
      "R-squared Score: 0.020662906978738738\n",
      "Value: 56006295.459590904\n",
      "Trying hyperparameters: 0.998003992015968\n",
      "Time taken to train the model:  1.2977888584136963\n",
      "Mean Squared Error: 56000627.83486049\n",
      "Root Mean Squared Error: 7483.3567224114395\n",
      "R-squared Score: 0.020762012179007194\n",
      "Value: 56000627.83486049\n",
      "Trying hyperparameters: 0.9960159362549801\n",
      "Time taken to train the model:  1.377115249633789\n",
      "Mean Squared Error: 55989746.36672418\n",
      "Root Mean Squared Error: 7482.629642493619\n",
      "R-squared Score: 0.02095228767009205\n",
      "Value: 55989746.36672418\n",
      "Trying hyperparameters: 0.9920634920634921\n",
      "Time taken to train the model:  1.4177486896514893\n",
      "Mean Squared Error: 55969809.10386689\n",
      "Root Mean Squared Error: 7481.297287494121\n",
      "R-squared Score: 0.021300914568001206\n",
      "Value: 55969809.10386689\n",
      "Trying hyperparameters: 0.984251968503937\n",
      "Time taken to train the model:  1.7352919578552246\n",
      "Mean Squared Error: 55936914.830106385\n",
      "Root Mean Squared Error: 7479.098530578828\n",
      "R-squared Score: 0.021876110305860674\n",
      "Value: 55936914.830106385\n",
      "Trying hyperparameters: 0.9689922480620154\n",
      "Time taken to train the model:  1.8582735061645508\n",
      "Mean Squared Error: 55892591.49402365\n",
      "Root Mean Squared Error: 7476.134796405403\n",
      "R-squared Score: 0.022651156874394895\n",
      "Value: 55892591.49402365\n",
      "Trying hyperparameters: 0.9398496240601504\n",
      "Time taken to train the model:  1.4508335590362549\n",
      "Mean Squared Error: 55868685.77152188\n",
      "Root Mean Squared Error: 7474.535823147942\n",
      "R-squared Score: 0.023069177037830846\n",
      "Value: 55868685.77152188\n",
      "Trying hyperparameters: 0.8865248226950354\n",
      "Time taken to train the model:  1.217703104019165\n",
      "Mean Squared Error: 55963540.976635225\n",
      "Root Mean Squared Error: 7480.878355957623\n",
      "R-squared Score: 0.021410520273063005\n",
      "Value: 55963540.976635225\n",
      "Trying hyperparameters: 0.7961783439490446\n",
      "Time taken to train the model:  1.6189539432525635\n",
      "Mean Squared Error: 56337611.1981364\n",
      "Root Mean Squared Error: 7505.838474023832\n",
      "R-squared Score: 0.014869454839176233\n",
      "Value: 56337611.1981364\n",
      "Trying hyperparameters: 0.9995002498750625\n",
      "Time taken to train the model:  1.431236982345581\n",
      "Mean Squared Error: 56009182.42386123\n",
      "Root Mean Squared Error: 7483.928274900904\n",
      "R-squared Score: 0.02061242495394222\n",
      "Value: 56009182.42386123\n",
      "Trying hyperparameters: 0.9990009990009991\n",
      "Time taken to train the model:  1.8107337951660156\n",
      "Mean Squared Error: 56006295.459590904\n",
      "Root Mean Squared Error: 7483.735394813936\n",
      "R-squared Score: 0.020662906978738738\n",
      "Value: 56006295.459590904\n",
      "Trying hyperparameters: 0.998003992015968\n",
      "Time taken to train the model:  1.3824310302734375\n",
      "Mean Squared Error: 56000627.83486049\n",
      "Root Mean Squared Error: 7483.3567224114395\n",
      "R-squared Score: 0.020762012179007194\n",
      "Value: 56000627.83486049\n",
      "Trying hyperparameters: 0.9960159362549801\n",
      "Time taken to train the model:  1.162776231765747\n",
      "Mean Squared Error: 55989746.36672418\n",
      "Root Mean Squared Error: 7482.629642493619\n",
      "R-squared Score: 0.02095228767009205\n",
      "Value: 55989746.36672418\n",
      "Trying hyperparameters: 0.9920634920634921\n",
      "Time taken to train the model:  1.1512188911437988\n",
      "Mean Squared Error: 55969809.10386689\n",
      "Root Mean Squared Error: 7481.297287494121\n",
      "R-squared Score: 0.021300914568001206\n",
      "Value: 55969809.10386689\n",
      "Trying hyperparameters: 0.984251968503937\n",
      "Time taken to train the model:  1.1637392044067383\n",
      "Mean Squared Error: 55936914.830106385\n",
      "Root Mean Squared Error: 7479.098530578828\n",
      "R-squared Score: 0.021876110305860674\n",
      "Value: 55936914.830106385\n",
      "Trying hyperparameters: 0.9689922480620154\n",
      "Time taken to train the model:  1.2669203281402588\n",
      "Mean Squared Error: 55892591.49402365\n",
      "Root Mean Squared Error: 7476.134796405403\n",
      "R-squared Score: 0.022651156874394895\n",
      "Value: 55892591.49402365\n",
      "Trying hyperparameters: 0.9398496240601504\n",
      "Time taken to train the model:  1.1713566780090332\n",
      "Mean Squared Error: 55868685.77152188\n",
      "Root Mean Squared Error: 7474.535823147942\n",
      "R-squared Score: 0.023069177037830846\n",
      "Value: 55868685.77152188\n",
      "Trying hyperparameters: 0.8865248226950354\n",
      "Time taken to train the model:  1.1880908012390137\n",
      "Mean Squared Error: 55963540.976635225\n",
      "Root Mean Squared Error: 7480.878355957623\n",
      "R-squared Score: 0.021410520273063005\n",
      "Value: 55963540.976635225\n",
      "Trying hyperparameters: 0.9997500624843788\n",
      "Time taken to train the model:  1.1692147254943848\n",
      "Mean Squared Error: 56010640.90219732\n",
      "Root Mean Squared Error: 7484.025714960987\n",
      "R-squared Score: 0.020586921715026296\n",
      "Value: 56010640.90219732\n",
      "Trying hyperparameters: 0.9995002498750625\n",
      "Time taken to train the model:  2.788912773132324\n",
      "Mean Squared Error: 56009182.42386123\n",
      "Root Mean Squared Error: 7483.928274900904\n",
      "R-squared Score: 0.02061242495394222\n",
      "Value: 56009182.42386123\n",
      "Trying hyperparameters: 0.9990009990009991\n",
      "Time taken to train the model:  1.3371806144714355\n",
      "Mean Squared Error: 56006295.459590904\n",
      "Root Mean Squared Error: 7483.735394813936\n",
      "R-squared Score: 0.020662906978738738\n",
      "Value: 56006295.459590904\n",
      "Trying hyperparameters: 0.998003992015968\n",
      "Time taken to train the model:  1.3080711364746094\n",
      "Mean Squared Error: 56000627.83486049\n",
      "Root Mean Squared Error: 7483.3567224114395\n",
      "R-squared Score: 0.020762012179007194\n",
      "Value: 56000627.83486049\n",
      "Trying hyperparameters: 0.9960159362549801\n",
      "Time taken to train the model:  1.3300220966339111\n",
      "Mean Squared Error: 55989746.36672418\n",
      "Root Mean Squared Error: 7482.629642493619\n",
      "R-squared Score: 0.02095228767009205\n",
      "Value: 55989746.36672418\n",
      "Trying hyperparameters: 0.9920634920634921\n",
      "Time taken to train the model:  1.752396821975708\n",
      "Mean Squared Error: 55969809.10386689\n",
      "Root Mean Squared Error: 7481.297287494121\n",
      "R-squared Score: 0.021300914568001206\n",
      "Value: 55969809.10386689\n",
      "Trying hyperparameters: 0.984251968503937\n",
      "Time taken to train the model:  1.2445948123931885\n",
      "Mean Squared Error: 55936914.830106385\n",
      "Root Mean Squared Error: 7479.098530578828\n",
      "R-squared Score: 0.021876110305860674\n",
      "Value: 55936914.830106385\n",
      "Trying hyperparameters: 0.9689922480620154\n",
      "Time taken to train the model:  1.211306095123291\n",
      "Mean Squared Error: 55892591.49402365\n",
      "Root Mean Squared Error: 7476.134796405403\n",
      "R-squared Score: 0.022651156874394895\n",
      "Value: 55892591.49402365\n",
      "Trying hyperparameters: 0.9398496240601504\n",
      "Time taken to train the model:  1.7040979862213135\n",
      "Mean Squared Error: 55868685.77152188\n",
      "Root Mean Squared Error: 7474.535823147942\n",
      "R-squared Score: 0.023069177037830846\n",
      "Value: 55868685.77152188\n",
      "Trying hyperparameters: 0.9998750156230471\n",
      "Time taken to train the model:  3.2968101501464844\n",
      "Mean Squared Error: 56011371.01277549\n",
      "Root Mean Squared Error: 7484.074492732918\n",
      "R-squared Score: 0.02057415485791958\n",
      "Value: 56011371.01277549\n",
      "Trying hyperparameters: 0.9997500624843788\n",
      "Time taken to train the model:  1.3487129211425781\n",
      "Mean Squared Error: 56010640.90219732\n",
      "Root Mean Squared Error: 7484.025714960987\n",
      "R-squared Score: 0.020586921715026296\n",
      "Value: 56010640.90219732\n",
      "Trying hyperparameters: 0.9995002498750625\n",
      "Time taken to train the model:  1.6753835678100586\n",
      "Mean Squared Error: 56009182.42386123\n",
      "Root Mean Squared Error: 7483.928274900904\n",
      "R-squared Score: 0.02061242495394222\n",
      "Value: 56009182.42386123\n",
      "Trying hyperparameters: 0.9990009990009991\n",
      "Time taken to train the model:  1.807291030883789\n",
      "Mean Squared Error: 56006295.459590904\n",
      "Root Mean Squared Error: 7483.735394813936\n",
      "R-squared Score: 0.020662906978738738\n",
      "Value: 56006295.459590904\n",
      "Trying hyperparameters: 0.998003992015968\n",
      "Time taken to train the model:  1.874758243560791\n",
      "Mean Squared Error: 56000627.83486049\n",
      "Root Mean Squared Error: 7483.3567224114395\n",
      "R-squared Score: 0.020762012179007194\n",
      "Value: 56000627.83486049\n",
      "Trying hyperparameters: 0.9960159362549801\n",
      "Time taken to train the model:  1.5796442031860352\n",
      "Mean Squared Error: 55989746.36672418\n",
      "Root Mean Squared Error: 7482.629642493619\n",
      "R-squared Score: 0.02095228767009205\n",
      "Value: 55989746.36672418\n",
      "Trying hyperparameters: 0.9920634920634921\n",
      "Time taken to train the model:  1.3120615482330322\n",
      "Mean Squared Error: 55969809.10386689\n",
      "Root Mean Squared Error: 7481.297287494121\n",
      "R-squared Score: 0.021300914568001206\n",
      "Value: 55969809.10386689\n",
      "Trying hyperparameters: 0.984251968503937\n",
      "Time taken to train the model:  1.0755929946899414\n",
      "Mean Squared Error: 55936914.830106385\n",
      "Root Mean Squared Error: 7479.098530578828\n",
      "R-squared Score: 0.021876110305860674\n",
      "Value: 55936914.830106385\n",
      "Trying hyperparameters: 0.9689922480620154\n",
      "Time taken to train the model:  1.1365365982055664\n",
      "Mean Squared Error: 55892591.49402365\n",
      "Root Mean Squared Error: 7476.134796405403\n",
      "R-squared Score: 0.022651156874394895\n",
      "Value: 55892591.49402365\n",
      "Trying hyperparameters: 0.9999375039060058\n",
      "Time taken to train the model:  1.358269214630127\n",
      "Mean Squared Error: 56011747.757325664\n",
      "Root Mean Squared Error: 7484.099662439408\n",
      "R-squared Score: 0.020567567028648703\n",
      "Value: 56011747.757325664\n",
      "Trying hyperparameters: 0.9998750156230471\n",
      "Time taken to train the model:  1.1431598663330078\n",
      "Mean Squared Error: 56011371.01277549\n",
      "Root Mean Squared Error: 7484.074492732918\n",
      "R-squared Score: 0.02057415485791958\n",
      "Value: 56011371.01277549\n",
      "Trying hyperparameters: 0.9997500624843788\n",
      "Time taken to train the model:  1.7353763580322266\n",
      "Mean Squared Error: 56010640.90219732\n",
      "Root Mean Squared Error: 7484.025714960987\n",
      "R-squared Score: 0.020586921715026296\n",
      "Value: 56010640.90219732\n",
      "Trying hyperparameters: 0.9995002498750625\n",
      "Time taken to train the model:  1.352457046508789\n",
      "Mean Squared Error: 56009182.42386123\n",
      "Root Mean Squared Error: 7483.928274900904\n",
      "R-squared Score: 0.02061242495394222\n",
      "Value: 56009182.42386123\n",
      "Trying hyperparameters: 0.9990009990009991\n",
      "Time taken to train the model:  1.5854032039642334\n",
      "Mean Squared Error: 56006295.459590904\n",
      "Root Mean Squared Error: 7483.735394813936\n",
      "R-squared Score: 0.020662906978738738\n",
      "Value: 56006295.459590904\n",
      "Trying hyperparameters: 0.998003992015968\n",
      "Time taken to train the model:  1.4559435844421387\n",
      "Mean Squared Error: 56000627.83486049\n",
      "Root Mean Squared Error: 7483.3567224114395\n",
      "R-squared Score: 0.020762012179007194\n",
      "Value: 56000627.83486049\n",
      "Trying hyperparameters: 0.9960159362549801\n",
      "Time taken to train the model:  2.001297950744629\n",
      "Mean Squared Error: 55989746.36672418\n",
      "Root Mean Squared Error: 7482.629642493619\n",
      "R-squared Score: 0.02095228767009205\n",
      "Value: 55989746.36672418\n",
      "Trying hyperparameters: 0.9920634920634921\n",
      "Time taken to train the model:  1.6216800212860107\n",
      "Mean Squared Error: 55969809.10386689\n",
      "Root Mean Squared Error: 7481.297287494121\n",
      "R-squared Score: 0.021300914568001206\n",
      "Value: 55969809.10386689\n",
      "Trying hyperparameters: 0.984251968503937\n",
      "Time taken to train the model:  1.2064800262451172\n",
      "Mean Squared Error: 55936914.830106385\n",
      "Root Mean Squared Error: 7479.098530578828\n",
      "R-squared Score: 0.021876110305860674\n",
      "Value: 55936914.830106385\n",
      "Trying hyperparameters: 0.999968750976532\n",
      "Time taken to train the model:  1.2193515300750732\n",
      "Mean Squared Error: 56011929.39254637\n",
      "Root Mean Squared Error: 7484.111797170482\n",
      "R-squared Score: 0.0205643909194706\n",
      "Value: 56011929.39254637\n",
      "Trying hyperparameters: 0.9999375039060058\n",
      "Time taken to train the model:  1.7526741027832031\n",
      "Mean Squared Error: 56011747.757325664\n",
      "Root Mean Squared Error: 7484.099662439408\n",
      "R-squared Score: 0.020567567028648703\n",
      "Value: 56011747.757325664\n",
      "Trying hyperparameters: 0.9998750156230471\n",
      "Time taken to train the model:  2.9826319217681885\n",
      "Mean Squared Error: 56011371.01277549\n",
      "Root Mean Squared Error: 7484.074492732918\n",
      "R-squared Score: 0.02057415485791958\n",
      "Value: 56011371.01277549\n",
      "Trying hyperparameters: 0.9997500624843788\n",
      "Time taken to train the model:  1.3723807334899902\n",
      "Mean Squared Error: 56010640.90219732\n",
      "Root Mean Squared Error: 7484.025714960987\n",
      "R-squared Score: 0.020586921715026296\n",
      "Value: 56010640.90219732\n",
      "Trying hyperparameters: 0.9995002498750625\n",
      "Time taken to train the model:  2.0687649250030518\n",
      "Mean Squared Error: 56009182.42386123\n",
      "Root Mean Squared Error: 7483.928274900904\n",
      "R-squared Score: 0.02061242495394222\n",
      "Value: 56009182.42386123\n",
      "Trying hyperparameters: 0.9990009990009991\n",
      "Time taken to train the model:  1.766843318939209\n",
      "Mean Squared Error: 56006295.459590904\n",
      "Root Mean Squared Error: 7483.735394813936\n",
      "R-squared Score: 0.020662906978738738\n",
      "Value: 56006295.459590904\n",
      "Trying hyperparameters: 0.998003992015968\n",
      "Time taken to train the model:  1.367438554763794\n",
      "Mean Squared Error: 56000627.83486049\n",
      "Root Mean Squared Error: 7483.3567224114395\n",
      "R-squared Score: 0.020762012179007194\n",
      "Value: 56000627.83486049\n",
      "Trying hyperparameters: 0.9960159362549801\n",
      "Time taken to train the model:  1.4093718528747559\n",
      "Mean Squared Error: 55989746.36672418\n",
      "Root Mean Squared Error: 7482.629642493619\n",
      "R-squared Score: 0.02095228767009205\n",
      "Value: 55989746.36672418\n",
      "Trying hyperparameters: 0.9920634920634921\n",
      "Time taken to train the model:  1.1931064128875732\n",
      "Mean Squared Error: 55969809.10386689\n",
      "Root Mean Squared Error: 7481.297287494121\n",
      "R-squared Score: 0.021300914568001206\n",
      "Value: 55969809.10386689\n",
      "Trying hyperparameters: 0.9999843752441367\n",
      "Time taken to train the model:  1.2032601833343506\n",
      "Mean Squared Error: 56012018.779356726\n",
      "Root Mean Squared Error: 7484.117768939551\n",
      "R-squared Score: 0.020562827884131663\n",
      "Value: 56012018.779356726\n",
      "Trying hyperparameters: 0.999968750976532\n",
      "Time taken to train the model:  1.1621477603912354\n",
      "Mean Squared Error: 56011929.39254637\n",
      "Root Mean Squared Error: 7484.111797170482\n",
      "R-squared Score: 0.0205643909194706\n",
      "Value: 56011929.39254637\n",
      "Trying hyperparameters: 0.9999375039060058\n",
      "Time taken to train the model:  1.1785576343536377\n",
      "Mean Squared Error: 56011747.757325664\n",
      "Root Mean Squared Error: 7484.099662439408\n",
      "R-squared Score: 0.020567567028648703\n",
      "Value: 56011747.757325664\n",
      "Trying hyperparameters: 0.9998750156230471\n",
      "Time taken to train the model:  1.140540361404419\n",
      "Mean Squared Error: 56011371.01277549\n",
      "Root Mean Squared Error: 7484.074492732918\n",
      "R-squared Score: 0.02057415485791958\n",
      "Value: 56011371.01277549\n",
      "Trying hyperparameters: 0.9997500624843788\n",
      "Time taken to train the model:  1.2737116813659668\n",
      "Mean Squared Error: 56010640.90219732\n",
      "Root Mean Squared Error: 7484.025714960987\n",
      "R-squared Score: 0.020586921715026296\n",
      "Value: 56010640.90219732\n",
      "Trying hyperparameters: 0.9995002498750625\n",
      "Time taken to train the model:  1.159527063369751\n",
      "Mean Squared Error: 56009182.42386123\n",
      "Root Mean Squared Error: 7483.928274900904\n",
      "R-squared Score: 0.02061242495394222\n",
      "Value: 56009182.42386123\n",
      "Trying hyperparameters: 0.9990009990009991\n",
      "Time taken to train the model:  1.178333044052124\n",
      "Mean Squared Error: 56006295.459590904\n",
      "Root Mean Squared Error: 7483.735394813936\n",
      "R-squared Score: 0.020662906978738738\n",
      "Value: 56006295.459590904\n",
      "Trying hyperparameters: 0.998003992015968\n",
      "Time taken to train the model:  1.5341899394989014\n",
      "Mean Squared Error: 56000627.83486049\n",
      "Root Mean Squared Error: 7483.3567224114395\n",
      "R-squared Score: 0.020762012179007194\n",
      "Value: 56000627.83486049\n",
      "Trying hyperparameters: 0.9960159362549801\n",
      "Time taken to train the model:  1.6140367984771729\n",
      "Mean Squared Error: 55989746.36672418\n",
      "Root Mean Squared Error: 7482.629642493619\n",
      "R-squared Score: 0.02095228767009205\n",
      "Value: 55989746.36672418\n",
      "Trying hyperparameters: 0.9999921875610347\n",
      "Time taken to train the model:  1.3432915210723877\n",
      "Mean Squared Error: 56012064.01726305\n",
      "Root Mean Squared Error: 7484.120791199394\n",
      "R-squared Score: 0.020562036845208187\n",
      "Value: 56012064.01726305\n",
      "Trying hyperparameters: 0.9999843752441367\n",
      "Time taken to train the model:  1.1820998191833496\n",
      "Mean Squared Error: 56012018.779356726\n",
      "Root Mean Squared Error: 7484.117768939551\n",
      "R-squared Score: 0.020562827884131663\n",
      "Value: 56012018.779356726\n",
      "Trying hyperparameters: 0.999968750976532\n",
      "Time taken to train the model:  1.2255964279174805\n",
      "Mean Squared Error: 56011929.39254637\n",
      "Root Mean Squared Error: 7484.111797170482\n",
      "R-squared Score: 0.0205643909194706\n",
      "Value: 56011929.39254637\n",
      "Trying hyperparameters: 0.9999375039060058\n",
      "Time taken to train the model:  1.2429084777832031\n",
      "Mean Squared Error: 56011747.757325664\n",
      "Root Mean Squared Error: 7484.099662439408\n",
      "R-squared Score: 0.020567567028648703\n",
      "Value: 56011747.757325664\n",
      "Trying hyperparameters: 0.9998750156230471\n",
      "Time taken to train the model:  1.2382092475891113\n",
      "Mean Squared Error: 56011371.01277549\n",
      "Root Mean Squared Error: 7484.074492732918\n",
      "R-squared Score: 0.02057415485791958\n",
      "Value: 56011371.01277549\n",
      "Trying hyperparameters: 0.9997500624843788\n",
      "Time taken to train the model:  1.2198710441589355\n",
      "Mean Squared Error: 56010640.90219732\n",
      "Root Mean Squared Error: 7484.025714960987\n",
      "R-squared Score: 0.020586921715026296\n",
      "Value: 56010640.90219732\n",
      "Trying hyperparameters: 0.9995002498750625\n",
      "Time taken to train the model:  1.2450175285339355\n",
      "Mean Squared Error: 56009182.42386123\n",
      "Root Mean Squared Error: 7483.928274900904\n",
      "R-squared Score: 0.02061242495394222\n",
      "Value: 56009182.42386123\n",
      "Trying hyperparameters: 0.9990009990009991\n",
      "Time taken to train the model:  1.302767276763916\n",
      "Mean Squared Error: 56006295.459590904\n",
      "Root Mean Squared Error: 7483.735394813936\n",
      "R-squared Score: 0.020662906978738738\n",
      "Value: 56006295.459590904\n",
      "Trying hyperparameters: 0.998003992015968\n",
      "Time taken to train the model:  1.2321643829345703\n",
      "Mean Squared Error: 56000627.83486049\n",
      "Root Mean Squared Error: 7483.3567224114395\n",
      "R-squared Score: 0.020762012179007194\n",
      "Value: 56000627.83486049\n",
      "Best hyperparameters: 0.9398496240601504\n",
      "Best value: 55868685.77152188\n"
     ]
    },
    {
     "data": {
      "image/png": "[encoded data removed]",
      "text/plain": [
       "<Figure size 640x480 with 1 Axes>"
      ]
     },
     "metadata": {},
     "output_type": "display_data"
    },
    {
     "name": "stdout",
     "output_type": "stream",
     "text": [
      "Time taken to train the model:  1.145259141921997\n",
      "Mean Squared Error: 68387676.64274618\n",
      "Root Mean Squared Error: 8269.684192443276\n",
      "R-squared Score: 0.03134081491081331\n"
     ]
    },
    {
     "data": {
      "text/plain": [
       "68387676.64274618"
      ]
     },
     "execution_count": 13,
     "metadata": {},
     "output_type": "execute_result"
    }
   ],
   "source": [
    "def get_model(param):\n",
    "    return ScratchLinearRegression(regularization='elasticnet', alpha=param)\n",
    "\n",
    "\n",
    "def iterate_hyperparameters():\n",
    "    l1 = 1\n",
    "    while l1 < 200:\n",
    "        l2 = 0.001\n",
    "        while l2 < 0.5:\n",
    "            yield l1 / (l1 + l2)\n",
    "            l2 *= 2\n",
    "        l1 *= 2\n",
    "\n",
    "\n",
    "best_param, params, accuracies = optimize_hyperparameters(get_model, iterate_hyperparameters(), train, test, val,\n",
    "                                                          classification=False)\n",
    "plot_2d(params, accuracies, 'alpha', 'mse')\n",
    "regressor = ScratchLinearRegression(regularization='elasticnet', alpha=best_param)\n",
    "\n",
    "rmse_LR_EL_my = test_model(regressor, train, test, classification=False)"
   ]
  },
  {
   "cell_type": "code",
   "execution_count": 14,
   "metadata": {
    "ExecuteTime": {
     "end_time": "2023-05-04T16:20:42.290898654Z",
     "start_time": "2023-05-04T16:20:28.185754070Z"
    },
    "collapsed": false
   },
   "outputs": [
    {
     "name": "stdout",
     "output_type": "stream",
     "text": [
      "Trying hyperparameters: 0.91\n",
      "Time taken to train the model:  1.3808584213256836\n",
      "Mean Squared Error: 55904913.86416126\n",
      "Root Mean Squared Error: 7476.958864682971\n",
      "R-squared Score: 0.022435685487639745\n",
      "Value: 55904913.86416126\n",
      "Trying hyperparameters: 0.92\n",
      "Time taken to train the model:  1.1047961711883545\n",
      "Mean Squared Error: 55887276.51624723\n",
      "Root Mean Squared Error: 7475.779325010018\n",
      "R-squared Score: 0.022744095620697014\n",
      "Value: 55887276.51624723\n",
      "Trying hyperparameters: 0.93\n",
      "Time taken to train the model:  1.0943922996520996\n",
      "Mean Squared Error: 55875007.554799184\n",
      "Root Mean Squared Error: 7474.958699203574\n",
      "R-squared Score: 0.022958633092606373\n",
      "Value: 55875007.554799184\n",
      "Trying hyperparameters: 0.9400000000000001\n",
      "Time taken to train the model:  1.1066339015960693\n",
      "Mean Squared Error: 55868637.835250504\n",
      "Root Mean Squared Error: 7474.5326165085735\n",
      "R-squared Score: 0.023070015260896137\n",
      "Value: 55868637.835250504\n",
      "Trying hyperparameters: 0.9500000000000001\n",
      "Time taken to train the model:  1.271787166595459\n",
      "Mean Squared Error: 55868999.46668706\n",
      "Root Mean Squared Error: 7474.556807375743\n",
      "R-squared Score: 0.02306369170250122\n",
      "Value: 55868999.46668706\n",
      "Trying hyperparameters: 0.96\n",
      "Time taken to train the model:  1.7568812370300293\n",
      "Mean Squared Error: 55877335.58384954\n",
      "Root Mean Squared Error: 7475.114419448678\n",
      "R-squared Score: 0.0229179247189506\n",
      "Value: 55877335.58384954\n",
      "Trying hyperparameters: 0.97\n",
      "Time taken to train the model:  1.7324693202972412\n",
      "Mean Squared Error: 55894795.39734665\n",
      "Root Mean Squared Error: 7476.282190858412\n",
      "R-squared Score: 0.022612618987610356\n",
      "Value: 55894795.39734665\n",
      "Trying hyperparameters: 0.98\n",
      "Time taken to train the model:  1.690969705581665\n",
      "Mean Squared Error: 55921997.89652533\n",
      "Root Mean Squared Error: 7478.10122267179\n",
      "R-squared Score: 0.02213695073906885\n",
      "Value: 55921997.89652533\n",
      "Trying hyperparameters: 0.99\n",
      "Time taken to train the model:  1.564241647720337\n",
      "Mean Squared Error: 55960379.53979073\n",
      "Root Mean Squared Error: 7480.667051793625\n",
      "R-squared Score: 0.021465801779251836\n",
      "Value: 55960379.53979073\n",
      "Best hyperparameters: 0.9400000000000001\n",
      "Best value: 55868637.835250504\n"
     ]
    },
    {
     "data": {
      "image/png": "[encoded data removed]",
      "text/plain": [
       "<Figure size 640x480 with 1 Axes>"
      ]
     },
     "metadata": {},
     "output_type": "display_data"
    },
    {
     "name": "stdout",
     "output_type": "stream",
     "text": [
      "Time taken to train the model:  1.1934008598327637\n",
      "Mean Squared Error: 68387703.38223955\n",
      "Root Mean Squared Error: 8269.685809161045\n",
      "R-squared Score: 0.031340436166321206\n"
     ]
    },
    {
     "data": {
      "text/plain": [
       "68387703.38223955"
      ]
     },
     "execution_count": 14,
     "metadata": {},
     "output_type": "execute_result"
    }
   ],
   "source": [
    "#Elastic net regularization\n",
    "\n",
    "def get_model(param):\n",
    "    return ScratchLinearRegression(regularization='elasticnet', alpha=param)\n",
    "\n",
    "\n",
    "def iterate_hyperparameters():\n",
    "    # for alpha in range(1,1000,100): #giuliu dice esponenziale tra 0 e 1\n",
    "    #     yield alpha\n",
    "\n",
    "    for a in range(1, 10):\n",
    "        yield 0.9 + a / 100\n",
    "\n",
    "\n",
    "best_param, params, accuracies = optimize_hyperparameters(get_model, iterate_hyperparameters(), train, test, val,\n",
    "                                                          classification=False)\n",
    "plot_2d(params, accuracies, 'alpha', 'mse')\n",
    "regressor = ScratchLinearRegression(regularization='elasticnet', alpha=best_param)\n",
    "\n",
    "rmse_LR_EL_my = test_model(regressor, train, test, classification=False)"
   ]
  },
  {
   "cell_type": "code",
   "execution_count": 19,
   "metadata": {
    "ExecuteTime": {
     "end_time": "2023-05-04T16:31:19.915005247Z",
     "start_time": "2023-05-04T16:29:22.764265043Z"
    },
    "collapsed": false
   },
   "outputs": [
    {
     "name": "stdout",
     "output_type": "stream",
     "text": [
      "Trying hyperparameters: (0.01, 0.5)\n",
      "Time taken to train the model:  1.8538179397583008\n",
      "Mean Squared Error: 56001486.63726316\n",
      "Root Mean Squared Error: 7483.414103018966\n",
      "R-squared Score: 0.020746994991357015\n",
      "Value: 56001486.63726316\n",
      "Trying hyperparameters: (0.01, 0.6)\n",
      "Time taken to train the model:  1.1796128749847412\n",
      "Mean Squared Error: 56006714.014235385\n",
      "Root Mean Squared Error: 7483.763359048399\n",
      "R-squared Score: 0.020655588049939166\n",
      "Value: 56006714.014235385\n",
      "Trying hyperparameters: (0.01, 0.7)\n",
      "Time taken to train the model:  1.4242687225341797\n",
      "Mean Squared Error: 56012081.66403663\n",
      "Root Mean Squared Error: 7484.1219701469745\n",
      "R-squared Score: 0.02056172827025593\n",
      "Value: 56012081.66403663\n",
      "Trying hyperparameters: (0.01, 0.8)\n",
      "Time taken to train the model:  1.2425601482391357\n",
      "Mean Squared Error: 56017591.62969057\n",
      "Root Mean Squared Error: 7484.490071453804\n",
      "R-squared Score: 0.020465379927593785\n",
      "Value: 56017591.62969057\n",
      "Trying hyperparameters: (0.01, 0.9)\n",
      "Time taken to train the model:  1.1882824897766113\n",
      "Mean Squared Error: 56023245.98219255\n",
      "Root Mean Squared Error: 7484.867799914208\n",
      "R-squared Score: 0.02036650680812102\n",
      "Value: 56023245.98219255\n",
      "Trying hyperparameters: (0.02, 0.5)\n",
      "Time taken to train the model:  1.1364436149597168\n",
      "Mean Squared Error: 55977158.533417664\n",
      "Root Mean Squared Error: 7481.788458210888\n",
      "R-squared Score: 0.021172400998007768\n",
      "Value: 55977158.533417664\n",
      "Trying hyperparameters: (0.02, 0.6)\n",
      "Time taken to train the model:  1.4089787006378174\n",
      "Mean Squared Error: 55986395.332346596\n",
      "Root Mean Squared Error: 7482.405718239729\n",
      "R-squared Score: 0.021010884516018513\n",
      "Value: 55986395.332346596\n",
      "Trying hyperparameters: (0.02, 0.7)\n",
      "Time taken to train the model:  1.800849437713623\n",
      "Mean Squared Error: 55996162.33938469\n",
      "Root Mean Squared Error: 7483.058354669211\n",
      "R-squared Score: 0.020840096710795675\n",
      "Value: 55996162.33938469\n",
      "Trying hyperparameters: (0.02, 0.8)\n",
      "Time taken to train the model:  2.934035301208496\n",
      "Mean Squared Error: 56006477.48683927\n",
      "Root Mean Squared Error: 7483.747556327597\n",
      "R-squared Score: 0.020659724014488012\n",
      "Value: 56006477.48683927\n",
      "Trying hyperparameters: (0.02, 0.9)\n",
      "Time taken to train the model:  1.44484281539917\n",
      "Mean Squared Error: 56017352.78948035\n",
      "Root Mean Squared Error: 7484.474115759927\n",
      "R-squared Score: 0.02046955633446479\n",
      "Value: 56017352.78948035\n",
      "Trying hyperparameters: (0.04, 0.5)\n",
      "Time taken to train the model:  1.223076581954956\n",
      "Mean Squared Error: 55938002.97917989\n",
      "Root Mean Squared Error: 7479.171276229733\n",
      "R-squared Score: 0.021857082717235632\n",
      "Value: 55938002.97917989\n",
      "Trying hyperparameters: (0.04, 0.6)\n",
      "Time taken to train the model:  1.760732650756836\n",
      "Mean Squared Error: 55952046.63706203\n",
      "Root Mean Squared Error: 7480.110068512497\n",
      "R-squared Score: 0.02161151255458127\n",
      "Value: 55952046.63706203\n",
      "Trying hyperparameters: (0.04, 0.7)\n",
      "Time taken to train the model:  2.5125441551208496\n",
      "Mean Squared Error: 55967987.5552532\n",
      "Root Mean Squared Error: 7481.175546346523\n",
      "R-squared Score: 0.021332766525169355\n",
      "Value: 55967987.5552532\n",
      "Trying hyperparameters: (0.04, 0.8)\n",
      "Time taken to train the model:  2.084228992462158\n",
      "Mean Squared Error: 55985933.670282535\n",
      "Root Mean Squared Error: 7482.37486833442\n",
      "R-squared Score: 0.021018957229631652\n",
      "Value: 55985933.670282535\n",
      "Trying hyperparameters: (0.04, 0.9)\n",
      "Time taken to train the model:  1.2820885181427002\n",
      "Mean Squared Error: 56006007.32939549\n",
      "Root Mean Squared Error: 7483.716144362738\n",
      "R-squared Score: 0.020667945279980948\n",
      "Value: 56006007.32939549\n",
      "Trying hyperparameters: (0.08, 0.5)\n",
      "Time taken to train the model:  1.434873104095459\n",
      "Mean Squared Error: 55892231.72222653\n",
      "Root Mean Squared Error: 7476.110735016338\n",
      "R-squared Score: 0.02265744791476909\n",
      "Value: 55892231.72222653\n",
      "Trying hyperparameters: (0.08, 0.6)\n",
      "Time taken to train the model:  1.801579475402832\n",
      "Mean Squared Error: 55905513.44775404\n",
      "Root Mean Squared Error: 7476.998959994179\n",
      "R-squared Score: 0.022425201051060717\n",
      "Value: 55905513.44775404\n",
      "Trying hyperparameters: (0.08, 0.7)\n",
      "Time taken to train the model:  1.4306344985961914\n",
      "Mean Squared Error: 55924933.3621709\n",
      "Root Mean Squared Error: 7478.2974908846\n",
      "R-squared Score: 0.02208562060968966\n",
      "Value: 55924933.3621709\n",
      "Trying hyperparameters: (0.08, 0.8)\n",
      "Time taken to train the model:  1.655165433883667\n",
      "Mean Squared Error: 55951178.916724704\n",
      "Root Mean Squared Error: 7480.052066444772\n",
      "R-squared Score: 0.0216266856829902\n",
      "Value: 55951178.916724704\n",
      "Trying hyperparameters: (0.08, 0.9)\n",
      "Time taken to train the model:  1.2989389896392822\n",
      "Mean Squared Error: 55985020.617181204\n",
      "Root Mean Squared Error: 7482.313854495894\n",
      "R-squared Score: 0.021034923055664123\n",
      "Value: 55985020.617181204\n",
      "Trying hyperparameters: (0.16, 0.5)\n",
      "Time taken to train the model:  1.9120991230010986\n",
      "Mean Squared Error: 55898059.90363465\n",
      "Root Mean Squared Error: 7476.500511846077\n",
      "R-squared Score: 0.022555535188869436\n",
      "Value: 55898059.90363465\n",
      "Trying hyperparameters: (0.16, 0.6)\n",
      "Time taken to train the model:  2.4695944786071777\n",
      "Mean Squared Error: 55882315.2753502\n",
      "Root Mean Squared Error: 7475.447496662003\n",
      "R-squared Score: 0.02283084885438258\n",
      "Value: 55882315.2753502\n",
      "Trying hyperparameters: (0.16, 0.7)\n",
      "Time taken to train the model:  1.8593683242797852\n",
      "Mean Squared Error: 55883076.293112636\n",
      "Root Mean Squared Error: 7475.498397639627\n",
      "R-squared Score: 0.022817541548175613\n",
      "Value: 55883076.293112636\n",
      "Trying hyperparameters: (0.16, 0.8)\n",
      "Time taken to train the model:  2.893733024597168\n",
      "Mean Squared Error: 55903976.79430734\n",
      "Root Mean Squared Error: 7476.896200583992\n",
      "R-squared Score: 0.022452071275329555\n",
      "Value: 55903976.79430734\n",
      "Trying hyperparameters: (0.16, 0.9)\n",
      "Time taken to train the model:  3.271308422088623\n",
      "Mean Squared Error: 55949479.22675798\n",
      "Root Mean Squared Error: 7479.938450733267\n",
      "R-squared Score: 0.02165640679590053\n",
      "Value: 55949479.22675798\n",
      "Trying hyperparameters: (0.32, 0.5)\n",
      "Time taken to train the model:  4.058242321014404\n",
      "Mean Squared Error: 56139567.26610685\n",
      "Root Mean Squared Error: 7492.634200740541\n",
      "R-squared Score: 0.01833248996929393\n",
      "Value: 56139567.26610685\n",
      "Trying hyperparameters: (0.32, 0.6)\n",
      "Time taken to train the model:  1.8220763206481934\n",
      "Mean Squared Error: 56016728.047247484\n",
      "Root Mean Squared Error: 7484.432379763177\n",
      "R-squared Score: 0.02048048069997055\n",
      "Value: 56016728.047247484\n",
      "Trying hyperparameters: (0.32, 0.7)\n",
      "Time taken to train the model:  1.7571334838867188\n",
      "Mean Squared Error: 55925508.05058487\n",
      "Root Mean Squared Error: 7478.335914532381\n",
      "R-squared Score: 0.02207557149510153\n",
      "Value: 55925508.05058487\n",
      "Trying hyperparameters: (0.32, 0.8)\n",
      "Time taken to train the model:  1.4899237155914307\n",
      "Mean Squared Error: 55879871.92289975\n",
      "Root Mean Squared Error: 7475.284069712652\n",
      "R-squared Score: 0.022873573795684554\n",
      "Value: 55879871.92289975\n",
      "Trying hyperparameters: (0.32, 0.9)\n",
      "Time taken to train the model:  1.2956573963165283\n",
      "Mean Squared Error: 55901010.0436664\n",
      "Root Mean Squared Error: 7476.697803420063\n",
      "R-squared Score: 0.02250394846028858\n",
      "Value: 55901010.0436664\n",
      "Trying hyperparameters: (0.64, 0.5)\n",
      "Time taken to train the model:  1.376194953918457\n",
      "Mean Squared Error: 56963519.18202308\n",
      "Root Mean Squared Error: 7547.418047387006\n",
      "R-squared Score: 0.003924704781914423\n",
      "Value: 56963519.18202308\n",
      "Trying hyperparameters: (0.64, 0.6)\n",
      "Time taken to train the model:  1.3246557712554932\n",
      "Mean Squared Error: 56610663.01033048\n",
      "Root Mean Squared Error: 7524.005782183483\n",
      "R-squared Score: 0.010094817170250625\n",
      "Value: 56610663.01033048\n",
      "Trying hyperparameters: (0.64, 0.7)\n",
      "Time taken to train the model:  1.1954381465911865\n",
      "Mean Squared Error: 56282113.2279576\n",
      "Root Mean Squared Error: 7502.140576392687\n",
      "R-squared Score: 0.015839903256402832\n",
      "Value: 56282113.2279576\n",
      "Trying hyperparameters: (0.64, 0.8)\n",
      "Time taken to train the model:  1.4872102737426758\n",
      "Mean Squared Error: 56013605.07439429\n",
      "Root Mean Squared Error: 7484.223745612787\n",
      "R-squared Score: 0.020535089617245483\n",
      "Value: 56013605.07439429\n",
      "Trying hyperparameters: (0.64, 0.9)\n",
      "Time taken to train the model:  1.3352956771850586\n",
      "Mean Squared Error: 55875236.99763788\n",
      "Root Mean Squared Error: 7474.974046619686\n",
      "R-squared Score: 0.022954621010021437\n",
      "Value: 55875236.99763788\n",
      "Trying hyperparameters: (1.28, 0.5)\n",
      "Time taken to train the model:  1.2180016040802002\n",
      "Mean Squared Error: 58640044.14118029\n",
      "Root Mean Squared Error: 7657.678769782674\n",
      "R-squared Score: -0.025391340252045147\n",
      "Value: 58640044.14118029\n",
      "Trying hyperparameters: (1.28, 0.6)\n",
      "Time taken to train the model:  1.1907665729522705\n",
      "Mean Squared Error: 58009276.9746513\n",
      "Root Mean Squared Error: 7616.382144735865\n",
      "R-squared Score: -0.014361621571803873\n",
      "Value: 58009276.9746513\n",
      "Trying hyperparameters: (1.28, 0.7)\n",
      "Time taken to train the model:  1.4496521949768066\n",
      "Mean Squared Error: 57319370.82834936\n",
      "Root Mean Squared Error: 7570.955740746961\n",
      "R-squared Score: -0.002297787064764689\n",
      "Value: 57319370.82834936\n",
      "Trying hyperparameters: (1.28, 0.8)\n",
      "Time taken to train the model:  1.429321527481079\n",
      "Mean Squared Error: 56607772.6616759\n",
      "Root Mean Squared Error: 7523.81370460991\n",
      "R-squared Score: 0.010145358375055591\n",
      "Value: 56607772.6616759\n",
      "Trying hyperparameters: (1.28, 0.9)\n",
      "Time taken to train the model:  1.3809239864349365\n",
      "Mean Squared Error: 56007782.13302331\n",
      "Root Mean Squared Error: 7483.8347211188\n",
      "R-squared Score: 0.02063691071482565\n",
      "Value: 56007782.13302331\n",
      "Trying hyperparameters: (2.56, 0.5)\n",
      "Time taken to train the model:  1.3893134593963623\n",
      "Mean Squared Error: 60920183.56778435\n",
      "Root Mean Squared Error: 7805.138279863102\n",
      "R-squared Score: -0.06526230653198306\n",
      "Value: 60920183.56778435\n",
      "Trying hyperparameters: (2.56, 0.6)\n",
      "Time taken to train the model:  1.269221544265747\n",
      "Mean Squared Error: 60159341.45303201\n",
      "Root Mean Squared Error: 7756.2453192915455\n",
      "R-squared Score: -0.05195807173489109\n",
      "Value: 60159341.45303201\n",
      "Trying hyperparameters: (2.56, 0.7)\n",
      "Time taken to train the model:  1.2241663932800293\n",
      "Mean Squared Error: 59206276.81214376\n",
      "Root Mean Squared Error: 7694.5615087634305\n",
      "R-squared Score: -0.03529259605560253\n",
      "Value: 59206276.81214376\n",
      "Trying hyperparameters: (2.56, 0.8)\n",
      "Time taken to train the model:  1.1485984325408936\n",
      "Mean Squared Error: 58008646.57787679\n",
      "Root Mean Squared Error: 7616.340760357089\n",
      "R-squared Score: -0.01435059832987129\n",
      "Value: 58008646.57787679\n",
      "Trying hyperparameters: (2.56, 0.9)\n",
      "Time taken to train the model:  1.2800097465515137\n",
      "Mean Squared Error: 56602511.85826471\n",
      "Root Mean Squared Error: 7523.464086327834\n",
      "R-squared Score: 0.010237349817756813\n",
      "Value: 56602511.85826471\n",
      "Trying hyperparameters: (5.12, 0.5)\n",
      "Time taken to train the model:  1.3638484477996826\n",
      "Mean Squared Error: 63154665.69615499\n",
      "Root Mean Squared Error: 7946.990983772096\n",
      "R-squared Score: -0.1043349003189682\n",
      "Value: 63154665.69615499\n",
      "Trying hyperparameters: (5.12, 0.6)\n",
      "Time taken to train the model:  1.5926134586334229\n",
      "Mean Squared Error: 62478544.18999298\n",
      "Root Mean Squared Error: 7904.337049366821\n",
      "R-squared Score: -0.09251210673942123\n",
      "Value: 62478544.18999298\n",
      "Trying hyperparameters: (5.12, 0.7)\n",
      "Time taken to train the model:  1.30717134475708\n",
      "Mean Squared Error: 61541515.58872233\n",
      "Root Mean Squared Error: 7844.840061385722\n",
      "R-squared Score: -0.07612704040150775\n",
      "Value: 61541515.58872233\n",
      "Trying hyperparameters: (5.12, 0.8)\n",
      "Time taken to train the model:  1.1009931564331055\n",
      "Mean Squared Error: 60162748.01637984\n",
      "Root Mean Squared Error: 7756.464917498167\n",
      "R-squared Score: -0.052017639571307894\n",
      "Value: 60162748.01637984\n",
      "Trying hyperparameters: (5.12, 0.9)\n",
      "Time taken to train the model:  1.1943120956420898\n",
      "Mean Squared Error: 58007988.7197098\n",
      "Root Mean Squared Error: 7616.297572949064\n",
      "R-squared Score: -0.014339094892630966\n",
      "Value: 58007988.7197098\n",
      "Trying hyperparameters: (10.24, 0.5)\n",
      "Time taken to train the model:  1.1762523651123047\n",
      "Mean Squared Error: 64880797.32953644\n",
      "Root Mean Squared Error: 8054.861720075425\n",
      "R-squared Score: -0.13451837741088757\n",
      "Value: 64880797.32953644\n",
      "Trying hyperparameters: (10.24, 0.6)\n",
      "Time taken to train the model:  1.3916873931884766\n",
      "Mean Squared Error: 64395026.44762521\n",
      "Root Mean Squared Error: 8024.651172956069\n",
      "R-squared Score: -0.1260240922691651\n",
      "Value: 64395026.44762521\n",
      "Trying hyperparameters: (10.24, 0.7)\n",
      "Time taken to train the model:  1.323089838027954\n",
      "Mean Squared Error: 63673876.780765474\n",
      "Root Mean Squared Error: 7979.591266522708\n",
      "R-squared Score: -0.11341392741930045\n",
      "Value: 63673876.780765474\n",
      "Trying hyperparameters: (10.24, 0.8)\n",
      "Time taken to train the model:  1.608048915863037\n",
      "Mean Squared Error: 62487235.514864154\n",
      "Root Mean Squared Error: 7904.886812274048\n",
      "R-squared Score: -0.09266408495479839\n",
      "Value: 62487235.514864154\n",
      "Trying hyperparameters: (10.24, 0.9)\n",
      "Time taken to train the model:  2.2476720809936523\n",
      "Mean Squared Error: 60169955.26371504\n",
      "Root Mean Squared Error: 7756.929499725716\n",
      "R-squared Score: -0.052143666915127396\n",
      "Value: 60169955.26371504\n",
      "Trying hyperparameters: (20.48, 0.5)\n",
      "Time taken to train the model:  1.746173620223999\n",
      "Mean Squared Error: 66014768.67593345\n",
      "Root Mean Squared Error: 8124.9473029634755\n",
      "R-squared Score: -0.15434722330824058\n",
      "Value: 66014768.67593345\n",
      "Trying hyperparameters: (20.48, 0.6)\n",
      "Time taken to train the model:  1.5850493907928467\n",
      "Mean Squared Error: 65712695.092047416\n",
      "Root Mean Squared Error: 8106.336724565999\n",
      "R-squared Score: -0.14906510523394467\n",
      "Value: 65712695.092047416\n",
      "Trying hyperparameters: (20.48, 0.7)\n",
      "Time taken to train the model:  1.6331229209899902\n",
      "Mean Squared Error: 65243125.18209746\n",
      "Root Mean Squared Error: 8077.321658947194\n",
      "R-squared Score: -0.1408541134729837\n",
      "Value: 65243125.18209746\n",
      "Trying hyperparameters: (20.48, 0.8)\n",
      "Time taken to train the model:  1.4549620151519775\n",
      "Mean Squared Error: 64410268.25858718\n",
      "Root Mean Squared Error: 8025.60080359017\n",
      "R-squared Score: -0.12629061357212557\n",
      "Value: 64410268.25858718\n",
      "Trying hyperparameters: (20.48, 0.9)\n",
      "Time taken to train the model:  1.6135406494140625\n",
      "Mean Squared Error: 62506440.212661825\n",
      "Root Mean Squared Error: 7906.101454741257\n",
      "R-squared Score: -0.09299990207605568\n",
      "Value: 62506440.212661825\n",
      "Trying hyperparameters: (40.96, 0.5)\n",
      "Time taken to train the model:  3.4942171573638916\n",
      "Mean Squared Error: 66682456.72818962\n",
      "Root Mean Squared Error: 8165.932691872351\n",
      "R-squared Score: -0.16602254785480652\n",
      "Value: 66682456.72818962\n",
      "Trying hyperparameters: (40.96, 0.6)\n",
      "Time taken to train the model:  1.6991870403289795\n",
      "Mean Squared Error: 66513078.18641699\n",
      "Root Mean Squared Error: 8155.555050786978\n",
      "R-squared Score: -0.16306076137422298\n",
      "Value: 66513078.18641699\n",
      "Trying hyperparameters: (40.96, 0.7)\n",
      "Time taken to train the model:  1.5015184879302979\n",
      "Mean Squared Error: 66241410.76638899\n",
      "Root Mean Squared Error: 8138.882648520556\n",
      "R-squared Score: -0.1583103314588794\n",
      "Value: 66241410.76638899\n",
      "Trying hyperparameters: (40.96, 0.8)\n",
      "Time taken to train the model:  1.6879265308380127\n",
      "Mean Squared Error: 65734462.63001727\n",
      "Root Mean Squared Error: 8107.679238229474\n",
      "R-squared Score: -0.149445736682297\n",
      "Value: 65734462.63001727\n",
      "Trying hyperparameters: (40.96, 0.9)\n",
      "Time taken to train the model:  1.3895537853240967\n",
      "Mean Squared Error: 64444031.39469331\n",
      "Root Mean Squared Error: 8027.703992717551\n",
      "R-squared Score: -0.12688100240777556\n",
      "Value: 64444031.39469331\n",
      "Trying hyperparameters: (81.92, 0.5)\n",
      "Time taken to train the model:  1.6090388298034668\n",
      "Mean Squared Error: 67048679.13639354\n",
      "Root Mean Squared Error: 8188.3257834794\n",
      "R-squared Score: -0.1724263848825287\n",
      "Value: 67048679.13639354\n",
      "Trying hyperparameters: (81.92, 0.6)\n",
      "Time taken to train the model:  1.9140582084655762\n",
      "Mean Squared Error: 66961261.29526091\n",
      "Root Mean Squared Error: 8182.986086708257\n",
      "R-squared Score: -0.17089777932648365\n",
      "Value: 66961261.29526091\n",
      "Trying hyperparameters: (81.92, 0.7)\n",
      "Time taken to train the model:  1.369211196899414\n",
      "Mean Squared Error: 66816962.30170312\n",
      "Root Mean Squared Error: 8174.164318247042\n",
      "R-squared Score: -0.16837453875652408\n",
      "Value: 66816962.30170312\n",
      "Trying hyperparameters: (81.92, 0.8)\n",
      "Time taken to train the model:  1.3852660655975342\n",
      "Mean Squared Error: 66539055.65471655\n",
      "Root Mean Squared Error: 8157.147519489675\n",
      "R-squared Score: -0.16351500849197587\n",
      "Value: 66539055.65471655\n",
      "Trying hyperparameters: (81.92, 0.9)\n",
      "Time taken to train the model:  1.3276879787445068\n",
      "Mean Squared Error: 65779163.55302099\n",
      "Root Mean Squared Error: 8110.435472465149\n",
      "R-squared Score: -0.15022738580996342\n",
      "Value: 65779163.55302099\n",
      "Best hyperparameters: (0.64, 0.9)\n",
      "Best value: 55875236.99763788\n"
     ]
    },
    {
     "data": {
      "image/png": "[encoded data removed]",
      "text/plain": [
       "<Figure size 640x480 with 1 Axes>"
      ]
     },
     "metadata": {},
     "output_type": "display_data"
    },
    {
     "name": "stdout",
     "output_type": "stream",
     "text": [
      "Time taken to train the model:  2.4938156604766846\n",
      "Mean Squared Error: 68390149.31812192\n",
      "Root Mean Squared Error: 8269.833693498433\n",
      "R-squared Score: 0.031305791353470114\n"
     ]
    },
    {
     "data": {
      "text/plain": [
       "68390149.31812192"
      ]
     },
     "execution_count": 19,
     "metadata": {},
     "output_type": "execute_result"
    }
   ],
   "source": [
    "#Elastic net regularization\n",
    "\n",
    "def get_model(param):\n",
    "    a, b = param\n",
    "    return ScratchLinearRegression(regularization='elasticnetV2', alpha=a, l1_ratio=b)\n",
    "\n",
    "\n",
    "def iterate_hyperparameters():\n",
    "    # for alpha in range(1,1000,100): #giuliu dice esponenziale tra 0 e 1\n",
    "    #     yield alpha\n",
    "\n",
    "    a = 0.01\n",
    "    while a < 100:\n",
    "        for b in range(5, 10):\n",
    "            yield a, b / 10\n",
    "        a *= 2\n",
    "\n",
    "\n",
    "best_param, params, accuracies = optimize_hyperparameters(get_model, iterate_hyperparameters(), train, test, val,\n",
    "                                                          classification=False)\n",
    "plot_2d(params, accuracies, 'alpha', 'mse')\n",
    "a, b = best_param\n",
    "regressor = ScratchLinearRegression(regularization='elasticnetV2', alpha=a, l1_ratio=b)\n",
    "\n",
    "rmse_LR_EL_my = test_model(regressor, train, test, classification=False)"
   ]
  },
  {
   "cell_type": "code",
   "execution_count": null,
   "metadata": {
    "collapsed": false
   },
   "outputs": [],
   "source": []
  },
  {
   "cell_type": "code",
   "execution_count": 1,
   "metadata": {
    "ExecuteTime": {
     "end_time": "2023-05-27T09:17:18.392971801Z",
     "start_time": "2023-05-27T09:17:17.143206958Z"
    },
    "collapsed": false
   },
   "outputs": [],
   "source": [
    "from utils import *"
   ]
  },
  {
   "cell_type": "markdown",
   "metadata": {
    "collapsed": false
   },
   "source": [
    "# Linear Classification\n",
    "The Class for linear and logistic classification is the same one as the one for linear regression"
   ]
  },
  {
   "cell_type": "code",
   "execution_count": 2,
   "metadata": {
    "ExecuteTime": {
     "end_time": "2023-05-27T09:17:18.806241299Z",
     "start_time": "2023-05-27T09:17:18.371398833Z"
    },
    "collapsed": false
   },
   "outputs": [],
   "source": [
    "df, train, test, val = get_data(normalize=True, binary_label=True)"
   ]
  },
  {
   "cell_type": "code",
   "execution_count": 3,
   "metadata": {
    "ExecuteTime": {
     "end_time": "2023-05-27T09:17:18.810874731Z",
     "start_time": "2023-05-27T09:17:18.807379585Z"
    },
    "collapsed": false
   },
   "outputs": [],
   "source": [
    "from sklearn.linear_model import SGDClassifier"
   ]
  },
  {
   "cell_type": "code",
   "execution_count": 4,
   "metadata": {
    "ExecuteTime": {
     "end_time": "2023-05-26T12:19:55.117301474Z",
     "start_time": "2023-05-26T12:19:55.113795083Z"
    },
    "collapsed": false
   },
   "outputs": [],
   "source": [
    "def _sigmoid(x):\n",
    "    return 1 / (1 + np.exp(-x))\n",
    "\n",
    "\n",
    "class ScratchLinearRegression:\n",
    "\n",
    "    def __init__(self, lr=0.01, n_iters=1000, regularization=None, alpha=0.1, l1_ratio=0.5, logistic=False,\n",
    "                 classification=True):\n",
    "        self.lr = lr\n",
    "        self.n_iters = n_iters\n",
    "        self.weights = None\n",
    "        self.bias = None\n",
    "        self.regularization = regularization\n",
    "        self.regularization_param = alpha\n",
    "        self.l1_ratio = l1_ratio\n",
    "        self.classification = classification\n",
    "        self.model = 'logistic' if logistic else 'perceptron'  #todo check\n",
    "\n",
    "    def fit(self, X, y):\n",
    "        n_samples, n_features = X.shape\n",
    "\n",
    "        self.weights = np.zeros(n_features)\n",
    "        self.bias = 0\n",
    "\n",
    "        for _ in range(self.n_iters):\n",
    "            y_pred = np.dot(X, self.weights) + self.bias\n",
    "\n",
    "            if self.classification:\n",
    "                if self.model == 'logistic':\n",
    "                    y_pred = _sigmoid(y_pred)\n",
    "                else:\n",
    "                    y_pred = np.where(y_pred >= 0, 1, 0)\n",
    "            if self.regularization == 'l1':\n",
    "                dw = (1 / n_samples) * np.dot(X.T, (y_pred - y)) + np.sign(self.weights) * self.regularization_param\n",
    "                db = (1 / n_samples) * np.sum(y_pred - y) + np.sign(self.bias) * self.regularization_param\n",
    "\n",
    "            elif self.regularization == 'l2':\n",
    "                dw = (1 / n_samples) * np.dot(X.T, (y_pred - y)) + 2 * self.weights * self.regularization_param\n",
    "                db = (1 / n_samples) * np.sum(y_pred - y) + 2 * self.bias * self.regularization_param\n",
    "            elif self.regularization == 'elasticnet':\n",
    "                dw = ((1 / n_samples) * np.dot(X.T, (y_pred - y))\n",
    "                      + 2 * self.weights * (1 - self.regularization_param)\n",
    "                      + np.sign(self.weights) * self.regularization_param)\n",
    "                db = ((1 / n_samples) * np.sum(y_pred - y)\n",
    "                      + 2 * self.bias * (1 - self.regularization_param)\n",
    "                      + np.sign(self.bias) * self.regularization_param)\n",
    "            elif self.regularization == 'elasticnetV2':\n",
    "                dw = (\n",
    "                        (1 / n_samples) * np.dot(X.T, (y_pred - y))\n",
    "                        + self.regularization_param *\n",
    "                        (\n",
    "                                2 * self.weights * (1 - self.l1_ratio)\n",
    "                                + np.sign(self.weights) * self.l1_ratio\n",
    "                        )\n",
    "                )\n",
    "                db = (\n",
    "                        (1 / n_samples) * np.sum(y_pred - y)\n",
    "                        + self.regularization_param *\n",
    "                        (\n",
    "                                2 * self.bias * (1 - self.l1_ratio)\n",
    "                                + np.sign(self.bias) * self.l1_ratio\n",
    "                        )\n",
    "                )\n",
    "            elif self.regularization is None or self.regularization == '':\n",
    "                dw = (1 / n_samples) * np.dot(X.T, (y_pred - y))\n",
    "                db = (1 / n_samples) * np.sum(y_pred - y)\n",
    "            else:\n",
    "                raise ValueError('Invalid regularization parameter')\n",
    "\n",
    "            self.weights -= self.lr * dw\n",
    "            self.bias -= self.lr * db\n",
    "\n",
    "    def predict(self, X):\n",
    "        y_pred = np.dot(X, self.weights) + self.bias\n",
    "\n",
    "        if self.classification:\n",
    "            if self.model == 'logistic':\n",
    "                y_pred = _sigmoid(y_pred)\n",
    "                y_pred = [1 if i >= 0.5 else 0 for i in y_pred]\n",
    "            else:\n",
    "                y_pred = [1 if i >= 0 else 0 for i in y_pred]\n",
    "        return y_pred"
   ]
  },
  {
   "cell_type": "markdown",
   "metadata": {
    "collapsed": false
   },
   "source": [
    "## No regularization"
   ]
  },
  {
   "cell_type": "markdown",
   "metadata": {
    "collapsed": false
   },
   "source": [
    "### Sklearn"
   ]
  },
  {
   "cell_type": "code",
   "execution_count": 12,
   "metadata": {
    "ExecuteTime": {
     "end_time": "2023-05-27T09:30:40.502302725Z",
     "start_time": "2023-05-27T09:30:40.457152133Z"
    },
    "collapsed": false
   },
   "outputs": [
    {
     "name": "stdout",
     "output_type": "stream",
     "text": [
      "Time taken to train the model:  0.017316579818725586\n",
      "Binary cross entropy: 16.48307317302797\n",
      "Accuracy: 0.5426913860512045\n"
     ]
    }
   ],
   "source": [
    "regressor = SGDClassifier(max_iter=1000, penalty=None, learning_rate='constant', shuffle=False, eta0=0.001,\n",
    "                          early_stopping=False, loss='perceptron')\n",
    "accuracy_LC_NR_sk = test_model(regressor, train, test, classification=True)"
   ]
  },
  {
   "cell_type": "markdown",
   "metadata": {
    "collapsed": false
   },
   "source": [
    "### Scratch"
   ]
  },
  {
   "cell_type": "code",
   "execution_count": 45,
   "metadata": {
    "ExecuteTime": {
     "end_time": "2023-05-26T12:32:08.582820325Z",
     "start_time": "2023-05-26T12:32:06.211256428Z"
    },
    "collapsed": false
   },
   "outputs": [
    {
     "name": "stdout",
     "output_type": "stream",
     "text": [
      "Time taken to train the model:  2.3608081340789795\n",
      "Binary cross entropy: 15.078420770803579\n",
      "Accuracy: 0.5816622524908563\n"
     ]
    }
   ],
   "source": [
    "#No regularization\n",
    "regressor = ScratchLinearRegression(regularization='', classification=True)\n",
    "accuracy_LC_NR_my = test_model(regressor, train, test, classification=True)"
   ]
  },
  {
   "cell_type": "markdown",
   "metadata": {
    "collapsed": false
   },
   "source": [
    "## L1 Regularization"
   ]
  },
  {
   "cell_type": "markdown",
   "metadata": {
    "collapsed": false
   },
   "source": [
    "L1 Regularization does not benefit the model"
   ]
  },
  {
   "cell_type": "code",
   "execution_count": 53,
   "metadata": {
    "ExecuteTime": {
     "end_time": "2023-05-26T12:42:00.086807090Z",
     "start_time": "2023-05-26T12:41:50.183631511Z"
    },
    "collapsed": false
   },
   "outputs": [
    {
     "name": "stdout",
     "output_type": "stream",
     "text": [
      "Trying hyperparameters: 0\n",
      "Time taken to train the model:  2.5634851455688477\n",
      "Binary cross entropy: 14.598162629141095\n",
      "Accuracy: 0.5949865994009144\n",
      "Value: 0.5949865994009144\n",
      "Trying hyperparameters: 1e-05\n",
      "Time taken to train the model:  1.5271072387695312\n",
      "Binary cross entropy: 14.598162629141095\n",
      "Accuracy: 0.5949865994009144\n",
      "Value: 0.5949865994009144\n",
      "Trying hyperparameters: 0.0005\n",
      "Time taken to train the model:  1.510301113128662\n",
      "Binary cross entropy: 14.660669358966144\n",
      "Accuracy: 0.59325240422513\n",
      "Value: 0.59325240422513\n",
      "Trying hyperparameters: 0.001\n",
      "Time taken to train the model:  1.4634270668029785\n",
      "Binary cross entropy: 14.677716648918432\n",
      "Accuracy: 0.5927794419044616\n",
      "Value: 0.5927794419044616\n",
      "Trying hyperparameters: 0.01\n",
      "Time taken to train the model:  1.3723118305206299\n",
      "Binary cross entropy: 15.143675907614254\n",
      "Accuracy: 0.5798518051395238\n",
      "Value: 0.5798518051395238\n",
      "Best hyperparameters: 0\n",
      "Best value: 0.5949865994009144\n"
     ]
    },
    {
     "data": {
      "image/png": "[encoded data removed]",
      "text/plain": [
       "<Figure size 640x480 with 1 Axes>"
      ]
     },
     "metadata": {},
     "output_type": "display_data"
    },
    {
     "name": "stdout",
     "output_type": "stream",
     "text": [
      "Time taken to train the model:  1.227055549621582\n",
      "Binary cross entropy: 15.078420770803579\n",
      "Accuracy: 0.5816622524908563\n",
      "Best rmse for Linear Classification L1 (scratch): 0.5816622524908563 with alpha=0\n"
     ]
    }
   ],
   "source": [
    "def get_model(param):\n",
    "    return ScratchLinearRegression(regularization='l1', alpha=param, classification=True)\n",
    "\n",
    "best_param, params, accuracies = optimize_hyperparameters(get_model, (0,0.00001,0.0005,0.001,0.01), train, test, val,\n",
    "                                                          classification=True)\n",
    "plot_2d(params, accuracies, 'alpha', 'mse')\n",
    "regressor = ScratchLinearRegression(regularization='l1', alpha=best_param, classification=True)\n",
    "\n",
    "accuracy_LC_L1_my = test_model(regressor, train, test, classification=True)\n",
    "print(f\"Best rmse for Linear Classification L1 (scratch): {accuracy_LC_L1_my} with alpha={best_param}\")\n"
   ]
  },
  {
   "cell_type": "markdown",
   "metadata": {
    "collapsed": false
   },
   "source": [
    "## L2"
   ]
  },
  {
   "cell_type": "code",
   "execution_count": 58,
   "metadata": {
    "ExecuteTime": {
     "end_time": "2023-05-26T12:47:22.615500094Z",
     "start_time": "2023-05-26T12:47:13.649632996Z"
    },
    "collapsed": false
   },
   "outputs": [
    {
     "name": "stdout",
     "output_type": "stream",
     "text": [
      "Trying hyperparameters: 0\n",
      "Time taken to train the model:  1.935549259185791\n",
      "Binary cross entropy: 14.598162629141095\n",
      "Accuracy: 0.5949865994009144\n",
      "Value: 0.5949865994009144\n",
      "Trying hyperparameters: 1e-05\n",
      "Time taken to train the model:  1.4412131309509277\n",
      "Binary cross entropy: 14.592480199156999\n",
      "Accuracy: 0.5951442535078039\n",
      "Value: 0.5951442535078039\n",
      "Trying hyperparameters: 0.0005\n",
      "Time taken to train the model:  1.427668571472168\n",
      "Binary cross entropy: 14.609527489109286\n",
      "Accuracy: 0.5946712911871355\n",
      "Value: 0.5946712911871355\n",
      "Trying hyperparameters: 0.001\n",
      "Time taken to train the model:  1.4226913452148438\n",
      "Binary cross entropy: 14.609527489109286\n",
      "Accuracy: 0.5946712911871355\n",
      "Value: 0.5946712911871355\n",
      "Trying hyperparameters: 0.01\n",
      "Time taken to train the model:  1.2707774639129639\n",
      "Binary cross entropy: 14.60384505912519\n",
      "Accuracy: 0.5948289452940249\n",
      "Value: 0.5948289452940249\n",
      "Best hyperparameters: 1e-05\n",
      "Best value: 0.5951442535078039\n"
     ]
    },
    {
     "data": {
      "image/png": "[encoded data removed]",
      "text/plain": [
       "<Figure size 640x480 with 1 Axes>"
      ]
     },
     "metadata": {},
     "output_type": "display_data"
    },
    {
     "name": "stdout",
     "output_type": "stream",
     "text": [
      "Time taken to train the model:  1.2300090789794922\n",
      "Binary cross entropy: 15.073874970149133\n",
      "Accuracy: 0.5817883717997225\n",
      "Best accuracy for Linear Regression L2 (scratch): 0.5817883717997225 with alpha=1e-05\n"
     ]
    }
   ],
   "source": [
    "#L2 regularization\n",
    "\n",
    "def get_model(param):\n",
    "    return ScratchLinearRegression(regularization='l2', alpha=param, classification=True,lr=0.1)\n",
    "\n",
    "\n",
    "def iterate_hyperparameters():\n",
    "    alpha = 0.00001\n",
    "    while alpha < 1:\n",
    "        yield alpha\n",
    "        alpha *=10\n",
    "\n",
    "\n",
    "best_param, params, accuracies = optimize_hyperparameters(get_model, (0,0.00001,0.0005,0.001,0.01), train, test, val,\n",
    "                                                          classification=True)\n",
    "plot_2d(params, accuracies, 'alpha', 'accuracy')\n",
    "regressor = ScratchLinearRegression(regularization='l2', alpha=best_param, classification=True)\n",
    "\n",
    "accuracy_LC_L2_my = test_model(regressor, train, test, classification=True)\n",
    "print(f\"Best accuracy for Linear Regression L2 (scratch): {accuracy_LC_L2_my} with alpha={best_param}\")"
   ]
  },
  {
   "cell_type": "markdown",
   "metadata": {
    "collapsed": false
   },
   "source": [
    "L1 and L2 regularization does not benefit the model therefore is useless to test elasticnet"
   ]
  },
  {
   "cell_type": "markdown",
   "metadata": {
    "collapsed": false
   },
   "source": [
    "# Logistic Classifier"
   ]
  },
  {
   "cell_type": "markdown",
   "metadata": {
    "collapsed": false
   },
   "source": [
    "## No Regularization"
   ]
  },
  {
   "cell_type": "markdown",
   "metadata": {
    "collapsed": false
   },
   "source": [
    "### Sklearn"
   ]
  },
  {
   "cell_type": "code",
   "execution_count": 87,
   "metadata": {
    "ExecuteTime": {
     "end_time": "2023-05-26T13:32:22.769519571Z",
     "start_time": "2023-05-26T13:32:21.161029785Z"
    },
    "collapsed": false
   },
   "outputs": [
    {
     "name": "stderr",
     "output_type": "stream",
     "text": [
      "/home/vmcvastry/.local/lib/python3.10/site-packages/sklearn/linear_model/_logistic.py:1165: UserWarning: l1_ratio parameter is only used when penalty is 'elasticnet'. Got (penalty=None)\n",
      "  warnings.warn(\n"
     ]
    },
    {
     "name": "stdout",
     "output_type": "stream",
     "text": [
      "Time taken to train the model:  1.597651720046997\n",
      "Binary cross entropy: 12.673692224600657\n",
      "Accuracy: 0.6483793668810695\n"
     ]
    }
   ],
   "source": [
    "from sklearn.linear_model import LogisticRegression\n",
    "\n",
    "regressor = LogisticRegression(max_iter=1000, penalty=None)\n",
    "accuracy_LO_NR_sk=test_model(regressor, train, test, classification=True)"
   ]
  },
  {
   "cell_type": "code",
   "execution_count": 99,
   "metadata": {
    "ExecuteTime": {
     "end_time": "2023-05-26T13:34:51.414011232Z",
     "start_time": "2023-05-26T13:34:51.348777392Z"
    },
    "collapsed": false
   },
   "outputs": [
    {
     "name": "stdout",
     "output_type": "stream",
     "text": [
      "Time taken to train the model:  0.05865907669067383\n",
      "Binary cross entropy: 12.637325819365074\n",
      "Accuracy: 0.649388321351999\n"
     ]
    }
   ],
   "source": [
    "regressor = SGDClassifier(max_iter=1000, penalty=None, learning_rate='constant', shuffle=False, eta0=0.0005,\n",
    "                          early_stopping=False, loss='log_loss')\n",
    "accuracy_LO_NR_sk=test_model(regressor, train, test, classification=True)\n"
   ]
  },
  {
   "cell_type": "markdown",
   "metadata": {
    "collapsed": false
   },
   "source": [
    "### Scratch"
   ]
  },
  {
   "cell_type": "code",
   "execution_count": 72,
   "metadata": {
    "ExecuteTime": {
     "end_time": "2023-05-26T13:20:47.895512281Z",
     "start_time": "2023-05-26T13:20:45.798080798Z"
    },
    "collapsed": false
   },
   "outputs": [
    {
     "name": "stdout",
     "output_type": "stream",
     "text": [
      "Time taken to train the model:  2.0831942558288574\n",
      "Binary cross entropy: 12.610051015438387\n",
      "Accuracy: 0.6501450372051961\n"
     ]
    }
   ],
   "source": [
    "#No regularization\n",
    "regressor = ScratchLinearRegression(regularization='', logistic=True, classification=True,lr=0.9)\n",
    "accuracy_LO_NR_my = test_model(regressor, train, test, classification=True)"
   ]
  },
  {
   "cell_type": "code",
   "execution_count": 74,
   "metadata": {
    "ExecuteTime": {
     "end_time": "2023-05-26T13:22:54.032885674Z",
     "start_time": "2023-05-26T13:22:34.391038917Z"
    },
    "collapsed": false
   },
   "outputs": [
    {
     "name": "stdout",
     "output_type": "stream",
     "text": [
      "Trying hyperparameters: 0.1\n",
      "Time taken to train the model:  2.4571425914764404\n",
      "Binary cross entropy: 12.319508205518838\n",
      "Accuracy: 0.6582058962635977\n",
      "Value: 0.6582058962635977\n",
      "Trying hyperparameters: 0.2\n",
      "Time taken to train the model:  1.9314911365509033\n",
      "Binary cross entropy: 12.222906895789215\n",
      "Accuracy: 0.660886016080719\n",
      "Value: 0.660886016080719\n",
      "Trying hyperparameters: 0.30000000000000004\n",
      "Time taken to train the model:  1.684640645980835\n",
      "Binary cross entropy: 12.188812315884642\n",
      "Accuracy: 0.6618319407220558\n",
      "Value: 0.6618319407220558\n",
      "Trying hyperparameters: 0.4\n",
      "Time taken to train the model:  1.722099781036377\n",
      "Binary cross entropy: 12.131988016043687\n",
      "Accuracy: 0.6634084817909507\n",
      "Value: 0.6634084817909507\n",
      "Trying hyperparameters: 0.5\n",
      "Time taken to train the model:  1.5425403118133545\n",
      "Binary cross entropy: 12.15471773598007\n",
      "Accuracy: 0.6627778653633927\n",
      "Value: 0.6627778653633927\n",
      "Trying hyperparameters: 0.6\n",
      "Time taken to train the model:  1.618786334991455\n",
      "Binary cross entropy: 12.15471773598007\n",
      "Accuracy: 0.6627778653633927\n",
      "Value: 0.6627778653633927\n",
      "Trying hyperparameters: 0.7\n",
      "Time taken to train the model:  1.7677137851715088\n",
      "Binary cross entropy: 12.15471773598007\n",
      "Accuracy: 0.6627778653633927\n",
      "Value: 0.6627778653633927\n",
      "Trying hyperparameters: 0.7999999999999999\n",
      "Time taken to train the model:  1.6303820610046387\n",
      "Binary cross entropy: 12.15471773598007\n",
      "Accuracy: 0.6627778653633927\n",
      "Value: 0.6627778653633927\n",
      "Trying hyperparameters: 0.8999999999999999\n",
      "Time taken to train the model:  1.6106321811676025\n",
      "Binary cross entropy: 12.160400165964166\n",
      "Accuracy: 0.6626202112565033\n",
      "Value: 0.6626202112565033\n",
      "Trying hyperparameters: 0.9999999999999999\n",
      "Time taken to train the model:  1.683013677597046\n",
      "Binary cross entropy: 12.160400165964166\n",
      "Accuracy: 0.6626202112565033\n",
      "Value: 0.6626202112565033\n",
      "Best hyperparameters: 0.4\n",
      "Best value: 0.6634084817909507\n"
     ]
    },
    {
     "data": {
      "image/png": "[encoded data removed]",
      "text/plain": [
       "<Figure size 640x480 with 1 Axes>"
      ]
     },
     "metadata": {},
     "output_type": "display_data"
    },
    {
     "name": "stdout",
     "output_type": "stream",
     "text": [
      "Time taken to train the model:  1.670142412185669\n",
      "Binary cross entropy: 12.632780018710626\n",
      "Accuracy: 0.6495144406608652\n",
      "Best accuracy for Logistic Classification (scratch): 0.6495144406608652 with lr=0.4\n"
     ]
    }
   ],
   "source": [
    "def get_model(param):\n",
    "    return  ScratchLinearRegression(regularization='', logistic=True, classification=True,lr=param)\n",
    "\n",
    "\n",
    "def iterate_hyperparameters():\n",
    "    alpha = 0.1\n",
    "    while alpha < 1:\n",
    "        yield alpha\n",
    "        alpha += 0.1\n",
    "\n",
    "\n",
    "best_lr, params, accuracies = optimize_hyperparameters(get_model, iterate_hyperparameters(), train, test, val,\n",
    "                                                          classification=True)\n",
    "plot_2d(params, accuracies, 'lr', 'accuracy')\n",
    "best_model = get_model(best_lr)\n",
    "\n",
    "accuracy_LO_NR_my = test_model(best_model, train, test, classification=True)\n",
    "print(f\"Best accuracy for Logistic Classification (scratch): {accuracy_LO_NR_my} with lr={best_lr}\")"
   ]
  },
  {
   "cell_type": "markdown",
   "metadata": {
    "collapsed": false
   },
   "source": [
    "## L1 Regularization"
   ]
  },
  {
   "cell_type": "code",
   "execution_count": 77,
   "metadata": {
    "ExecuteTime": {
     "end_time": "2023-05-26T13:26:34.970356420Z",
     "start_time": "2023-05-26T13:26:24.492245023Z"
    },
    "collapsed": false
   },
   "outputs": [
    {
     "name": "stdout",
     "output_type": "stream",
     "text": [
      "Trying hyperparameters: 0\n",
      "Time taken to train the model:  1.9367907047271729\n",
      "Binary cross entropy: 12.160400165964166\n",
      "Accuracy: 0.6626202112565033\n",
      "Value: 0.6626202112565033\n",
      "Trying hyperparameters: 1e-05\n",
      "Time taken to train the model:  1.686460256576538\n",
      "Binary cross entropy: 12.160400165964166\n",
      "Accuracy: 0.6626202112565033\n",
      "Value: 0.6626202112565033\n",
      "Trying hyperparameters: 0.0001\n",
      "Time taken to train the model:  1.5976974964141846\n",
      "Binary cross entropy: 12.188812315884642\n",
      "Accuracy: 0.6618319407220558\n",
      "Value: 0.6618319407220558\n",
      "Trying hyperparameters: 0.001\n",
      "Time taken to train the model:  1.7854092121124268\n",
      "Binary cross entropy: 12.274048765646073\n",
      "Accuracy: 0.6594671291187135\n",
      "Value: 0.6594671291187135\n",
      "Trying hyperparameters: 0.01\n",
      "Time taken to train the model:  1.6837406158447266\n",
      "Binary cross entropy: 12.393379795312077\n",
      "Accuracy: 0.6561563928740344\n",
      "Value: 0.6561563928740344\n",
      "Best hyperparameters: 0\n",
      "Best value: 0.6626202112565033\n"
     ]
    },
    {
     "data": {
      "image/png": "[encoded data removed]",
      "text/plain": [
       "<Figure size 640x480 with 1 Axes>"
      ]
     },
     "metadata": {},
     "output_type": "display_data"
    },
    {
     "name": "stdout",
     "output_type": "stream",
     "text": [
      "Time taken to train the model:  1.5569877624511719\n",
      "Binary cross entropy: 12.610051015438387\n",
      "Accuracy: 0.6501450372051961\n"
     ]
    },
    {
     "data": {
      "text/plain": [
       "0.6501450372051961"
      ]
     },
     "execution_count": 77,
     "metadata": {},
     "output_type": "execute_result"
    }
   ],
   "source": [
    "if not best_lr:\n",
    "    best_lr = 0.9\n",
    "\n",
    "def get_model(param):\n",
    "    return ScratchLinearRegression(regularization='l1', alpha=param, classification=True, logistic=True,lr=best_lr)\n",
    "\n",
    "best_param, params, accuracies = optimize_hyperparameters(get_model, (0,0.00001,0.0001,0.001,0.01), train, test, val,\n",
    "                                                          classification=True)\n",
    "plot_2d(params, accuracies, 'alpha', 'accuracy')\n",
    "best_model = get_model(best_param)\n",
    "\n",
    "test_model(best_model, train, test, classification=True)"
   ]
  },
  {
   "cell_type": "code",
   "execution_count": 79,
   "metadata": {
    "ExecuteTime": {
     "end_time": "2023-05-26T13:29:29.822963582Z",
     "start_time": "2023-05-26T13:29:13.658275212Z"
    },
    "collapsed": false
   },
   "outputs": [
    {
     "name": "stdout",
     "output_type": "stream",
     "text": [
      "Trying hyperparameters: 0\n",
      "Time taken to train the model:  2.1393587589263916\n",
      "Binary cross entropy: 12.671818864532753\n",
      "Accuracy: 0.6484313416364497\n",
      "Value: 0.6484313416364497\n",
      "Trying hyperparameters: 1e-05\n",
      "Time taken to train the model:  1.596395492553711\n",
      "Binary cross entropy: 12.671818864532753\n",
      "Accuracy: 0.6484313416364497\n",
      "Value: 0.6484313416364497\n",
      "Trying hyperparameters: 0.0001\n",
      "Time taken to train the model:  1.5196549892425537\n",
      "Binary cross entropy: 12.671818864532753\n",
      "Accuracy: 0.6484313416364497\n",
      "Value: 0.6484313416364497\n",
      "Trying hyperparameters: 0.001\n",
      "Time taken to train the model:  1.575193166732788\n",
      "Binary cross entropy: 12.666136434548655\n",
      "Accuracy: 0.6485889957433392\n",
      "Value: 0.6485889957433392\n",
      "Trying hyperparameters: 0.01\n",
      "Time taken to train the model:  1.683340311050415\n",
      "Binary cross entropy: 12.643406714612276\n",
      "Accuracy: 0.6492196121708971\n",
      "Value: 0.6492196121708971\n",
      "Trying hyperparameters: 0.1\n",
      "Time taken to train the model:  1.6509389877319336\n",
      "Binary cross entropy: 12.694548584469134\n",
      "Accuracy: 0.6478007252088916\n",
      "Value: 0.6478007252088916\n",
      "Trying hyperparameters: 0.5\n",
      "Time taken to train the model:  1.6898415088653564\n",
      "Binary cross entropy: 12.808197184151043\n",
      "Accuracy: 0.644647643071102\n",
      "Value: 0.644647643071102\n",
      "Trying hyperparameters: 1\n",
      "Time taken to train the model:  1.9139792919158936\n",
      "Binary cross entropy: 12.8593390540079\n",
      "Accuracy: 0.6432287561090967\n",
      "Value: 0.6432287561090967\n",
      "Best hyperparameters: 0.01\n",
      "Best value: 0.6492196121708971\n"
     ]
    },
    {
     "data": {
      "image/png": "[encoded data removed]",
      "text/plain": [
       "<Figure size 640x480 with 1 Axes>"
      ]
     },
     "metadata": {},
     "output_type": "display_data"
    },
    {
     "name": "stdout",
     "output_type": "stream",
     "text": [
      "Time taken to train the model:  2.1155624389648438\n",
      "Binary cross entropy: 12.800974642925198\n",
      "Accuracy: 0.6448480262328162\n"
     ]
    },
    {
     "data": {
      "text/plain": [
       "0.6448480262328162"
      ]
     },
     "execution_count": 79,
     "metadata": {},
     "output_type": "execute_result"
    }
   ],
   "source": [
    "#L2 regularization\n",
    "\n",
    "def get_model(param):\n",
    "    return ScratchLinearRegression(regularization='l2', alpha=param, classification=True, logistic=True)\n",
    "\n",
    "\n",
    "def iterate_hyperparameters():\n",
    "    alpha = 0.001\n",
    "    while alpha < 1:\n",
    "        yield alpha\n",
    "        alpha *= 2\n",
    "\n",
    "\n",
    "best_param, params, accuracies = optimize_hyperparameters(get_model, (0,0.00001,0.0001,0.001,0.01,0.1,0.5), train, test, val,\n",
    "                                                          classification=True)\n",
    "plot_2d(params, accuracies, 'alpha', 'accuracy')\n",
    "best_model = get_model(best_param)\n",
    "\n",
    "accuracy_LO_L2_my=test_model(best_model, train, test, classification=True)\n",
    "print(f\"Best accuracy for Logistic Classification L2 (scratch): {accuracy_LO_L2_my} with lr={best_param}\")"
   ]
  },
  {
   "cell_type": "code",
   "execution_count": null,
   "metadata": {
    "collapsed": false
   },
   "outputs": [],
   "source": []
  },
  {
   "cell_type": "code",
   "execution_count": 5,
   "metadata": {
    "ExecuteTime": {
     "end_time": "2023-05-25T13:54:30.589246622Z",
     "start_time": "2023-05-25T13:54:30.548016556Z"
    },
    "collapsed": false
   },
   "outputs": [],
   "source": [
    "from utils import *"
   ]
  },
  {
   "cell_type": "markdown",
   "metadata": {
    "collapsed": false
   },
   "source": [
    "# KNN\n",
    "Since hyperparameter optimization would be extremely slow with the non-optimized version of KNN the parameters will be chosen using the sklearn implementation and then tested on the one from scratch.\n",
    "For the classification normalized data will be used, on the contrary for regression the data will not be normalized."
   ]
  },
  {
   "cell_type": "code",
   "execution_count": 39,
   "metadata": {
    "ExecuteTime": {
     "end_time": "2023-05-25T14:16:24.029700591Z",
     "start_time": "2023-05-25T14:16:24.018602489Z"
    },
    "collapsed": false
   },
   "outputs": [],
   "source": [
    "from scipy.spatial.distance import cdist\n",
    "\n",
    "\n",
    "class ScratchKNeighbors:\n",
    "    def __init__(self, classification, n_neighbors=5):\n",
    "        self.n_neighbors = n_neighbors\n",
    "        self.X_train = None\n",
    "        self.y_train = None\n",
    "        self.classification = classification\n",
    "\n",
    "    def fit(self, X_train, y_train):\n",
    "        self.X_train = X_train\n",
    "        self.y_train = y_train\n",
    "\n",
    "    def predict(self, X_test):\n",
    "        distances = cdist(X_test, self.X_train) # euclidean distances\n",
    "        nearest_indices = np.argsort(distances, axis=1)[:, :self.n_neighbors] # indices of n nearest neighbors\n",
    "        nearest_targets = self.y_train[nearest_indices]\n",
    "        predictions = np.mean(nearest_targets, axis=1)\n",
    "        if self.classification:  #Majority vote is useless if binary classification\n",
    "            return predictions >= 0.5\n",
    "        return predictions"
   ]
  },
  {
   "cell_type": "markdown",
   "metadata": {
    "collapsed": false
   },
   "source": [
    "## Classification"
   ]
  },
  {
   "cell_type": "code",
   "execution_count": 47,
   "metadata": {
    "ExecuteTime": {
     "end_time": "2023-05-25T14:19:15.611170776Z",
     "start_time": "2023-05-25T14:19:15.124897137Z"
    },
    "collapsed": false
   },
   "outputs": [],
   "source": [
    "df, train, test, val = get_data(normalize=True, binary_label=True)  # Normalizing the data leads to a slightly better accuracy (58% vs 63% for sklearn, 59% vs 64% for scratch)"
   ]
  },
  {
   "cell_type": "markdown",
   "metadata": {
    "collapsed": false
   },
   "source": [
    "### Sklearn"
   ]
  },
  {
   "cell_type": "code",
   "execution_count": 49,
   "metadata": {
    "ExecuteTime": {
     "end_time": "2023-05-25T14:19:44.911437691Z",
     "start_time": "2023-05-25T14:19:44.282055784Z"
    },
    "collapsed": false
   },
   "outputs": [
    {
     "name": "stdout",
     "output_type": "stream",
     "text": [
      "Time taken to train the model:  0.0021734237670898438\n",
      "Binary cross entropy: 13.182821897898819\n",
      "Accuracy: 0.6342540042880564\n"
     ]
    },
    {
     "data": {
      "text/plain": [
       "0.6342540042880564"
      ]
     },
     "execution_count": 49,
     "metadata": {},
     "output_type": "execute_result"
    }
   ],
   "source": [
    "from sklearn.neighbors import KNeighborsClassifier\n",
    "\n",
    "regressor = KNeighborsClassifier(n_neighbors=5)\n",
    "\n",
    "test_model(regressor, train, test, classification=True)"
   ]
  },
  {
   "cell_type": "code",
   "execution_count": null,
   "metadata": {
    "collapsed": false
   },
   "outputs": [],
   "source": [
    "def get_model(param):\n",
    "    return KNeighborsClassifier(n_neighbors=param)\n",
    "\n",
    "\n",
    "best_param, params, accuracies = optimize_hyperparameters(get_model, range(1, 100, 5), train, test, val,\n",
    "                                                          classification=True)\n",
    "plot_2d(params, accuracies, 'k', 'accuracy')\n",
    "best_model = get_model(best_param)\n",
    "\n",
    "accuracy_KNN_sk = test_model(best_model, train, test, classification=True)\n",
    "print(f\"Best accuracy for KNN (sklearn): {accuracy_KNN_sk} with k={best_param}\")"
   ]
  },
  {
   "cell_type": "markdown",
   "metadata": {
    "collapsed": false
   },
   "source": [
    "### Scratch"
   ]
  },
  {
   "cell_type": "code",
   "execution_count": 48,
   "metadata": {
    "ExecuteTime": {
     "end_time": "2023-05-25T14:19:44.288256093Z",
     "start_time": "2023-05-25T14:19:18.977755483Z"
    },
    "collapsed": false
   },
   "outputs": [
    {
     "name": "stdout",
     "output_type": "stream",
     "text": [
      "Time taken to train the model:  3.0994415283203125e-06\n",
      "Binary cross entropy: 13.060085280228726\n",
      "Accuracy: 0.6376592256274436\n"
     ]
    }
   ],
   "source": [
    "regressor = ScratchKNeighbors(classification=True, n_neighbors=30)\n",
    "accuracy_KNN_my = test_model(regressor, train, test, classification=True)"
   ]
  },
  {
   "cell_type": "markdown",
   "metadata": {
    "collapsed": false
   },
   "source": [
    "## Regression"
   ]
  },
  {
   "cell_type": "code",
   "execution_count": 59,
   "metadata": {
    "ExecuteTime": {
     "end_time": "2023-05-25T14:23:29.134507990Z",
     "start_time": "2023-05-25T14:23:28.861818527Z"
    },
    "collapsed": false
   },
   "outputs": [],
   "source": [
    "df, train, test, val = get_data(normalize=False, binary_label=False) # Normalizing the data leads to slightly worse loss (8582 vs 8505)"
   ]
  },
  {
   "cell_type": "markdown",
   "metadata": {
    "collapsed": false
   },
   "source": [
    "### Sklearn"
   ]
  },
  {
   "cell_type": "code",
   "execution_count": 58,
   "metadata": {
    "ExecuteTime": {
     "end_time": "2023-05-25T14:23:20.621999679Z",
     "start_time": "2023-05-25T14:23:20.188863891Z"
    },
    "collapsed": false
   },
   "outputs": [
    {
     "name": "stdout",
     "output_type": "stream",
     "text": [
      "Time taken to train the model:  0.00323486328125\n",
      "Root Mean Squared Error: 9325.832134734226\n"
     ]
    },
    {
     "data": {
      "text/plain": [
       "9325.832134734226"
      ]
     },
     "execution_count": 58,
     "metadata": {},
     "output_type": "execute_result"
    }
   ],
   "source": [
    "from sklearn.neighbors import KNeighborsRegressor\n",
    "\n",
    "regressor = KNeighborsRegressor(n_neighbors=5)\n",
    "\n",
    "test_model(regressor, train, test, classification=False)"
   ]
  },
  {
   "cell_type": "code",
   "execution_count": 18,
   "metadata": {
    "ExecuteTime": {
     "end_time": "2023-05-25T14:06:38.488120946Z",
     "start_time": "2023-05-25T14:06:29.659136199Z"
    },
    "collapsed": false
   },
   "outputs": [
    {
     "name": "stdout",
     "output_type": "stream",
     "text": [
      "Trying hyperparameters: 1\n",
      "Time taken to train the model:  0.002633810043334961\n",
      "Root Mean Squared Error: 15225.924163065538\n",
      "Value: 15225.924163065538\n",
      "Trying hyperparameters: 6\n",
      "Time taken to train the model:  0.0020923614501953125\n",
      "Root Mean Squared Error: 8490.828485311627\n",
      "Value: 8490.828485311627\n",
      "Trying hyperparameters: 11\n",
      "Time taken to train the model:  0.0021033287048339844\n",
      "Root Mean Squared Error: 8055.688675956313\n",
      "Value: 8055.688675956313\n",
      "Trying hyperparameters: 16\n",
      "Time taken to train the model:  0.001959562301635742\n",
      "Root Mean Squared Error: 7846.124723319356\n",
      "Value: 7846.124723319356\n",
      "Trying hyperparameters: 21\n",
      "Time taken to train the model:  0.0012431144714355469\n",
      "Root Mean Squared Error: 7810.077348671558\n",
      "Value: 7810.077348671558\n",
      "Trying hyperparameters: 26\n",
      "Time taken to train the model:  0.0013880729675292969\n",
      "Root Mean Squared Error: 7724.9434767499315\n",
      "Value: 7724.9434767499315\n",
      "Trying hyperparameters: 31\n",
      "Time taken to train the model:  0.001195669174194336\n",
      "Root Mean Squared Error: 7675.776523096333\n",
      "Value: 7675.776523096333\n",
      "Trying hyperparameters: 36\n",
      "Time taken to train the model:  0.00113677978515625\n",
      "Root Mean Squared Error: 7659.318775177681\n",
      "Value: 7659.318775177681\n",
      "Trying hyperparameters: 41\n",
      "Time taken to train the model:  0.0011546611785888672\n",
      "Root Mean Squared Error: 7655.872870933114\n",
      "Value: 7655.872870933114\n",
      "Trying hyperparameters: 46\n",
      "Time taken to train the model:  0.0012469291687011719\n",
      "Root Mean Squared Error: 7654.611729896056\n",
      "Value: 7654.611729896056\n",
      "Trying hyperparameters: 51\n",
      "Time taken to train the model:  0.0011568069458007812\n",
      "Root Mean Squared Error: 7646.41236296792\n",
      "Value: 7646.41236296792\n",
      "Trying hyperparameters: 56\n",
      "Time taken to train the model:  0.0012502670288085938\n",
      "Root Mean Squared Error: 7630.551842669096\n",
      "Value: 7630.551842669096\n",
      "Trying hyperparameters: 61\n",
      "Time taken to train the model:  0.0011572837829589844\n",
      "Root Mean Squared Error: 7612.116000591583\n",
      "Value: 7612.116000591583\n",
      "Trying hyperparameters: 66\n",
      "Time taken to train the model:  0.001180410385131836\n",
      "Root Mean Squared Error: 7606.758982113714\n",
      "Value: 7606.758982113714\n",
      "Trying hyperparameters: 71\n",
      "Time taken to train the model:  0.0011134147644042969\n",
      "Root Mean Squared Error: 7598.617012346292\n",
      "Value: 7598.617012346292\n",
      "Trying hyperparameters: 76\n",
      "Time taken to train the model:  0.0010528564453125\n",
      "Root Mean Squared Error: 7596.518864322459\n",
      "Value: 7596.518864322459\n",
      "Trying hyperparameters: 81\n",
      "Time taken to train the model:  0.001115560531616211\n",
      "Root Mean Squared Error: 7599.180549460687\n",
      "Value: 7599.180549460687\n",
      "Trying hyperparameters: 86\n",
      "Time taken to train the model:  0.0011143684387207031\n",
      "Root Mean Squared Error: 7598.348712398022\n",
      "Value: 7598.348712398022\n",
      "Trying hyperparameters: 91\n",
      "Time taken to train the model:  0.0010998249053955078\n",
      "Root Mean Squared Error: 7595.773667727118\n",
      "Value: 7595.773667727118\n",
      "Trying hyperparameters: 96\n",
      "Time taken to train the model:  0.001039266586303711\n",
      "Root Mean Squared Error: 7595.637524678116\n",
      "Value: 7595.637524678116\n",
      "Best hyperparameters: 96\n",
      "Best value: 7595.637524678116\n"
     ]
    },
    {
     "data": {
      "image/png": "[encoded data removed]",
      "text/plain": [
       "<Figure size 640x480 with 1 Axes>"
      ]
     },
     "metadata": {},
     "output_type": "display_data"
    },
    {
     "name": "stdout",
     "output_type": "stream",
     "text": [
      "Time taken to train the model:  0.0013594627380371094\n",
      "Root Mean Squared Error: 9314.63167163207\n",
      "Best rmse for KNN (sklearn): 9314.63167163207 with k=96\n"
     ]
    }
   ],
   "source": [
    "def get_model(param):\n",
    "    return KNeighborsRegressor(n_neighbors=param)\n",
    "\n",
    "\n",
    "best_param, params, accuracies = optimize_hyperparameters(get_model, range(1, 100, 5), train, test, val,\n",
    "                                                          classification=False)\n",
    "plot_2d(params, accuracies, 'k', 'mse')\n",
    "best_model = get_model(best_param)\n",
    "\n",
    "rmse_KNN_sk = test_model(regressor, train, test, classification=False)\n",
    "print(f\"Best rmse for KNN (sklearn): {rmse_KNN_sk} with k={best_param}\")\n"
   ]
  },
  {
   "cell_type": "markdown",
   "metadata": {
    "collapsed": false
   },
   "source": [
    "After k ~ 30 there is a clear diminishing return on loss reduction, therefore this k will be used"
   ]
  },
  {
   "cell_type": "code",
   "execution_count": 56,
   "metadata": {
    "ExecuteTime": {
     "end_time": "2023-05-25T14:22:49.509781991Z",
     "start_time": "2023-05-25T14:22:23.217815363Z"
    },
    "collapsed": false
   },
   "outputs": [
    {
     "name": "stdout",
     "output_type": "stream",
     "text": [
      "Time taken to train the model:  5.0067901611328125e-06\n",
      "Root Mean Squared Error: 8582.839747518954\n"
     ]
    }
   ],
   "source": [
    "regressor = ScratchKNeighbors(classification=False, n_neighbors=30)\n",
    "rmse_KNN_my = test_model(regressor, train, test, classification=False)"
   ]
  },
  {
   "cell_type": "code",
   "execution_count": 1,
   "metadata": {
    "ExecuteTime": {
     "end_time": "2023-05-25T14:30:23.569491109Z",
     "start_time": "2023-05-25T14:30:22.246010318Z"
    },
    "collapsed": false
   },
   "outputs": [],
   "source": [
    "from utils import *"
   ]
  },
  {
   "cell_type": "markdown",
   "metadata": {
    "collapsed": false
   },
   "source": [
    "# Neural Network"
   ]
  },
  {
   "cell_type": "code",
   "execution_count": 2,
   "metadata": {
    "ExecuteTime": {
     "end_time": "2023-05-25T14:30:23.582821659Z",
     "start_time": "2023-05-25T14:30:23.579453553Z"
    },
    "collapsed": false
   },
   "outputs": [],
   "source": [
    "def sigmoid(x):\n",
    "    return 1 / (1 + np.exp(-x))\n",
    "\n",
    "\n",
    "def sigmoid_derivative(x):\n",
    "    return x * (1 - x)\n",
    "\n",
    "\n",
    "def relu(x):\n",
    "    return np.maximum(0, x)\n",
    "\n",
    "\n",
    "def relu_derivative(x):\n",
    "    return np.where(x > 0, 1, 0)\n",
    "\n",
    "\n",
    "class ScratchNeuralNetwork:\n",
    "\n",
    "    def __init__(self, input_dim, hidden_dim, learning_rate=0.01, classification=False, epochs=10):\n",
    "        self.W1 = np.random.rand(input_dim, hidden_dim)\n",
    "        self.W2 = np.random.rand(hidden_dim, 1)\n",
    "        self.b1 = np.zeros((1, hidden_dim))\n",
    "        self.b2 = np.zeros((1, 1))\n",
    "        self.learning_rate = learning_rate\n",
    "        self.epochs = epochs\n",
    "        self.hidden_dim = hidden_dim\n",
    "        self.classification = classification\n",
    "        self.activation = sigmoid if classification else relu\n",
    "        self.activation_derivative = sigmoid_derivative if classification else relu_derivative\n",
    "        self.hidden_output = None\n",
    "\n",
    "    def forward(self, X):\n",
    "        self.hidden_output = self.activation(np.dot(X, self.W1) + self.b1)\n",
    "        output = np.dot(self.hidden_output, self.W2) + self.b2\n",
    "        return self.activation(output)\n",
    "\n",
    "    def backward(self, X, y, output):\n",
    "        error = (output - y)\n",
    "        error /= X.shape[0]  # divide by batch size\n",
    "        if not self.classification:  # For classification the activation derivative is simplified with the log_loss\n",
    "            error = error * self.activation_derivative(output)\n",
    "        d_weights2 = np.dot(self.hidden_output.T, error)\n",
    "        d_bias2 = np.sum(error, axis=0, keepdims=True)\n",
    "\n",
    "        d_hidden_output = np.dot(error, self.W2.T) * self.activation_derivative(self.hidden_output)\n",
    "        d_weights1 = np.dot(X.T, d_hidden_output)\n",
    "        d_bias1 = np.sum(d_hidden_output, axis=0, keepdims=True)\n",
    "\n",
    "        lr = self.learning_rate\n",
    "\n",
    "        self.W2 -= lr * d_weights2\n",
    "        self.b2 -= lr * d_bias2\n",
    "        self.W1 -= lr * d_weights1\n",
    "        self.b1 -= lr * d_bias1\n",
    "\n",
    "    def fit(self, X, y):\n",
    "        y = y.reshape(-1, 1)\n",
    "        for i in range(self.epochs):\n",
    "            output = self.forward(X)\n",
    "            self.backward(X, y, output)\n",
    "            loss = np.mean(np.square(output - y))\n",
    "            print(\"Epoch \", i, \" loss: \", loss)\n",
    "\n",
    "    def predict(self, X):\n",
    "        y_pred = self.forward(X)\n",
    "        if self.classification:\n",
    "            return np.where(y_pred > 0.5, 1, 0)\n",
    "        else:\n",
    "            return y_pred"
   ]
  },
  {
   "cell_type": "markdown",
   "metadata": {
    "collapsed": false
   },
   "source": [
    "## Regression"
   ]
  },
  {
   "cell_type": "code",
   "execution_count": 3,
   "metadata": {
    "ExecuteTime": {
     "end_time": "2023-05-25T14:30:23.845727005Z",
     "start_time": "2023-05-25T14:30:23.585295324Z"
    },
    "collapsed": false
   },
   "outputs": [],
   "source": [
    "df, train, test, val = get_data(normalize=True, binary_label=False)"
   ]
  },
  {
   "cell_type": "markdown",
   "metadata": {
    "collapsed": false
   },
   "source": [
    "### sklearn"
   ]
  },
  {
   "cell_type": "code",
   "execution_count": 4,
   "metadata": {
    "ExecuteTime": {
     "end_time": "2023-05-25T14:30:36.261694723Z",
     "start_time": "2023-05-25T14:30:23.847425840Z"
    }
   },
   "outputs": [
    {
     "name": "stdout",
     "output_type": "stream",
     "text": [
      "Iteration 1, loss = 93498697.77038790\n",
      "Iteration 2, loss = 93432062.40464759\n",
      "Iteration 3, loss = 93293548.64018172\n",
      "Iteration 4, loss = 93069953.35270239\n",
      "Iteration 5, loss = 92760638.93848751\n",
      "Iteration 6, loss = 92382787.90908296\n",
      "Iteration 7, loss = 91956352.08388145\n",
      "Iteration 8, loss = 91499833.44672398\n",
      "Iteration 9, loss = 91026719.75822501\n",
      "Iteration 10, loss = 90560136.70846792\n",
      "Iteration 11, loss = 90113265.94776164\n",
      "Iteration 12, loss = 89693504.91610427\n",
      "Iteration 13, loss = 89308666.07409894\n",
      "Iteration 14, loss = 88956998.48968241\n",
      "Iteration 15, loss = 88642001.42838758\n",
      "Iteration 16, loss = 88357171.21842405\n",
      "Iteration 17, loss = 88105014.00186810\n",
      "Iteration 18, loss = 87878828.59345932\n",
      "Iteration 19, loss = 87678595.18919952\n",
      "Iteration 20, loss = 87503312.44308227\n",
      "Iteration 21, loss = 87349442.94160980\n",
      "Iteration 22, loss = 87210534.23690429\n",
      "Iteration 23, loss = 87088145.65057297\n",
      "Iteration 24, loss = 86977647.78264335\n",
      "Iteration 25, loss = 86881830.21974926\n",
      "Iteration 26, loss = 86793663.07724892\n",
      "Iteration 27, loss = 86716643.55651042\n",
      "Iteration 28, loss = 86646780.07740305\n",
      "Iteration 29, loss = 86582978.03000700\n",
      "Iteration 30, loss = 86525007.63382927\n",
      "Iteration 31, loss = 86473580.62953541\n",
      "Iteration 32, loss = 86425613.23321095\n",
      "Iteration 33, loss = 86381146.46655086\n",
      "Iteration 34, loss = 86341540.20311119\n",
      "Iteration 35, loss = 86304055.84092887\n",
      "Iteration 36, loss = 86270480.74863565\n",
      "Iteration 37, loss = 86239136.63219669\n",
      "Iteration 38, loss = 86210080.91888522\n",
      "Iteration 39, loss = 86185347.11150955\n",
      "Iteration 40, loss = 86158792.50689706\n",
      "Iteration 41, loss = 86136587.69417512\n",
      "Iteration 42, loss = 86114084.36689693\n",
      "Iteration 43, loss = 86094057.92702132\n",
      "Iteration 44, loss = 86074469.76248853\n",
      "Iteration 45, loss = 86056927.03824596\n",
      "Iteration 46, loss = 86041631.12267308\n",
      "Iteration 47, loss = 86025341.96326397\n",
      "Iteration 48, loss = 86008700.30810118\n",
      "Iteration 49, loss = 85994780.68165711\n",
      "Iteration 50, loss = 85980962.86937508\n",
      "Iteration 51, loss = 85967435.03861849\n",
      "Iteration 52, loss = 85954242.70275058\n",
      "Iteration 53, loss = 85941348.44615386\n",
      "Iteration 54, loss = 85930248.67392918\n",
      "Iteration 55, loss = 85918049.62836243\n",
      "Iteration 56, loss = 85907404.56328000\n",
      "Iteration 57, loss = 85896406.88655892\n",
      "Iteration 58, loss = 85886080.52355744\n",
      "Iteration 59, loss = 85874701.33636248\n",
      "Iteration 60, loss = 85866477.63601990\n",
      "Iteration 61, loss = 85855372.59156092\n",
      "Iteration 62, loss = 85846124.97608347\n",
      "Iteration 63, loss = 85836989.90484245\n",
      "Iteration 64, loss = 85828326.66647907\n",
      "Iteration 65, loss = 85818955.41975895\n",
      "Iteration 66, loss = 85809658.81441802\n",
      "Iteration 67, loss = 85801301.93954936\n",
      "Iteration 68, loss = 85792895.60122262\n",
      "Iteration 69, loss = 85784921.54075180\n",
      "Iteration 70, loss = 85775684.06457980\n",
      "Iteration 71, loss = 85768505.69360684\n",
      "Iteration 72, loss = 85760778.15332079\n",
      "Iteration 73, loss = 85752923.72373293\n",
      "Iteration 74, loss = 85745601.60964262\n",
      "Iteration 75, loss = 85737989.15016569\n",
      "Iteration 76, loss = 85731004.31470154\n",
      "Iteration 77, loss = 85723358.48511061\n",
      "Iteration 78, loss = 85715809.18642947\n",
      "Iteration 79, loss = 85711520.86644086\n",
      "Iteration 80, loss = 85702867.97915597\n",
      "Iteration 81, loss = 85695886.01185837\n",
      "Iteration 82, loss = 85689091.29328640\n",
      "Iteration 83, loss = 85681869.93489943\n",
      "Iteration 84, loss = 85677215.32725516\n",
      "Iteration 85, loss = 85669634.14131780\n",
      "Iteration 86, loss = 85663393.33353287\n",
      "Iteration 87, loss = 85657291.78638969\n",
      "Iteration 88, loss = 85651156.26894742\n",
      "Iteration 89, loss = 85645172.61036211\n",
      "Iteration 90, loss = 85638602.97408144\n",
      "Iteration 91, loss = 85633563.24725278\n",
      "Iteration 92, loss = 85625921.95494615\n",
      "Iteration 93, loss = 85621850.37894548\n",
      "Iteration 94, loss = 85616868.68133540\n",
      "Iteration 95, loss = 85611311.83129461\n",
      "Iteration 96, loss = 85603650.07887149\n",
      "Iteration 97, loss = 85597933.40442361\n",
      "Iteration 98, loss = 85592818.99710324\n",
      "Iteration 99, loss = 85586755.24651408\n",
      "Iteration 100, loss = 85582385.02901454\n",
      "Time taken to train the model:  12.396308183670044\n",
      "Root Mean Squared Error: 8289.592600106917\n"
     ]
    },
    {
     "name": "stderr",
     "output_type": "stream",
     "text": [
      "/home/vmcvastry/.local/lib/python3.10/site-packages/sklearn/neural_network/_multilayer_perceptron.py:686: ConvergenceWarning: Stochastic Optimizer: Maximum iterations (100) reached and the optimization hasn't converged yet.\n",
      "  warnings.warn(\n"
     ]
    }
   ],
   "source": [
    "from sklearn.neural_network import MLPRegressor\n",
    "\n",
    "regressor = MLPRegressor(\n",
    "    hidden_layer_sizes=(100,),\n",
    "    activation='relu',\n",
    "    # solver='sgd',\n",
    "    alpha=0.0000,\n",
    "    batch_size='auto',\n",
    "    learning_rate='constant',\n",
    "    learning_rate_init=0.001,\n",
    "    shuffle=True,\n",
    "    random_state=1,\n",
    "    verbose=True,\n",
    "    # momentum=0.3\n",
    "    max_iter=100,\n",
    ")\n",
    "rmse_NN_sk = test_model(regressor, train, test, classification=False)"
   ]
  },
  {
   "cell_type": "markdown",
   "metadata": {
    "collapsed": false
   },
   "source": [
    "### scratch"
   ]
  },
  {
   "cell_type": "code",
   "execution_count": 5,
   "metadata": {
    "ExecuteTime": {
     "end_time": "2023-05-24T22:31:11.529704598Z",
     "start_time": "2023-05-24T22:31:04.364891181Z"
    },
    "collapsed": false
   },
   "outputs": [
    {
     "name": "stdout",
     "output_type": "stream",
     "text": [
      "Epoch  0  loss:  186243269.33690143\n",
      "Epoch  1  loss:  186098971.6551389\n",
      "Epoch  2  loss:  185953268.77152896\n",
      "Epoch  3  loss:  185805562.18485543\n",
      "Epoch  4  loss:  185655276.40027347\n",
      "Epoch  5  loss:  185501903.7962325\n",
      "Epoch  6  loss:  185345014.663702\n",
      "Epoch  7  loss:  185184228.3953833\n",
      "Epoch  8  loss:  185019193.37229562\n",
      "Epoch  9  loss:  184849648.7311762\n",
      "Epoch  10  loss:  184675408.003681\n",
      "Epoch  11  loss:  184496362.45869714\n",
      "Epoch  12  loss:  184312475.37868577\n",
      "Epoch  13  loss:  184123754.16902584\n",
      "Epoch  14  loss:  183930300.89547917\n",
      "Epoch  15  loss:  183732305.46564612\n",
      "Epoch  16  loss:  183529959.26958907\n",
      "Epoch  17  loss:  183323709.1415077\n",
      "Epoch  18  loss:  183113970.56385392\n",
      "Epoch  19  loss:  182901188.40310147\n",
      "Epoch  20  loss:  182685964.25758746\n",
      "Epoch  21  loss:  182468891.09314483\n",
      "Epoch  22  loss:  182250663.6319432\n",
      "Epoch  23  loss:  182031999.17468348\n",
      "Epoch  24  loss:  181813643.35858518\n",
      "Epoch  25  loss:  181596302.9346728\n",
      "Epoch  26  loss:  181380789.07297626\n",
      "Epoch  27  loss:  181167780.40505463\n",
      "Epoch  28  loss:  180957936.02304974\n",
      "Epoch  29  loss:  180751931.3546979\n",
      "Epoch  30  loss:  180550334.52226985\n",
      "Epoch  31  loss:  180353588.57815582\n",
      "Epoch  32  loss:  180162234.29052746\n",
      "Epoch  33  loss:  179976570.64589906\n",
      "Epoch  34  loss:  179796855.201964\n",
      "Epoch  35  loss:  179623255.27907187\n",
      "Epoch  36  loss:  179455879.7590133\n",
      "Epoch  37  loss:  179294790.03919905\n",
      "Epoch  38  loss:  179139909.74123085\n",
      "Epoch  39  loss:  178991092.0204617\n",
      "Epoch  40  loss:  178848163.93450037\n",
      "Epoch  41  loss:  178710930.83354878\n",
      "Epoch  42  loss:  178579188.0979171\n",
      "Epoch  43  loss:  178452633.87239254\n",
      "Epoch  44  loss:  178331030.84896505\n",
      "Epoch  45  loss:  178214130.2332443\n",
      "Epoch  46  loss:  178101653.18759036\n",
      "Epoch  47  loss:  177993270.1549211\n",
      "Epoch  48  loss:  177888733.84811786\n",
      "Epoch  49  loss:  177787705.98589244\n",
      "Epoch  50  loss:  177689816.51513803\n",
      "Epoch  51  loss:  177594867.28410518\n",
      "Epoch  52  loss:  177502624.61801738\n",
      "Epoch  53  loss:  177412850.2725523\n",
      "Epoch  54  loss:  177325323.47313356\n",
      "Epoch  55  loss:  177239904.05043876\n",
      "Epoch  56  loss:  177156429.06438068\n",
      "Epoch  57  loss:  177074725.16351134\n",
      "Epoch  58  loss:  176994612.29799935\n",
      "Epoch  59  loss:  176915881.15315086\n",
      "Epoch  60  loss:  176838480.2310291\n",
      "Epoch  61  loss:  176762296.79971159\n",
      "Epoch  62  loss:  176687219.77281958\n",
      "Epoch  63  loss:  176613117.8524939\n",
      "Epoch  64  loss:  176539888.81484687\n",
      "Epoch  65  loss:  176467456.40112683\n",
      "Epoch  66  loss:  176395776.15167603\n",
      "Epoch  67  loss:  176324854.53351754\n",
      "Epoch  68  loss:  176254561.9155357\n",
      "Epoch  69  loss:  176184796.60084236\n",
      "Epoch  70  loss:  176115551.43442786\n",
      "Epoch  71  loss:  176046780.5778431\n",
      "Epoch  72  loss:  175978520.79523414\n",
      "Epoch  73  loss:  175910784.64104763\n",
      "Epoch  74  loss:  175843539.99827152\n",
      "Epoch  75  loss:  175776705.1978245\n",
      "Epoch  76  loss:  175710265.17155397\n",
      "Epoch  77  loss:  175644281.2102626\n",
      "Epoch  78  loss:  175578760.77506807\n",
      "Epoch  79  loss:  175513687.86675015\n",
      "Epoch  80  loss:  175449014.95657563\n",
      "Epoch  81  loss:  175384818.24744463\n",
      "Epoch  82  loss:  175321131.4118261\n",
      "Epoch  83  loss:  175257925.85893217\n",
      "Epoch  84  loss:  175195317.155076\n",
      "Epoch  85  loss:  175133261.2527403\n",
      "Epoch  86  loss:  175071682.9611135\n",
      "Epoch  87  loss:  175010589.63187647\n",
      "Epoch  88  loss:  174950035.53926772\n",
      "Epoch  89  loss:  174890050.29910147\n",
      "Epoch  90  loss:  174830629.30780044\n",
      "Epoch  91  loss:  174771804.49620163\n",
      "Epoch  92  loss:  174713591.14486423\n",
      "Epoch  93  loss:  174656059.01041892\n",
      "Epoch  94  loss:  174599225.3369295\n",
      "Epoch  95  loss:  174543082.27452528\n",
      "Epoch  96  loss:  174487615.60052168\n",
      "Epoch  97  loss:  174432868.54469505\n",
      "Epoch  98  loss:  174378814.29784468\n",
      "Epoch  99  loss:  174325412.1979087\n",
      "Time taken to train the model:  6.888063430786133\n",
      "Root Mean Squared Error: 8427.343324827922\n"
     ]
    },
    {
     "data": {
      "text/plain": [
       "8427.343324827922"
      ]
     },
     "execution_count": 5,
     "metadata": {},
     "output_type": "execute_result"
    }
   ],
   "source": [
    "df, train, test, val = get_data(normalize=True, binary_label=False)\n",
    "my_regressor = ScratchNeuralNetwork(input_dim=58, hidden_dim=100, learning_rate=0.00001, epochs=100,\n",
    "                                    classification=False)\n",
    "rmse_NN_my = test_model(my_regressor, train, test, classification=False)"
   ]
  },
  {
   "cell_type": "markdown",
   "metadata": {
    "collapsed": false
   },
   "source": [
    "Given that the optimization is quite expensive hidden_dim and lr will be optimized separately"
   ]
  },
  {
   "cell_type": "code",
   "execution_count": null,
   "metadata": {
    "collapsed": false
   },
   "outputs": [],
   "source": [
    "def get_model(param):\n",
    "    return ScratchNeuralNetwork(input_dim=58, hidden_dim=param, learning_rate=0.00001, epochs=100,\n",
    "                                classification=False)\n",
    "\n",
    "\n",
    "best_h, params, accuracies = optimize_hyperparameters(get_model, range(100, 1000, 200), train, test, val,\n",
    "                                                      classification=False)\n",
    "plot_2d(params, accuracies, 'hidden_dim', 'accuracy')\n",
    "best_model = get_model(param=best_h)"
   ]
  },
  {
   "cell_type": "code",
   "execution_count": null,
   "metadata": {
    "collapsed": false
   },
   "outputs": [],
   "source": [
    "if not best_h:\n",
    "    best_h = 300\n",
    "\n",
    "\n",
    "def get_model(param):\n",
    "    return ScratchNeuralNetwork(input_dim=58, hidden_dim=best_h, learning_rate=param * 10 ** -4, epochs=100,\n",
    "                                classification=False)\n",
    "\n",
    "\n",
    "best_param, params, accuracies = optimize_hyperparameters(get_model, (0.01, 0.05, 0.1, 0.2, 0.3, 0.4, 0.5), train, test,\n",
    "                                                          val,\n",
    "                                                          classification=False)\n",
    "plot_2d(params, accuracies, 'lr', 'accuracy')\n",
    "best_model = get_model(param=best_param)\n",
    "\n",
    "rmse_NN_my = test_model(best_model, train, test, classification=False)"
   ]
  },
  {
   "cell_type": "markdown",
   "metadata": {
    "collapsed": false
   },
   "source": [
    "## Classification"
   ]
  },
  {
   "cell_type": "code",
   "execution_count": 6,
   "metadata": {
    "ExecuteTime": {
     "end_time": "2023-05-24T22:31:26.345215906Z",
     "start_time": "2023-05-24T22:31:26.076655534Z"
    },
    "collapsed": false
   },
   "outputs": [],
   "source": [
    "df, train, test, val = get_data(normalize=True, binary_label=True)"
   ]
  },
  {
   "cell_type": "markdown",
   "metadata": {
    "collapsed": false
   },
   "source": [
    "### sklearn"
   ]
  },
  {
   "cell_type": "code",
   "execution_count": 10,
   "metadata": {
    "ExecuteTime": {
     "end_time": "2023-05-14T10:38:51.394366035Z",
     "start_time": "2023-05-14T10:38:32.758718103Z"
    },
    "collapsed": false
   },
   "outputs": [
    {
     "name": "stdout",
     "output_type": "stream",
     "text": [
      "Time taken to train the model:  18.518577575683594\n",
      "Binary cross entropy: 12.423673188606026\n",
      "Predicted mean: 0.5521503342161685 Actual mean: 0.5353764661369655\n",
      "Accuracy: 0.6553159288687098\n"
     ]
    },
    {
     "name": "stderr",
     "output_type": "stream",
     "text": [
      "/home/vmcvastry/.local/lib/python3.10/site-packages/sklearn/neural_network/_multilayer_perceptron.py:686: ConvergenceWarning: Stochastic Optimizer: Maximum iterations (100) reached and the optimization hasn't converged yet.\n",
      "  warnings.warn(\n"
     ]
    },
    {
     "data": {
      "text/plain": [
       "0.6553159288687098"
      ]
     },
     "execution_count": 10,
     "metadata": {},
     "output_type": "execute_result"
    }
   ],
   "source": [
    "from sklearn.neural_network import MLPClassifier\n",
    "\n",
    "classifier = MLPClassifier(\n",
    "    hidden_layer_sizes=(100,),\n",
    "    activation='logistic',\n",
    "    learning_rate_init=0.001,\n",
    "    max_iter=100,\n",
    ")\n",
    "accuracy_NN_sk = test_model(classifier, train, test, classification=True)"
   ]
  },
  {
   "cell_type": "markdown",
   "metadata": {
    "collapsed": false
   },
   "source": [
    "### scratch"
   ]
  },
  {
   "cell_type": "code",
   "execution_count": 67,
   "metadata": {
    "ExecuteTime": {
     "end_time": "2023-05-14T14:21:34.373703249Z",
     "start_time": "2023-05-14T14:20:41.068764760Z"
    }
   },
   "outputs": [
    {
     "name": "stdout",
     "output_type": "stream",
     "text": [
      "Epoch  0  loss:  0.45056166141658377\n",
      "Epoch  1  loss:  0.44984796947303635\n",
      "Epoch  2  loss:  0.4490844013451975\n",
      "Epoch  3  loss:  0.4482651134548795\n",
      "Epoch  4  loss:  0.4473833036835954\n",
      "Epoch  5  loss:  0.4464310065469873\n",
      "Epoch  6  loss:  0.4453988357995212\n",
      "Epoch  7  loss:  0.44427565953025044\n",
      "Epoch  8  loss:  0.44304818773300764\n",
      "Epoch  9  loss:  0.44170044459285174\n",
      "Epoch  10  loss:  0.4402130850742823\n",
      "Epoch  11  loss:  0.4385624933487692\n",
      "Epoch  12  loss:  0.43671956043196697\n",
      "Epoch  13  loss:  0.4346479636023581\n",
      "Epoch  14  loss:  0.4323016305266573\n",
      "Epoch  15  loss:  0.42962081302463123\n",
      "Epoch  16  loss:  0.42652572778429476\n",
      "Epoch  17  loss:  0.42290589860215877\n",
      "Epoch  18  loss:  0.4186019787309408\n",
      "Epoch  19  loss:  0.4133750818117468\n",
      "Epoch  20  loss:  0.40685884047239707\n",
      "Epoch  21  loss:  0.39849973210262707\n",
      "Epoch  22  loss:  0.38751185379717884\n",
      "Epoch  23  loss:  0.37284637650780855\n",
      "Epoch  24  loss:  0.35329612570660246\n",
      "Epoch  25  loss:  0.3288191199312176\n",
      "Epoch  26  loss:  0.3042919105618146\n",
      "Epoch  27  loss:  0.28924952926512615\n",
      "Epoch  28  loss:  0.28823458265297996\n",
      "Epoch  29  loss:  0.2862028237938204\n",
      "Epoch  30  loss:  0.2848561778766234\n",
      "Epoch  31  loss:  0.28326611480690533\n",
      "Epoch  32  loss:  0.28184868545458974\n",
      "Epoch  33  loss:  0.28039772317064793\n",
      "Epoch  34  loss:  0.279014055493201\n",
      "Epoch  35  loss:  0.277647495295238\n",
      "Epoch  36  loss:  0.2763238740047707\n",
      "Epoch  37  loss:  0.27503009243292875\n",
      "Epoch  38  loss:  0.27377309481049755\n",
      "Epoch  39  loss:  0.27254913835233546\n",
      "Epoch  40  loss:  0.2713600355698129\n",
      "Epoch  41  loss:  0.2702044635514414\n",
      "Epoch  42  loss:  0.2690826870450252\n",
      "Epoch  43  loss:  0.2679939743980333\n",
      "Epoch  44  loss:  0.2669380431857517\n",
      "Epoch  45  loss:  0.2659142582205667\n",
      "Epoch  46  loss:  0.2649220972967453\n",
      "Epoch  47  loss:  0.26396089430475417\n",
      "Epoch  48  loss:  0.2630299982267998\n",
      "Epoch  49  loss:  0.26212869010573747\n",
      "Epoch  50  loss:  0.26125624165225386\n",
      "Epoch  51  loss:  0.2604118895866049\n",
      "Epoch  52  loss:  0.2595948597871051\n",
      "Epoch  53  loss:  0.25880436092795056\n",
      "Epoch  54  loss:  0.2580395960459284\n",
      "Epoch  55  loss:  0.2572997625564211\n",
      "Epoch  56  loss:  0.25658405876806994\n",
      "Epoch  57  loss:  0.2558916857597864\n",
      "Epoch  58  loss:  0.25522185154484994\n",
      "Epoch  59  loss:  0.2545737732078152\n",
      "Epoch  60  loss:  0.2539466797491742\n",
      "Epoch  61  loss:  0.25333981393266364\n",
      "Epoch  62  loss:  0.25275243425009747\n",
      "Epoch  63  loss:  0.25218381632237835\n",
      "Epoch  64  loss:  0.2516332542092688\n",
      "Epoch  65  loss:  0.25110006135739393\n",
      "Epoch  66  loss:  0.2505835713978514\n",
      "Epoch  67  loss:  0.25008313869062043\n",
      "Epoch  68  loss:  0.24959813871777095\n",
      "Epoch  69  loss:  0.24912796829163428\n",
      "Epoch  70  loss:  0.24867204563230116\n",
      "Epoch  71  loss:  0.24822981030859023\n",
      "Epoch  72  loss:  0.2478007230748516\n",
      "Epoch  73  loss:  0.24738426560842863\n",
      "Epoch  74  loss:  0.24697994016905597\n",
      "Epoch  75  loss:  0.24658726918834348\n",
      "Epoch  76  loss:  0.24620579480436267\n",
      "Epoch  77  loss:  0.24583507834973511\n",
      "Epoch  78  loss:  0.24547469980424763\n",
      "Epoch  79  loss:  0.24512425721943656\n",
      "Epoch  80  loss:  0.24478336612335555\n",
      "Epoch  81  loss:  0.2444516589116349\n",
      "Epoch  82  loss:  0.24412878423093154\n",
      "Epoch  83  loss:  0.24381440635953147\n",
      "Epoch  84  loss:  0.24350820458955974\n",
      "Epoch  85  loss:  0.24320987261434737\n",
      "Epoch  86  loss:  0.2429191179241204\n",
      "Epoch  87  loss:  0.242635661212533\n",
      "Epoch  88  loss:  0.24235923579619967\n",
      "Epoch  89  loss:  0.2420895870489129\n",
      "Epoch  90  loss:  0.2418264718519162\n",
      "Epoch  91  loss:  0.24156965806125952\n",
      "Epoch  92  loss:  0.24131892399300878\n",
      "Epoch  93  loss:  0.24107405792682746\n",
      "Epoch  94  loss:  0.24083485762825363\n",
      "Epoch  95  loss:  0.24060112988981086\n",
      "Epoch  96  loss:  0.24037269009094656\n",
      "Epoch  97  loss:  0.24014936177666166\n",
      "Epoch  98  loss:  0.23993097625459012\n",
      "Epoch  99  loss:  0.2397173722102\n",
      "Epoch  100  loss:  0.23950839533971544\n",
      "Epoch  101  loss:  0.23930389800030213\n",
      "Epoch  102  loss:  0.23910373887701442\n",
      "Epoch  103  loss:  0.23890778266596793\n",
      "Epoch  104  loss:  0.23871589977317628\n",
      "Epoch  105  loss:  0.23852796602847495\n",
      "Epoch  106  loss:  0.23834386241394495\n",
      "Epoch  107  loss:  0.238163474806244\n",
      "Epoch  108  loss:  0.2379866937322556\n",
      "Epoch  109  loss:  0.23781341413746898\n",
      "Epoch  110  loss:  0.2376435351665138\n",
      "Epoch  111  loss:  0.2374769599552818\n",
      "Epoch  112  loss:  0.2373135954340834\n",
      "Epoch  113  loss:  0.2371533521413001\n",
      "Epoch  114  loss:  0.23699614404701155\n",
      "Epoch  115  loss:  0.2368418883860932\n",
      "Epoch  116  loss:  0.2366905055002976\n",
      "Epoch  117  loss:  0.2365419186888525\n",
      "Epoch  118  loss:  0.23639605406712674\n",
      "Epoch  119  loss:  0.23625284043293462\n",
      "Epoch  120  loss:  0.23611220914006686\n",
      "Epoch  121  loss:  0.23597409397865737\n",
      "Epoch  122  loss:  0.2358384310620106\n",
      "Epoch  123  loss:  0.23570515871953443\n",
      "Epoch  124  loss:  0.23557421739543957\n",
      "Epoch  125  loss:  0.23544554955288424\n",
      "Epoch  126  loss:  0.23531909958325928\n",
      "Epoch  127  loss:  0.23519481372032391\n",
      "Epoch  128  loss:  0.23507263995891908\n",
      "Epoch  129  loss:  0.23495252797799834\n",
      "Epoch  130  loss:  0.23483442906773142\n",
      "Epoch  131  loss:  0.23471829606044856\n",
      "Epoch  132  loss:  0.23460408326520688\n",
      "Epoch  133  loss:  0.23449174640577186\n",
      "Epoch  134  loss:  0.23438124256181855\n",
      "Epoch  135  loss:  0.23427253011316898\n",
      "Epoch  136  loss:  0.23416556868689206\n",
      "Epoch  137  loss:  0.23406031910710212\n",
      "Epoch  138  loss:  0.23395674334730224\n",
      "Epoch  139  loss:  0.2338548044851274\n",
      "Epoch  140  loss:  0.23375446665935035\n",
      "Epoch  141  loss:  0.23365569502902125\n",
      "Epoch  142  loss:  0.23355845573462125\n",
      "Epoch  143  loss:  0.23346271586111408\n",
      "Epoch  144  loss:  0.2333684434027901\n",
      "Epoch  145  loss:  0.2332756072298009\n",
      "Epoch  146  loss:  0.23318417705628977\n",
      "Epoch  147  loss:  0.23309412341002883\n",
      "Epoch  148  loss:  0.23300541760347865\n",
      "Epoch  149  loss:  0.23291803170619185\n",
      "Epoch  150  loss:  0.23283193851848547\n",
      "Epoch  151  loss:  0.2327471115463133\n",
      "Epoch  152  loss:  0.23266352497727186\n",
      "Epoch  153  loss:  0.23258115365767834\n",
      "Epoch  154  loss:  0.2324999730706625\n",
      "Epoch  155  loss:  0.23241995931521778\n",
      "Epoch  156  loss:  0.23234108908616044\n",
      "Epoch  157  loss:  0.23226333965494778\n",
      "Epoch  158  loss:  0.23218668885131105\n",
      "Epoch  159  loss:  0.23211111504565904\n",
      "Epoch  160  loss:  0.2320365971322127\n",
      "Epoch  161  loss:  0.23196311451283322\n",
      "Epoch  162  loss:  0.23189064708150678\n",
      "Epoch  163  loss:  0.2318191752094536\n",
      "Epoch  164  loss:  0.23174867973082944\n",
      "Epoch  165  loss:  0.2316791419289884\n",
      "Epoch  166  loss:  0.23161054352328111\n",
      "Epoch  167  loss:  0.23154286665636026\n",
      "Epoch  168  loss:  0.2314760938819694\n",
      "Epoch  169  loss:  0.2314102081531905\n",
      "Epoch  170  loss:  0.23134519281112997\n",
      "Epoch  171  loss:  0.23128103157402016\n",
      "Epoch  172  loss:  0.23121770852671772\n",
      "Epoch  173  loss:  0.23115520811058055\n",
      "Epoch  174  loss:  0.23109351511370482\n",
      "Epoch  175  loss:  0.2310326146615063\n",
      "Epoch  176  loss:  0.23097249220762953\n",
      "Epoch  177  loss:  0.23091313352517076\n",
      "Epoch  178  loss:  0.2308545246982008\n",
      "Epoch  179  loss:  0.23079665211357314\n",
      "Epoch  180  loss:  0.23073950245300662\n",
      "Epoch  181  loss:  0.23068306268542965\n",
      "Epoch  182  loss:  0.2306273200595752\n",
      "Epoch  183  loss:  0.23057226209681564\n",
      "Epoch  184  loss:  0.2305178765842276\n",
      "Epoch  185  loss:  0.23046415156787733\n",
      "Epoch  186  loss:  0.23041107534631744\n",
      "Epoch  187  loss:  0.23035863646428612\n",
      "Epoch  188  loss:  0.23030682370660113\n",
      "Epoch  189  loss:  0.2302556260922409\n",
      "Epoch  190  loss:  0.23020503286860475\n",
      "Epoch  191  loss:  0.23015503350594563\n",
      "Epoch  192  loss:  0.23010561769196905\n",
      "Epoch  193  loss:  0.23005677532659136\n",
      "Epoch  194  loss:  0.23000849651685162\n",
      "Epoch  195  loss:  0.22996077157197103\n",
      "Epoch  196  loss:  0.22991359099855488\n",
      "Epoch  197  loss:  0.22986694549593195\n",
      "Epoch  198  loss:  0.2298208259516252\n",
      "Epoch  199  loss:  0.22977522343695103\n",
      "Time taken to train the model:  52.95020008087158\n",
      "Binary cross entropy: 13.401020329312315\n",
      "Predicted mean: 0.5164585698070374 Actual mean: 0.5353764661369655\n",
      "Accuracy: 0.6282002774624795\n"
     ]
    },
    {
     "data": {
      "text/plain": [
       "0.6282002774624795"
      ]
     },
     "execution_count": 67,
     "metadata": {},
     "output_type": "execute_result"
    }
   ],
   "source": [
    "my_regressor = ScratchNeuralNetwork(input_dim=58, hidden_dim=250, learning_rate=0.1, epochs=200, classification=True)\n",
    "accuracy_NN_my = test_model(my_regressor, train, test, classification=True)"
   ]
  },
  {
   "cell_type": "markdown",
   "metadata": {
    "collapsed": false
   },
   "source": [
    "Given that the optimization is quite expensive hidden_dim and lr will be optimized separately"
   ]
  },
  {
   "cell_type": "code",
   "execution_count": 17,
   "metadata": {
    "ExecuteTime": {
     "end_time": "2023-05-14T10:55:40.911253099Z",
     "start_time": "2023-05-14T10:50:45.759143383Z"
    },
    "collapsed": false
   },
   "outputs": [
    {
     "name": "stdout",
     "output_type": "stream",
     "text": [
      "Trying hyperparameters: 100\n",
      "Epoch  0  loss:  0.43946315923178947\n",
      "Epoch  1  loss:  0.4368242706479235\n",
      "Epoch  2  loss:  0.433836907623429\n",
      "Epoch  3  loss:  0.43042468156088964\n",
      "Epoch  4  loss:  0.4264818134397438\n",
      "Epoch  5  loss:  0.42185645998021576\n",
      "Epoch  6  loss:  0.41632436169298914\n",
      "Epoch  7  loss:  0.4095497562054382\n",
      "Epoch  8  loss:  0.40103199667415446\n",
      "Epoch  9  loss:  0.3900339597047615\n",
      "Epoch  10  loss:  0.37546256256708954\n",
      "Epoch  11  loss:  0.355573544362571\n",
      "Epoch  12  loss:  0.3270970804037427\n",
      "Epoch  13  loss:  0.28612584913135986\n",
      "Epoch  14  loss:  0.26621837721958225\n",
      "Epoch  15  loss:  0.2644431828312395\n",
      "Epoch  16  loss:  0.2631765000145676\n",
      "Epoch  17  loss:  0.2618267777471076\n",
      "Epoch  18  loss:  0.26059449524062256\n",
      "Epoch  19  loss:  0.25938135607967766\n",
      "Epoch  20  loss:  0.2582268162794511\n",
      "Epoch  21  loss:  0.2571113790550144\n",
      "Epoch  22  loss:  0.25604187500985676\n",
      "Epoch  23  loss:  0.2550133679135551\n",
      "Epoch  24  loss:  0.25402619070824006\n",
      "Epoch  25  loss:  0.2530782501310043\n",
      "Epoch  26  loss:  0.25216854344431067\n",
      "Epoch  27  loss:  0.2512955555358597\n",
      "Epoch  28  loss:  0.2504580105446911\n",
      "Epoch  29  loss:  0.24965453173568788\n",
      "Epoch  30  loss:  0.2488838093380208\n",
      "Epoch  31  loss:  0.24814452904630602\n",
      "Epoch  32  loss:  0.24743541242187223\n",
      "Epoch  33  loss:  0.24675520326035527\n",
      "Epoch  34  loss:  0.24610267881444942\n",
      "Epoch  35  loss:  0.2454766482769323\n",
      "Epoch  36  loss:  0.24487595662163367\n",
      "Epoch  37  loss:  0.24429948515459834\n",
      "Epoch  38  loss:  0.2437461530255265\n",
      "Epoch  39  loss:  0.24321491770308865\n",
      "Epoch  40  loss:  0.2427047754506158\n",
      "Epoch  41  loss:  0.24221476135648923\n",
      "Epoch  42  loss:  0.2417439491949363\n",
      "Epoch  43  loss:  0.24129145103498714\n",
      "Epoch  44  loss:  0.2408564166873249\n",
      "Epoch  45  loss:  0.24043803298972313\n",
      "Epoch  46  loss:  0.24003552297163727\n",
      "Epoch  47  loss:  0.23964814491470943\n",
      "Epoch  48  loss:  0.2392751913338871\n",
      "Epoch  49  loss:  0.23891598789622193\n",
      "Epoch  50  loss:  0.23856989229476894\n",
      "Epoch  51  loss:  0.23823629309161815\n",
      "Epoch  52  loss:  0.23791460854282775\n",
      "Epoch  53  loss:  0.23760428541595144\n",
      "Epoch  54  loss:  0.23730479780943534\n",
      "Epoch  55  loss:  0.2370156459816516\n",
      "Epoch  56  loss:  0.23673635519610037\n",
      "Epoch  57  loss:  0.23646647458815814\n",
      "Epoch  58  loss:  0.23620557605775466\n",
      "Epoch  59  loss:  0.23595325319147345\n",
      "Epoch  60  loss:  0.2357091202167991\n",
      "Epoch  61  loss:  0.2354728109905617\n",
      "Epoch  62  loss:  0.23524397802304653\n",
      "Epoch  63  loss:  0.235022291538739\n",
      "Epoch  64  loss:  0.23480743857424483\n",
      "Epoch  65  loss:  0.23459912211356795\n",
      "Epoch  66  loss:  0.23439706026062054\n",
      "Epoch  67  loss:  0.23420098544859047\n",
      "Epoch  68  loss:  0.23401064368558022\n",
      "Epoch  69  loss:  0.2338257938357647\n",
      "Epoch  70  loss:  0.23364620693517762\n",
      "Epoch  71  loss:  0.23347166554113388\n",
      "Epoch  72  loss:  0.23330196311421172\n",
      "Epoch  73  loss:  0.23313690343166332\n",
      "Epoch  74  loss:  0.23297630003108025\n",
      "Epoch  75  loss:  0.23281997568311788\n",
      "Epoch  76  loss:  0.23266776189207103\n",
      "Epoch  77  loss:  0.2325194984230948\n",
      "Epoch  78  loss:  0.2323750328548727\n",
      "Epoch  79  loss:  0.23223422015655257\n",
      "Epoch  80  loss:  0.23209692228779333\n",
      "Epoch  81  loss:  0.23196300782079415\n",
      "Epoch  82  loss:  0.23183235158320908\n",
      "Epoch  83  loss:  0.2317048343208852\n",
      "Epoch  84  loss:  0.23158034237939942\n",
      "Epoch  85  loss:  0.2314587674034076\n",
      "Epoch  86  loss:  0.2313400060528573\n",
      "Epoch  87  loss:  0.23122395973515822\n",
      "Epoch  88  loss:  0.2311105343524401\n",
      "Epoch  89  loss:  0.23099964006307133\n",
      "Epoch  90  loss:  0.2308911910566465\n",
      "Epoch  91  loss:  0.23078510534169286\n",
      "Epoch  92  loss:  0.23068130454537977\n",
      "Epoch  93  loss:  0.23057971372455305\n",
      "Epoch  94  loss:  0.23048026118745066\n",
      "Epoch  95  loss:  0.23038287832548998\n",
      "Epoch  96  loss:  0.2302874994545486\n",
      "Epoch  97  loss:  0.23019406166519377\n",
      "Epoch  98  loss:  0.2301025046813423\n",
      "Epoch  99  loss:  0.2300127707268645\n",
      "Time taken to train the model:  11.110067129135132\n",
      "Binary cross entropy: 13.791257571399546\n",
      "Predicted mean: 0.5305060696831152 Actual mean: 0.527825949865994\n",
      "Accuracy: 0.6173734825792212\n",
      "Value: 0.6173734825792212\n",
      "Trying hyperparameters: 300\n",
      "Epoch  0  loss:  0.4510993532930137\n",
      "Epoch  1  loss:  0.44971051964063313\n",
      "Epoch  2  loss:  0.4480955060352138\n",
      "Epoch  3  loss:  0.4461899481576082\n",
      "Epoch  4  loss:  0.44390183832765145\n",
      "Epoch  5  loss:  0.441094706402109\n",
      "Epoch  6  loss:  0.43755734794395446\n",
      "Epoch  7  loss:  0.43294301996255385\n",
      "Epoch  8  loss:  0.42662896389870175\n",
      "Epoch  9  loss:  0.4173581118740726\n",
      "Epoch  10  loss:  0.40236865416966594\n",
      "Epoch  11  loss:  0.37582750212319993\n",
      "Epoch  12  loss:  0.33016936007649467\n",
      "Epoch  13  loss:  0.2978038149639776\n",
      "Epoch  14  loss:  0.30062779261338546\n",
      "Epoch  15  loss:  0.3830819822648222\n",
      "Epoch  16  loss:  0.3333389726584241\n",
      "Epoch  17  loss:  0.283950386578933\n",
      "Epoch  18  loss:  0.288297795272973\n",
      "Epoch  19  loss:  0.3717559885881766\n",
      "Epoch  20  loss:  0.3322638170918722\n",
      "Epoch  21  loss:  0.2827446118364183\n",
      "Epoch  22  loss:  0.29133245451670003\n",
      "Epoch  23  loss:  0.3898632958022964\n",
      "Epoch  24  loss:  0.3367673347609532\n",
      "Epoch  25  loss:  0.26948561161248863\n",
      "Epoch  26  loss:  0.2739910850050333\n",
      "Epoch  27  loss:  0.34944081272252725\n",
      "Epoch  28  loss:  0.32939659132927857\n",
      "Epoch  29  loss:  0.2916388253618465\n",
      "Epoch  30  loss:  0.3045684456202063\n",
      "Epoch  31  loss:  0.383996669155814\n",
      "Epoch  32  loss:  0.337644819100343\n",
      "Epoch  33  loss:  0.26280728574904155\n",
      "Epoch  34  loss:  0.27137078014319366\n",
      "Epoch  35  loss:  0.36680914693041133\n",
      "Epoch  36  loss:  0.33548298465368953\n",
      "Epoch  37  loss:  0.2675216698982492\n",
      "Epoch  38  loss:  0.2845844091788181\n",
      "Epoch  39  loss:  0.39661839162979096\n",
      "Epoch  40  loss:  0.34115143466633185\n",
      "Epoch  41  loss:  0.25418594648733156\n",
      "Epoch  42  loss:  0.2583384112914513\n",
      "Epoch  43  loss:  0.31869235707137133\n",
      "Epoch  44  loss:  0.32360599965523595\n",
      "Epoch  45  loss:  0.32364857183520845\n",
      "Epoch  46  loss:  0.3255593567598389\n",
      "Epoch  47  loss:  0.3131533465577012\n",
      "Epoch  48  loss:  0.3215319987718025\n",
      "Epoch  49  loss:  0.33049006573961953\n",
      "Epoch  50  loss:  0.32801831765658435\n",
      "Epoch  51  loss:  0.29891859751077876\n",
      "Epoch  52  loss:  0.3149962475087106\n",
      "Epoch  53  loss:  0.3536222917496275\n",
      "Epoch  54  loss:  0.33453798553675285\n",
      "Epoch  55  loss:  0.26781261051530236\n",
      "Epoch  56  loss:  0.2918556337758396\n",
      "Epoch  57  loss:  0.394570640762059\n",
      "Epoch  58  loss:  0.34200792066826835\n",
      "Epoch  59  loss:  0.24764399594310438\n",
      "Epoch  60  loss:  0.2541625501673221\n",
      "Epoch  61  loss:  0.3266803258730196\n",
      "Epoch  62  loss:  0.3282257783805862\n",
      "Epoch  63  loss:  0.2991859848990397\n",
      "Epoch  64  loss:  0.3167980023623541\n",
      "Epoch  65  loss:  0.34683521927337535\n",
      "Epoch  66  loss:  0.3339596123484931\n",
      "Epoch  67  loss:  0.27049249855815805\n",
      "Epoch  68  loss:  0.2969703422222583\n",
      "Epoch  69  loss:  0.3885062399107334\n",
      "Epoch  70  loss:  0.3418811717633972\n",
      "Epoch  71  loss:  0.24600506120498264\n",
      "Epoch  72  loss:  0.25637050771103803\n",
      "Epoch  73  loss:  0.34914263468832263\n",
      "Epoch  74  loss:  0.3353211698385462\n",
      "Epoch  75  loss:  0.2662561944104787\n",
      "Epoch  76  loss:  0.2940339322948909\n",
      "Epoch  77  loss:  0.39062899317276734\n",
      "Epoch  78  loss:  0.3427309763062095\n",
      "Epoch  79  loss:  0.24422841489572683\n",
      "Epoch  80  loss:  0.2544596503684082\n",
      "Epoch  81  loss:  0.34553138368578457\n",
      "Epoch  82  loss:  0.3350670627802683\n",
      "Epoch  83  loss:  0.2685199826055859\n",
      "Epoch  84  loss:  0.29737599220440125\n",
      "Epoch  85  loss:  0.3867685754775113\n",
      "Epoch  86  loss:  0.34265921319588577\n",
      "Epoch  87  loss:  0.243948127112174\n",
      "Epoch  88  loss:  0.25674366945142224\n",
      "Epoch  89  loss:  0.3576550759032438\n",
      "Epoch  90  loss:  0.3382374538456722\n",
      "Epoch  91  loss:  0.25648627669266005\n",
      "Epoch  92  loss:  0.2841024473290143\n",
      "Epoch  93  loss:  0.3934270738446093\n",
      "Epoch  94  loss:  0.34382423629993647\n",
      "Epoch  95  loss:  0.2418858573587948\n",
      "Epoch  96  loss:  0.2523791566370066\n",
      "Epoch  97  loss:  0.34309448678600224\n",
      "Epoch  98  loss:  0.335323762120328\n",
      "Epoch  99  loss:  0.269048390030271\n",
      "Time taken to train the model:  30.324106693267822\n",
      "Binary cross entropy: 14.251534400111275\n",
      "Predicted mean: 0.7280466656156392 Actual mean: 0.527825949865994\n",
      "Accuracy: 0.6046034999211729\n",
      "Value: 0.6046034999211729\n",
      "Trying hyperparameters: 500\n",
      "Epoch  0  loss:  0.4547374306532921\n",
      "Epoch  1  loss:  0.4538272706887847\n",
      "Epoch  2  loss:  0.4527680629128554\n",
      "Epoch  3  loss:  0.45151368764295313\n",
      "Epoch  4  loss:  0.449999365638155\n",
      "Epoch  5  loss:  0.44812968073133574\n",
      "Epoch  6  loss:  0.44575602531114505\n",
      "Epoch  7  loss:  0.4426337314705346\n",
      "Epoch  8  loss:  0.43833512424586846\n",
      "Epoch  9  loss:  0.4320379602871587\n",
      "Epoch  10  loss:  0.42186539424912006\n",
      "Epoch  11  loss:  0.4020969766655473\n",
      "Epoch  12  loss:  0.349477839202989\n",
      "Epoch  13  loss:  0.44050795273810395\n",
      "Epoch  14  loss:  0.3769653898330647\n",
      "Epoch  15  loss:  0.30021826684548353\n",
      "Epoch  16  loss:  0.4059704184945738\n",
      "Epoch  17  loss:  0.37149144728592537\n",
      "Epoch  18  loss:  0.2922759188710498\n",
      "Epoch  19  loss:  0.2882472402425534\n",
      "Epoch  20  loss:  0.3127756995273856\n",
      "Epoch  21  loss:  0.3332392448018547\n",
      "Epoch  22  loss:  0.4736234623938915\n",
      "Epoch  23  loss:  0.3796176327369367\n",
      "Epoch  24  loss:  0.2858927521508996\n",
      "Epoch  25  loss:  0.4486587807542679\n",
      "Epoch  26  loss:  0.3793361155281971\n",
      "Epoch  27  loss:  0.283158301176497\n",
      "Epoch  28  loss:  0.4489396295609369\n",
      "Epoch  29  loss:  0.37907659198292654\n",
      "Epoch  30  loss:  0.2809492675960391\n",
      "Epoch  31  loss:  0.4488445183173356\n",
      "Epoch  32  loss:  0.378778617462192\n",
      "Epoch  33  loss:  0.2790401643062112\n",
      "Epoch  34  loss:  0.44785025564539727\n",
      "Epoch  35  loss:  0.3784369848126018\n",
      "Epoch  36  loss:  0.2773164142667231\n",
      "Epoch  37  loss:  0.44599373326949054\n",
      "Epoch  38  loss:  0.37806647258086473\n",
      "Epoch  39  loss:  0.2757280270656441\n",
      "Epoch  40  loss:  0.4434583326334096\n",
      "Epoch  41  loss:  0.3776760647529664\n",
      "Epoch  42  loss:  0.2742353386798864\n",
      "Epoch  43  loss:  0.44032522574988786\n",
      "Epoch  44  loss:  0.3772634376940921\n",
      "Epoch  45  loss:  0.27278920420341063\n",
      "Epoch  46  loss:  0.436508221583652\n",
      "Epoch  47  loss:  0.37681251661862136\n",
      "Epoch  48  loss:  0.27131916574648796\n",
      "Epoch  49  loss:  0.4316660829601377\n",
      "Epoch  50  loss:  0.3762806068365667\n",
      "Epoch  51  loss:  0.2697013959132927\n",
      "Epoch  52  loss:  0.42484680780966205\n",
      "Epoch  53  loss:  0.375545258495597\n",
      "Epoch  54  loss:  0.2676468445126769\n",
      "Epoch  55  loss:  0.412870870761872\n",
      "Epoch  56  loss:  0.3741244197277667\n",
      "Epoch  57  loss:  0.2642151979130725\n",
      "Epoch  58  loss:  0.37837149241251045\n",
      "Epoch  59  loss:  0.3682031965840593\n",
      "Epoch  60  loss:  0.2594990640195124\n",
      "Epoch  61  loss:  0.26705986109814933\n",
      "Epoch  62  loss:  0.4287003632483641\n",
      "Epoch  63  loss:  0.37704261898050007\n",
      "Epoch  64  loss:  0.26546631482703154\n",
      "Epoch  65  loss:  0.4195980771680703\n",
      "Epoch  66  loss:  0.37600635872195964\n",
      "Epoch  67  loss:  0.26314240053321547\n",
      "Epoch  68  loss:  0.4017557720481881\n",
      "Epoch  69  loss:  0.3736345472941799\n",
      "Epoch  70  loss:  0.25830444106621514\n",
      "Epoch  71  loss:  0.3275781076725467\n",
      "Epoch  72  loss:  0.35416923651370824\n",
      "Epoch  73  loss:  0.3613124163140534\n",
      "Epoch  74  loss:  0.36486234556858826\n",
      "Epoch  75  loss:  0.26707222024853544\n",
      "Epoch  76  loss:  0.3014690090969418\n",
      "Epoch  77  loss:  0.47031938654966465\n",
      "Epoch  78  loss:  0.3746423367494211\n",
      "Epoch  79  loss:  0.2595358768554436\n",
      "Epoch  80  loss:  0.37094332323429474\n",
      "Epoch  81  loss:  0.3675855754279396\n",
      "Epoch  82  loss:  0.2566260618334498\n",
      "Epoch  83  loss:  0.2748252812744851\n",
      "Epoch  84  loss:  0.4575192086070924\n",
      "Epoch  85  loss:  0.3770365319107735\n",
      "Epoch  86  loss:  0.2616070360048495\n",
      "Epoch  87  loss:  0.4094106611162827\n",
      "Epoch  88  loss:  0.37503798144573836\n",
      "Epoch  89  loss:  0.25751497756151404\n",
      "Epoch  90  loss:  0.3637525776850838\n",
      "Epoch  91  loss:  0.3665943683247899\n",
      "Epoch  92  loss:  0.2597064364402205\n",
      "Epoch  93  loss:  0.29026263377889255\n",
      "Epoch  94  loss:  0.4675824324621346\n",
      "Epoch  95  loss:  0.37523086673609274\n",
      "Epoch  96  loss:  0.2563430526522772\n",
      "Epoch  97  loss:  0.3579745110815141\n",
      "Epoch  98  loss:  0.3654857606723907\n",
      "Epoch  99  loss:  0.26533581782289833\n",
      "Time taken to train the model:  43.25331687927246\n",
      "Binary cross entropy: 14.17198038033394\n",
      "Predicted mean: 0.7043985495822166 Actual mean: 0.527825949865994\n",
      "Accuracy: 0.6068106574176257\n",
      "Value: 0.6068106574176257\n",
      "Trying hyperparameters: 700\n",
      "Epoch  0  loss:  0.4569457421575474\n",
      "Epoch  1  loss:  0.45630760394469844\n",
      "Epoch  2  loss:  0.45556945282404004\n",
      "Epoch  3  loss:  0.4546956488107968\n",
      "Epoch  4  loss:  0.4536364641417692\n",
      "Epoch  5  loss:  0.45232137311840126\n",
      "Epoch  6  loss:  0.4506466562496225\n",
      "Epoch  7  loss:  0.4484495140987693\n",
      "Epoch  8  loss:  0.4454496186291114\n",
      "Epoch  9  loss:  0.44111223083426926\n",
      "Epoch  10  loss:  0.4343018860231325\n",
      "Epoch  11  loss:  0.4220831463023609\n",
      "Epoch  12  loss:  0.39465837984500257\n",
      "Epoch  13  loss:  0.33088381634273356\n",
      "Epoch  14  loss:  0.4915131677683042\n",
      "Epoch  15  loss:  0.38088141855984214\n",
      "Epoch  16  loss:  0.30994918975598396\n",
      "Epoch  17  loss:  0.4635441000316616\n",
      "Epoch  18  loss:  0.38479624974115395\n",
      "Epoch  19  loss:  0.31092856934051655\n",
      "Epoch  20  loss:  0.4842440669050399\n",
      "Epoch  21  loss:  0.38370155891595764\n",
      "Epoch  22  loss:  0.30630659410929983\n",
      "Epoch  23  loss:  0.47927213709537425\n",
      "Epoch  24  loss:  0.3847735838546089\n",
      "Epoch  25  loss:  0.30498143354979207\n",
      "Epoch  26  loss:  0.48241021210896023\n",
      "Epoch  27  loss:  0.38438670235104666\n",
      "Epoch  28  loss:  0.3018518307532817\n",
      "Epoch  29  loss:  0.4798266179249512\n",
      "Epoch  30  loss:  0.3849247482923975\n",
      "Epoch  31  loss:  0.3004402905186518\n",
      "Epoch  32  loss:  0.4808132705537475\n",
      "Epoch  33  loss:  0.3847760261274296\n",
      "Epoch  34  loss:  0.2981692427787108\n",
      "Epoch  35  loss:  0.47905680929013356\n",
      "Epoch  36  loss:  0.38506894686610477\n",
      "Epoch  37  loss:  0.29687428936200594\n",
      "Epoch  38  loss:  0.479078379473672\n",
      "Epoch  39  loss:  0.3850098786256753\n",
      "Epoch  40  loss:  0.29516631991477144\n",
      "Epoch  41  loss:  0.47765825186243094\n",
      "Epoch  42  loss:  0.3851688293986286\n",
      "Epoch  43  loss:  0.2940300772925759\n",
      "Epoch  44  loss:  0.47716672163410584\n",
      "Epoch  45  loss:  0.38514183257220425\n",
      "Epoch  46  loss:  0.2927118003918742\n",
      "Epoch  47  loss:  0.4759003573396029\n",
      "Epoch  48  loss:  0.3852201112983266\n",
      "Epoch  49  loss:  0.29173143154720754\n",
      "Epoch  50  loss:  0.47511963524263046\n",
      "Epoch  51  loss:  0.38520036034634453\n",
      "Epoch  52  loss:  0.2906904842826112\n",
      "Epoch  53  loss:  0.47393215205296413\n",
      "Epoch  54  loss:  0.38522773242026037\n",
      "Epoch  55  loss:  0.28985008316444355\n",
      "Epoch  56  loss:  0.47299192711787597\n",
      "Epoch  57  loss:  0.3852043871903182\n",
      "Epoch  58  loss:  0.2890090808119281\n",
      "Epoch  59  loss:  0.47185155929733974\n",
      "Epoch  60  loss:  0.385199102626834\n",
      "Epoch  61  loss:  0.288288385841302\n",
      "Epoch  62  loss:  0.47083297273943864\n",
      "Epoch  63  loss:  0.3851681301275562\n",
      "Epoch  64  loss:  0.28759218856694413\n",
      "Epoch  65  loss:  0.46972741171800836\n",
      "Epoch  66  loss:  0.3851419163299169\n",
      "Epoch  67  loss:  0.2869702815989961\n",
      "Epoch  68  loss:  0.46868213018511734\n",
      "Epoch  69  loss:  0.38510283318366484\n",
      "Epoch  70  loss:  0.28637966345619403\n",
      "Epoch  71  loss:  0.4676088177114762\n",
      "Epoch  72  loss:  0.3850633948558852\n",
      "Epoch  73  loss:  0.2858373953581003\n",
      "Epoch  74  loss:  0.4665692365189323\n",
      "Epoch  75  loss:  0.38501749681527214\n",
      "Epoch  76  loss:  0.28532495303796046\n",
      "Epoch  77  loss:  0.465530533675484\n",
      "Epoch  78  loss:  0.38496999135298016\n",
      "Epoch  79  loss:  0.2848461778185687\n",
      "Epoch  80  loss:  0.46451637546936064\n",
      "Epoch  81  loss:  0.3849192813333513\n",
      "Epoch  82  loss:  0.28439298863641277\n",
      "Epoch  83  loss:  0.4635165257554191\n",
      "Epoch  84  loss:  0.3848672538740957\n",
      "Epoch  85  loss:  0.2839648116878422\n",
      "Epoch  86  loss:  0.46253936579877236\n",
      "Epoch  87  loss:  0.38481380649172847\n",
      "Epoch  88  loss:  0.2835577422138807\n",
      "Epoch  89  loss:  0.4615825202237279\n",
      "Epoch  90  loss:  0.38475976731919204\n",
      "Epoch  91  loss:  0.2831702038381285\n",
      "Epoch  92  loss:  0.46064880594236\n",
      "Epoch  93  loss:  0.38470540327448527\n",
      "Epoch  94  loss:  0.28279995608098046\n",
      "Epoch  95  loss:  0.45973798264832905\n",
      "Epoch  96  loss:  0.38465116208315353\n",
      "Epoch  97  loss:  0.28244549028810517\n",
      "Epoch  98  loss:  0.4588509345081395\n",
      "Epoch  99  loss:  0.3845973273733539\n",
      "Time taken to train the model:  60.49332642555237\n",
      "Binary cross entropy: 13.421899622433346\n",
      "Predicted mean: 0.5603026958852279 Actual mean: 0.527825949865994\n",
      "Accuracy: 0.6276209995270376\n",
      "Value: 0.6276209995270376\n",
      "Trying hyperparameters: 900\n",
      "Epoch  0  loss:  0.4576150614273904\n",
      "Epoch  1  loss:  0.457105165314043\n",
      "Epoch  2  loss:  0.4565201653578806\n",
      "Epoch  3  loss:  0.45582829093101024\n",
      "Epoch  4  loss:  0.4549833984770756\n",
      "Epoch  5  loss:  0.4539180141420694\n",
      "Epoch  6  loss:  0.45253221635484525\n",
      "Epoch  7  loss:  0.45067391989799394\n",
      "Epoch  8  loss:  0.44809611617524947\n",
      "Epoch  9  loss:  0.4443411035130905\n",
      "Epoch  10  loss:  0.4383878198728006\n",
      "Epoch  11  loss:  0.42749017857070465\n",
      "Epoch  12  loss:  0.40149139637063064\n",
      "Epoch  13  loss:  0.32361965041487856\n",
      "Epoch  14  loss:  0.5137671400883783\n",
      "Epoch  15  loss:  0.395536547613428\n",
      "Epoch  16  loss:  0.3089349247074556\n",
      "Epoch  17  loss:  0.4951774920834286\n",
      "Epoch  18  loss:  0.40364400159996444\n",
      "Epoch  19  loss:  0.3222092883929716\n",
      "Epoch  20  loss:  0.513042331108789\n",
      "Epoch  21  loss:  0.3933726223379168\n",
      "Epoch  22  loss:  0.2986983949970975\n",
      "Epoch  23  loss:  0.44081087524927187\n",
      "Epoch  24  loss:  0.40067344050001036\n",
      "Epoch  25  loss:  0.3105796237383563\n",
      "Epoch  26  loss:  0.510116100234859\n",
      "Epoch  27  loss:  0.3950348092731651\n",
      "Epoch  28  loss:  0.2958964091105399\n",
      "Epoch  29  loss:  0.4912242930868418\n",
      "Epoch  30  loss:  0.4027655216453703\n",
      "Epoch  31  loss:  0.31305798604681545\n",
      "Epoch  32  loss:  0.5092812965472039\n",
      "Epoch  33  loss:  0.393166693190356\n",
      "Epoch  34  loss:  0.2896666124676169\n",
      "Epoch  35  loss:  0.4566353333438191\n",
      "Epoch  36  loss:  0.4022573066446326\n",
      "Epoch  37  loss:  0.3100246295655084\n",
      "Epoch  38  loss:  0.5072672636975911\n",
      "Epoch  39  loss:  0.39316039214126197\n",
      "Epoch  40  loss:  0.28800824481939563\n",
      "Epoch  41  loss:  0.46388604918884985\n",
      "Epoch  42  loss:  0.4022576830846303\n",
      "Epoch  43  loss:  0.30891810922565144\n",
      "Epoch  44  loss:  0.5053569371439204\n",
      "Epoch  45  loss:  0.3928654491092205\n",
      "Epoch  46  loss:  0.2866952755698074\n",
      "Epoch  47  loss:  0.46212101324121396\n",
      "Epoch  48  loss:  0.40167003175447663\n",
      "Epoch  49  loss:  0.30667389247644966\n",
      "Epoch  50  loss:  0.5031036824728371\n",
      "Epoch  51  loss:  0.3929115696623375\n",
      "Epoch  52  loss:  0.286404926097192\n",
      "Epoch  53  loss:  0.4659619793075603\n",
      "Epoch  54  loss:  0.4011424688168038\n",
      "Epoch  55  loss:  0.3048517079102625\n",
      "Epoch  56  loss:  0.5007598405767791\n",
      "Epoch  57  loss:  0.3929381875303241\n",
      "Epoch  58  loss:  0.2863316485803036\n",
      "Epoch  59  loss:  0.46751711665579904\n",
      "Epoch  60  loss:  0.4004659180040385\n",
      "Epoch  61  loss:  0.30286524059072994\n",
      "Epoch  62  loss:  0.4981884578107168\n",
      "Epoch  63  loss:  0.3930776488788079\n",
      "Epoch  64  loss:  0.2865930219907296\n",
      "Epoch  65  loss:  0.46923299839971805\n",
      "Epoch  66  loss:  0.39971481327008074\n",
      "Epoch  67  loss:  0.3008598997361971\n",
      "Epoch  68  loss:  0.4953771713203509\n",
      "Epoch  69  loss:  0.3932955582334943\n",
      "Epoch  70  loss:  0.2870584001855079\n",
      "Epoch  71  loss:  0.4706604313165719\n",
      "Epoch  72  loss:  0.3989187327382763\n",
      "Epoch  73  loss:  0.2988845915715277\n",
      "Epoch  74  loss:  0.4922963636883959\n",
      "Epoch  75  loss:  0.39357193837277166\n",
      "Epoch  76  loss:  0.28765518196678114\n",
      "Epoch  77  loss:  0.4717751514130611\n",
      "Epoch  78  loss:  0.3981093185064248\n",
      "Epoch  79  loss:  0.2969980256598539\n",
      "Epoch  80  loss:  0.4889544977584069\n",
      "Epoch  81  loss:  0.39387393108821994\n",
      "Epoch  82  loss:  0.2883052137367066\n",
      "Epoch  83  loss:  0.4725325303331734\n",
      "Epoch  84  loss:  0.3973215454267367\n",
      "Epoch  85  loss:  0.2952656188481657\n",
      "Epoch  86  loss:  0.48543545998400306\n",
      "Epoch  87  loss:  0.3941590825929814\n",
      "Epoch  88  loss:  0.28892269985007374\n",
      "Epoch  89  loss:  0.4728879589738342\n",
      "Epoch  90  loss:  0.39659199003736956\n",
      "Epoch  91  loss:  0.29374924355834003\n",
      "Epoch  92  loss:  0.4818994869593004\n",
      "Epoch  93  loss:  0.3943842464043661\n",
      "Epoch  94  loss:  0.2894249240763369\n",
      "Epoch  95  loss:  0.47281807987925345\n",
      "Epoch  96  loss:  0.3959520290445463\n",
      "Epoch  97  loss:  0.2924907643519358\n",
      "Epoch  98  loss:  0.47853687919228466\n",
      "Epoch  99  loss:  0.39451802268190034\n",
      "Time taken to train the model:  74.72046971321106\n",
      "Binary cross entropy: 13.308251022751437\n",
      "Predicted mean: 0.5713384833674917 Actual mean: 0.527825949865994\n",
      "Accuracy: 0.6307740816648274\n",
      "Value: 0.6307740816648274\n",
      "Best hyperparameters: 900\n",
      "Best value: 0.6307740816648274\n"
     ]
    },
    {
     "data": {
      "image/png": "[encoded data removed]",
      "text/plain": [
       "<Figure size 640x480 with 1 Axes>"
      ]
     },
     "metadata": {},
     "output_type": "display_data"
    },
    {
     "name": "stdout",
     "output_type": "stream",
     "text": [
      "Epoch  0  loss:  0.4578349568922151\n",
      "Epoch  1  loss:  0.4573587672264122\n",
      "Epoch  2  loss:  0.45680949279062794\n",
      "Epoch  3  loss:  0.4561543399016594\n",
      "Epoch  4  loss:  0.4553444991464062\n",
      "Epoch  5  loss:  0.45430615762317206\n",
      "Epoch  6  loss:  0.452924695915888\n",
      "Epoch  7  loss:  0.4510137613977978\n",
      "Epoch  8  loss:  0.4482436301294876\n",
      "Epoch  9  loss:  0.4439393544303865\n",
      "Epoch  10  loss:  0.4364281441474834\n",
      "Epoch  11  loss:  0.42024459616868454\n",
      "Epoch  12  loss:  0.3668301404013627\n",
      "Epoch  13  loss:  0.4598775711539172\n",
      "Epoch  14  loss:  0.3963310173571891\n",
      "Epoch  15  loss:  0.31181031365304807\n",
      "Epoch  16  loss:  0.5028399964849875\n",
      "Epoch  17  loss:  0.39214944372268684\n",
      "Epoch  18  loss:  0.3056492316545478\n",
      "Epoch  19  loss:  0.49360591253298486\n",
      "Epoch  20  loss:  0.3955884282979783\n",
      "Epoch  21  loss:  0.3071789443086307\n",
      "Epoch  22  loss:  0.49972946887168423\n",
      "Epoch  23  loss:  0.3926733365034801\n",
      "Epoch  24  loss:  0.30210452086617096\n",
      "Epoch  25  loss:  0.4918735800599203\n",
      "Epoch  26  loss:  0.39522421393402635\n",
      "Epoch  27  loss:  0.30391943510247954\n",
      "Epoch  28  loss:  0.4964663032680104\n",
      "Epoch  29  loss:  0.3930605718071689\n",
      "Epoch  30  loss:  0.29973780954899604\n",
      "Epoch  31  loss:  0.48957012220187734\n",
      "Epoch  32  loss:  0.39499687517622045\n",
      "Epoch  33  loss:  0.30146668351958006\n",
      "Epoch  34  loss:  0.49313642546390335\n",
      "Epoch  35  loss:  0.3933793152238404\n",
      "Epoch  36  loss:  0.29810179084923905\n",
      "Epoch  37  loss:  0.48716916793844606\n",
      "Epoch  38  loss:  0.3948257376494544\n",
      "Epoch  39  loss:  0.2995232133523482\n",
      "Epoch  40  loss:  0.4898414483505116\n",
      "Epoch  41  loss:  0.39364537761768\n",
      "Epoch  42  loss:  0.29691100464649367\n",
      "Epoch  43  loss:  0.4848461837946117\n",
      "Epoch  44  loss:  0.39468288836267806\n",
      "Epoch  45  loss:  0.29793147135402437\n",
      "Epoch  46  loss:  0.4866693720175899\n",
      "Epoch  47  loss:  0.39385908927220364\n",
      "Epoch  48  loss:  0.295980205744223\n",
      "Epoch  49  loss:  0.4826532729903801\n",
      "Epoch  50  loss:  0.39456154059499005\n",
      "Epoch  51  loss:  0.2966025361065718\n",
      "Epoch  52  loss:  0.4836964224466955\n",
      "Epoch  53  loss:  0.3940185608240614\n",
      "Epoch  54  loss:  0.29519373054479014\n",
      "Epoch  55  loss:  0.480590141249471\n",
      "Epoch  56  loss:  0.3944616180219391\n",
      "Epoch  57  loss:  0.2954809778172634\n",
      "Epoch  58  loss:  0.48097906793007134\n",
      "Epoch  59  loss:  0.3941255237193245\n",
      "Epoch  60  loss:  0.2944852078860749\n",
      "Epoch  61  loss:  0.47864176634649236\n",
      "Epoch  62  loss:  0.3943824900696229\n",
      "Epoch  63  loss:  0.2945264157010327\n",
      "Epoch  64  loss:  0.478541798541337\n",
      "Epoch  65  loss:  0.3941865537172212\n",
      "Epoch  66  loss:  0.2938218486335005\n",
      "Epoch  67  loss:  0.47679647466955116\n",
      "Epoch  68  loss:  0.3943207839662329\n",
      "Epoch  69  loss:  0.2937048546779221\n",
      "Epoch  70  loss:  0.4763764192101702\n",
      "Epoch  71  loss:  0.3942113544401857\n",
      "Epoch  72  loss:  0.2931911881974187\n",
      "Epoch  73  loss:  0.47505052703624867\n",
      "Epoch  74  loss:  0.39427128983727794\n",
      "Epoch  75  loss:  0.2929865536019562\n",
      "Epoch  76  loss:  0.47445284553272876\n",
      "Epoch  77  loss:  0.39421017272504677\n",
      "Epoch  78  loss:  0.2925906810113343\n",
      "Epoch  79  loss:  0.47340563267419966\n",
      "Epoch  80  loss:  0.39422875792964507\n",
      "Epoch  81  loss:  0.29234670775295535\n",
      "Epoch  82  loss:  0.4727329413388218\n",
      "Epoch  83  loss:  0.39419185212796354\n",
      "Epoch  84  loss:  0.29202091465416835\n",
      "Epoch  85  loss:  0.47186466370772767\n",
      "Epoch  86  loss:  0.3941891775098664\n",
      "Epoch  87  loss:  0.2917661829174954\n",
      "Epoch  88  loss:  0.471180790526162\n",
      "Epoch  89  loss:  0.3941630072077966\n",
      "Epoch  90  loss:  0.29148223136261964\n",
      "Epoch  91  loss:  0.4704284859549086\n",
      "Epoch  92  loss:  0.3941501573170985\n",
      "Epoch  93  loss:  0.29123126418330114\n",
      "Epoch  94  loss:  0.46976741725825316\n",
      "Epoch  95  loss:  0.39412808588710185\n",
      "Epoch  96  loss:  0.29097372663408283\n",
      "Epoch  97  loss:  0.4690947397818793\n",
      "Epoch  98  loss:  0.39411065949435664\n",
      "Epoch  99  loss:  0.29073259507511673\n",
      "Time taken to train the model:  74.3382453918457\n",
      "Binary cross entropy: 18.646874284545152\n",
      "Predicted mean: 0.03064699205448354 Actual mean: 0.5353764661369655\n",
      "Accuracy: 0.48265859503089925\n"
     ]
    },
    {
     "data": {
      "text/plain": [
       "0.48265859503089925"
      ]
     },
     "execution_count": 17,
     "metadata": {},
     "output_type": "execute_result"
    }
   ],
   "source": [
    "def get_model(param):\n",
    "    return ScratchNeuralNetwork(input_dim=58, hidden_dim=param, learning_rate=0.2, epochs=100, classification=True)\n",
    "\n",
    "\n",
    "best_h, params, accuracies = optimize_hyperparameters(get_model, range(100, 1000, 200), train, test, val,\n",
    "                                                      classification=True)\n",
    "plot_2d(params, accuracies, 'hidden_dim', 'accuracy')\n",
    "best_model = get_model(param=best_h)\n",
    "\n",
    "accuracy_NN_my = test_model(best_model, train, test, classification=True)"
   ]
  },
  {
   "cell_type": "code",
   "execution_count": 18,
   "metadata": {
    "ExecuteTime": {
     "end_time": "2023-05-14T10:57:52.921732220Z",
     "start_time": "2023-05-14T10:56:16.273147728Z"
    },
    "collapsed": false
   },
   "outputs": [
    {
     "name": "stdout",
     "output_type": "stream",
     "text": [
      "Trying hyperparameters: 0.01\n",
      "Epoch  0  loss:  0.4350601872707736\n",
      "Epoch  1  loss:  0.43491163145829836\n",
      "Epoch  2  loss:  0.43476218644601194\n",
      "Epoch  3  loss:  0.43461184382575163\n",
      "Epoch  4  loss:  0.4344605950686487\n",
      "Epoch  5  loss:  0.43430843152291393\n",
      "Epoch  6  loss:  0.43415534441157405\n",
      "Epoch  7  loss:  0.43400132483016096\n",
      "Epoch  8  loss:  0.43384636374435087\n",
      "Epoch  9  loss:  0.433690451987552\n",
      "Epoch  10  loss:  0.43353358025844185\n",
      "Epoch  11  loss:  0.43337573911845007\n",
      "Epoch  12  loss:  0.43321691898918746\n",
      "Epoch  13  loss:  0.4330571101498197\n",
      "Epoch  14  loss:  0.43289630273438434\n",
      "Epoch  15  loss:  0.43273448672904974\n",
      "Epoch  16  loss:  0.4325716519693142\n",
      "Epoch  17  loss:  0.43240778813714564\n",
      "Epoch  18  loss:  0.4322428847580584\n",
      "Epoch  19  loss:  0.4320769311981271\n",
      "Epoch  20  loss:  0.43190991666093587\n",
      "Epoch  21  loss:  0.4317418301844616\n",
      "Epoch  22  loss:  0.43157266063788924\n",
      "Epoch  23  loss:  0.43140239671835884\n",
      "Epoch  24  loss:  0.43123102694764154\n",
      "Epoch  25  loss:  0.4310585396687437\n",
      "Epoch  26  loss:  0.4308849230424378\n",
      "Epoch  27  loss:  0.43071016504371834\n",
      "Epoch  28  loss:  0.43053425345818075\n",
      "Epoch  29  loss:  0.4303571758783221\n",
      "Epoch  30  loss:  0.4301789196997629\n",
      "Epoch  31  loss:  0.42999947211738554\n",
      "Epoch  32  loss:  0.42981882012139155\n",
      "Epoch  33  loss:  0.42963695049327283\n",
      "Epoch  34  loss:  0.4294538498016968\n",
      "Epoch  35  loss:  0.42926950439830297\n",
      "Epoch  36  loss:  0.42908390041340955\n",
      "Epoch  37  loss:  0.42889702375162836\n",
      "Epoch  38  loss:  0.42870886008738646\n",
      "Epoch  39  loss:  0.4285193948603511\n",
      "Epoch  40  loss:  0.4283286132707598\n",
      "Epoch  41  loss:  0.42813650027464817\n",
      "Epoch  42  loss:  0.4279430405789805\n",
      "Epoch  43  loss:  0.42774821863667456\n",
      "Epoch  44  loss:  0.4275520186415233\n",
      "Epoch  45  loss:  0.42735442452301015\n",
      "Epoch  46  loss:  0.427155419941015\n",
      "Epoch  47  loss:  0.42695498828041134\n",
      "Epoch  48  loss:  0.42675311264555\n",
      "Epoch  49  loss:  0.4265497758546298\n",
      "Epoch  50  loss:  0.42634496043395154\n",
      "Epoch  51  loss:  0.42613864861205547\n",
      "Epoch  52  loss:  0.4259308223137379\n",
      "Epoch  53  loss:  0.42572146315394693\n",
      "Epoch  54  loss:  0.4255105524315553\n",
      "Epoch  55  loss:  0.425298071123007\n",
      "Epoch  56  loss:  0.4250839998758385\n",
      "Epoch  57  loss:  0.42486831900206984\n",
      "Epoch  58  loss:  0.42465100847146636\n",
      "Epoch  59  loss:  0.42443204790466776\n",
      "Epoch  60  loss:  0.42421141656618305\n",
      "Epoch  61  loss:  0.4239890933572511\n",
      "Epoch  62  loss:  0.42376505680856275\n",
      "Epoch  63  loss:  0.42353928507284544\n",
      "Epoch  64  loss:  0.4233117559173068\n",
      "Epoch  65  loss:  0.42308244671593714\n",
      "Epoch  66  loss:  0.42285133444166906\n",
      "Epoch  67  loss:  0.42261839565839254\n",
      "Epoch  68  loss:  0.4223836065128241\n",
      "Epoch  69  loss:  0.42214694272623005\n",
      "Epoch  70  loss:  0.4219083795860018\n",
      "Epoch  71  loss:  0.42166789193708126\n",
      "Epoch  72  loss:  0.4214254541732382\n",
      "Epoch  73  loss:  0.4211810402281958\n",
      "Epoch  74  loss:  0.4209346235666057\n",
      "Epoch  75  loss:  0.4206861771748706\n",
      "Epoch  76  loss:  0.4204356735518149\n",
      "Epoch  77  loss:  0.42018308469920307\n",
      "Epoch  78  loss:  0.41992838211210426\n",
      "Epoch  79  loss:  0.41967153676910435\n",
      "Epoch  80  loss:  0.41941251912236494\n",
      "Epoch  81  loss:  0.4191512990875298\n",
      "Epoch  82  loss:  0.41888784603347873\n",
      "Epoch  83  loss:  0.41862212877192895\n",
      "Epoch  84  loss:  0.4183541155468862\n",
      "Epoch  85  loss:  0.4180837740239441\n",
      "Epoch  86  loss:  0.41781107127943556\n",
      "Epoch  87  loss:  0.4175359737894341\n",
      "Epoch  88  loss:  0.41725844741860957\n",
      "Epoch  89  loss:  0.41697845740893813\n",
      "Epoch  90  loss:  0.41669596836826756\n",
      "Epoch  91  loss:  0.4164109442587425\n",
      "Epoch  92  loss:  0.4161233483850882\n",
      "Epoch  93  loss:  0.4158331433827587\n",
      "Epoch  94  loss:  0.4155402912059483\n",
      "Epoch  95  loss:  0.41524475311547276\n",
      "Epoch  96  loss:  0.4149464896665205\n",
      "Epoch  97  loss:  0.414645460696277\n",
      "Epoch  98  loss:  0.41434162531142826\n",
      "Epoch  99  loss:  0.4140349418755444\n",
      "Time taken to train the model:  11.906182765960693\n",
      "Binary cross entropy: 16.899546772699733\n",
      "Predicted mean: 0.9415103263440012 Actual mean: 0.527825949865994\n",
      "Accuracy: 0.5311366861106732\n",
      "Value: 0.5311366861106732\n",
      "Trying hyperparameters: 0.05\n",
      "Epoch  0  loss:  0.43499131039007294\n",
      "Epoch  1  loss:  0.43425564202710765\n",
      "Epoch  2  loss:  0.43349760605660465\n",
      "Epoch  3  loss:  0.4327161237004526\n",
      "Epoch  4  loss:  0.4319100388948207\n",
      "Epoch  5  loss:  0.4310781109104509\n",
      "Epoch  6  loss:  0.4302190061125125\n",
      "Epoch  7  loss:  0.4293312887599717\n",
      "Epoch  8  loss:  0.4284134107367942\n",
      "Epoch  9  loss:  0.42746370010053375\n",
      "Epoch  10  loss:  0.4264803483285356\n",
      "Epoch  11  loss:  0.4254613961389039\n",
      "Epoch  12  loss:  0.42440471776352545\n",
      "Epoch  13  loss:  0.4233080035551132\n",
      "Epoch  14  loss:  0.4221687408210333\n",
      "Epoch  15  loss:  0.4209841927956932\n",
      "Epoch  16  loss:  0.4197513756930805\n",
      "Epoch  17  loss:  0.4184670338249147\n",
      "Epoch  18  loss:  0.4171276128318418\n",
      "Epoch  19  loss:  0.4157292311600514\n",
      "Epoch  20  loss:  0.4142676500294018\n",
      "Epoch  21  loss:  0.41273824228806405\n",
      "Epoch  22  loss:  0.4111359607395713\n",
      "Epoch  23  loss:  0.409455306767025\n",
      "Epoch  24  loss:  0.40769030036964726\n",
      "Epoch  25  loss:  0.40583445306679394\n",
      "Epoch  26  loss:  0.4038807455004506\n",
      "Epoch  27  loss:  0.40182161194399474\n",
      "Epoch  28  loss:  0.3996489342285524\n",
      "Epoch  29  loss:  0.39735404768868077\n",
      "Epoch  30  loss:  0.39492776136571517\n",
      "Epoch  31  loss:  0.39236039352194074\n",
      "Epoch  32  loss:  0.3896418210497764\n",
      "Epoch  33  loss:  0.38676153726001705\n",
      "Epoch  34  loss:  0.38370870713275873\n",
      "Epoch  35  loss:  0.38047220445345525\n",
      "Epoch  36  loss:  0.3770406162008145\n",
      "Epoch  37  loss:  0.37340221349132524\n",
      "Epoch  38  loss:  0.3695449209664044\n",
      "Epoch  39  loss:  0.3654563625850923\n",
      "Epoch  40  loss:  0.36112409707402765\n",
      "Epoch  41  loss:  0.3565361395473292\n",
      "Epoch  42  loss:  0.35168175192518175\n",
      "Epoch  43  loss:  0.3465522486804768\n",
      "Epoch  44  loss:  0.34114128052419884\n",
      "Epoch  45  loss:  0.33544402834712994\n",
      "Epoch  46  loss:  0.3294554801024338\n",
      "Epoch  47  loss:  0.32317021597413315\n",
      "Epoch  48  loss:  0.31659084810773247\n",
      "Epoch  49  loss:  0.309758194716411\n",
      "Epoch  50  loss:  0.3028136437211321\n",
      "Epoch  51  loss:  0.2960713877570825\n",
      "Epoch  52  loss:  0.2900135218497263\n",
      "Epoch  53  loss:  0.2851183685464143\n",
      "Epoch  54  loss:  0.2816052102433856\n",
      "Epoch  55  loss:  0.27933907501214084\n",
      "Epoch  56  loss:  0.2779745824461681\n",
      "Epoch  57  loss:  0.2771590647852804\n",
      "Epoch  58  loss:  0.27663736374617515\n",
      "Epoch  59  loss:  0.27625835652125574\n",
      "Epoch  60  loss:  0.27594343824558915\n",
      "Epoch  61  loss:  0.27565531883468314\n",
      "Epoch  62  loss:  0.27537759788944155\n",
      "Epoch  63  loss:  0.2751036155386122\n",
      "Epoch  64  loss:  0.2748309653845421\n",
      "Epoch  65  loss:  0.2745589749378392\n",
      "Epoch  66  loss:  0.2742876119231776\n",
      "Epoch  67  loss:  0.2740170368075859\n",
      "Epoch  68  loss:  0.2737474344835488\n",
      "Epoch  69  loss:  0.2734789605433944\n",
      "Epoch  70  loss:  0.2732117313261981\n",
      "Epoch  71  loss:  0.27294582857584676\n",
      "Epoch  72  loss:  0.27268130742444546\n",
      "Epoch  73  loss:  0.27241820379788795\n",
      "Epoch  74  loss:  0.27215654022993857\n",
      "Epoch  75  loss:  0.2718963300997177\n",
      "Epoch  76  loss:  0.2716375806004732\n",
      "Epoch  77  loss:  0.2713802947723691\n",
      "Epoch  78  loss:  0.27112447287506536\n",
      "Epoch  79  loss:  0.27087011330642013\n",
      "Epoch  80  loss:  0.27061721321398524\n",
      "Epoch  81  loss:  0.27036576890060904\n",
      "Epoch  82  loss:  0.27011577609292914\n",
      "Epoch  83  loss:  0.2698672301189526\n",
      "Epoch  84  loss:  0.2696201260255323\n",
      "Epoch  85  loss:  0.2693744586561917\n",
      "Epoch  86  loss:  0.2691302227028319\n",
      "Epoch  87  loss:  0.2688874127402531\n",
      "Epoch  88  loss:  0.26864602324938025\n",
      "Epoch  89  loss:  0.2684060486330663\n",
      "Epoch  90  loss:  0.2681674832270204\n",
      "Epoch  91  loss:  0.2679303213075368\n",
      "Epoch  92  loss:  0.2676945570971191\n",
      "Epoch  93  loss:  0.267460184768723\n",
      "Epoch  94  loss:  0.2672271984490869\n",
      "Epoch  95  loss:  0.2669955922214616\n",
      "Epoch  96  loss:  0.26676536012793933\n",
      "Epoch  97  loss:  0.2665364961715153\n",
      "Epoch  98  loss:  0.26630899431796795\n",
      "Epoch  99  loss:  0.26608284849761327\n",
      "Time taken to train the model:  12.247105598449707\n",
      "Binary cross entropy: 15.66645946615103\n",
      "Predicted mean: 0.4557780230174996 Actual mean: 0.527825949865994\n",
      "Accuracy: 0.5653476273056913\n",
      "Value: 0.5653476273056913\n",
      "Trying hyperparameters: 0.1\n",
      "Epoch  0  loss:  0.435820974702711\n",
      "Epoch  1  loss:  0.43451421976825394\n",
      "Epoch  2  loss:  0.43313877199489975\n",
      "Epoch  3  loss:  0.43168829082303917\n",
      "Epoch  4  loss:  0.4301555002150344\n",
      "Epoch  5  loss:  0.4285320185360326\n",
      "Epoch  6  loss:  0.426808150549271\n",
      "Epoch  7  loss:  0.42497263100247235\n",
      "Epoch  8  loss:  0.4230123061623174\n",
      "Epoch  9  loss:  0.4209117359358763\n",
      "Epoch  10  loss:  0.4186526951069308\n",
      "Epoch  11  loss:  0.41621354817446526\n",
      "Epoch  12  loss:  0.4135684690298261\n",
      "Epoch  13  loss:  0.410686474927941\n",
      "Epoch  14  loss:  0.4075302436042585\n",
      "Epoch  15  loss:  0.4040546798780691\n",
      "Epoch  16  loss:  0.4002051855192844\n",
      "Epoch  17  loss:  0.39591554942378704\n",
      "Epoch  18  loss:  0.39110529805003047\n",
      "Epoch  19  loss:  0.3856762267969462\n",
      "Epoch  20  loss:  0.3795077323314484\n",
      "Epoch  21  loss:  0.3724506916968686\n",
      "Epoch  22  loss:  0.3643203432434089\n",
      "Epoch  23  loss:  0.3548899587788063\n",
      "Epoch  24  loss:  0.34388711158275825\n",
      "Epoch  25  loss:  0.33099576764633437\n",
      "Epoch  26  loss:  0.31593182301554884\n",
      "Epoch  27  loss:  0.2988921771116283\n",
      "Epoch  28  loss:  0.28196025478645176\n",
      "Epoch  29  loss:  0.2702214278269486\n",
      "Epoch  30  loss:  0.2658262347329257\n",
      "Epoch  31  loss:  0.2647176795995949\n",
      "Epoch  32  loss:  0.2641636607578071\n",
      "Epoch  33  loss:  0.26364303507314907\n",
      "Epoch  34  loss:  0.26312036964759133\n",
      "Epoch  35  loss:  0.2626015231498723\n",
      "Epoch  36  loss:  0.2620897858914919\n",
      "Epoch  37  loss:  0.26158618452346916\n",
      "Epoch  38  loss:  0.2610909442168301\n",
      "Epoch  39  loss:  0.2606040440228277\n",
      "Epoch  40  loss:  0.2601253903719103\n",
      "Epoch  41  loss:  0.2596548685990995\n",
      "Epoch  42  loss:  0.2591923580342696\n",
      "Epoch  43  loss:  0.258737736441057\n",
      "Epoch  44  loss:  0.2582908813682163\n",
      "Epoch  45  loss:  0.25785167060812836\n",
      "Epoch  46  loss:  0.25741998239533864\n",
      "Epoch  47  loss:  0.256995695526815\n",
      "Epoch  48  loss:  0.2565786894559419\n",
      "Epoch  49  loss:  0.25616884437516935\n",
      "Epoch  50  loss:  0.25576604129166913\n",
      "Epoch  51  loss:  0.2553701620973561\n",
      "Epoch  52  loss:  0.2549810896337861\n",
      "Epoch  53  loss:  0.2545987077522062\n",
      "Epoch  54  loss:  0.2542229013689655\n",
      "Epoch  55  loss:  0.253853556516475\n",
      "Epoch  56  loss:  0.25349056038990087\n",
      "Epoch  57  loss:  0.25313380138977054\n",
      "Epoch  58  loss:  0.2527831691606699\n",
      "Epoch  59  loss:  0.2524385546262039\n",
      "Epoch  60  loss:  0.252099850020396\n",
      "Epoch  61  loss:  0.25176694891569135\n",
      "Epoch  62  loss:  0.2514397462477302\n",
      "Epoch  63  loss:  0.2511181383370523\n",
      "Epoch  64  loss:  0.2508020229078876\n",
      "Epoch  65  loss:  0.2504912991041868\n",
      "Epoch  66  loss:  0.2501858675030395\n",
      "Epoch  67  loss:  0.2498856301256224\n",
      "Epoch  68  loss:  0.24959049044581724\n",
      "Epoch  69  loss:  0.24930035339663195\n",
      "Epoch  70  loss:  0.24901512537455453\n",
      "Epoch  71  loss:  0.24873471424196433\n",
      "Epoch  72  loss:  0.2484590293277203\n",
      "Epoch  73  loss:  0.24818798142604206\n",
      "Epoch  74  loss:  0.24792148279379395\n",
      "Epoch  75  loss:  0.24765944714627824\n",
      "Epoch  76  loss:  0.24740178965163964\n",
      "Epoch  77  loss:  0.247148426923977\n",
      "Epoch  78  loss:  0.24689927701525716\n",
      "Epoch  79  loss:  0.24665425940611696\n",
      "Epoch  80  loss:  0.24641329499564063\n",
      "Epoch  81  loss:  0.24617630609019095\n",
      "Epoch  82  loss:  0.2459432163913722\n",
      "Epoch  83  loss:  0.24571395098319715\n",
      "Epoch  84  loss:  0.2454884363185269\n",
      "Epoch  85  loss:  0.24526660020485053\n",
      "Epoch  86  loss:  0.24504837178946484\n",
      "Epoch  87  loss:  0.24483368154411525\n",
      "Epoch  88  loss:  0.24462246124915124\n",
      "Epoch  89  loss:  0.24441464397725127\n",
      "Epoch  90  loss:  0.24421016407676502\n",
      "Epoch  91  loss:  0.24400895715472093\n",
      "Epoch  92  loss:  0.2438109600595426\n",
      "Epoch  93  loss:  0.24361611086351564\n",
      "Epoch  94  loss:  0.2434243488450447\n",
      "Epoch  95  loss:  0.24323561447073608\n",
      "Epoch  96  loss:  0.24304984937734103\n",
      "Epoch  97  loss:  0.24286699635359238\n",
      "Epoch  98  loss:  0.24268699932196336\n",
      "Epoch  99  loss:  0.2425098033203779\n",
      "Time taken to train the model:  11.70414423942566\n",
      "Binary cross entropy: 14.785682818616245\n",
      "Predicted mean: 0.497556361343213 Actual mean: 0.527825949865994\n",
      "Accuracy: 0.5897840138735614\n",
      "Value: 0.5897840138735614\n",
      "Trying hyperparameters: 0.2\n",
      "Epoch  0  loss:  0.4338983310514198\n",
      "Epoch  1  loss:  0.4307170468855126\n",
      "Epoch  2  loss:  0.42712691176299733\n",
      "Epoch  3  loss:  0.42303953621998014\n",
      "Epoch  4  loss:  0.41833734340505485\n",
      "Epoch  5  loss:  0.41286243370999604\n",
      "Epoch  6  loss:  0.40640204380967676\n",
      "Epoch  7  loss:  0.39867011170341643\n",
      "Epoch  8  loss:  0.38928381254203476\n",
      "Epoch  9  loss:  0.377732906933358\n",
      "Epoch  10  loss:  0.3633376578803952\n",
      "Epoch  11  loss:  0.3451763107208165\n",
      "Epoch  12  loss:  0.3219734053696985\n",
      "Epoch  13  loss:  0.29166697156521126\n",
      "Epoch  14  loss:  0.26324965541308165\n",
      "Epoch  15  loss:  0.261322565186231\n",
      "Epoch  16  loss:  0.2599378998508922\n",
      "Epoch  17  loss:  0.2589272177983807\n",
      "Epoch  18  loss:  0.25787883646753196\n",
      "Epoch  19  loss:  0.25690162622449786\n",
      "Epoch  20  loss:  0.25594216647003004\n",
      "Epoch  21  loss:  0.2550196108049009\n",
      "Epoch  22  loss:  0.2541247820894671\n",
      "Epoch  23  loss:  0.25326030479578904\n",
      "Epoch  24  loss:  0.25242394042978766\n",
      "Epoch  25  loss:  0.25161549016131945\n",
      "Epoch  26  loss:  0.2508338980255344\n",
      "Epoch  27  loss:  0.25007847952057416\n",
      "Epoch  28  loss:  0.2493483996220528\n",
      "Epoch  29  loss:  0.24864289998411135\n",
      "Epoch  30  loss:  0.24796120257274554\n",
      "Epoch  31  loss:  0.24730255377560736\n",
      "Epoch  32  loss:  0.24666620672170672\n",
      "Epoch  33  loss:  0.24605143064170668\n",
      "Epoch  34  loss:  0.24545750800446592\n",
      "Epoch  35  loss:  0.24488373692256307\n",
      "Epoch  36  loss:  0.24432943100485707\n",
      "Epoch  37  loss:  0.24379392019547702\n",
      "Epoch  38  loss:  0.24327655100824525\n",
      "Epoch  39  loss:  0.24277668689475831\n",
      "Epoch  40  loss:  0.24229370842023182\n",
      "Epoch  41  loss:  0.2418270134090192\n",
      "Epoch  42  loss:  0.24137601699606845\n",
      "Epoch  43  loss:  0.2409401516245272\n",
      "Epoch  44  loss:  0.2405188669806738\n",
      "Epoch  45  loss:  0.24011162987965035\n",
      "Epoch  46  loss:  0.23971792410438728\n",
      "Epoch  47  loss:  0.2393372502047309\n",
      "Epoch  48  loss:  0.2389691252610143\n",
      "Epoch  49  loss:  0.2386130826170658\n",
      "Epoch  50  loss:  0.23826867158674753\n",
      "Epoch  51  loss:  0.23793545713803116\n",
      "Epoch  52  loss:  0.2376130195581681\n",
      "Epoch  53  loss:  0.23730095410325916\n",
      "Epoch  54  loss:  0.23699887063521033\n",
      "Epoch  55  loss:  0.23670639324880008\n",
      "Epoch  56  loss:  0.23642315989131782\n",
      "Epoch  57  loss:  0.2361488219769984\n",
      "Epoch  58  loss:  0.23588304399824972\n",
      "Epoch  59  loss:  0.23562550313546224\n",
      "Epoch  60  loss:  0.2353758888669963\n",
      "Epoch  61  loss:  0.23513390258076333\n",
      "Epoch  62  loss:  0.23489925718865118\n",
      "Epoch  63  loss:  0.2346716767448916\n",
      "Epoch  64  loss:  0.23445089606932817\n",
      "Epoch  65  loss:  0.23423666037641408\n",
      "Epoch  66  loss:  0.2340287249106513\n",
      "Epoch  67  loss:  0.23382685458907707\n",
      "Epoch  68  loss:  0.23363082365130472\n",
      "Epoch  69  loss:  0.23344041531753842\n",
      "Epoch  70  loss:  0.23325542145490083\n",
      "Epoch  71  loss:  0.23307564225234106\n",
      "Epoch  72  loss:  0.23290088590432534\n",
      "Epoch  73  loss:  0.2327309683034541\n",
      "Epoch  74  loss:  0.23256571274209842\n",
      "Epoch  75  loss:  0.23240494962310093\n",
      "Epoch  76  loss:  0.23224851617954673\n",
      "Epoch  77  loss:  0.2320962562035732\n",
      "Epoch  78  loss:  0.23194801978415538\n",
      "Epoch  79  loss:  0.23180366305377675\n",
      "Epoch  80  loss:  0.2316630479438702\n",
      "Epoch  81  loss:  0.23152604194889484\n",
      "Epoch  82  loss:  0.2313925178988949\n",
      "Epoch  83  loss:  0.2312623537403728\n",
      "Epoch  84  loss:  0.2311354323252972\n",
      "Epoch  85  loss:  0.23101164120805476\n",
      "Epoch  86  loss:  0.2308908724501469\n",
      "Epoch  87  loss:  0.23077302243242806\n",
      "Epoch  88  loss:  0.2306579916746744\n",
      "Epoch  89  loss:  0.23054568466227113\n",
      "Epoch  90  loss:  0.23043600967980296\n",
      "Epoch  91  loss:  0.23032887865133284\n",
      "Epoch  92  loss:  0.23022420698715212\n",
      "Epoch  93  loss:  0.23012191343678914\n",
      "Epoch  94  loss:  0.23002191994806176\n",
      "Epoch  95  loss:  0.2299241515319646\n",
      "Epoch  96  loss:  0.2298285361331832\n",
      "Epoch  97  loss:  0.22973500450603054\n",
      "Epoch  98  loss:  0.22964349009560675\n",
      "Epoch  99  loss:  0.22955392892398513\n",
      "Time taken to train the model:  11.770047187805176\n",
      "Binary cross entropy: 13.581007661988018\n",
      "Predicted mean: 0.5215197855904147 Actual mean: 0.527825949865994\n",
      "Accuracy: 0.6232066845341321\n",
      "Value: 0.6232066845341321\n",
      "Trying hyperparameters: 0.3\n",
      "Epoch  0  loss:  0.43501985228879103\n",
      "Epoch  1  loss:  0.430351152202044\n",
      "Epoch  2  loss:  0.4246658517041144\n",
      "Epoch  3  loss:  0.41750038136330436\n",
      "Epoch  4  loss:  0.40802268930170005\n",
      "Epoch  5  loss:  0.39466742953928086\n",
      "Epoch  6  loss:  0.3744338304308297\n",
      "Epoch  7  loss:  0.3410319299385696\n",
      "Epoch  8  loss:  0.2790574434431047\n",
      "Epoch  9  loss:  0.2704476654481215\n",
      "Epoch  10  loss:  0.26593847850758334\n",
      "Epoch  11  loss:  0.26717869104048697\n",
      "Epoch  12  loss:  0.26367203973658043\n",
      "Epoch  13  loss:  0.26552996094215986\n",
      "Epoch  14  loss:  0.26250202358933133\n",
      "Epoch  15  loss:  0.26455784754072725\n",
      "Epoch  16  loss:  0.2618222484654849\n",
      "Epoch  17  loss:  0.263919613909739\n",
      "Epoch  18  loss:  0.2613925618039463\n",
      "Epoch  19  loss:  0.2634495937503631\n",
      "Epoch  20  loss:  0.2610911295866536\n",
      "Epoch  21  loss:  0.2630616001978582\n",
      "Epoch  22  loss:  0.2608529489330102\n",
      "Epoch  23  loss:  0.26271225957508276\n",
      "Epoch  24  loss:  0.26064469119639494\n",
      "Epoch  25  loss:  0.26238157470427204\n",
      "Epoch  26  loss:  0.2604505526638969\n",
      "Epoch  27  loss:  0.2620614209781476\n",
      "Epoch  28  loss:  0.2602637068980017\n",
      "Epoch  29  loss:  0.2617490640650186\n",
      "Epoch  30  loss:  0.26008147415427674\n",
      "Epoch  31  loss:  0.2614438780559505\n",
      "Epoch  32  loss:  0.2599028743326353\n",
      "Epoch  33  loss:  0.2611458819352021\n",
      "Epoch  34  loss:  0.25972752800914545\n",
      "Epoch  35  loss:  0.260855180058262\n",
      "Epoch  36  loss:  0.25955522501061346\n",
      "Epoch  37  loss:  0.26057179554923515\n",
      "Epoch  38  loss:  0.25938578344373275\n",
      "Epoch  39  loss:  0.2602956502080091\n",
      "Epoch  40  loss:  0.25921901847068285\n",
      "Epoch  41  loss:  0.26002658722795663\n",
      "Epoch  42  loss:  0.2590547449265974\n",
      "Epoch  43  loss:  0.2597643991861666\n",
      "Epoch  44  loss:  0.2588927861434991\n",
      "Epoch  45  loss:  0.2595088506063714\n",
      "Epoch  46  loss:  0.25873298086193786\n",
      "Epoch  47  loss:  0.2592596937842892\n",
      "Epoch  48  loss:  0.2585751869504965\n",
      "Epoch  49  loss:  0.25901667915120236\n",
      "Epoch  50  loss:  0.2584192825678666\n",
      "Epoch  51  loss:  0.25877956174638334\n",
      "Epoch  52  loss:  0.2582651656597562\n",
      "Epoch  53  loss:  0.2585481050606784\n",
      "Epoch  54  loss:  0.2581127525010294\n",
      "Epoch  55  loss:  0.25832208314735905\n",
      "Epoch  56  loss:  0.2579619757644011\n",
      "Epoch  57  loss:  0.25810128160761514\n",
      "Epoch  58  loss:  0.25781278241817074\n",
      "Epoch  59  loss:  0.25788549785572695\n",
      "Epoch  60  loss:  0.25766513163382687\n",
      "Epoch  61  loss:  0.2576745409329466\n",
      "Epoch  62  loss:  0.257518992806103\n",
      "Epoch  63  loss:  0.2574682310486979\n",
      "Epoch  64  loss:  0.25737434373902635\n",
      "Epoch  65  loss:  0.2572663989675382\n",
      "Epoch  66  loss:  0.2572311690212631\n",
      "Epoch  67  loss:  0.2570688853200403\n",
      "Epoch  68  loss:  0.2570894585957407\n",
      "Epoch  69  loss:  0.25687553988862916\n",
      "Epoch  70  loss:  0.2569492065177215\n",
      "Epoch  71  loss:  0.2566862209010588\n",
      "Epoch  72  loss:  0.25681040988944365\n",
      "Epoch  73  loss:  0.2565007943517742\n",
      "Epoch  74  loss:  0.2566730679563752\n",
      "Epoch  75  loss:  0.2563191333629862\n",
      "Epoch  76  loss:  0.2565371813489185\n",
      "Epoch  77  loss:  0.2561411175916253\n",
      "Epoch  78  loss:  0.2564027514533527\n",
      "Epoch  79  loss:  0.25596663268456693\n",
      "Epoch  80  loss:  0.2562697798964196\n",
      "Epoch  81  loss:  0.25579556978205414\n",
      "Epoch  82  loss:  0.2561382681289862\n",
      "Epoch  83  loss:  0.2556278250676848\n",
      "Epoch  84  loss:  0.25600821709541105\n",
      "Epoch  85  loss:  0.25546329936237905\n",
      "Epoch  86  loss:  0.2558796269765293\n",
      "Epoch  87  loss:  0.255301897759231\n",
      "Epoch  88  loss:  0.25575249699544306\n",
      "Epoch  89  loss:  0.2551435292959072\n",
      "Epoch  90  loss:  0.25562682527652014\n",
      "Epoch  91  loss:  0.2549881066612182\n",
      "Epoch  92  loss:  0.2555026087491561\n",
      "Epoch  93  loss:  0.25483554593256685\n",
      "Epoch  94  loss:  0.25537984308889733\n",
      "Epoch  95  loss:  0.25468576634114043\n",
      "Epoch  96  loss:  0.25525852268948757\n",
      "Epoch  97  loss:  0.2545386900619102\n",
      "Epoch  98  loss:  0.25513864066024966\n",
      "Epoch  99  loss:  0.25439424202573724\n",
      "Time taken to train the model:  11.943185806274414\n",
      "Binary cross entropy: 13.93331832100193\n",
      "Predicted mean: 0.680119817121236 Actual mean: 0.527825949865994\n",
      "Accuracy: 0.613432129906984\n",
      "Value: 0.613432129906984\n",
      "Trying hyperparameters: 0.4\n",
      "Epoch  0  loss:  0.43709860169220127\n",
      "Epoch  1  loss:  0.4307101331280001\n",
      "Epoch  2  loss:  0.42220096051685213\n",
      "Epoch  3  loss:  0.4101526738242297\n",
      "Epoch  4  loss:  0.39166751821943174\n",
      "Epoch  5  loss:  0.36069606227045775\n",
      "Epoch  6  loss:  0.30509509439524457\n",
      "Epoch  7  loss:  0.29402533334953695\n",
      "Epoch  8  loss:  0.29380922065711906\n",
      "Epoch  9  loss:  0.3121429820686518\n",
      "Epoch  10  loss:  0.3023328579242753\n",
      "Epoch  11  loss:  0.29722076385279783\n",
      "Epoch  12  loss:  0.2961788668919487\n",
      "Epoch  13  loss:  0.3071581474262541\n",
      "Epoch  14  loss:  0.30093646528132556\n",
      "Epoch  15  loss:  0.2979703014629277\n",
      "Epoch  16  loss:  0.29719775116881986\n",
      "Epoch  17  loss:  0.3038253451841962\n",
      "Epoch  18  loss:  0.30010470789114263\n",
      "Epoch  19  loss:  0.29783590949075756\n",
      "Epoch  20  loss:  0.29770775910881897\n",
      "Epoch  21  loss:  0.30135705776487026\n",
      "Epoch  22  loss:  0.29953386663863474\n",
      "Epoch  23  loss:  0.2973142617849013\n",
      "Epoch  24  loss:  0.29793982428784105\n",
      "Epoch  25  loss:  0.2994098450338023\n",
      "Epoch  26  loss:  0.29908152387703507\n",
      "Epoch  27  loss:  0.2966135406825684\n",
      "Epoch  28  loss:  0.29798766749406164\n",
      "Epoch  29  loss:  0.29780738331715034\n",
      "Epoch  30  loss:  0.2986763687674878\n",
      "Epoch  31  loss:  0.2958331740639338\n",
      "Epoch  32  loss:  0.2979004012743797\n",
      "Epoch  33  loss:  0.29644824106102347\n",
      "Epoch  34  loss:  0.2982822859906186\n",
      "Epoch  35  loss:  0.295024839441455\n",
      "Epoch  36  loss:  0.2977094623749377\n",
      "Epoch  37  loss:  0.2952688048540473\n",
      "Epoch  38  loss:  0.2978816499996676\n",
      "Epoch  39  loss:  0.294217035853157\n",
      "Epoch  40  loss:  0.297437914401323\n",
      "Epoch  41  loss:  0.29422651528735533\n",
      "Epoch  42  loss:  0.2974668693254677\n",
      "Epoch  43  loss:  0.29342603875966305\n",
      "Epoch  44  loss:  0.29710399914490215\n",
      "Epoch  45  loss:  0.29329156911035775\n",
      "Epoch  46  loss:  0.29703586707656926\n",
      "Epoch  47  loss:  0.2926611686935875\n",
      "Epoch  48  loss:  0.2967226232031958\n",
      "Epoch  49  loss:  0.29244245853729\n",
      "Epoch  50  loss:  0.2965895674798952\n",
      "Epoch  51  loss:  0.29192751684905915\n",
      "Epoch  52  loss:  0.29630607520231267\n",
      "Epoch  53  loss:  0.29166336554200045\n",
      "Epoch  54  loss:  0.29613045286999273\n",
      "Epoch  55  loss:  0.2912274750667801\n",
      "Epoch  56  loss:  0.2958644566289989\n",
      "Epoch  57  loss:  0.2909425105510653\n",
      "Epoch  58  loss:  0.2956617138454041\n",
      "Epoch  59  loss:  0.29056167304434566\n",
      "Epoch  60  loss:  0.2954060061967633\n",
      "Epoch  61  loss:  0.29027103051012554\n",
      "Epoch  62  loss:  0.2951867409164356\n",
      "Epoch  63  loss:  0.2899295979325288\n",
      "Epoch  64  loss:  0.2949373794285991\n",
      "Epoch  65  loss:  0.28964217920324997\n",
      "Epoch  66  loss:  0.294708821339045\n",
      "Epoch  67  loss:  0.28933002417481\n",
      "Epoch  68  loss:  0.2944638998844811\n",
      "Epoch  69  loss:  0.289050743643278\n",
      "Epoch  70  loss:  0.29423096479053573\n",
      "Epoch  71  loss:  0.2887613161223778\n",
      "Epoch  72  loss:  0.2939897833302856\n",
      "Epoch  73  loss:  0.2884926166266188\n",
      "Epoch  74  loss:  0.29375581287446884\n",
      "Epoch  75  loss:  0.2882216380719879\n",
      "Epoch  76  loss:  0.29351833318013626\n",
      "Epoch  77  loss:  0.28796448664667434\n",
      "Epoch  78  loss:  0.29328560402957177\n",
      "Epoch  79  loss:  0.2877090947917104\n",
      "Epoch  80  loss:  0.2930521067996556\n",
      "Epoch  81  loss:  0.28746361656139924\n",
      "Epoch  82  loss:  0.29282217460713733\n",
      "Epoch  83  loss:  0.28722182035535404\n",
      "Epoch  84  loss:  0.2925930542668255\n",
      "Epoch  85  loss:  0.2869876883773161\n",
      "Epoch  86  loss:  0.29236698247239257\n",
      "Epoch  87  loss:  0.286758029854101\n",
      "Epoch  88  loss:  0.29214263264430335\n",
      "Epoch  89  loss:  0.2865346960230519\n",
      "Epoch  90  loss:  0.2919211433197947\n",
      "Epoch  91  loss:  0.28631604573082586\n",
      "Epoch  92  loss:  0.2917018994517787\n",
      "Epoch  93  loss:  0.2861028719386531\n",
      "Epoch  94  loss:  0.29148547277746994\n",
      "Epoch  95  loss:  0.28589430777163144\n",
      "Epoch  96  loss:  0.2912715890019907\n",
      "Epoch  97  loss:  0.28569063682210727\n",
      "Epoch  98  loss:  0.29106052962540796\n",
      "Epoch  99  loss:  0.28549137330512053\n",
      "Time taken to train the model:  12.624279022216797\n",
      "Binary cross entropy: 14.461784309522805\n",
      "Predicted mean: 0.7524830521835094 Actual mean: 0.527825949865994\n",
      "Accuracy: 0.598770297966262\n",
      "Value: 0.598770297966262\n",
      "Trying hyperparameters: 0.5\n",
      "Epoch  0  loss:  0.43333730135414905\n",
      "Epoch  1  loss:  0.42384666928890036\n",
      "Epoch  2  loss:  0.40954435026267977\n",
      "Epoch  3  loss:  0.38478377531589375\n",
      "Epoch  4  loss:  0.3346770041671799\n",
      "Epoch  5  loss:  0.29146667111495045\n",
      "Epoch  6  loss:  0.3072122544024152\n",
      "Epoch  7  loss:  0.3821521229210677\n",
      "Epoch  8  loss:  0.33969742647746803\n",
      "Epoch  9  loss:  0.2677923724734148\n",
      "Epoch  10  loss:  0.28568445255348696\n",
      "Epoch  11  loss:  0.38888942228734735\n",
      "Epoch  12  loss:  0.3412056303174322\n",
      "Epoch  13  loss:  0.2602611068744422\n",
      "Epoch  14  loss:  0.2779063792537052\n",
      "Epoch  15  loss:  0.38263228925235265\n",
      "Epoch  16  loss:  0.3407030153971433\n",
      "Epoch  17  loss:  0.2594486939031796\n",
      "Epoch  18  loss:  0.2806127826946311\n",
      "Epoch  19  loss:  0.3858665972334244\n",
      "Epoch  20  loss:  0.3413098009860025\n",
      "Epoch  21  loss:  0.25534944403926085\n",
      "Epoch  22  loss:  0.2765967522068795\n",
      "Epoch  23  loss:  0.38212526328803137\n",
      "Epoch  24  loss:  0.34085747162557045\n",
      "Epoch  25  loss:  0.25473266997139804\n",
      "Epoch  26  loss:  0.27804490458124753\n",
      "Epoch  27  loss:  0.3825761351332106\n",
      "Epoch  28  loss:  0.3408253341579337\n",
      "Epoch  29  loss:  0.2527984810031345\n",
      "Epoch  30  loss:  0.27659230939091856\n",
      "Epoch  31  loss:  0.3804265063997921\n",
      "Epoch  32  loss:  0.3403664966729921\n",
      "Epoch  33  loss:  0.2522495783307048\n",
      "Epoch  34  loss:  0.27711678367339704\n",
      "Epoch  35  loss:  0.37944836791710806\n",
      "Epoch  36  loss:  0.3399784835641549\n",
      "Epoch  37  loss:  0.2514527618310108\n",
      "Epoch  38  loss:  0.27686153027453636\n",
      "Epoch  39  loss:  0.37782744359481785\n",
      "Epoch  40  loss:  0.3394482455019807\n",
      "Epoch  41  loss:  0.2511053636860785\n",
      "Epoch  42  loss:  0.277086670693615\n",
      "Epoch  43  loss:  0.37638226180913387\n",
      "Epoch  44  loss:  0.33889249423304557\n",
      "Epoch  45  loss:  0.2508271259375964\n",
      "Epoch  46  loss:  0.2772030502076873\n",
      "Epoch  47  loss:  0.37482100720365835\n",
      "Epoch  48  loss:  0.3382848971340877\n",
      "Epoch  49  loss:  0.25071314611327555\n",
      "Epoch  50  loss:  0.27740635776892036\n",
      "Epoch  51  loss:  0.3732617572969698\n",
      "Epoch  52  loss:  0.3376494122313297\n",
      "Epoch  53  loss:  0.25069231965604144\n",
      "Epoch  54  loss:  0.2776124120798536\n",
      "Epoch  55  loss:  0.37168469752191785\n",
      "Epoch  56  loss:  0.33699058324434766\n",
      "Epoch  57  loss:  0.25075788772879537\n",
      "Epoch  58  loss:  0.27783461673927473\n",
      "Epoch  59  loss:  0.37010679981940603\n",
      "Epoch  60  loss:  0.33631639307550215\n",
      "Epoch  61  loss:  0.25089067969279494\n",
      "Epoch  62  loss:  0.2780624525117874\n",
      "Epoch  63  loss:  0.3685332942337452\n",
      "Epoch  64  loss:  0.3356321420204508\n",
      "Epoch  65  loss:  0.25107932723250415\n",
      "Epoch  66  loss:  0.2782939494868245\n",
      "Epoch  67  loss:  0.36696981632024556\n",
      "Epoch  68  loss:  0.3349422565109297\n",
      "Epoch  69  loss:  0.251314143799874\n",
      "Epoch  70  loss:  0.27852695389001164\n",
      "Epoch  71  loss:  0.36542019927594516\n",
      "Epoch  72  loss:  0.3342501513445114\n",
      "Epoch  73  loss:  0.25158763422351627\n",
      "Epoch  74  loss:  0.27876039221191695\n",
      "Epoch  75  loss:  0.3638871679776835\n",
      "Epoch  76  loss:  0.33355845873213796\n",
      "Epoch  77  loss:  0.25189383226805895\n",
      "Epoch  78  loss:  0.2789936871468091\n",
      "Epoch  79  loss:  0.36237249741269706\n",
      "Epoch  80  loss:  0.3328691613075084\n",
      "Epoch  81  loss:  0.252227987213696\n",
      "Epoch  82  loss:  0.27922661199997767\n",
      "Epoch  83  loss:  0.3608772103558883\n",
      "Epoch  84  loss:  0.3321837122460009\n",
      "Epoch  85  loss:  0.2525863006780878\n",
      "Epoch  86  loss:  0.27945916035867524\n",
      "Epoch  87  loss:  0.3594017353463006\n",
      "Epoch  88  loss:  0.3315031343285751\n",
      "Epoch  89  loss:  0.25296572954776797\n",
      "Epoch  90  loss:  0.2796914643061773\n",
      "Epoch  91  loss:  0.3579460371482712\n",
      "Epoch  92  loss:  0.3308281021383178\n",
      "Epoch  93  loss:  0.25336383463440404\n",
      "Epoch  94  loss:  0.27992374072019643\n",
      "Epoch  95  loss:  0.35650972272048675\n",
      "Epoch  96  loss:  0.3301590098634145\n",
      "Epoch  97  loss:  0.2537786637733732\n",
      "Epoch  98  loss:  0.280156256545509\n",
      "Epoch  99  loss:  0.3550921265274365\n",
      "Time taken to train the model:  12.154852867126465\n",
      "Binary cross entropy: 15.427797406819023\n",
      "Predicted mean: 0.826895790635346 Actual mean: 0.527825949865994\n",
      "Accuracy: 0.5719690997950496\n",
      "Value: 0.5719690997950496\n",
      "Best hyperparameters: 0.2\n",
      "Best value: 0.6232066845341321\n"
     ]
    },
    {
     "data": {
      "image/png": "[encoded data removed]",
      "text/plain": [
       "<Figure size 640x480 with 1 Axes>"
      ]
     },
     "metadata": {},
     "output_type": "display_data"
    },
    {
     "name": "stdout",
     "output_type": "stream",
     "text": [
      "Epoch  0  loss:  0.438479717743933\n",
      "Epoch  1  loss:  0.4357829749204466\n",
      "Epoch  2  loss:  0.43274380115171496\n",
      "Epoch  3  loss:  0.42928931013118427\n",
      "Epoch  4  loss:  0.42532249775120146\n",
      "Epoch  5  loss:  0.4207112650432621\n",
      "Epoch  6  loss:  0.41527099556047853\n",
      "Epoch  7  loss:  0.4087362581031845\n",
      "Epoch  8  loss:  0.40071418016337146\n",
      "Epoch  9  loss:  0.3906082550903353\n",
      "Epoch  10  loss:  0.3774989854471186\n",
      "Epoch  11  loss:  0.3599642643013764\n",
      "Epoch  12  loss:  0.3357419789291866\n",
      "Epoch  13  loss:  0.30051915571551824\n",
      "Epoch  14  loss:  0.262298752128422\n",
      "Epoch  15  loss:  0.25982734319083073\n",
      "Epoch  16  loss:  0.2584879883329887\n",
      "Epoch  17  loss:  0.25770543080169006\n",
      "Epoch  18  loss:  0.2568511550947088\n",
      "Epoch  19  loss:  0.2560836921861584\n",
      "Epoch  20  loss:  0.2553124462602891\n",
      "Epoch  21  loss:  0.2545720878233603\n",
      "Epoch  22  loss:  0.25384626409767963\n",
      "Epoch  23  loss:  0.2531414494903068\n",
      "Epoch  24  loss:  0.252454239752651\n",
      "Epoch  25  loss:  0.2517855941610434\n",
      "Epoch  26  loss:  0.2511345425848607\n",
      "Epoch  27  loss:  0.250500969638555\n",
      "Epoch  28  loss:  0.24988437649122758\n",
      "Epoch  29  loss:  0.24928443529518976\n",
      "Epoch  30  loss:  0.24870074138485593\n",
      "Epoch  31  loss:  0.24813292601452236\n",
      "Epoch  32  loss:  0.24758060630241965\n",
      "Epoch  33  loss:  0.24704340887388324\n",
      "Epoch  34  loss:  0.246520959912471\n",
      "Epoch  35  loss:  0.24601289047960023\n",
      "Epoch  36  loss:  0.24551883477391312\n",
      "Epoch  37  loss:  0.24503843157272764\n",
      "Epoch  38  loss:  0.24457132414516905\n",
      "Epoch  39  loss:  0.2441171608137127\n",
      "Epoch  40  loss:  0.24367559515896464\n",
      "Epoch  41  loss:  0.24324628633707523\n",
      "Epoch  42  loss:  0.2428288992939613\n",
      "Epoch  43  loss:  0.24242310497983616\n",
      "Epoch  44  loss:  0.242028580518359\n",
      "Epoch  45  loss:  0.24164500935456526\n",
      "Epoch  46  loss:  0.241272081372912\n",
      "Epoch  47  loss:  0.24090949299216516\n",
      "Epoch  48  loss:  0.2405569472365325\n",
      "Epoch  49  loss:  0.24021415378583216\n",
      "Epoch  50  loss:  0.23988082900579996\n",
      "Epoch  51  loss:  0.23955669596034787\n",
      "Epoch  52  loss:  0.23924148440715584\n",
      "Epoch  53  loss:  0.23893493077808248\n",
      "Epoch  54  loss:  0.2386367781457312\n",
      "Epoch  55  loss:  0.23834677617747618\n",
      "Epoch  56  loss:  0.23806468107816453\n",
      "Epoch  57  loss:  0.23779025552265007\n",
      "Epoch  58  loss:  0.23752326857924247\n",
      "Epoch  59  loss:  0.23726349562508886\n",
      "Epoch  60  loss:  0.23701071825444062\n",
      "Epoch  61  loss:  0.23676472418069308\n",
      "Epoch  62  loss:  0.23652530713302564\n",
      "Epoch  63  loss:  0.23629226674841042\n",
      "Epoch  64  loss:  0.23606540845970095\n",
      "Epoch  65  loss:  0.23584454338045824\n",
      "Epoch  66  loss:  0.23562948818712048\n",
      "Epoch  67  loss:  0.23542006499907306\n",
      "Epoch  68  loss:  0.2352161012571296\n",
      "Epoch  69  loss:  0.23501742960089156\n",
      "Epoch  70  loss:  0.2348238877454108\n",
      "Epoch  71  loss:  0.23463531835754362\n",
      "Epoch  72  loss:  0.23445156893234526\n",
      "Epoch  73  loss:  0.23427249166982225\n",
      "Epoch  74  loss:  0.23409794335232698\n",
      "Epoch  75  loss:  0.23392778522284963\n",
      "Epoch  76  loss:  0.2337618828644349\n",
      "Epoch  77  loss:  0.23360010608092524\n",
      "Epoch  78  loss:  0.23344232877920887\n",
      "Epoch  79  loss:  0.23328842885312917\n",
      "Epoch  80  loss:  0.23313828806919093\n",
      "Epoch  81  loss:  0.23299179195418115\n",
      "Epoch  82  loss:  0.23284882968480447\n",
      "Epoch  83  loss:  0.2327092939794181\n",
      "Epoch  84  loss:  0.232573080991936\n",
      "Epoch  85  loss:  0.2324400902079593\n",
      "Epoch  86  loss:  0.23231022434317883\n",
      "Epoch  87  loss:  0.23218338924408236\n",
      "Epoch  88  loss:  0.2320594937909924\n",
      "Epoch  89  loss:  0.23193844980344863\n",
      "Epoch  90  loss:  0.23182017194794327\n",
      "Epoch  91  loss:  0.23170457764800845\n",
      "Epoch  92  loss:  0.23159158699664928\n",
      "Epoch  93  loss:  0.23148112267111134\n",
      "Epoch  94  loss:  0.23137310984996304\n",
      "Epoch  95  loss:  0.23126747613247303\n",
      "Epoch  96  loss:  0.23116415146025482\n",
      "Epoch  97  loss:  0.23106306804115004\n",
      "Epoch  98  loss:  0.23096416027531694\n",
      "Epoch  99  loss:  0.23086736468348948\n",
      "Time taken to train the model:  11.901936769485474\n",
      "Binary cross entropy: 13.778321783631489\n",
      "Predicted mean: 0.5037205196115525 Actual mean: 0.5353764661369655\n",
      "Accuracy: 0.6177323748265859\n"
     ]
    },
    {
     "data": {
      "text/plain": [
       "0.6177323748265859"
      ]
     },
     "execution_count": 18,
     "metadata": {},
     "output_type": "execute_result"
    }
   ],
   "source": [
    "if not best_h:\n",
    "    best_h = 300\n",
    "\n",
    "\n",
    "def get_model(param):\n",
    "    return ScratchNeuralNetwork(input_dim=58, hidden_dim=best_h, learning_rate=param, epochs=100, classification=True)\n",
    "\n",
    "\n",
    "best_param, params, accuracies = optimize_hyperparameters(get_model, (0.01, 0.05, 0.1, 0.2, 0.3, 0.4, 0.5), train, test,\n",
    "                                                          val,\n",
    "                                                          classification=True)\n",
    "plot_2d(params, accuracies, 'lr', 'accuracy')\n",
    "best_model = get_model(param=best_param)\n",
    "\n",
    "accuracy_NN_my = test_model(best_model, train, test, classification=True)"
   ]
  },
  {
   "cell_type": "markdown",
   "metadata": {
    "collapsed": false
   },
   "source": [
    "#TEST"
   ]
  },
  {
   "cell_type": "code",
   "execution_count": null,
   "metadata": {},
   "outputs": [],
   "source": [
    "from sklearn.neural_network import MLPRegressor\n",
    "from sklearn.metrics import mean_squared_error, r2_score\n",
    "from sklearn.model_selection import train_test_split\n",
    "from sklearn.neighbors import KNeighborsClassifier, KNeighborsRegressor\n",
    "from sklearn.metrics import mean_squared_error, r2_score\n",
    "\n",
    "regressor = MLPRegressor(\n",
    "    hidden_layer_sizes=(100, 100, 100),\n",
    "    activation='relu',\n",
    "    solver='adam',\n",
    "    alpha=0.0001,\n",
    "    batch_size='auto',\n",
    "    learning_rate='constant',\n",
    "    learning_rate_init=0.001,\n",
    "    power_t=0.5,\n",
    "    max_iter=200,\n",
    "    shuffle=True,\n",
    "    random_state=None,\n",
    "    tol=0.0001,\n",
    "    verbose=True,\n",
    "    warm_start=False,\n",
    "    momentum=0.9,\n",
    "    nesterovs_momentum=True,\n",
    "    early_stopping=False,\n",
    "    validation_fraction=0.1,\n",
    "    beta_1=0.9,\n",
    "    beta_2=0.999,\n",
    "    epsilon=1e-08,\n",
    "    n_iter_no_change=10,\n",
    "    max_fun=15000\n",
    ")\n",
    "regressor = MLPRegressor(\n",
    "    hidden_layer_sizes=(400, 300, 200, 20),\n",
    "    activation='logistic',\n",
    "    solver='adam',\n",
    "    alpha=0.001,\n",
    "    batch_size='auto',\n",
    "    learning_rate='adaptive',\n",
    "    learning_rate_init=0.0001,\n",
    "    power_t=0.4,\n",
    "    max_iter=500,\n",
    "    shuffle=True,\n",
    "    random_state=None,\n",
    "    tol=0.0001,\n",
    "    verbose=True,\n",
    "    warm_start=False,\n",
    "    momentum=0.9,\n",
    "    nesterovs_momentum=True,\n",
    "    early_stopping=False,\n",
    "    validation_fraction=0.1,\n",
    "    beta_1=0.8,\n",
    "    beta_2=0.9,\n",
    "    epsilon=1e-08,\n",
    "    n_iter_no_change=20,\n",
    "    max_fun=15000\n",
    ")\n",
    "test_model(regressor, train_x, train_y, test_x, test_y)\n"
   ]
  }
 ],
 "metadata": {
  "colab": {
   "provenance": []
  },
  "kernelspec": {
   "display_name": "Python 3 (ipykernel)",
   "language": "python",
   "name": "python3"
  },
  "language_info": {
   "name": "python"
  }
 },
 "nbformat": 4,
 "nbformat_minor": 0
}
