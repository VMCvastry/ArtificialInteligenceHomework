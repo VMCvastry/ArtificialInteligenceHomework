{
 "cells": [
  {
   "cell_type": "code",
   "execution_count": 1,
   "outputs": [],
   "source": [
    "from utils import *\n"
   ],
   "metadata": {
    "collapsed": false,
    "ExecuteTime": {
     "end_time": "2023-05-24T22:10:47.371010287Z",
     "start_time": "2023-05-24T22:10:46.599356514Z"
    }
   }
  },
  {
   "cell_type": "markdown",
   "source": [
    "# Linear/Logistic Classification"
   ],
   "metadata": {
    "collapsed": false
   }
  },
  {
   "cell_type": "code",
   "execution_count": 7,
   "outputs": [],
   "source": [
    "df, train, test, val = get_data(normalize=True, binary_label=True)"
   ],
   "metadata": {
    "collapsed": false,
    "ExecuteTime": {
     "end_time": "2023-05-24T22:12:56.253375696Z",
     "start_time": "2023-05-24T22:12:55.996437095Z"
    }
   }
  },
  {
   "cell_type": "code",
   "execution_count": 8,
   "outputs": [],
   "source": [
    "from sklearn.linear_model import SGDClassifier"
   ],
   "metadata": {
    "collapsed": false,
    "ExecuteTime": {
     "end_time": "2023-05-24T22:12:56.380334144Z",
     "start_time": "2023-05-24T22:12:56.374598495Z"
    }
   }
  },
  {
   "cell_type": "code",
   "execution_count": 5,
   "outputs": [],
   "source": [
    "def _sigmoid(x):\n",
    "    return 1 / (1 + np.exp(-x))\n",
    "\n",
    "\n",
    "class ScratchLinearRegression:\n",
    "\n",
    "    def __init__(self, lr=0.01, n_iters=1000, regularization=None, alpha=0.1, l1_ratio=0.5, logistic=False,\n",
    "                 classification=True):\n",
    "        self.lr = lr\n",
    "        self.n_iters = n_iters\n",
    "        self.weights = None\n",
    "        self.bias = None\n",
    "        self.regularization = regularization\n",
    "        self.regularization_param = alpha\n",
    "        self.l1_ratio = l1_ratio\n",
    "        self.classification = classification\n",
    "        self.model = 'logistic' if logistic else 'perceptron'  #todo check\n",
    "\n",
    "    def fit(self, X, y):\n",
    "        n_samples, n_features = X.shape\n",
    "\n",
    "        self.weights = np.zeros(n_features)\n",
    "        self.bias = 0\n",
    "\n",
    "        for _ in range(self.n_iters):\n",
    "            y_pred = np.dot(X, self.weights) + self.bias\n",
    "\n",
    "            if self.classification:\n",
    "                if self.model == 'logistic':\n",
    "                    y_pred = _sigmoid(y_pred)\n",
    "                else:\n",
    "                    y_pred = np.where(y_pred>=0, 1, 0)\n",
    "            if self.regularization == 'l1':\n",
    "                dw = (1 / n_samples) * np.dot(X.T, (y_pred - y)) + np.sign(self.weights) * self.regularization_param\n",
    "                db = (1 / n_samples) * np.sum(y_pred - y) + np.sign(self.bias) * self.regularization_param\n",
    "\n",
    "            elif self.regularization == 'l2':\n",
    "                dw = (1 / n_samples) * np.dot(X.T, (y_pred - y)) + 2 * self.weights * self.regularization_param\n",
    "                db = (1 / n_samples) * np.sum(y_pred - y) + 2 * self.bias * self.regularization_param\n",
    "            elif self.regularization == 'elasticnet':\n",
    "                dw = ((1 / n_samples) * np.dot(X.T, (y_pred - y))\n",
    "                      + 2 * self.weights * (1 - self.regularization_param)\n",
    "                      + np.sign(self.weights) * self.regularization_param)\n",
    "                db = ((1 / n_samples) * np.sum(y_pred - y)\n",
    "                      + 2 * self.bias * (1 - self.regularization_param)\n",
    "                      + np.sign(self.bias) * self.regularization_param)\n",
    "            elif self.regularization == 'elasticnetV2':\n",
    "                dw = (\n",
    "                        (1 / n_samples) * np.dot(X.T, (y_pred - y))\n",
    "                        + self.regularization_param *\n",
    "                        (\n",
    "                                2 * self.weights * (1 - self.l1_ratio)\n",
    "                                + np.sign(self.weights) * self.l1_ratio\n",
    "                        )\n",
    "                )\n",
    "                db = (\n",
    "                        (1 / n_samples) * np.sum(y_pred - y)\n",
    "                        + self.regularization_param *\n",
    "                        (\n",
    "                                2 * self.bias * (1 - self.l1_ratio)\n",
    "                                + np.sign(self.bias) * self.l1_ratio\n",
    "                        )\n",
    "                )\n",
    "            elif self.regularization is None or self.regularization == '':\n",
    "                dw = (1 / n_samples) * np.dot(X.T, (y_pred - y))\n",
    "                db = (1 / n_samples) * np.sum(y_pred - y)\n",
    "            else:\n",
    "                raise ValueError('Invalid regularization parameter')\n",
    "\n",
    "            self.weights -= self.lr * dw\n",
    "            self.bias -= self.lr * db\n",
    "\n",
    "    def predict(self, X):\n",
    "        y_pred = np.dot(X, self.weights) + self.bias\n",
    "\n",
    "        if self.classification:\n",
    "            if self.model == 'logistic':\n",
    "                y_pred = _sigmoid(y_pred)\n",
    "                y_pred = [1 if i >= 0.5 else 0 for i in y_pred]\n",
    "            else:\n",
    "                y_pred = [1 if i >= 0 else 0 for i in y_pred]\n",
    "        return y_pred"
   ],
   "metadata": {
    "collapsed": false,
    "ExecuteTime": {
     "end_time": "2023-05-24T22:12:23.666196586Z",
     "start_time": "2023-05-24T22:12:23.651180069Z"
    }
   }
  },
  {
   "cell_type": "markdown",
   "source": [
    "## No regularization"
   ],
   "metadata": {
    "collapsed": false
   }
  },
  {
   "cell_type": "markdown",
   "source": [
    "### Sklearn"
   ],
   "metadata": {
    "collapsed": false
   }
  },
  {
   "cell_type": "code",
   "execution_count": 10,
   "outputs": [
    {
     "name": "stdout",
     "output_type": "stream",
     "text": [
      "Time taken to train the model:  0.016450881958007812\n",
      "Binary cross entropy: 16.48307317302797\n",
      "Accuracy: 0.5426913860512045\n"
     ]
    },
    {
     "data": {
      "text/plain": "0.5426913860512045"
     },
     "execution_count": 10,
     "metadata": {},
     "output_type": "execute_result"
    }
   ],
   "source": [
    "regressor = SGDClassifier(max_iter=1000, penalty=None, learning_rate='constant', shuffle=False, eta0=0.00001,\n",
    "                          early_stopping=False, loss='perceptron')\n",
    "accuracy_LC_NR_sk=test_model(regressor, train, test, classification=True)"
   ],
   "metadata": {
    "collapsed": false,
    "ExecuteTime": {
     "end_time": "2023-05-24T22:15:57.480535682Z",
     "start_time": "2023-05-24T22:15:57.451558355Z"
    }
   }
  },
  {
   "cell_type": "markdown",
   "source": [
    "### Scratch"
   ],
   "metadata": {
    "collapsed": false
   }
  },
  {
   "cell_type": "code",
   "execution_count": 11,
   "outputs": [
    {
     "name": "stdout",
     "output_type": "stream",
     "text": [
      "Time taken to train the model:  1.1781249046325684\n",
      "Binary cross entropy: 15.078420770803579\n",
      "Accuracy: 0.5816622524908563\n"
     ]
    },
    {
     "data": {
      "text/plain": "0.5816622524908563"
     },
     "execution_count": 11,
     "metadata": {},
     "output_type": "execute_result"
    }
   ],
   "source": [
    "#No regularization\n",
    "regressor = ScratchLinearRegression(regularization='',classification=True)\n",
    "accuracy_LC_NR_my=test_model(regressor, train, test, classification=True)"
   ],
   "metadata": {
    "collapsed": false,
    "ExecuteTime": {
     "end_time": "2023-05-24T22:16:01.284132980Z",
     "start_time": "2023-05-24T22:16:00.088005374Z"
    }
   }
  },
  {
   "cell_type": "markdown",
   "source": [
    "### Scratch Logistic"
   ],
   "metadata": {
    "collapsed": false
   }
  },
  {
   "cell_type": "code",
   "execution_count": 14,
   "outputs": [
    {
     "name": "stdout",
     "output_type": "stream",
     "text": [
      "Time taken to train the model:  2.061532735824585\n",
      "Binary cross entropy: 12.805520443579645\n",
      "Predicted mean: 0.5627443561609282 Actual mean: 0.5353764661369655\n",
      "Accuracy: 0.64472190692395\n"
     ]
    },
    {
     "data": {
      "text/plain": "0.64472190692395"
     },
     "execution_count": 14,
     "metadata": {},
     "output_type": "execute_result"
    }
   ],
   "source": [
    "#No regularization\n",
    "regressor = ScratchLinearRegression(regularization='', logistic=True,classification=True)\n",
    "accuracy_LO_NR_my=test_model(regressor, train, test, classification=True)"
   ],
   "metadata": {
    "collapsed": false,
    "ExecuteTime": {
     "end_time": "2023-05-04T16:53:18.663292736Z",
     "start_time": "2023-05-04T16:53:16.572202844Z"
    }
   }
  },
  {
   "cell_type": "markdown",
   "source": [
    "##L1"
   ],
   "metadata": {
    "collapsed": false
   }
  },
  {
   "cell_type": "code",
   "execution_count": 34,
   "outputs": [
    {
     "name": "stdout",
     "output_type": "stream",
     "text": [
      "Trying hyperparameters: 0.0001\n",
      "Time taken to train the model:  2.750826597213745\n",
      "Binary cross entropy: 14.60384505912519\n",
      "Predicted mean: 0.5527352987545325 Actual mean: 0.527825949865994\n",
      "Accuracy: 0.5948289452940249\n",
      "Value: 0.5948289452940249\n",
      "Trying hyperparameters: 0.0002\n",
      "Time taken to train the model:  1.8612961769104004\n",
      "Binary cross entropy: 14.620892349077474\n",
      "Predicted mean: 0.552577644647643 Actual mean: 0.527825949865994\n",
      "Accuracy: 0.5943559829733565\n",
      "Value: 0.5943559829733565\n",
      "Trying hyperparameters: 0.0004\n",
      "Time taken to train the model:  1.7373158931732178\n",
      "Binary cross entropy: 14.672034218934336\n",
      "Predicted mean: 0.5514740658994167 Actual mean: 0.527825949865994\n",
      "Accuracy: 0.5929370960113511\n",
      "Value: 0.5929370960113511\n",
      "Trying hyperparameters: 0.0008\n",
      "Time taken to train the model:  1.5100128650665283\n",
      "Binary cross entropy: 14.711811228823\n",
      "Predicted mean: 0.5506857953649693 Actual mean: 0.527825949865994\n",
      "Accuracy: 0.5918335172631247\n",
      "Value: 0.5918335172631247\n",
      "Trying hyperparameters: 0.0016\n",
      "Time taken to train the model:  1.4376800060272217\n",
      "Binary cross entropy: 14.74022337874348\n",
      "Predicted mean: 0.5498975248305218 Actual mean: 0.527825949865994\n",
      "Accuracy: 0.5910452467286773\n",
      "Value: 0.5910452467286773\n",
      "Trying hyperparameters: 0.0032\n",
      "Time taken to train the model:  1.5490903854370117\n",
      "Binary cross entropy: 14.74022337874348\n",
      "Predicted mean: 0.5505281412580798 Actual mean: 0.527825949865994\n",
      "Accuracy: 0.5910452467286773\n",
      "Value: 0.5910452467286773\n",
      "Trying hyperparameters: 0.0064\n",
      "Time taken to train the model:  1.4558711051940918\n",
      "Binary cross entropy: 14.893648988314055\n",
      "Predicted mean: 0.5475327132271796 Actual mean: 0.527825949865994\n",
      "Accuracy: 0.5867885858426612\n",
      "Value: 0.5867885858426612\n",
      "Trying hyperparameters: 0.0128\n",
      "Time taken to train the model:  1.588256597518921\n",
      "Binary cross entropy: 15.228912357375684\n",
      "Predicted mean: 0.5398076619895948 Actual mean: 0.527825949865994\n",
      "Accuracy: 0.5774869935361816\n",
      "Value: 0.5774869935361816\n",
      "Trying hyperparameters: 0.0256\n",
      "Time taken to train the model:  1.8557748794555664\n",
      "Binary cross entropy: 15.359608247009877\n",
      "Predicted mean: 0.5377581586000315 Actual mean: 0.527825949865994\n",
      "Accuracy: 0.5738609490777234\n",
      "Value: 0.5738609490777234\n",
      "Trying hyperparameters: 0.0512\n",
      "Time taken to train the model:  1.4734647274017334\n",
      "Binary cross entropy: 15.427797406819023\n",
      "Predicted mean: 0.542803090020495 Actual mean: 0.527825949865994\n",
      "Accuracy: 0.5719690997950496\n",
      "Value: 0.5719690997950496\n",
      "Trying hyperparameters: 0.1024\n",
      "Time taken to train the model:  1.461963415145874\n",
      "Binary cross entropy: 17.143891262015835\n",
      "Predicted mean: 0.5897840138735614 Actual mean: 0.527825949865994\n",
      "Accuracy: 0.5243575595144253\n",
      "Value: 0.5243575595144253\n",
      "Trying hyperparameters: 0.2048\n",
      "Time taken to train the model:  1.4639103412628174\n",
      "Binary cross entropy: 17.786005850218615\n",
      "Predicted mean: 0.5287718745073309 Actual mean: 0.527825949865994\n",
      "Accuracy: 0.5065426454359137\n",
      "Value: 0.5065426454359137\n",
      "Trying hyperparameters: 0.4096\n",
      "Time taken to train the model:  1.5018763542175293\n",
      "Binary cross entropy: 15.791472925801127\n",
      "Predicted mean: 0.4425350780387829 Actual mean: 0.527825949865994\n",
      "Accuracy: 0.5618792369541227\n",
      "Value: 0.5618792369541227\n",
      "Trying hyperparameters: 0.8192\n",
      "Time taken to train the model:  1.4836742877960205\n",
      "Binary cross entropy: 15.524398716548646\n",
      "Predicted mean: 0.5265647170108781 Actual mean: 0.527825949865994\n",
      "Accuracy: 0.5692889799779284\n",
      "Value: 0.5692889799779284\n",
      "Trying hyperparameters: 1.6384\n",
      "Time taken to train the model:  1.540982961654663\n",
      "Binary cross entropy: 15.467574416707693\n",
      "Predicted mean: 0.5306637237900047 Actual mean: 0.527825949865994\n",
      "Accuracy: 0.5708655210468233\n",
      "Value: 0.5708655210468233\n",
      "Trying hyperparameters: 3.2768\n",
      "Time taken to train the model:  1.488513469696045\n",
      "Binary cross entropy: 15.717601336007888\n",
      "Predicted mean: 0.5722844080088286 Actual mean: 0.527825949865994\n",
      "Accuracy: 0.563928740343686\n",
      "Value: 0.563928740343686\n",
      "Trying hyperparameters: 6.5536\n",
      "Time taken to train the model:  1.4590849876403809\n",
      "Binary cross entropy: 17.257539861697744\n",
      "Predicted mean: 0.5705502128330443 Actual mean: 0.527825949865994\n",
      "Accuracy: 0.5212044773766357\n",
      "Value: 0.5212044773766357\n",
      "Best hyperparameters: 0.0001\n",
      "Best value: 0.5948289452940249\n"
     ]
    },
    {
     "data": {
      "text/plain": "<Figure size 640x480 with 1 Axes>",
      "image/png": "[encoded data removed]"
     },
     "metadata": {},
     "output_type": "display_data"
    },
    {
     "name": "stdout",
     "output_type": "stream",
     "text": [
      "Time taken to train the model:  1.5395021438598633\n",
      "Binary cross entropy: 15.105695574730266\n",
      "Predicted mean: 0.5418085508891411 Actual mean: 0.5353764661369655\n",
      "Accuracy: 0.5809055366376592\n"
     ]
    },
    {
     "data": {
      "text/plain": "0.5809055366376592"
     },
     "execution_count": 34,
     "metadata": {},
     "output_type": "execute_result"
    }
   ],
   "source": [
    "#L1 regularization\n",
    "\n",
    "def get_model(param):\n",
    "    return ScratchLinearRegression(regularization='l1', alpha=param,classification=True)\n",
    "\n",
    "\n",
    "def iterate_hyperparameters():\n",
    "    #NOTE much lower allpha than in regression\n",
    "    alpha = 0.0001\n",
    "    while alpha < 10:\n",
    "        yield alpha\n",
    "        alpha *= 2\n",
    "\n",
    "\n",
    "best_param, params, accuracies = optimize_hyperparameters(get_model, iterate_hyperparameters(), train, test, val,\n",
    "                                                          classification=True)\n",
    "plot_2d(params, accuracies, 'alpha', 'mse')\n",
    "regressor = ScratchLinearRegression(regularization='l1', alpha=best_param,classification=True)\n",
    "\n",
    "accuracy_LC_L1_my= test_model(regressor, train, test, classification=True)\n"
   ],
   "metadata": {
    "collapsed": false,
    "ExecuteTime": {
     "end_time": "2023-05-04T17:07:35.715422754Z",
     "start_time": "2023-05-04T17:07:06.132527656Z"
    }
   }
  },
  {
   "cell_type": "markdown",
   "source": [],
   "metadata": {
    "collapsed": false
   }
  },
  {
   "cell_type": "markdown",
   "source": [
    "## L2"
   ],
   "metadata": {
    "collapsed": false
   }
  },
  {
   "cell_type": "code",
   "execution_count": 36,
   "outputs": [
    {
     "name": "stdout",
     "output_type": "stream",
     "text": [
      "Trying hyperparameters: 0.001\n",
      "Time taken to train the model:  2.6780083179473877\n",
      "Binary cross entropy: 14.598162629141095\n",
      "Predicted mean: 0.5510011035787482 Actual mean: 0.527825949865994\n",
      "Accuracy: 0.5949865994009144\n",
      "Value: 0.5949865994009144\n",
      "Trying hyperparameters: 0.002\n",
      "Time taken to train the model:  2.141244411468506\n",
      "Binary cross entropy: 14.586797769172902\n",
      "Predicted mean: 0.5506857953649693 Actual mean: 0.527825949865994\n",
      "Accuracy: 0.5953019076146934\n",
      "Value: 0.5953019076146934\n",
      "Trying hyperparameters: 0.004\n",
      "Time taken to train the model:  1.758847713470459\n",
      "Binary cross entropy: 14.586797769172902\n",
      "Predicted mean: 0.552892952861422 Actual mean: 0.527825949865994\n",
      "Accuracy: 0.5953019076146934\n",
      "Value: 0.5953019076146934\n",
      "Trying hyperparameters: 0.008\n",
      "Time taken to train the model:  1.7327992916107178\n",
      "Binary cross entropy: 14.598162629141095\n",
      "Predicted mean: 0.5506857953649693 Actual mean: 0.527825949865994\n",
      "Accuracy: 0.5949865994009144\n",
      "Value: 0.5949865994009144\n",
      "Trying hyperparameters: 0.016\n",
      "Time taken to train the model:  1.5750553607940674\n",
      "Binary cross entropy: 14.586797769172902\n",
      "Predicted mean: 0.553208261075201 Actual mean: 0.527825949865994\n",
      "Accuracy: 0.5953019076146934\n",
      "Value: 0.5953019076146934\n",
      "Trying hyperparameters: 0.032\n",
      "Time taken to train the model:  2.8726072311401367\n",
      "Binary cross entropy: 14.598162629141095\n",
      "Predicted mean: 0.553208261075201 Actual mean: 0.527825949865994\n",
      "Accuracy: 0.5949865994009144\n",
      "Value: 0.5949865994009144\n",
      "Trying hyperparameters: 0.064\n",
      "Time taken to train the model:  1.8514108657836914\n",
      "Binary cross entropy: 14.598162629141095\n",
      "Predicted mean: 0.553208261075201 Actual mean: 0.527825949865994\n",
      "Accuracy: 0.5949865994009144\n",
      "Value: 0.5949865994009144\n",
      "Trying hyperparameters: 0.128\n",
      "Time taken to train the model:  1.5566904544830322\n",
      "Binary cross entropy: 14.62657477906157\n",
      "Predicted mean: 0.5517893741131956 Actual mean: 0.527825949865994\n",
      "Accuracy: 0.594198328866467\n",
      "Value: 0.594198328866467\n",
      "Trying hyperparameters: 0.256\n",
      "Time taken to train the model:  1.545851469039917\n",
      "Binary cross entropy: 14.643622069013857\n",
      "Predicted mean: 0.5513164117925272 Actual mean: 0.527825949865994\n",
      "Accuracy: 0.5937253665457985\n",
      "Value: 0.5937253665457985\n",
      "Trying hyperparameters: 0.512\n",
      "Time taken to train the model:  1.4839973449707031\n",
      "Binary cross entropy: 14.694763938870716\n",
      "Predicted mean: 0.5508434494718587 Actual mean: 0.527825949865994\n",
      "Accuracy: 0.5923064795837931\n",
      "Value: 0.5923064795837931\n",
      "Best hyperparameters: 0.002\n",
      "Best value: 0.5953019076146934\n"
     ]
    },
    {
     "data": {
      "text/plain": "<Figure size 640x480 with 1 Axes>",
      "image/png": "[encoded data removed]"
     },
     "metadata": {},
     "output_type": "display_data"
    },
    {
     "name": "stdout",
     "output_type": "stream",
     "text": [
      "Time taken to train the model:  1.9208967685699463\n",
      "Binary cross entropy: 15.082966571458027\n",
      "Predicted mean: 0.5394122840206835 Actual mean: 0.5353764661369655\n",
      "Accuracy: 0.5815361331819902\n"
     ]
    },
    {
     "data": {
      "text/plain": "0.5815361331819902"
     },
     "execution_count": 36,
     "metadata": {},
     "output_type": "execute_result"
    }
   ],
   "source": [
    "#L2 regularization\n",
    "\n",
    "def get_model(param):\n",
    "    return ScratchLinearRegression(regularization='l2', alpha=param,classification=True)\n",
    "\n",
    "\n",
    "def iterate_hyperparameters():\n",
    "    # for alpha in range(1,1000,100): #giuliu dice esponenziale tra 0 e 1\n",
    "    #     yield alpha\n",
    "    alpha = 0.001\n",
    "    while alpha < 1:\n",
    "        yield alpha\n",
    "        alpha *= 2\n",
    "\n",
    "\n",
    "best_param, params, accuracies = optimize_hyperparameters(get_model, iterate_hyperparameters(), train, test, val,\n",
    "                                                          classification=True)\n",
    "plot_2d(params, accuracies, 'alpha', 'mse')\n",
    "regressor = ScratchLinearRegression(regularization='l2', alpha=best_param,classification=True)\n",
    "\n",
    "accuracy_LC_L2_my=test_model(regressor, train, test, classification=True)"
   ],
   "metadata": {
    "collapsed": false,
    "ExecuteTime": {
     "end_time": "2023-05-04T17:10:06.460308277Z",
     "start_time": "2023-05-04T17:09:44.984049746Z"
    }
   }
  },
  {
   "cell_type": "code",
   "execution_count": null,
   "outputs": [],
   "source": [
    "#Elastic net regularization\n",
    "\n",
    "def get_model(param):\n",
    "    return ScratchLinearRegression(regularization='elasticnet', alpha=param)\n",
    "\n",
    "\n",
    "def iterate_hyperparameters():\n",
    "    # for alpha in range(1,1000,100): #giuliu dice esponenziale tra 0 e 1\n",
    "    #     yield alpha\n",
    "\n",
    "    l1 = 1\n",
    "    while l1 < 200:\n",
    "        l2 = 0.001\n",
    "        while l2 < 0.5:\n",
    "            yield l1 / (l1 + l2)\n",
    "            l2 *= 2\n",
    "        l1 *= 2\n",
    "\n",
    "\n",
    "best_param, params, accuracies = optimize_hyperparameters(get_model, iterate_hyperparameters(), train, test, val,\n",
    "                                                          classification=False)\n",
    "plot_2d(params, accuracies, 'alpha', 'mse')\n",
    "regressor = ScratchLinearRegression(regularization='elasticnet', alpha=best_param)\n",
    "\n",
    "test_model(regressor, train, test, classification=False)"
   ],
   "metadata": {
    "collapsed": false
   }
  },
  {
   "cell_type": "code",
   "execution_count": 38,
   "outputs": [
    {
     "name": "stdout",
     "output_type": "stream",
     "text": [
      "Trying hyperparameters: 0.91\n",
      "Time taken to train the model:  2.7852590084075928\n",
      "Binary cross entropy: 15.939216105387608\n",
      "Predicted mean: 0.5673971306952547 Actual mean: 0.527825949865994\n",
      "Accuracy: 0.557780230174996\n",
      "Value: 0.557780230174996\n",
      "Trying hyperparameters: 0.92\n",
      "Time taken to train the model:  1.9711158275604248\n",
      "Binary cross entropy: 14.944790858170915\n",
      "Predicted mean: 0.5930947501182405 Actual mean: 0.527825949865994\n",
      "Accuracy: 0.5853696988806558\n",
      "Value: 0.5853696988806558\n",
      "Trying hyperparameters: 0.93\n",
      "Time taken to train the model:  1.7620997428894043\n",
      "Binary cross entropy: 15.85397965562618\n",
      "Predicted mean: 0.5653476273056913 Actual mean: 0.527825949865994\n",
      "Accuracy: 0.5601450417783383\n",
      "Value: 0.5601450417783383\n",
      "Trying hyperparameters: 0.9400000000000001\n",
      "Time taken to train the model:  2.1351194381713867\n",
      "Binary cross entropy: 15.4562095567395\n",
      "Predicted mean: 0.5770140312155132 Actual mean: 0.527825949865994\n",
      "Accuracy: 0.5711808292606022\n",
      "Value: 0.5711808292606022\n",
      "Trying hyperparameters: 0.9500000000000001\n",
      "Time taken to train the model:  2.2331442832946777\n",
      "Binary cross entropy: 15.495986566628167\n",
      "Predicted mean: 0.5724420621157181 Actual mean: 0.527825949865994\n",
      "Accuracy: 0.5700772505123759\n",
      "Value: 0.5700772505123759\n",
      "Trying hyperparameters: 0.96\n",
      "Time taken to train the model:  2.2834372520446777\n",
      "Binary cross entropy: 16.149466014799142\n",
      "Predicted mean: 0.5552577644647643 Actual mean: 0.527825949865994\n",
      "Accuracy: 0.5519470282200851\n",
      "Value: 0.5519470282200851\n",
      "Trying hyperparameters: 0.97\n",
      "Time taken to train the model:  1.9562475681304932\n",
      "Binary cross entropy: 16.410857794067528\n",
      "Predicted mean: 0.5729150244363865 Actual mean: 0.527825949865994\n",
      "Accuracy: 0.5446949393031688\n",
      "Value: 0.5446949393031688\n",
      "Trying hyperparameters: 0.98\n",
      "Time taken to train the model:  3.3957278728485107\n",
      "Binary cross entropy: 16.439269943988005\n",
      "Predicted mean: 0.5721267539019391 Actual mean: 0.527825949865994\n",
      "Accuracy: 0.5439066687687214\n",
      "Value: 0.5439066687687214\n",
      "Trying hyperparameters: 0.99\n",
      "Time taken to train the model:  1.753831148147583\n",
      "Binary cross entropy: 16.49609424382896\n",
      "Predicted mean: 0.573387986757055 Actual mean: 0.527825949865994\n",
      "Accuracy: 0.5423301276998266\n",
      "Value: 0.5423301276998266\n",
      "Best hyperparameters: 0.92\n",
      "Best value: 0.5853696988806558\n"
     ]
    },
    {
     "data": {
      "text/plain": "<Figure size 640x480 with 1 Axes>",
      "image/png": "[encoded data removed]"
     },
     "metadata": {},
     "output_type": "display_data"
    },
    {
     "ename": "TypeError",
     "evalue": "unsupported operand type(s) for -: 'int' and 'list'",
     "output_type": "error",
     "traceback": [
      "\u001B[0;31m---------------------------------------------------------------------------\u001B[0m",
      "\u001B[0;31mTypeError\u001B[0m                                 Traceback (most recent call last)",
      "Cell \u001B[0;32mIn[38], line 20\u001B[0m\n\u001B[1;32m     17\u001B[0m plot_2d(params, accuracies, \u001B[38;5;124m'\u001B[39m\u001B[38;5;124malpha\u001B[39m\u001B[38;5;124m'\u001B[39m, \u001B[38;5;124m'\u001B[39m\u001B[38;5;124mmse\u001B[39m\u001B[38;5;124m'\u001B[39m)\n\u001B[1;32m     18\u001B[0m regressor \u001B[38;5;241m=\u001B[39m ScratchLinearRegression(regularization\u001B[38;5;241m=\u001B[39m\u001B[38;5;124m'\u001B[39m\u001B[38;5;124melasticnet\u001B[39m\u001B[38;5;124m'\u001B[39m, alpha\u001B[38;5;241m=\u001B[39mparams,classification\u001B[38;5;241m=\u001B[39m\u001B[38;5;28;01mTrue\u001B[39;00m)\n\u001B[0;32m---> 20\u001B[0m \u001B[43mtest_model\u001B[49m\u001B[43m(\u001B[49m\u001B[43mregressor\u001B[49m\u001B[43m,\u001B[49m\u001B[43m \u001B[49m\u001B[43mtrain\u001B[49m\u001B[43m,\u001B[49m\u001B[43m \u001B[49m\u001B[43mtest\u001B[49m\u001B[43m,\u001B[49m\u001B[43m \u001B[49m\u001B[43mclassification\u001B[49m\u001B[38;5;241;43m=\u001B[39;49m\u001B[38;5;28;43;01mTrue\u001B[39;49;00m\u001B[43m)\u001B[49m\n",
      "File \u001B[0;32m/media/vmcvastry/DATA/CODE/UNI/FAI/utils.py:82\u001B[0m, in \u001B[0;36mtest_model\u001B[0;34m(model, train, test, classification)\u001B[0m\n\u001B[1;32m     81\u001B[0m \u001B[38;5;28;01mdef\u001B[39;00m \u001B[38;5;21mtest_model\u001B[39m(model, train: Samples, test: Samples, classification):\n\u001B[0;32m---> 82\u001B[0m     model \u001B[38;5;241m=\u001B[39m \u001B[43mtrain_model\u001B[49m\u001B[43m(\u001B[49m\u001B[43mmodel\u001B[49m\u001B[43m,\u001B[49m\u001B[43m \u001B[49m\u001B[43mtrain\u001B[49m\u001B[43m)\u001B[49m\n\u001B[1;32m     83\u001B[0m     pred \u001B[38;5;241m=\u001B[39m model\u001B[38;5;241m.\u001B[39mpredict(test\u001B[38;5;241m.\u001B[39mdata)\n\u001B[1;32m     84\u001B[0m     \u001B[38;5;28;01mif\u001B[39;00m classification:\n",
      "File \u001B[0;32m/media/vmcvastry/DATA/CODE/UNI/FAI/utils.py:76\u001B[0m, in \u001B[0;36mtrain_model\u001B[0;34m(model, train)\u001B[0m\n\u001B[1;32m     74\u001B[0m \u001B[38;5;28;01mdef\u001B[39;00m \u001B[38;5;21mtrain_model\u001B[39m(model, train: Samples):\n\u001B[1;32m     75\u001B[0m     time_start \u001B[38;5;241m=\u001B[39m time\u001B[38;5;241m.\u001B[39mtime()\n\u001B[0;32m---> 76\u001B[0m     \u001B[43mmodel\u001B[49m\u001B[38;5;241;43m.\u001B[39;49m\u001B[43mfit\u001B[49m\u001B[43m(\u001B[49m\u001B[43mtrain\u001B[49m\u001B[38;5;241;43m.\u001B[39;49m\u001B[43mdata\u001B[49m\u001B[43m,\u001B[49m\u001B[43m \u001B[49m\u001B[43mtrain\u001B[49m\u001B[38;5;241;43m.\u001B[39;49m\u001B[43mlabel\u001B[49m\u001B[43m)\u001B[49m\n\u001B[1;32m     77\u001B[0m     \u001B[38;5;28mprint\u001B[39m(\u001B[38;5;124m\"\u001B[39m\u001B[38;5;124mTime taken to train the model: \u001B[39m\u001B[38;5;124m\"\u001B[39m, time\u001B[38;5;241m.\u001B[39mtime() \u001B[38;5;241m-\u001B[39m time_start)\n\u001B[1;32m     78\u001B[0m     \u001B[38;5;28;01mreturn\u001B[39;00m model\n",
      "Cell \u001B[0;32mIn[25], line 42\u001B[0m, in \u001B[0;36mScratchLinearRegression.fit\u001B[0;34m(self, X, y)\u001B[0m\n\u001B[1;32m     39\u001B[0m     db \u001B[38;5;241m=\u001B[39m (\u001B[38;5;241m1\u001B[39m \u001B[38;5;241m/\u001B[39m n_samples) \u001B[38;5;241m*\u001B[39m np\u001B[38;5;241m.\u001B[39msum(y_pred \u001B[38;5;241m-\u001B[39m y) \u001B[38;5;241m+\u001B[39m \u001B[38;5;241m2\u001B[39m \u001B[38;5;241m*\u001B[39m \u001B[38;5;28mself\u001B[39m\u001B[38;5;241m.\u001B[39mbias \u001B[38;5;241m*\u001B[39m \u001B[38;5;28mself\u001B[39m\u001B[38;5;241m.\u001B[39mregularization_param\n\u001B[1;32m     40\u001B[0m \u001B[38;5;28;01melif\u001B[39;00m \u001B[38;5;28mself\u001B[39m\u001B[38;5;241m.\u001B[39mregularization \u001B[38;5;241m==\u001B[39m \u001B[38;5;124m'\u001B[39m\u001B[38;5;124melasticnet\u001B[39m\u001B[38;5;124m'\u001B[39m:\n\u001B[1;32m     41\u001B[0m     dw \u001B[38;5;241m=\u001B[39m ((\u001B[38;5;241m1\u001B[39m \u001B[38;5;241m/\u001B[39m n_samples) \u001B[38;5;241m*\u001B[39m np\u001B[38;5;241m.\u001B[39mdot(X\u001B[38;5;241m.\u001B[39mT, (y_pred \u001B[38;5;241m-\u001B[39m y))\n\u001B[0;32m---> 42\u001B[0m           \u001B[38;5;241m+\u001B[39m \u001B[38;5;241m2\u001B[39m \u001B[38;5;241m*\u001B[39m \u001B[38;5;28mself\u001B[39m\u001B[38;5;241m.\u001B[39mweights \u001B[38;5;241m*\u001B[39m (\u001B[38;5;241;43m1\u001B[39;49m\u001B[43m \u001B[49m\u001B[38;5;241;43m-\u001B[39;49m\u001B[43m \u001B[49m\u001B[38;5;28;43mself\u001B[39;49m\u001B[38;5;241;43m.\u001B[39;49m\u001B[43mregularization_param\u001B[49m)\n\u001B[1;32m     43\u001B[0m           \u001B[38;5;241m+\u001B[39m np\u001B[38;5;241m.\u001B[39msign(\u001B[38;5;28mself\u001B[39m\u001B[38;5;241m.\u001B[39mweights) \u001B[38;5;241m*\u001B[39m \u001B[38;5;28mself\u001B[39m\u001B[38;5;241m.\u001B[39mregularization_param)\n\u001B[1;32m     44\u001B[0m     db \u001B[38;5;241m=\u001B[39m ((\u001B[38;5;241m1\u001B[39m \u001B[38;5;241m/\u001B[39m n_samples) \u001B[38;5;241m*\u001B[39m np\u001B[38;5;241m.\u001B[39msum(y_pred \u001B[38;5;241m-\u001B[39m y)\n\u001B[1;32m     45\u001B[0m           \u001B[38;5;241m+\u001B[39m \u001B[38;5;241m2\u001B[39m \u001B[38;5;241m*\u001B[39m \u001B[38;5;28mself\u001B[39m\u001B[38;5;241m.\u001B[39mbias \u001B[38;5;241m*\u001B[39m (\u001B[38;5;241m1\u001B[39m \u001B[38;5;241m-\u001B[39m \u001B[38;5;28mself\u001B[39m\u001B[38;5;241m.\u001B[39mregularization_param)\n\u001B[1;32m     46\u001B[0m           \u001B[38;5;241m+\u001B[39m np\u001B[38;5;241m.\u001B[39msign(\u001B[38;5;28mself\u001B[39m\u001B[38;5;241m.\u001B[39mbias) \u001B[38;5;241m*\u001B[39m \u001B[38;5;28mself\u001B[39m\u001B[38;5;241m.\u001B[39mregularization_param)\n\u001B[1;32m     47\u001B[0m \u001B[38;5;28;01melif\u001B[39;00m \u001B[38;5;28mself\u001B[39m\u001B[38;5;241m.\u001B[39mregularization \u001B[38;5;241m==\u001B[39m \u001B[38;5;124m'\u001B[39m\u001B[38;5;124melasticnetV2\u001B[39m\u001B[38;5;124m'\u001B[39m:\n",
      "\u001B[0;31mTypeError\u001B[0m: unsupported operand type(s) for -: 'int' and 'list'"
     ]
    }
   ],
   "source": [
    "#Elastic net regularization\n",
    "\n",
    "def get_model(param):\n",
    "    return ScratchLinearRegression(regularization='elasticnet', alpha=param,classification=True)\n",
    "\n",
    "\n",
    "def iterate_hyperparameters():\n",
    "    # for alpha in range(1,1000,100): #giuliu dice esponenziale tra 0 e 1\n",
    "    #     yield alpha\n",
    "\n",
    "    for a in range(1, 10):\n",
    "        yield 0.9 + a / 100\n",
    "\n",
    "\n",
    "best_param, params, accuracies = optimize_hyperparameters(get_model, iterate_hyperparameters(), train, test, val,\n",
    "                                                          classification=True)\n",
    "plot_2d(params, accuracies, 'alpha', 'mse')\n",
    "regressor = ScratchLinearRegression(regularization='elasticnet', alpha=params,classification=True)\n",
    "\n",
    "test_model(regressor, train, test, classification=True)"
   ],
   "metadata": {
    "collapsed": false,
    "ExecuteTime": {
     "end_time": "2023-05-04T17:10:52.161942555Z",
     "start_time": "2023-05-04T17:10:31.523330709Z"
    }
   }
  },
  {
   "cell_type": "code",
   "execution_count": 39,
   "outputs": [
    {
     "name": "stdout",
     "output_type": "stream",
     "text": [
      "Trying hyperparameters: (0.01, 0.5)\n",
      "Time taken to train the model:  2.0727579593658447\n",
      "Binary cross entropy: 14.899331418298152\n",
      "Predicted mean: 0.5489516001891849 Actual mean: 0.527825949865994\n",
      "Accuracy: 0.5866309317357717\n",
      "Value: 0.5866309317357717\n",
      "Trying hyperparameters: (0.01, 0.6)\n",
      "Time taken to train the model:  1.5396637916564941\n",
      "Binary cross entropy: 14.916378708250436\n",
      "Predicted mean: 0.5453255557307268 Actual mean: 0.527825949865994\n",
      "Accuracy: 0.5861579694151032\n",
      "Value: 0.5861579694151032\n",
      "Trying hyperparameters: (0.01, 0.7)\n",
      "Time taken to train the model:  2.1990439891815186\n",
      "Binary cross entropy: 14.950473288155008\n",
      "Predicted mean: 0.5456408639445057 Actual mean: 0.527825949865994\n",
      "Accuracy: 0.5852120447737663\n",
      "Value: 0.5852120447737663\n",
      "Trying hyperparameters: (0.01, 0.8)\n",
      "Time taken to train the model:  2.2234437465667725\n",
      "Binary cross entropy: 15.018662447964154\n",
      "Predicted mean: 0.5472174050134005 Actual mean: 0.527825949865994\n",
      "Accuracy: 0.5833201954910926\n",
      "Value: 0.5833201954910926\n",
      "Trying hyperparameters: (0.01, 0.9)\n",
      "Time taken to train the model:  2.0742979049682617\n",
      "Binary cross entropy: 15.03570973791644\n",
      "Predicted mean: 0.5464291344789531 Actual mean: 0.527825949865994\n",
      "Accuracy: 0.5828472331704241\n",
      "Value: 0.5828472331704241\n",
      "Trying hyperparameters: (0.02, 0.5)\n",
      "Time taken to train the model:  1.6699306964874268\n",
      "Binary cross entropy: 15.05843945785282\n",
      "Predicted mean: 0.548636291975406 Actual mean: 0.527825949865994\n",
      "Accuracy: 0.5822166167428662\n",
      "Value: 0.5822166167428662\n",
      "Trying hyperparameters: (0.02, 0.6)\n",
      "Time taken to train the model:  1.6500518321990967\n",
      "Binary cross entropy: 15.137993477630157\n",
      "Predicted mean: 0.54737505912029 Actual mean: 0.527825949865994\n",
      "Accuracy: 0.5800094592464133\n",
      "Value: 0.5800094592464133\n",
      "Trying hyperparameters: (0.02, 0.7)\n",
      "Time taken to train the model:  1.4929070472717285\n",
      "Binary cross entropy: 15.149358337598347\n",
      "Predicted mean: 0.5432760523411635 Actual mean: 0.527825949865994\n",
      "Accuracy: 0.5796941510326344\n",
      "Value: 0.5796941510326344\n",
      "Trying hyperparameters: (0.02, 0.8)\n",
      "Time taken to train the model:  1.572143316268921\n",
      "Binary cross entropy: 15.240277217343873\n",
      "Predicted mean: 0.5410688948447107 Actual mean: 0.527825949865994\n",
      "Accuracy: 0.5771716853224026\n",
      "Value: 0.5771716853224026\n",
      "Trying hyperparameters: (0.02, 0.9)\n",
      "Time taken to train the model:  2.015099048614502\n",
      "Binary cross entropy: 15.166405627550635\n",
      "Predicted mean: 0.5412265489516002 Actual mean: 0.527825949865994\n",
      "Accuracy: 0.5792211887119659\n",
      "Value: 0.5792211887119659\n",
      "Trying hyperparameters: (0.04, 0.5)\n",
      "Time taken to train the model:  2.0601425170898438\n",
      "Binary cross entropy: 15.177770487518826\n",
      "Predicted mean: 0.5421724735929371 Actual mean: 0.527825949865994\n",
      "Accuracy: 0.578905880498187\n",
      "Value: 0.578905880498187\n",
      "Trying hyperparameters: (0.04, 0.6)\n",
      "Time taken to train the model:  1.6822843551635742\n",
      "Binary cross entropy: 15.314148807137117\n",
      "Predicted mean: 0.5415418571653792 Actual mean: 0.527825949865994\n",
      "Accuracy: 0.5751221819328394\n",
      "Value: 0.5751221819328394\n",
      "Trying hyperparameters: (0.04, 0.7)\n",
      "Time taken to train the model:  1.5556221008300781\n",
      "Binary cross entropy: 15.353925817025784\n",
      "Predicted mean: 0.5369698880655841 Actual mean: 0.527825949865994\n",
      "Accuracy: 0.574018603184613\n",
      "Value: 0.574018603184613\n",
      "Trying hyperparameters: (0.04, 0.8)\n",
      "Time taken to train the model:  1.6350452899932861\n",
      "Binary cross entropy: 15.97331068529218\n",
      "Predicted mean: 0.5424877818067161 Actual mean: 0.527825949865994\n",
      "Accuracy: 0.5568343055336592\n",
      "Value: 0.5568343055336592\n",
      "Trying hyperparameters: (0.04, 0.9)\n",
      "Time taken to train the model:  2.301348924636841\n",
      "Binary cross entropy: 15.456209556739502\n",
      "Predicted mean: 0.5353933469966893 Actual mean: 0.527825949865994\n",
      "Accuracy: 0.5711808292606022\n",
      "Value: 0.5711808292606022\n",
      "Trying hyperparameters: (0.08, 0.5)\n",
      "Time taken to train the model:  2.7193992137908936\n",
      "Binary cross entropy: 15.166405627550635\n",
      "Predicted mean: 0.5201008986284092 Actual mean: 0.527825949865994\n",
      "Accuracy: 0.5792211887119659\n",
      "Value: 0.5792211887119659\n",
      "Trying hyperparameters: (0.08, 0.6)\n",
      "Time taken to train the model:  1.9650425910949707\n",
      "Binary cross entropy: 15.25732450729616\n",
      "Predicted mean: 0.5260917546902096 Actual mean: 0.527825949865994\n",
      "Accuracy: 0.5766987230017342\n",
      "Value: 0.5766987230017342\n",
      "Trying hyperparameters: (0.08, 0.7)\n",
      "Time taken to train the model:  1.737682580947876\n",
      "Binary cross entropy: 17.39391818131603\n",
      "Predicted mean: 0.5796941510326344 Actual mean: 0.527825949865994\n",
      "Accuracy: 0.517420778811288\n",
      "Value: 0.517420778811288\n",
      "Trying hyperparameters: (0.08, 0.8)\n",
      "Time taken to train the model:  1.745204210281372\n",
      "Binary cross entropy: 15.92785124541942\n",
      "Predicted mean: 0.5800094592464133 Actual mean: 0.527825949865994\n",
      "Accuracy: 0.558095538388775\n",
      "Value: 0.558095538388775\n",
      "Trying hyperparameters: (0.08, 0.9)\n",
      "Time taken to train the model:  1.8390772342681885\n",
      "Binary cross entropy: 16.51882396376534\n",
      "Predicted mean: 0.46649850228598455 Actual mean: 0.527825949865994\n",
      "Accuracy: 0.5416995112722687\n",
      "Value: 0.5416995112722687\n",
      "Trying hyperparameters: (0.16, 0.5)\n",
      "Time taken to train the model:  1.7118029594421387\n",
      "Binary cross entropy: 17.609850520711657\n",
      "Predicted mean: 0.4847863786851648 Actual mean: 0.527825949865994\n",
      "Accuracy: 0.5114299227494876\n",
      "Value: 0.5114299227494876\n",
      "Trying hyperparameters: (0.16, 0.6)\n",
      "Time taken to train the model:  1.977259874343872\n",
      "Binary cross entropy: 16.87681705276335\n",
      "Predicted mean: 0.5357086552104683 Actual mean: 0.527825949865994\n",
      "Accuracy: 0.5317673025382311\n",
      "Value: 0.5317673025382311\n",
      "Trying hyperparameters: (0.16, 0.7)\n",
      "Time taken to train the model:  1.6888813972473145\n",
      "Binary cross entropy: 16.60406041352677\n",
      "Predicted mean: 0.5571496137474381 Actual mean: 0.527825949865994\n",
      "Accuracy: 0.5393346996689263\n",
      "Value: 0.5393346996689263\n",
      "Trying hyperparameters: (0.16, 0.8)\n",
      "Time taken to train the model:  2.2408978939056396\n",
      "Binary cross entropy: 16.774533313049634\n",
      "Predicted mean: 0.5249881759419833 Actual mean: 0.527825949865994\n",
      "Accuracy: 0.5346050764622419\n",
      "Value: 0.5346050764622419\n",
      "Trying hyperparameters: (0.16, 0.9)\n",
      "Time taken to train the model:  2.08807635307312\n",
      "Binary cross entropy: 17.19503313187269\n",
      "Predicted mean: 0.5041778338325713 Actual mean: 0.527825949865994\n",
      "Accuracy: 0.52293867255242\n",
      "Value: 0.52293867255242\n",
      "Trying hyperparameters: (0.32, 0.5)\n",
      "Time taken to train the model:  2.3453798294067383\n",
      "Binary cross entropy: 17.3086817315546\n",
      "Predicted mean: 0.5618792369541227 Actual mean: 0.527825949865994\n",
      "Accuracy: 0.5197855904146303\n",
      "Value: 0.5197855904146303\n",
      "Trying hyperparameters: (0.32, 0.6)\n",
      "Time taken to train the model:  2.0130202770233154\n",
      "Binary cross entropy: 16.609742843510865\n",
      "Predicted mean: 0.532713227179568 Actual mean: 0.527825949865994\n",
      "Accuracy: 0.5391770455620369\n",
      "Value: 0.5391770455620369\n",
      "Trying hyperparameters: (0.32, 0.7)\n",
      "Time taken to train the model:  2.1115901470184326\n",
      "Binary cross entropy: 18.11558678929615\n",
      "Predicted mean: 0.43985495822166165 Actual mean: 0.527825949865994\n",
      "Accuracy: 0.4973987072363235\n",
      "Value: 0.4973987072363235\n",
      "Trying hyperparameters: (0.32, 0.8)\n",
      "Time taken to train the model:  2.1080074310302734\n",
      "Binary cross entropy: 15.689189186087411\n",
      "Predicted mean: 0.3974460034683904 Actual mean: 0.527825949865994\n",
      "Accuracy: 0.5647170108781334\n",
      "Value: 0.5647170108781334\n",
      "Trying hyperparameters: (0.32, 0.9)\n",
      "Time taken to train the model:  1.5202763080596924\n",
      "Binary cross entropy: 17.212080421824975\n",
      "Predicted mean: 0.4078511745230963 Actual mean: 0.527825949865994\n",
      "Accuracy: 0.5224657102317516\n",
      "Value: 0.5224657102317516\n",
      "Trying hyperparameters: (0.64, 0.5)\n",
      "Time taken to train the model:  1.4735174179077148\n",
      "Binary cross entropy: 16.229020034576475\n",
      "Predicted mean: 0.5404382784171528 Actual mean: 0.527825949865994\n",
      "Accuracy: 0.5497398707236324\n",
      "Value: 0.5497398707236324\n",
      "Trying hyperparameters: (0.64, 0.6)\n",
      "Time taken to train the model:  2.6638295650482178\n",
      "Binary cross entropy: 17.42233033123651\n",
      "Predicted mean: 0.4480529717799149 Actual mean: 0.527825949865994\n",
      "Accuracy: 0.5166325082768406\n",
      "Value: 0.5166325082768406\n",
      "Trying hyperparameters: (0.64, 0.7)\n",
      "Time taken to train the model:  1.5746791362762451\n",
      "Binary cross entropy: 16.274479474449237\n",
      "Predicted mean: 0.43071102002207157 Actual mean: 0.527825949865994\n",
      "Accuracy: 0.5484786378685165\n",
      "Value: 0.5484786378685165\n",
      "Trying hyperparameters: (0.64, 0.8)\n",
      "Time taken to train the model:  2.0735604763031006\n",
      "Binary cross entropy: 16.257432184496952\n",
      "Predicted mean: 0.42897682484628724 Actual mean: 0.527825949865994\n",
      "Accuracy: 0.5489516001891849\n",
      "Value: 0.5489516001891849\n",
      "Trying hyperparameters: (0.64, 0.9)\n",
      "Time taken to train the model:  3.016420602798462\n",
      "Binary cross entropy: 16.547236113685816\n",
      "Predicted mean: 0.5514740658994167 Actual mean: 0.527825949865994\n",
      "Accuracy: 0.5409112407378213\n",
      "Value: 0.5409112407378213\n",
      "Trying hyperparameters: (1.28, 0.5)\n",
      "Time taken to train the model:  1.798194408416748\n",
      "Binary cross entropy: 16.354033494226574\n",
      "Predicted mean: 0.5404382784171528 Actual mean: 0.527825949865994\n",
      "Accuracy: 0.5462714803720637\n",
      "Value: 0.5462714803720637\n",
      "Trying hyperparameters: (1.28, 0.6)\n",
      "Time taken to train the model:  1.755126953125\n",
      "Binary cross entropy: 16.05854713505361\n",
      "Predicted mean: 0.5404382784171528 Actual mean: 0.527825949865994\n",
      "Accuracy: 0.5544694939303169\n",
      "Value: 0.5544694939303169\n",
      "Trying hyperparameters: (1.28, 0.7)\n",
      "Time taken to train the model:  1.7363615036010742\n",
      "Binary cross entropy: 16.598377983542676\n",
      "Predicted mean: 0.5601450417783383 Actual mean: 0.527825949865994\n",
      "Accuracy: 0.5394923537758158\n",
      "Value: 0.5394923537758158\n",
      "Trying hyperparameters: (1.28, 0.8)\n",
      "Time taken to train the model:  1.481205701828003\n",
      "Binary cross entropy: 16.49609424382896\n",
      "Predicted mean: 0.5667665142676966 Actual mean: 0.527825949865994\n",
      "Accuracy: 0.5423301276998266\n",
      "Value: 0.5423301276998266\n",
      "Trying hyperparameters: (1.28, 0.9)\n",
      "Time taken to train the model:  2.4217703342437744\n",
      "Binary cross entropy: 16.342668634258384\n",
      "Predicted mean: 0.5628251615954596 Actual mean: 0.527825949865994\n",
      "Accuracy: 0.5465867885858426\n",
      "Value: 0.5465867885858426\n",
      "Trying hyperparameters: (2.56, 0.5)\n",
      "Time taken to train the model:  2.8781960010528564\n",
      "Binary cross entropy: 17.23481014176136\n",
      "Predicted mean: 0.5998738767144884 Actual mean: 0.527825949865994\n",
      "Accuracy: 0.5218350938041936\n",
      "Value: 0.5218350938041936\n",
      "Trying hyperparameters: (2.56, 0.6)\n",
      "Time taken to train the model:  2.670963764190674\n",
      "Binary cross entropy: 17.115479112095358\n",
      "Predicted mean: 0.6050764622418414 Actual mean: 0.527825949865994\n",
      "Accuracy: 0.5251458300488727\n",
      "Value: 0.5251458300488727\n",
      "Trying hyperparameters: (2.56, 0.7)\n",
      "Time taken to train the model:  1.7944235801696777\n",
      "Binary cross entropy: 16.967735932508877\n",
      "Predicted mean: 0.6079142361658522 Actual mean: 0.527825949865994\n",
      "Accuracy: 0.5292448368279994\n",
      "Value: 0.5292448368279994\n",
      "Trying hyperparameters: (2.56, 0.8)\n",
      "Time taken to train the model:  1.709618330001831\n",
      "Binary cross entropy: 17.16093855196812\n",
      "Predicted mean: 0.6072836197382941 Actual mean: 0.527825949865994\n",
      "Accuracy: 0.5238845971937569\n",
      "Value: 0.5238845971937569\n",
      "Trying hyperparameters: (2.56, 0.9)\n",
      "Time taken to train the model:  1.964848518371582\n",
      "Binary cross entropy: 15.85397965562618\n",
      "Predicted mean: 0.5344474223553524 Actual mean: 0.527825949865994\n",
      "Accuracy: 0.5601450417783383\n",
      "Value: 0.5601450417783383\n",
      "Trying hyperparameters: (5.12, 0.5)\n",
      "Time taken to train the model:  2.2843985557556152\n",
      "Binary cross entropy: 21.598916369546632\n",
      "Predicted mean: 0.5796941510326344 Actual mean: 0.527825949865994\n",
      "Accuracy: 0.4007567397130695\n",
      "Value: 0.4007567397130695\n",
      "Trying hyperparameters: (5.12, 0.6)\n",
      "Time taken to train the model:  2.6235926151275635\n",
      "Binary cross entropy: 21.525044779753387\n",
      "Predicted mean: 0.5826895790635346 Actual mean: 0.527825949865994\n",
      "Accuracy: 0.4028062431026328\n",
      "Value: 0.4028062431026328\n",
      "Trying hyperparameters: (5.12, 0.7)\n",
      "Time taken to train the model:  1.630270004272461\n",
      "Binary cross entropy: 20.91134234147109\n",
      "Predicted mean: 0.5883651269115561 Actual mean: 0.527825949865994\n",
      "Accuracy: 0.41983288664669716\n",
      "Value: 0.41983288664669716\n",
      "Trying hyperparameters: (5.12, 0.8)\n",
      "Time taken to train the model:  1.6400697231292725\n",
      "Binary cross entropy: 20.166944013554588\n",
      "Predicted mean: 0.5888380892322245 Actual mean: 0.527825949865994\n",
      "Accuracy: 0.4404855746492196\n",
      "Value: 0.4404855746492196\n",
      "Trying hyperparameters: (5.12, 0.9)\n",
      "Time taken to train the model:  1.6030685901641846\n",
      "Binary cross entropy: 18.024667909550622\n",
      "Predicted mean: 0.6050764622418414 Actual mean: 0.527825949865994\n",
      "Accuracy: 0.49992117294655525\n",
      "Value: 0.49992117294655525\n",
      "Trying hyperparameters: (10.24, 0.5)\n",
      "Time taken to train the model:  1.6977055072784424\n",
      "Binary cross entropy: 22.01941618836969\n",
      "Predicted mean: 0.5576225760681066 Actual mean: 0.527825949865994\n",
      "Accuracy: 0.3890903358032477\n",
      "Value: 0.3890903358032477\n",
      "Trying hyperparameters: (10.24, 0.6)\n",
      "Time taken to train the model:  1.6391630172729492\n",
      "Binary cross entropy: 21.991004038449212\n",
      "Predicted mean: 0.5574649219612171 Actual mean: 0.527825949865994\n",
      "Accuracy: 0.3898786063376951\n",
      "Value: 0.3898786063376951\n",
      "Trying hyperparameters: (10.24, 0.7)\n",
      "Time taken to train the model:  1.6805517673492432\n",
      "Binary cross entropy: 21.951227028560545\n",
      "Predicted mean: 0.5591991171370014 Actual mean: 0.527825949865994\n",
      "Accuracy: 0.3909821850859215\n",
      "Value: 0.3909821850859215\n",
      "Trying hyperparameters: (10.24, 0.8)\n",
      "Time taken to train the model:  1.6244051456451416\n",
      "Binary cross entropy: 21.945544598576447\n",
      "Predicted mean: 0.5628251615954596 Actual mean: 0.527825949865994\n",
      "Accuracy: 0.391139839192811\n",
      "Value: 0.391139839192811\n",
      "Trying hyperparameters: (10.24, 0.9)\n",
      "Time taken to train the model:  2.0080299377441406\n",
      "Binary cross entropy: 21.752341979117208\n",
      "Predicted mean: 0.5729150244363865 Actual mean: 0.527825949865994\n",
      "Accuracy: 0.39650007882705346\n",
      "Value: 0.39650007882705346\n",
      "Trying hyperparameters: (20.48, 0.5)\n",
      "Time taken to train the model:  1.868323564529419\n",
      "Binary cross entropy: 22.178524227924363\n",
      "Predicted mean: 0.5510011035787482 Actual mean: 0.527825949865994\n",
      "Accuracy: 0.38467602081034213\n",
      "Value: 0.38467602081034213\n",
      "Trying hyperparameters: (20.48, 0.6)\n",
      "Time taken to train the model:  1.5630230903625488\n",
      "Binary cross entropy: 22.15579450798798\n",
      "Predicted mean: 0.5516317200063061 Actual mean: 0.527825949865994\n",
      "Accuracy: 0.38530663723790004\n",
      "Value: 0.38530663723790004\n",
      "Trying hyperparameters: (20.48, 0.7)\n",
      "Time taken to train the model:  2.8471784591674805\n",
      "Binary cross entropy: 22.15579450798798\n",
      "Predicted mean: 0.5519470282200851 Actual mean: 0.527825949865994\n",
      "Accuracy: 0.38530663723790004\n",
      "Value: 0.38530663723790004\n",
      "Trying hyperparameters: (20.48, 0.8)\n",
      "Time taken to train the model:  1.5210065841674805\n",
      "Binary cross entropy: 22.11601749809931\n",
      "Predicted mean: 0.5543118398234274 Actual mean: 0.527825949865994\n",
      "Accuracy: 0.38641021598612646\n",
      "Value: 0.38641021598612646\n",
      "Trying hyperparameters: (20.48, 0.9)\n",
      "Time taken to train the model:  2.0496959686279297\n",
      "Binary cross entropy: 22.059193198258356\n",
      "Predicted mean: 0.5571496137474381 Actual mean: 0.527825949865994\n",
      "Accuracy: 0.3879867570550213\n",
      "Value: 0.3879867570550213\n",
      "Trying hyperparameters: (40.96, 0.5)\n",
      "Time taken to train the model:  1.6717958450317383\n",
      "Binary cross entropy: 22.195571517876648\n",
      "Predicted mean: 0.5492669084029639 Actual mean: 0.527825949865994\n",
      "Accuracy: 0.3842030584896737\n",
      "Value: 0.3842030584896737\n",
      "Trying hyperparameters: (40.96, 0.6)\n",
      "Time taken to train the model:  2.49918794631958\n",
      "Binary cross entropy: 22.201253947860742\n",
      "Predicted mean: 0.5494245625098534 Actual mean: 0.527825949865994\n",
      "Accuracy: 0.3840454043827842\n",
      "Value: 0.3840454043827842\n",
      "Trying hyperparameters: (40.96, 0.7)\n",
      "Time taken to train the model:  5.3547728061676025\n",
      "Binary cross entropy: 22.206936377844837\n",
      "Predicted mean: 0.5495822166167429 Actual mean: 0.527825949865994\n",
      "Accuracy: 0.38388775027589467\n",
      "Value: 0.38388775027589467\n",
      "Trying hyperparameters: (40.96, 0.8)\n",
      "Time taken to train the model:  1.7496824264526367\n",
      "Binary cross entropy: 22.206936377844837\n",
      "Predicted mean: 0.5498975248305218 Actual mean: 0.527825949865994\n",
      "Accuracy: 0.38388775027589467\n",
      "Value: 0.38388775027589467\n",
      "Trying hyperparameters: (40.96, 0.9)\n",
      "Time taken to train the model:  2.256349563598633\n",
      "Binary cross entropy: 22.172841797940265\n",
      "Predicted mean: 0.5505281412580798 Actual mean: 0.527825949865994\n",
      "Accuracy: 0.3848336749172316\n",
      "Value: 0.3848336749172316\n",
      "Trying hyperparameters: (81.92, 0.5)\n",
      "Time taken to train the model:  1.7842869758605957\n",
      "Binary cross entropy: 22.206936377844837\n",
      "Predicted mean: 0.5489516001891849 Actual mean: 0.527825949865994\n",
      "Accuracy: 0.38388775027589467\n",
      "Value: 0.38388775027589467\n",
      "Trying hyperparameters: (81.92, 0.6)\n",
      "Time taken to train the model:  1.6862514019012451\n",
      "Binary cross entropy: 22.206936377844837\n",
      "Predicted mean: 0.5489516001891849 Actual mean: 0.527825949865994\n",
      "Accuracy: 0.38388775027589467\n",
      "Value: 0.38388775027589467\n",
      "Trying hyperparameters: (81.92, 0.7)\n",
      "Time taken to train the model:  1.534766435623169\n",
      "Binary cross entropy: 22.201253947860746\n",
      "Predicted mean: 0.5487939460822955 Actual mean: 0.527825949865994\n",
      "Accuracy: 0.3840454043827842\n",
      "Value: 0.3840454043827842\n",
      "Trying hyperparameters: (81.92, 0.8)\n",
      "Time taken to train the model:  1.5948781967163086\n",
      "Binary cross entropy: 22.201253947860746\n",
      "Predicted mean: 0.5491092542960744 Actual mean: 0.527825949865994\n",
      "Accuracy: 0.3840454043827842\n",
      "Value: 0.3840454043827842\n",
      "Trying hyperparameters: (81.92, 0.9)\n",
      "Time taken to train the model:  1.4683854579925537\n",
      "Binary cross entropy: 22.201253947860746\n",
      "Predicted mean: 0.5491092542960744 Actual mean: 0.527825949865994\n",
      "Accuracy: 0.3840454043827842\n",
      "Value: 0.3840454043827842\n",
      "Best hyperparameters: (0.01, 0.5)\n",
      "Best value: 0.5866309317357717\n"
     ]
    },
    {
     "data": {
      "text/plain": "<Figure size 640x480 with 1 Axes>",
      "image/png": "[encoded data removed]"
     },
     "metadata": {},
     "output_type": "display_data"
    },
    {
     "name": "stdout",
     "output_type": "stream",
     "text": [
      "Time taken to train the model:  1.6133451461791992\n",
      "Binary cross entropy: 15.387535215306034\n",
      "Predicted mean: 0.5367637785344936 Actual mean: 0.5353764661369655\n",
      "Accuracy: 0.5730861394879556\n"
     ]
    },
    {
     "data": {
      "text/plain": "0.5730861394879556"
     },
     "execution_count": 39,
     "metadata": {},
     "output_type": "execute_result"
    }
   ],
   "source": [
    "#Elastic net regularization\n",
    "\n",
    "def get_model(param):\n",
    "    a, b = param\n",
    "    return ScratchLinearRegression(regularization='elasticnetV2', alpha=a, l1_ratio=b,classification=True)\n",
    "\n",
    "\n",
    "def iterate_hyperparameters():\n",
    "    # for alpha in range(1,1000,100): #giuliu dice esponenziale tra 0 e 1\n",
    "    #     yield alpha\n",
    "\n",
    "    a = 0.01\n",
    "    while a < 100:\n",
    "        for b in range(5, 10):\n",
    "            yield a, b / 10\n",
    "        a *= 2\n",
    "\n",
    "\n",
    "best_param, params, accuracies = optimize_hyperparameters(get_model, iterate_hyperparameters(), train, test, val,\n",
    "                                                          classification=True)\n",
    "plot_2d(params, accuracies, 'alpha', 'mse')\n",
    "a, b = best_param\n",
    "regressor = ScratchLinearRegression(regularization='elasticnetV2', alpha=a, l1_ratio=b,classification=True)\n",
    "\n",
    "test_model(regressor, train, test, classification=True)"
   ],
   "metadata": {
    "collapsed": false,
    "ExecuteTime": {
     "end_time": "2023-05-04T17:14:46.091847465Z",
     "start_time": "2023-05-04T17:12:25.102006771Z"
    }
   }
  },
  {
   "cell_type": "markdown",
   "source": [
    "# Logistic Classifier"
   ],
   "metadata": {
    "collapsed": false
   }
  },
  {
   "cell_type": "code",
   "execution_count": 41,
   "outputs": [
    {
     "name": "stdout",
     "output_type": "stream",
     "text": [
      "Time taken to train the model:  1.7899055480957031\n",
      "Binary cross entropy: 12.673692224600657\n",
      "Predicted mean: 0.5593391348215412 Actual mean: 0.5353764661369655\n",
      "Accuracy: 0.6483793668810695\n"
     ]
    },
    {
     "data": {
      "text/plain": "0.6483793668810695"
     },
     "execution_count": 41,
     "metadata": {},
     "output_type": "execute_result"
    }
   ],
   "source": [
    "from sklearn.linear_model import LogisticRegression\n",
    "\n",
    "regressor = LogisticRegression(max_iter=1000, penalty=None)\n",
    "test_model(regressor, train, test, classification=True)"
   ],
   "metadata": {
    "collapsed": false,
    "ExecuteTime": {
     "end_time": "2023-05-04T17:16:21.383895451Z",
     "start_time": "2023-05-04T17:16:19.570509868Z"
    }
   }
  },
  {
   "cell_type": "code",
   "execution_count": 42,
   "outputs": [
    {
     "name": "stdout",
     "output_type": "stream",
     "text": [
      "Time taken to train the model:  0.18259286880493164\n",
      "Binary cross entropy: 12.86007005143302\n",
      "Predicted mean: 0.5589607768949426 Actual mean: 0.5353764661369655\n",
      "Accuracy: 0.6432084752175558\n"
     ]
    },
    {
     "data": {
      "text/plain": "0.6432084752175558"
     },
     "execution_count": 42,
     "metadata": {},
     "output_type": "execute_result"
    }
   ],
   "source": [
    "regressor = SGDClassifier(max_iter=1000, penalty=None, learning_rate='constant', shuffle=False, eta0=0.00001,\n",
    "                          early_stopping=False, loss='log_loss')\n",
    "test_model(regressor, train, test, classification=True)\n"
   ],
   "metadata": {
    "collapsed": false,
    "ExecuteTime": {
     "end_time": "2023-05-04T17:16:21.569229059Z",
     "start_time": "2023-05-04T17:16:21.378176262Z"
    }
   }
  },
  {
   "cell_type": "code",
   "execution_count": 40,
   "outputs": [
    {
     "name": "stdout",
     "output_type": "stream",
     "text": [
      "Trying hyperparameters: 0.0001\n",
      "Time taken to train the model:  1.8664917945861816\n",
      "Binary cross entropy: 12.654771574580469\n",
      "Predicted mean: 0.5815860003153082 Actual mean: 0.527825949865994\n",
      "Accuracy: 0.6489043039571181\n",
      "Value: 0.6489043039571181\n",
      "Trying hyperparameters: 0.0002\n",
      "Time taken to train the model:  1.8464951515197754\n",
      "Binary cross entropy: 12.632041854644086\n",
      "Predicted mean: 0.5812706921015293 Actual mean: 0.527825949865994\n",
      "Accuracy: 0.649534920384676\n",
      "Value: 0.649534920384676\n",
      "Trying hyperparameters: 0.0004\n",
      "Time taken to train the model:  2.0488290786743164\n",
      "Binary cross entropy: 12.620676994675895\n",
      "Predicted mean: 0.5812706921015293 Actual mean: 0.527825949865994\n",
      "Accuracy: 0.649850228598455\n",
      "Value: 0.649850228598455\n",
      "Trying hyperparameters: 0.0008\n",
      "Time taken to train the model:  1.7889113426208496\n",
      "Binary cross entropy: 12.632041854644084\n",
      "Predicted mean: 0.5819013085290872 Actual mean: 0.527825949865994\n",
      "Accuracy: 0.649534920384676\n",
      "Value: 0.649534920384676\n",
      "Trying hyperparameters: 0.0016\n",
      "Time taken to train the model:  1.6295440196990967\n",
      "Binary cross entropy: 12.620676994675891\n",
      "Predicted mean: 0.5828472331704241 Actual mean: 0.527825949865994\n",
      "Accuracy: 0.649850228598455\n",
      "Value: 0.649850228598455\n",
      "Trying hyperparameters: 0.0032\n",
      "Time taken to train the model:  1.6001863479614258\n",
      "Binary cross entropy: 12.563852694834939\n",
      "Predicted mean: 0.5856850070944348 Actual mean: 0.527825949865994\n",
      "Accuracy: 0.6514267696673498\n",
      "Value: 0.6514267696673498\n",
      "Trying hyperparameters: 0.0064\n",
      "Time taken to train the model:  1.6000165939331055\n",
      "Binary cross entropy: 12.546805404882651\n",
      "Predicted mean: 0.5883651269115561 Actual mean: 0.527825949865994\n",
      "Accuracy: 0.6518997319880183\n",
      "Value: 0.6518997319880183\n",
      "Trying hyperparameters: 0.0128\n",
      "Time taken to train the model:  1.5941505432128906\n",
      "Binary cross entropy: 12.643406714612276\n",
      "Predicted mean: 0.5882074728046666 Actual mean: 0.527825949865994\n",
      "Accuracy: 0.6492196121708971\n",
      "Value: 0.6492196121708971\n",
      "Trying hyperparameters: 0.0256\n",
      "Time taken to train the model:  1.7665860652923584\n",
      "Binary cross entropy: 12.853656624023806\n",
      "Predicted mean: 0.5707078669399338 Actual mean: 0.527825949865994\n",
      "Accuracy: 0.6433864102159861\n",
      "Value: 0.6433864102159861\n",
      "Trying hyperparameters: 0.0512\n",
      "Time taken to train the model:  1.6625189781188965\n",
      "Binary cross entropy: 13.558277942051635\n",
      "Predicted mean: 0.558410846602554 Actual mean: 0.527825949865994\n",
      "Accuracy: 0.6238373009616901\n",
      "Value: 0.6238373009616901\n",
      "Trying hyperparameters: 0.1024\n",
      "Time taken to train the model:  1.63175368309021\n",
      "Binary cross entropy: 14.768635528663955\n",
      "Predicted mean: 0.5443796310893899 Actual mean: 0.527825949865994\n",
      "Accuracy: 0.5902569761942299\n",
      "Value: 0.5902569761942299\n",
      "Trying hyperparameters: 0.2048\n",
      "Time taken to train the model:  1.664503574371338\n",
      "Binary cross entropy: 16.251749754512854\n",
      "Predicted mean: 0.5558883808923223 Actual mean: 0.527825949865994\n",
      "Accuracy: 0.5491092542960744\n",
      "Value: 0.5491092542960744\n",
      "Trying hyperparameters: 0.4096\n",
      "Time taken to train the model:  1.565551996231079\n",
      "Binary cross entropy: 17.89397201991643\n",
      "Predicted mean: 0.6005044931420463 Actual mean: 0.527825949865994\n",
      "Accuracy: 0.5035472174050134\n",
      "Value: 0.5035472174050134\n",
      "Trying hyperparameters: 0.8192\n",
      "Time taken to train the model:  2.2927117347717285\n",
      "Binary cross entropy: 18.678147357721592\n",
      "Predicted mean: 0.5979820274318146 Actual mean: 0.527825949865994\n",
      "Accuracy: 0.4817909506542645\n",
      "Value: 0.4817909506542645\n",
      "Trying hyperparameters: 1.6384\n",
      "Time taken to train the model:  2.3438360691070557\n",
      "Binary cross entropy: 19.104329606528747\n",
      "Predicted mean: 0.4962951284880971 Actual mean: 0.527825949865994\n",
      "Accuracy: 0.4699668926375532\n",
      "Value: 0.4699668926375532\n",
      "Trying hyperparameters: 3.2768\n",
      "Time taken to train the model:  2.2547037601470947\n",
      "Binary cross entropy: 18.08717463937567\n",
      "Predicted mean: 0.39618477061327445 Actual mean: 0.527825949865994\n",
      "Accuracy: 0.4981869777707709\n",
      "Value: 0.4981869777707709\n",
      "Trying hyperparameters: 6.5536\n",
      "Time taken to train the model:  1.5448973178863525\n",
      "Binary cross entropy: 17.41096547126832\n",
      "Predicted mean: 0.5410688948447107 Actual mean: 0.527825949865994\n",
      "Accuracy: 0.5169478164906196\n",
      "Value: 0.5169478164906196\n",
      "Best hyperparameters: 0.0064\n",
      "Best value: 0.6518997319880183\n"
     ]
    },
    {
     "data": {
      "text/plain": "<Figure size 640x480 with 1 Axes>",
      "image/png": "[encoded data removed]"
     },
     "metadata": {},
     "output_type": "display_data"
    },
    {
     "name": "stdout",
     "output_type": "stream",
     "text": [
      "Time taken to train the model:  1.8615195751190186\n",
      "Binary cross entropy: 12.773699838998509\n",
      "Predicted mean: 0.573968974650019 Actual mean: 0.5353764661369655\n",
      "Accuracy: 0.6456047420860134\n"
     ]
    },
    {
     "data": {
      "text/plain": "0.6456047420860134"
     },
     "execution_count": 40,
     "metadata": {},
     "output_type": "execute_result"
    }
   ],
   "source": [
    "#L1 regularization\n",
    "\n",
    "def get_model(param):\n",
    "    return ScratchLinearRegression(regularization='l1', alpha=param,classification=True,logistic=True)\n",
    "\n",
    "\n",
    "def iterate_hyperparameters():\n",
    "    #NOTE much lower allpha than in regression\n",
    "    alpha = 0.0001\n",
    "    while alpha < 10:\n",
    "        yield alpha\n",
    "        alpha *= 2\n",
    "\n",
    "\n",
    "best_param, params, accuracies = optimize_hyperparameters(get_model, iterate_hyperparameters(), train, test, val,\n",
    "                                                          classification=True)\n",
    "plot_2d(params, accuracies, 'alpha', 'mse')\n",
    "regressor = ScratchLinearRegression(regularization='l1', alpha=best_param,classification=True,logistic=True)\n",
    "\n",
    "test_model(regressor, train, test, classification=True)"
   ],
   "metadata": {
    "collapsed": false,
    "ExecuteTime": {
     "end_time": "2023-05-04T17:15:27.408675238Z",
     "start_time": "2023-05-04T17:14:54.484608409Z"
    }
   }
  },
  {
   "cell_type": "code",
   "execution_count": 43,
   "outputs": [
    {
     "name": "stdout",
     "output_type": "stream",
     "text": [
      "Trying hyperparameters: 0.001\n",
      "Time taken to train the model:  2.3747479915618896\n",
      "Binary cross entropy: 12.666136434548655\n",
      "Predicted mean: 0.5806400756739714 Actual mean: 0.527825949865994\n",
      "Accuracy: 0.6485889957433392\n",
      "Value: 0.6485889957433392\n",
      "Trying hyperparameters: 0.002\n",
      "Time taken to train the model:  1.9306294918060303\n",
      "Binary cross entropy: 12.654771574580467\n",
      "Predicted mean: 0.5806400756739714 Actual mean: 0.527825949865994\n",
      "Accuracy: 0.6489043039571181\n",
      "Value: 0.6489043039571181\n",
      "Trying hyperparameters: 0.004\n",
      "Time taken to train the model:  2.056212902069092\n",
      "Binary cross entropy: 12.654771574580467\n",
      "Predicted mean: 0.5800094592464133 Actual mean: 0.527825949865994\n",
      "Accuracy: 0.6489043039571181\n",
      "Value: 0.6489043039571181\n",
      "Trying hyperparameters: 0.008\n",
      "Time taken to train the model:  2.138327121734619\n",
      "Binary cross entropy: 12.62635942465999\n",
      "Predicted mean: 0.5798518051395238 Actual mean: 0.527825949865994\n",
      "Accuracy: 0.6496925744915655\n",
      "Value: 0.6496925744915655\n",
      "Trying hyperparameters: 0.016\n",
      "Time taken to train the model:  2.0949840545654297\n",
      "Binary cross entropy: 12.626359424659988\n",
      "Predicted mean: 0.5795364969257449 Actual mean: 0.527825949865994\n",
      "Accuracy: 0.6496925744915655\n",
      "Value: 0.6496925744915655\n",
      "Trying hyperparameters: 0.032\n",
      "Time taken to train the model:  2.314319610595703\n",
      "Binary cross entropy: 12.626359424659988\n",
      "Predicted mean: 0.5795364969257449 Actual mean: 0.527825949865994\n",
      "Accuracy: 0.6496925744915655\n",
      "Value: 0.6496925744915655\n",
      "Trying hyperparameters: 0.064\n",
      "Time taken to train the model:  2.6926372051239014\n",
      "Binary cross entropy: 12.64908914459637\n",
      "Predicted mean: 0.578905880498187 Actual mean: 0.527825949865994\n",
      "Accuracy: 0.6490619580640076\n",
      "Value: 0.6490619580640076\n",
      "Trying hyperparameters: 0.128\n",
      "Time taken to train the model:  1.5012290477752686\n",
      "Binary cross entropy: 12.671818864532753\n",
      "Predicted mean: 0.5773293394292921 Actual mean: 0.527825949865994\n",
      "Accuracy: 0.6484313416364497\n",
      "Value: 0.6484313416364497\n",
      "Trying hyperparameters: 0.256\n",
      "Time taken to train the model:  2.5638294219970703\n",
      "Binary cross entropy: 12.740008024341897\n",
      "Predicted mean: 0.5729150244363865 Actual mean: 0.527825949865994\n",
      "Accuracy: 0.6465394923537758\n",
      "Value: 0.6465394923537758\n",
      "Trying hyperparameters: 0.512\n",
      "Time taken to train the model:  1.9776086807250977\n",
      "Binary cross entropy: 12.802514754166946\n",
      "Predicted mean: 0.5648746649850228 Actual mean: 0.527825949865994\n",
      "Accuracy: 0.6448052971779915\n",
      "Value: 0.6448052971779915\n",
      "Best hyperparameters: 0.008\n",
      "Best value: 0.6496925744915655\n"
     ]
    },
    {
     "data": {
      "text/plain": "<Figure size 640x480 with 1 Axes>",
      "image/png": "[encoded data removed]"
     },
     "metadata": {},
     "output_type": "display_data"
    },
    {
     "name": "stdout",
     "output_type": "stream",
     "text": [
      "Time taken to train the model:  1.707129955291748\n",
      "Binary cross entropy: 12.819157845542989\n",
      "Predicted mean: 0.5641316685584563 Actual mean: 0.5353764661369655\n",
      "Accuracy: 0.6443435489973515\n"
     ]
    },
    {
     "data": {
      "text/plain": "0.6443435489973515"
     },
     "execution_count": 43,
     "metadata": {},
     "output_type": "execute_result"
    }
   ],
   "source": [
    "#L2 regularization\n",
    "\n",
    "def get_model(param):\n",
    "    return ScratchLinearRegression(regularization='l2', alpha=param,classification=True,logistic=True)\n",
    "\n",
    "\n",
    "def iterate_hyperparameters():\n",
    "    alpha = 0.001\n",
    "    while alpha < 1:\n",
    "        yield alpha\n",
    "        alpha *= 2\n",
    "\n",
    "\n",
    "best_param, params, accuracies = optimize_hyperparameters(get_model, iterate_hyperparameters(), train, test, val,\n",
    "                                                          classification=True)\n",
    "plot_2d(params, accuracies, 'alpha', 'mse')\n",
    "regressor = ScratchLinearRegression(regularization='l2', alpha=best_param,classification=True,logistic=True)\n",
    "\n",
    "test_model(regressor, train, test, classification=True)"
   ],
   "metadata": {
    "collapsed": false,
    "ExecuteTime": {
     "end_time": "2023-05-04T17:16:52.083174216Z",
     "start_time": "2023-05-04T17:16:28.457212514Z"
    }
   }
  },
  {
   "cell_type": "code",
   "execution_count": null,
   "outputs": [],
   "source": [],
   "metadata": {
    "collapsed": false
   }
  }
 ],
 "metadata": {
  "colab": {
   "provenance": []
  },
  "kernelspec": {
   "name": "python3",
   "language": "python",
   "display_name": "Python 3 (ipykernel)"
  },
  "language_info": {
   "name": "python"
  }
 },
 "nbformat": 4,
 "nbformat_minor": 0
}
