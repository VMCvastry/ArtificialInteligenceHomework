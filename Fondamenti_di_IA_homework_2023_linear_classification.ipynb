{
 "cells": [
  {
   "cell_type": "code",
   "execution_count": 1,
   "outputs": [],
   "source": [
    "from utils import *"
   ],
   "metadata": {
    "collapsed": false,
    "ExecuteTime": {
     "end_time": "2023-05-27T09:17:18.392971801Z",
     "start_time": "2023-05-27T09:17:17.143206958Z"
    }
   }
  },
  {
   "cell_type": "markdown",
   "source": [
    "# Linear Classification\n",
    "The Class for linear and logistic classification is the same one as the one for linear regression"
   ],
   "metadata": {
    "collapsed": false
   }
  },
  {
   "cell_type": "code",
   "execution_count": 2,
   "outputs": [],
   "source": [
    "df, train, test, val = get_data(normalize=True, binary_label=True)"
   ],
   "metadata": {
    "collapsed": false,
    "ExecuteTime": {
     "end_time": "2023-05-27T09:17:18.806241299Z",
     "start_time": "2023-05-27T09:17:18.371398833Z"
    }
   }
  },
  {
   "cell_type": "code",
   "execution_count": 3,
   "outputs": [],
   "source": [
    "from sklearn.linear_model import SGDClassifier"
   ],
   "metadata": {
    "collapsed": false,
    "ExecuteTime": {
     "end_time": "2023-05-27T09:17:18.810874731Z",
     "start_time": "2023-05-27T09:17:18.807379585Z"
    }
   }
  },
  {
   "cell_type": "code",
   "execution_count": 4,
   "outputs": [],
   "source": [
    "def _sigmoid(x):\n",
    "    return 1 / (1 + np.exp(-x))\n",
    "\n",
    "\n",
    "class ScratchLinearRegression:\n",
    "\n",
    "    def __init__(self, lr=0.01, n_iters=1000, regularization=None, alpha=0.1, l1_ratio=0.5, logistic=False,\n",
    "                 classification=True):\n",
    "        self.lr = lr\n",
    "        self.n_iters = n_iters\n",
    "        self.weights = None\n",
    "        self.bias = None\n",
    "        self.regularization = regularization\n",
    "        self.regularization_param = alpha\n",
    "        self.l1_ratio = l1_ratio\n",
    "        self.classification = classification\n",
    "        self.model = 'logistic' if logistic else 'perceptron'  #todo check\n",
    "\n",
    "    def fit(self, X, y):\n",
    "        n_samples, n_features = X.shape\n",
    "\n",
    "        self.weights = np.zeros(n_features)\n",
    "        self.bias = 0\n",
    "\n",
    "        for _ in range(self.n_iters):\n",
    "            y_pred = np.dot(X, self.weights) + self.bias\n",
    "\n",
    "            if self.classification:\n",
    "                if self.model == 'logistic':\n",
    "                    y_pred = _sigmoid(y_pred)\n",
    "                else:\n",
    "                    y_pred = np.where(y_pred >= 0, 1, 0)\n",
    "            if self.regularization == 'l1':\n",
    "                dw = (1 / n_samples) * np.dot(X.T, (y_pred - y)) + np.sign(self.weights) * self.regularization_param\n",
    "                db = (1 / n_samples) * np.sum(y_pred - y) + np.sign(self.bias) * self.regularization_param\n",
    "\n",
    "            elif self.regularization == 'l2':\n",
    "                dw = (1 / n_samples) * np.dot(X.T, (y_pred - y)) + 2 * self.weights * self.regularization_param\n",
    "                db = (1 / n_samples) * np.sum(y_pred - y) + 2 * self.bias * self.regularization_param\n",
    "            elif self.regularization == 'elasticnet':\n",
    "                dw = ((1 / n_samples) * np.dot(X.T, (y_pred - y))\n",
    "                      + 2 * self.weights * (1 - self.regularization_param)\n",
    "                      + np.sign(self.weights) * self.regularization_param)\n",
    "                db = ((1 / n_samples) * np.sum(y_pred - y)\n",
    "                      + 2 * self.bias * (1 - self.regularization_param)\n",
    "                      + np.sign(self.bias) * self.regularization_param)\n",
    "            elif self.regularization == 'elasticnetV2':\n",
    "                dw = (\n",
    "                        (1 / n_samples) * np.dot(X.T, (y_pred - y))\n",
    "                        + self.regularization_param *\n",
    "                        (\n",
    "                                2 * self.weights * (1 - self.l1_ratio)\n",
    "                                + np.sign(self.weights) * self.l1_ratio\n",
    "                        )\n",
    "                )\n",
    "                db = (\n",
    "                        (1 / n_samples) * np.sum(y_pred - y)\n",
    "                        + self.regularization_param *\n",
    "                        (\n",
    "                                2 * self.bias * (1 - self.l1_ratio)\n",
    "                                + np.sign(self.bias) * self.l1_ratio\n",
    "                        )\n",
    "                )\n",
    "            elif self.regularization is None or self.regularization == '':\n",
    "                dw = (1 / n_samples) * np.dot(X.T, (y_pred - y))\n",
    "                db = (1 / n_samples) * np.sum(y_pred - y)\n",
    "            else:\n",
    "                raise ValueError('Invalid regularization parameter')\n",
    "\n",
    "            self.weights -= self.lr * dw\n",
    "            self.bias -= self.lr * db\n",
    "\n",
    "    def predict(self, X):\n",
    "        y_pred = np.dot(X, self.weights) + self.bias\n",
    "\n",
    "        if self.classification:\n",
    "            if self.model == 'logistic':\n",
    "                y_pred = _sigmoid(y_pred)\n",
    "                y_pred = [1 if i >= 0.5 else 0 for i in y_pred]\n",
    "            else:\n",
    "                y_pred = [1 if i >= 0 else 0 for i in y_pred]\n",
    "        return y_pred"
   ],
   "metadata": {
    "collapsed": false,
    "ExecuteTime": {
     "end_time": "2023-05-26T12:19:55.117301474Z",
     "start_time": "2023-05-26T12:19:55.113795083Z"
    }
   }
  },
  {
   "cell_type": "markdown",
   "source": [
    "## No regularization"
   ],
   "metadata": {
    "collapsed": false
   }
  },
  {
   "cell_type": "markdown",
   "source": [
    "### Sklearn"
   ],
   "metadata": {
    "collapsed": false
   }
  },
  {
   "cell_type": "code",
   "execution_count": 12,
   "outputs": [
    {
     "name": "stdout",
     "output_type": "stream",
     "text": [
      "Time taken to train the model:  0.017316579818725586\n",
      "Binary cross entropy: 16.48307317302797\n",
      "Accuracy: 0.5426913860512045\n"
     ]
    }
   ],
   "source": [
    "regressor = SGDClassifier(max_iter=1000, penalty=None, learning_rate='constant', shuffle=False, eta0=0.001,\n",
    "                          early_stopping=False, loss='perceptron')\n",
    "accuracy_LC_NR_sk = test_model(regressor, train, test, classification=True)"
   ],
   "metadata": {
    "collapsed": false,
    "ExecuteTime": {
     "end_time": "2023-05-27T09:30:40.502302725Z",
     "start_time": "2023-05-27T09:30:40.457152133Z"
    }
   }
  },
  {
   "cell_type": "markdown",
   "source": [
    "### Scratch"
   ],
   "metadata": {
    "collapsed": false
   }
  },
  {
   "cell_type": "code",
   "execution_count": 45,
   "outputs": [
    {
     "name": "stdout",
     "output_type": "stream",
     "text": [
      "Time taken to train the model:  2.3608081340789795\n",
      "Binary cross entropy: 15.078420770803579\n",
      "Accuracy: 0.5816622524908563\n"
     ]
    }
   ],
   "source": [
    "#No regularization\n",
    "regressor = ScratchLinearRegression(regularization='', classification=True)\n",
    "accuracy_LC_NR_my = test_model(regressor, train, test, classification=True)"
   ],
   "metadata": {
    "collapsed": false,
    "ExecuteTime": {
     "end_time": "2023-05-26T12:32:08.582820325Z",
     "start_time": "2023-05-26T12:32:06.211256428Z"
    }
   }
  },
  {
   "cell_type": "markdown",
   "source": [
    "## L1 Regularization"
   ],
   "metadata": {
    "collapsed": false
   }
  },
  {
   "cell_type": "markdown",
   "source": [
    "L1 Regularization does not benefit the model"
   ],
   "metadata": {
    "collapsed": false
   }
  },
  {
   "cell_type": "code",
   "execution_count": 53,
   "outputs": [
    {
     "name": "stdout",
     "output_type": "stream",
     "text": [
      "Trying hyperparameters: 0\n",
      "Time taken to train the model:  2.5634851455688477\n",
      "Binary cross entropy: 14.598162629141095\n",
      "Accuracy: 0.5949865994009144\n",
      "Value: 0.5949865994009144\n",
      "Trying hyperparameters: 1e-05\n",
      "Time taken to train the model:  1.5271072387695312\n",
      "Binary cross entropy: 14.598162629141095\n",
      "Accuracy: 0.5949865994009144\n",
      "Value: 0.5949865994009144\n",
      "Trying hyperparameters: 0.0005\n",
      "Time taken to train the model:  1.510301113128662\n",
      "Binary cross entropy: 14.660669358966144\n",
      "Accuracy: 0.59325240422513\n",
      "Value: 0.59325240422513\n",
      "Trying hyperparameters: 0.001\n",
      "Time taken to train the model:  1.4634270668029785\n",
      "Binary cross entropy: 14.677716648918432\n",
      "Accuracy: 0.5927794419044616\n",
      "Value: 0.5927794419044616\n",
      "Trying hyperparameters: 0.01\n",
      "Time taken to train the model:  1.3723118305206299\n",
      "Binary cross entropy: 15.143675907614254\n",
      "Accuracy: 0.5798518051395238\n",
      "Value: 0.5798518051395238\n",
      "Best hyperparameters: 0\n",
      "Best value: 0.5949865994009144\n"
     ]
    },
    {
     "data": {
      "text/plain": "<Figure size 640x480 with 1 Axes>",
      "image/png": "[encoded data removed]"
     },
     "metadata": {},
     "output_type": "display_data"
    },
    {
     "name": "stdout",
     "output_type": "stream",
     "text": [
      "Time taken to train the model:  1.227055549621582\n",
      "Binary cross entropy: 15.078420770803579\n",
      "Accuracy: 0.5816622524908563\n",
      "Best rmse for Linear Classification L1 (scratch): 0.5816622524908563 with alpha=0\n"
     ]
    }
   ],
   "source": [
    "def get_model(param):\n",
    "    return ScratchLinearRegression(regularization='l1', alpha=param, classification=True)\n",
    "\n",
    "best_param, params, accuracies = optimize_hyperparameters(get_model, (0,0.00001,0.0005,0.001,0.01), train, test, val,\n",
    "                                                          classification=True)\n",
    "plot_2d(params, accuracies, 'alpha', 'mse')\n",
    "regressor = ScratchLinearRegression(regularization='l1', alpha=best_param, classification=True)\n",
    "\n",
    "accuracy_LC_L1_my = test_model(regressor, train, test, classification=True)\n",
    "print(f\"Best rmse for Linear Classification L1 (scratch): {accuracy_LC_L1_my} with alpha={best_param}\")\n"
   ],
   "metadata": {
    "collapsed": false,
    "ExecuteTime": {
     "end_time": "2023-05-26T12:42:00.086807090Z",
     "start_time": "2023-05-26T12:41:50.183631511Z"
    }
   }
  },
  {
   "cell_type": "markdown",
   "source": [
    "## L2"
   ],
   "metadata": {
    "collapsed": false
   }
  },
  {
   "cell_type": "code",
   "execution_count": 58,
   "outputs": [
    {
     "name": "stdout",
     "output_type": "stream",
     "text": [
      "Trying hyperparameters: 0\n",
      "Time taken to train the model:  1.935549259185791\n",
      "Binary cross entropy: 14.598162629141095\n",
      "Accuracy: 0.5949865994009144\n",
      "Value: 0.5949865994009144\n",
      "Trying hyperparameters: 1e-05\n",
      "Time taken to train the model:  1.4412131309509277\n",
      "Binary cross entropy: 14.592480199156999\n",
      "Accuracy: 0.5951442535078039\n",
      "Value: 0.5951442535078039\n",
      "Trying hyperparameters: 0.0005\n",
      "Time taken to train the model:  1.427668571472168\n",
      "Binary cross entropy: 14.609527489109286\n",
      "Accuracy: 0.5946712911871355\n",
      "Value: 0.5946712911871355\n",
      "Trying hyperparameters: 0.001\n",
      "Time taken to train the model:  1.4226913452148438\n",
      "Binary cross entropy: 14.609527489109286\n",
      "Accuracy: 0.5946712911871355\n",
      "Value: 0.5946712911871355\n",
      "Trying hyperparameters: 0.01\n",
      "Time taken to train the model:  1.2707774639129639\n",
      "Binary cross entropy: 14.60384505912519\n",
      "Accuracy: 0.5948289452940249\n",
      "Value: 0.5948289452940249\n",
      "Best hyperparameters: 1e-05\n",
      "Best value: 0.5951442535078039\n"
     ]
    },
    {
     "data": {
      "text/plain": "<Figure size 640x480 with 1 Axes>",
      "image/png": "[encoded data removed]"
     },
     "metadata": {},
     "output_type": "display_data"
    },
    {
     "name": "stdout",
     "output_type": "stream",
     "text": [
      "Time taken to train the model:  1.2300090789794922\n",
      "Binary cross entropy: 15.073874970149133\n",
      "Accuracy: 0.5817883717997225\n",
      "Best accuracy for Linear Regression L2 (scratch): 0.5817883717997225 with alpha=1e-05\n"
     ]
    }
   ],
   "source": [
    "#L2 regularization\n",
    "\n",
    "def get_model(param):\n",
    "    return ScratchLinearRegression(regularization='l2', alpha=param, classification=True,lr=0.1)\n",
    "\n",
    "\n",
    "def iterate_hyperparameters():\n",
    "    alpha = 0.00001\n",
    "    while alpha < 1:\n",
    "        yield alpha\n",
    "        alpha *=10\n",
    "\n",
    "\n",
    "best_param, params, accuracies = optimize_hyperparameters(get_model, (0,0.00001,0.0005,0.001,0.01), train, test, val,\n",
    "                                                          classification=True)\n",
    "plot_2d(params, accuracies, 'alpha', 'accuracy')\n",
    "regressor = ScratchLinearRegression(regularization='l2', alpha=best_param, classification=True)\n",
    "\n",
    "accuracy_LC_L2_my = test_model(regressor, train, test, classification=True)\n",
    "print(f\"Best accuracy for Linear Regression L2 (scratch): {accuracy_LC_L2_my} with alpha={best_param}\")"
   ],
   "metadata": {
    "collapsed": false,
    "ExecuteTime": {
     "end_time": "2023-05-26T12:47:22.615500094Z",
     "start_time": "2023-05-26T12:47:13.649632996Z"
    }
   }
  },
  {
   "cell_type": "markdown",
   "source": [
    "L1 and L2 regularization does not benefit the model therefore is useless to test elasticnet"
   ],
   "metadata": {
    "collapsed": false
   }
  },
  {
   "cell_type": "markdown",
   "source": [
    "# Logistic Classifier"
   ],
   "metadata": {
    "collapsed": false
   }
  },
  {
   "cell_type": "markdown",
   "source": [
    "## No Regularization"
   ],
   "metadata": {
    "collapsed": false
   }
  },
  {
   "cell_type": "markdown",
   "source": [
    "### Sklearn"
   ],
   "metadata": {
    "collapsed": false
   }
  },
  {
   "cell_type": "code",
   "execution_count": 87,
   "outputs": [
    {
     "name": "stderr",
     "output_type": "stream",
     "text": [
      "/home/vmcvastry/.local/lib/python3.10/site-packages/sklearn/linear_model/_logistic.py:1165: UserWarning: l1_ratio parameter is only used when penalty is 'elasticnet'. Got (penalty=None)\n",
      "  warnings.warn(\n"
     ]
    },
    {
     "name": "stdout",
     "output_type": "stream",
     "text": [
      "Time taken to train the model:  1.597651720046997\n",
      "Binary cross entropy: 12.673692224600657\n",
      "Accuracy: 0.6483793668810695\n"
     ]
    }
   ],
   "source": [
    "from sklearn.linear_model import LogisticRegression\n",
    "\n",
    "regressor = LogisticRegression(max_iter=1000, penalty=None)\n",
    "accuracy_LO_NR_sk=test_model(regressor, train, test, classification=True)"
   ],
   "metadata": {
    "collapsed": false,
    "ExecuteTime": {
     "end_time": "2023-05-26T13:32:22.769519571Z",
     "start_time": "2023-05-26T13:32:21.161029785Z"
    }
   }
  },
  {
   "cell_type": "code",
   "execution_count": 99,
   "outputs": [
    {
     "name": "stdout",
     "output_type": "stream",
     "text": [
      "Time taken to train the model:  0.05865907669067383\n",
      "Binary cross entropy: 12.637325819365074\n",
      "Accuracy: 0.649388321351999\n"
     ]
    }
   ],
   "source": [
    "regressor = SGDClassifier(max_iter=1000, penalty=None, learning_rate='constant', shuffle=False, eta0=0.0005,\n",
    "                          early_stopping=False, loss='log_loss')\n",
    "accuracy_LO_NR_sk=test_model(regressor, train, test, classification=True)\n"
   ],
   "metadata": {
    "collapsed": false,
    "ExecuteTime": {
     "end_time": "2023-05-26T13:34:51.414011232Z",
     "start_time": "2023-05-26T13:34:51.348777392Z"
    }
   }
  },
  {
   "cell_type": "markdown",
   "source": [
    "### Scratch"
   ],
   "metadata": {
    "collapsed": false
   }
  },
  {
   "cell_type": "code",
   "execution_count": 72,
   "outputs": [
    {
     "name": "stdout",
     "output_type": "stream",
     "text": [
      "Time taken to train the model:  2.0831942558288574\n",
      "Binary cross entropy: 12.610051015438387\n",
      "Accuracy: 0.6501450372051961\n"
     ]
    }
   ],
   "source": [
    "#No regularization\n",
    "regressor = ScratchLinearRegression(regularization='', logistic=True, classification=True,lr=0.9)\n",
    "accuracy_LO_NR_my = test_model(regressor, train, test, classification=True)"
   ],
   "metadata": {
    "collapsed": false,
    "ExecuteTime": {
     "end_time": "2023-05-26T13:20:47.895512281Z",
     "start_time": "2023-05-26T13:20:45.798080798Z"
    }
   }
  },
  {
   "cell_type": "code",
   "execution_count": 74,
   "outputs": [
    {
     "name": "stdout",
     "output_type": "stream",
     "text": [
      "Trying hyperparameters: 0.1\n",
      "Time taken to train the model:  2.4571425914764404\n",
      "Binary cross entropy: 12.319508205518838\n",
      "Accuracy: 0.6582058962635977\n",
      "Value: 0.6582058962635977\n",
      "Trying hyperparameters: 0.2\n",
      "Time taken to train the model:  1.9314911365509033\n",
      "Binary cross entropy: 12.222906895789215\n",
      "Accuracy: 0.660886016080719\n",
      "Value: 0.660886016080719\n",
      "Trying hyperparameters: 0.30000000000000004\n",
      "Time taken to train the model:  1.684640645980835\n",
      "Binary cross entropy: 12.188812315884642\n",
      "Accuracy: 0.6618319407220558\n",
      "Value: 0.6618319407220558\n",
      "Trying hyperparameters: 0.4\n",
      "Time taken to train the model:  1.722099781036377\n",
      "Binary cross entropy: 12.131988016043687\n",
      "Accuracy: 0.6634084817909507\n",
      "Value: 0.6634084817909507\n",
      "Trying hyperparameters: 0.5\n",
      "Time taken to train the model:  1.5425403118133545\n",
      "Binary cross entropy: 12.15471773598007\n",
      "Accuracy: 0.6627778653633927\n",
      "Value: 0.6627778653633927\n",
      "Trying hyperparameters: 0.6\n",
      "Time taken to train the model:  1.618786334991455\n",
      "Binary cross entropy: 12.15471773598007\n",
      "Accuracy: 0.6627778653633927\n",
      "Value: 0.6627778653633927\n",
      "Trying hyperparameters: 0.7\n",
      "Time taken to train the model:  1.7677137851715088\n",
      "Binary cross entropy: 12.15471773598007\n",
      "Accuracy: 0.6627778653633927\n",
      "Value: 0.6627778653633927\n",
      "Trying hyperparameters: 0.7999999999999999\n",
      "Time taken to train the model:  1.6303820610046387\n",
      "Binary cross entropy: 12.15471773598007\n",
      "Accuracy: 0.6627778653633927\n",
      "Value: 0.6627778653633927\n",
      "Trying hyperparameters: 0.8999999999999999\n",
      "Time taken to train the model:  1.6106321811676025\n",
      "Binary cross entropy: 12.160400165964166\n",
      "Accuracy: 0.6626202112565033\n",
      "Value: 0.6626202112565033\n",
      "Trying hyperparameters: 0.9999999999999999\n",
      "Time taken to train the model:  1.683013677597046\n",
      "Binary cross entropy: 12.160400165964166\n",
      "Accuracy: 0.6626202112565033\n",
      "Value: 0.6626202112565033\n",
      "Best hyperparameters: 0.4\n",
      "Best value: 0.6634084817909507\n"
     ]
    },
    {
     "data": {
      "text/plain": "<Figure size 640x480 with 1 Axes>",
      "image/png": "[encoded data removed]"
     },
     "metadata": {},
     "output_type": "display_data"
    },
    {
     "name": "stdout",
     "output_type": "stream",
     "text": [
      "Time taken to train the model:  1.670142412185669\n",
      "Binary cross entropy: 12.632780018710626\n",
      "Accuracy: 0.6495144406608652\n",
      "Best accuracy for Logistic Classification (scratch): 0.6495144406608652 with lr=0.4\n"
     ]
    }
   ],
   "source": [
    "def get_model(param):\n",
    "    return  ScratchLinearRegression(regularization='', logistic=True, classification=True,lr=param)\n",
    "\n",
    "\n",
    "def iterate_hyperparameters():\n",
    "    alpha = 0.1\n",
    "    while alpha < 1:\n",
    "        yield alpha\n",
    "        alpha += 0.1\n",
    "\n",
    "\n",
    "best_lr, params, accuracies = optimize_hyperparameters(get_model, iterate_hyperparameters(), train, test, val,\n",
    "                                                          classification=True)\n",
    "plot_2d(params, accuracies, 'lr', 'accuracy')\n",
    "best_model = get_model(best_lr)\n",
    "\n",
    "accuracy_LO_NR_my = test_model(best_model, train, test, classification=True)\n",
    "print(f\"Best accuracy for Logistic Classification (scratch): {accuracy_LO_NR_my} with lr={best_lr}\")"
   ],
   "metadata": {
    "collapsed": false,
    "ExecuteTime": {
     "end_time": "2023-05-26T13:22:54.032885674Z",
     "start_time": "2023-05-26T13:22:34.391038917Z"
    }
   }
  },
  {
   "cell_type": "markdown",
   "source": [
    "## L1 Regularization"
   ],
   "metadata": {
    "collapsed": false
   }
  },
  {
   "cell_type": "code",
   "execution_count": 77,
   "outputs": [
    {
     "name": "stdout",
     "output_type": "stream",
     "text": [
      "Trying hyperparameters: 0\n",
      "Time taken to train the model:  1.9367907047271729\n",
      "Binary cross entropy: 12.160400165964166\n",
      "Accuracy: 0.6626202112565033\n",
      "Value: 0.6626202112565033\n",
      "Trying hyperparameters: 1e-05\n",
      "Time taken to train the model:  1.686460256576538\n",
      "Binary cross entropy: 12.160400165964166\n",
      "Accuracy: 0.6626202112565033\n",
      "Value: 0.6626202112565033\n",
      "Trying hyperparameters: 0.0001\n",
      "Time taken to train the model:  1.5976974964141846\n",
      "Binary cross entropy: 12.188812315884642\n",
      "Accuracy: 0.6618319407220558\n",
      "Value: 0.6618319407220558\n",
      "Trying hyperparameters: 0.001\n",
      "Time taken to train the model:  1.7854092121124268\n",
      "Binary cross entropy: 12.274048765646073\n",
      "Accuracy: 0.6594671291187135\n",
      "Value: 0.6594671291187135\n",
      "Trying hyperparameters: 0.01\n",
      "Time taken to train the model:  1.6837406158447266\n",
      "Binary cross entropy: 12.393379795312077\n",
      "Accuracy: 0.6561563928740344\n",
      "Value: 0.6561563928740344\n",
      "Best hyperparameters: 0\n",
      "Best value: 0.6626202112565033\n"
     ]
    },
    {
     "data": {
      "text/plain": "<Figure size 640x480 with 1 Axes>",
      "image/png": "[encoded data removed]"
     },
     "metadata": {},
     "output_type": "display_data"
    },
    {
     "name": "stdout",
     "output_type": "stream",
     "text": [
      "Time taken to train the model:  1.5569877624511719\n",
      "Binary cross entropy: 12.610051015438387\n",
      "Accuracy: 0.6501450372051961\n"
     ]
    },
    {
     "data": {
      "text/plain": "0.6501450372051961"
     },
     "execution_count": 77,
     "metadata": {},
     "output_type": "execute_result"
    }
   ],
   "source": [
    "if not best_lr:\n",
    "    best_lr = 0.9\n",
    "\n",
    "def get_model(param):\n",
    "    return ScratchLinearRegression(regularization='l1', alpha=param, classification=True, logistic=True,lr=best_lr)\n",
    "\n",
    "best_param, params, accuracies = optimize_hyperparameters(get_model, (0,0.00001,0.0001,0.001,0.01), train, test, val,\n",
    "                                                          classification=True)\n",
    "plot_2d(params, accuracies, 'alpha', 'accuracy')\n",
    "best_model = get_model(best_param)\n",
    "\n",
    "test_model(best_model, train, test, classification=True)"
   ],
   "metadata": {
    "collapsed": false,
    "ExecuteTime": {
     "end_time": "2023-05-26T13:26:34.970356420Z",
     "start_time": "2023-05-26T13:26:24.492245023Z"
    }
   }
  },
  {
   "cell_type": "code",
   "execution_count": 79,
   "outputs": [
    {
     "name": "stdout",
     "output_type": "stream",
     "text": [
      "Trying hyperparameters: 0\n",
      "Time taken to train the model:  2.1393587589263916\n",
      "Binary cross entropy: 12.671818864532753\n",
      "Accuracy: 0.6484313416364497\n",
      "Value: 0.6484313416364497\n",
      "Trying hyperparameters: 1e-05\n",
      "Time taken to train the model:  1.596395492553711\n",
      "Binary cross entropy: 12.671818864532753\n",
      "Accuracy: 0.6484313416364497\n",
      "Value: 0.6484313416364497\n",
      "Trying hyperparameters: 0.0001\n",
      "Time taken to train the model:  1.5196549892425537\n",
      "Binary cross entropy: 12.671818864532753\n",
      "Accuracy: 0.6484313416364497\n",
      "Value: 0.6484313416364497\n",
      "Trying hyperparameters: 0.001\n",
      "Time taken to train the model:  1.575193166732788\n",
      "Binary cross entropy: 12.666136434548655\n",
      "Accuracy: 0.6485889957433392\n",
      "Value: 0.6485889957433392\n",
      "Trying hyperparameters: 0.01\n",
      "Time taken to train the model:  1.683340311050415\n",
      "Binary cross entropy: 12.643406714612276\n",
      "Accuracy: 0.6492196121708971\n",
      "Value: 0.6492196121708971\n",
      "Trying hyperparameters: 0.1\n",
      "Time taken to train the model:  1.6509389877319336\n",
      "Binary cross entropy: 12.694548584469134\n",
      "Accuracy: 0.6478007252088916\n",
      "Value: 0.6478007252088916\n",
      "Trying hyperparameters: 0.5\n",
      "Time taken to train the model:  1.6898415088653564\n",
      "Binary cross entropy: 12.808197184151043\n",
      "Accuracy: 0.644647643071102\n",
      "Value: 0.644647643071102\n",
      "Trying hyperparameters: 1\n",
      "Time taken to train the model:  1.9139792919158936\n",
      "Binary cross entropy: 12.8593390540079\n",
      "Accuracy: 0.6432287561090967\n",
      "Value: 0.6432287561090967\n",
      "Best hyperparameters: 0.01\n",
      "Best value: 0.6492196121708971\n"
     ]
    },
    {
     "data": {
      "text/plain": "<Figure size 640x480 with 1 Axes>",
      "image/png": "[encoded data removed]"
     },
     "metadata": {},
     "output_type": "display_data"
    },
    {
     "name": "stdout",
     "output_type": "stream",
     "text": [
      "Time taken to train the model:  2.1155624389648438\n",
      "Binary cross entropy: 12.800974642925198\n",
      "Accuracy: 0.6448480262328162\n"
     ]
    },
    {
     "data": {
      "text/plain": "0.6448480262328162"
     },
     "execution_count": 79,
     "metadata": {},
     "output_type": "execute_result"
    }
   ],
   "source": [
    "#L2 regularization\n",
    "\n",
    "def get_model(param):\n",
    "    return ScratchLinearRegression(regularization='l2', alpha=param, classification=True, logistic=True)\n",
    "\n",
    "\n",
    "def iterate_hyperparameters():\n",
    "    alpha = 0.001\n",
    "    while alpha < 1:\n",
    "        yield alpha\n",
    "        alpha *= 2\n",
    "\n",
    "\n",
    "best_param, params, accuracies = optimize_hyperparameters(get_model, (0,0.00001,0.0001,0.001,0.01,0.1,0.5), train, test, val,\n",
    "                                                          classification=True)\n",
    "plot_2d(params, accuracies, 'alpha', 'accuracy')\n",
    "best_model = get_model(best_param)\n",
    "\n",
    "accuracy_LO_L2_my=test_model(best_model, train, test, classification=True)\n",
    "print(f\"Best accuracy for Logistic Classification L2 (scratch): {accuracy_LO_L2_my} with lr={best_param}\")"
   ],
   "metadata": {
    "collapsed": false,
    "ExecuteTime": {
     "end_time": "2023-05-26T13:29:29.822963582Z",
     "start_time": "2023-05-26T13:29:13.658275212Z"
    }
   }
  },
  {
   "cell_type": "code",
   "execution_count": null,
   "outputs": [],
   "source": [],
   "metadata": {
    "collapsed": false
   }
  }
 ],
 "metadata": {
  "colab": {
   "provenance": []
  },
  "kernelspec": {
   "name": "python3",
   "language": "python",
   "display_name": "Python 3 (ipykernel)"
  },
  "language_info": {
   "name": "python"
  }
 },
 "nbformat": 4,
 "nbformat_minor": 0
}
